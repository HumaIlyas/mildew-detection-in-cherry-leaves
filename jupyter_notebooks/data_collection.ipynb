{
  "cells": [
    {
      "attachments": {},
      "cell_type": "markdown",
      "metadata": {
        "id": "0aStgWSO0E0E"
      },
      "source": [
        "# **Data Collection - Fetch Dataset from Kaggle**"
      ]
    },
    {
      "attachments": {},
      "cell_type": "markdown",
      "metadata": {
        "id": "1eLEkw5O0ECa"
      },
      "source": [
        "## Objectives\n",
        "\n",
        "* Write here your notebook objective, for example, \"Fetch data from Kaggle and save as raw data\", or \"engineer features for modelling\"\n",
        "* Fetch data from Kaggle and save as raw data to prepare it for the following processes.\n",
        "\n",
        "## Inputs\n",
        "\n",
        "* Write here which data or information you need to run the notebook\n",
        "* Kaggle JSON file (authentication tokem) \n",
        "\n",
        "## Outputs\n",
        "\n",
        "* Write here which files, code or artefacts you generate by the end of the notebook\n",
        "* Generate Dataset: inputs/datasets/cherry_leaves \n",
        "\n",
        "## Additional Comments\n",
        "\n",
        "* In case you have any additional comments that don't fit in the previous bullets, please state them here. \n",
        "* No comments\n",
        "\n"
      ]
    },
    {
      "attachments": {},
      "cell_type": "markdown",
      "metadata": {},
      "source": [
        "## Import pagkages"
      ]
    },
    {
      "cell_type": "code",
      "execution_count": 1,
      "metadata": {
        "tags": [
          "outputPrepend"
        ]
      },
      "outputs": [
        {
          "output_type": "stream",
          "name": "stdout",
          "text": "0/1.0 MB\u001b[0m \u001b[31m47.9 MB/s\u001b[0m eta \u001b[36m0:00:00\u001b[0m\n\u001b[?25hCollecting numpy==1.23.5 (from -r /workspaces/mildew-detection-in-cherry-leaves/requirements.txt (line 25))\n  Downloading numpy-1.23.5-cp38-cp38-manylinux_2_17_x86_64.manylinux2014_x86_64.whl (17.1 MB)\n\u001b[2K     \u001b[90m━━━━━━━━━━━━━━━━━━━━━━━━━━━━━━━━━━━━━━━━\u001b[0m \u001b[32m17.1/17.1 MB\u001b[0m \u001b[31m19.7 MB/s\u001b[0m eta \u001b[36m0:00:00\u001b[0m\n\u001b[?25hCollecting oauthlib==3.2.2 (from -r /workspaces/mildew-detection-in-cherry-leaves/requirements.txt (line 26))\n  Downloading oauthlib-3.2.2-py3-none-any.whl (151 kB)\n\u001b[2K     \u001b[90m━━━━━━━━━━━━━━━━━━━━━━━━━━━━━━━━━━━━━━\u001b[0m \u001b[32m151.7/151.7 kB\u001b[0m \u001b[31m21.9 MB/s\u001b[0m eta \u001b[36m0:00:00\u001b[0m\n\u001b[?25hCollecting opt-einsum==3.3.0 (from -r /workspaces/mildew-detection-in-cherry-leaves/requirements.txt (line 27))\n  Downloading opt_einsum-3.3.0-py3-none-any.whl (65 kB)\n\u001b[2K     \u001b[90m━━━━━━━━━━━━━━━━━━━━━━━━━━━━━━━━━━━━━━━━\u001b[0m \u001b[32m65.5/65.5 kB\u001b[0m \u001b[31m13.2 MB/s\u001b[0m eta \u001b[36m0:00:00\u001b[0m\n\u001b[?25hCollecting pandas==2.0.2 (from -r /workspaces/mildew-detection-in-cherry-leaves/requirements.txt (line 28))\n  Downloading pandas-2.0.2-cp38-cp38-manylinux_2_17_x86_64.manylinux2014_x86_64.whl (12.3 MB)\n\u001b[2K     \u001b[90m━━━━━━━━━━━━━━━━━━━━━━━━━━━━━━━━━━━━━━━━\u001b[0m \u001b[32m12.3/12.3 MB\u001b[0m \u001b[31m48.4 MB/s\u001b[0m eta \u001b[36m0:00:00\u001b[0m\n\u001b[?25hCollecting Pillow==9.5.0 (from -r /workspaces/mildew-detection-in-cherry-leaves/requirements.txt (line 29))\n  Downloading Pillow-9.5.0-cp38-cp38-manylinux_2_28_x86_64.whl (3.4 MB)\n\u001b[2K     \u001b[90m━━━━━━━━━━━━━━━━━━━━━━━━━━━━━━━━━━━━━━━━\u001b[0m \u001b[32m3.4/3.4 MB\u001b[0m \u001b[31m52.0 MB/s\u001b[0m eta \u001b[36m0:00:00\u001b[0m\n\u001b[?25hCollecting plotly==5.15.0 (from -r /workspaces/mildew-detection-in-cherry-leaves/requirements.txt (line 30))\n  Downloading plotly-5.15.0-py2.py3-none-any.whl (15.5 MB)\n\u001b[2K     \u001b[90m━━━━━━━━━━━━━━━━━━━━━━━━━━━━━━━━━━━━━━━━\u001b[0m \u001b[32m15.5/15.5 MB\u001b[0m \u001b[31m36.6 MB/s\u001b[0m eta \u001b[36m0:00:00\u001b[0m\n\u001b[?25hCollecting protobuf==4.23.2 (from -r /workspaces/mildew-detection-in-cherry-leaves/requirements.txt (line 31))\n  Downloading protobuf-4.23.2-cp37-abi3-manylinux2014_x86_64.whl (304 kB)\n\u001b[2K     \u001b[90m━━━━━━━━━━━━━━━━━━━━━━━━━━━━━━━━━━━━━━\u001b[0m \u001b[32m304.5/304.5 kB\u001b[0m \u001b[31m36.4 MB/s\u001b[0m eta \u001b[36m0:00:00\u001b[0m\n\u001b[?25hCollecting pyarrow==12.0.0 (from -r /workspaces/mildew-detection-in-cherry-leaves/requirements.txt (line 32))\n  Downloading pyarrow-12.0.0-cp38-cp38-manylinux_2_17_x86_64.manylinux2014_x86_64.whl (39.0 MB)\n\u001b[2K     \u001b[90m━━━━━━━━━━━━━━━━━━━━━━━━━━━━━━━━━━━━━━━━\u001b[0m \u001b[32m39.0/39.0 MB\u001b[0m \u001b[31m24.7 MB/s\u001b[0m eta \u001b[36m0:00:00\u001b[0m\n\u001b[?25hCollecting pyasn1==0.5.0 (from -r /workspaces/mildew-detection-in-cherry-leaves/requirements.txt (line 33))\n  Downloading pyasn1-0.5.0-py2.py3-none-any.whl (83 kB)\n\u001b[2K     \u001b[90m━━━━━━━━━━━━━━━━━━━━━━━━━━━━━━━━━━━━━━━━\u001b[0m \u001b[32m83.9/83.9 kB\u001b[0m \u001b[31m12.2 MB/s\u001b[0m eta \u001b[36m0:00:00\u001b[0m\n\u001b[?25hCollecting pyasn1-modules==0.3.0 (from -r /workspaces/mildew-detection-in-cherry-leaves/requirements.txt (line 34))\n  Downloading pyasn1_modules-0.3.0-py2.py3-none-any.whl (181 kB)\n\u001b[2K     \u001b[90m━━━━━━━━━━━━━━━━━━━━━━━━━━━━━━━━━━━━━━\u001b[0m \u001b[32m181.3/181.3 kB\u001b[0m \u001b[31m27.2 MB/s\u001b[0m eta \u001b[36m0:00:00\u001b[0m\n\u001b[?25hCollecting pydeck==0.8.1b0 (from -r /workspaces/mildew-detection-in-cherry-leaves/requirements.txt (line 35))\n  Downloading pydeck-0.8.1b0-py2.py3-none-any.whl (4.8 MB)\n\u001b[2K     \u001b[90m━━━━━━━━━━━━━━━━━━━━━━━━━━━━━━━━━━━━━━━━\u001b[0m \u001b[32m4.8/4.8 MB\u001b[0m \u001b[31m36.2 MB/s\u001b[0m eta \u001b[36m0:00:00\u001b[0m\n\u001b[?25hCollecting Pympler==1.0.1 (from -r /workspaces/mildew-detection-in-cherry-leaves/requirements.txt (line 36))\n  Downloading Pympler-1.0.1-py3-none-any.whl (164 kB)\n\u001b[2K     \u001b[90m━━━━━━━━━━━━━━━━━━━━━━━━━━━━━━━━━━━━━━\u001b[0m \u001b[32m164.8/164.8 kB\u001b[0m \u001b[31m20.9 MB/s\u001b[0m eta \u001b[36m0:00:00\u001b[0m\n\u001b[?25hCollecting pyparsing==3.0.9 (from -r /workspaces/mildew-detection-in-cherry-leaves/requirements.txt (line 37))\n  Downloading pyparsing-3.0.9-py3-none-any.whl (98 kB)\n\u001b[2K     \u001b[90m━━━━━━━━━━━━━━━━━━━━━━━━━━━━━━━━━━━━━━━━\u001b[0m \u001b[32m98.3/98.3 kB\u001b[0m \u001b[31m16.3 MB/s\u001b[0m eta \u001b[36m0:00:00\u001b[0m\n\u001b[?25hCollecting pytz==2023.3 (from -r /workspaces/mildew-detection-in-cherry-leaves/requirements.txt (line 38))\n  Downloading pytz-2023.3-py2.py3-none-any.whl (502 kB)\n\u001b[2K     \u001b[90m━━━━━━━━━━━━━━━━━━━━━━━━━━━━━━━━━━━━━━\u001b[0m \u001b[32m502.3/502.3 kB\u001b[0m \u001b[31m29.9 MB/s\u001b[0m eta \u001b[36m0:00:00\u001b[0m\n\u001b[?25hCollecting pytz-deprecation-shim==0.1.0.post0 (from -r /workspaces/mildew-detection-in-cherry-leaves/requirements.txt (line 39))\n  Downloading pytz_deprecation_shim-0.1.0.post0-py2.py3-none-any.whl (15 kB)\nCollecting requests-oauthlib==1.3.1 (from -r /workspaces/mildew-detection-in-cherry-leaves/requirements.txt (line 40))\n  Downloading requests_oauthlib-1.3.1-py2.py3-none-any.whl (23 kB)\nCollecting rsa==4.9 (from -r /workspaces/mildew-detection-in-cherry-leaves/requirements.txt (line 41))\n  Downloading rsa-4.9-py3-none-any.whl (34 kB)\nCollecting scipy==1.10.1 (from -r /workspaces/mildew-detection-in-cherry-leaves/requirements.txt (line 42))\n  Downloading scipy-1.10.1-cp38-cp38-manylinux_2_17_x86_64.manylinux2014_x86_64.whl (34.5 MB)\n\u001b[2K     \u001b[90m━━━━━━━━━━━━━━━━━━━━━━━━━━━━━━━━━━━━━━━━\u001b[0m \u001b[32m34.5/34.5 MB\u001b[0m \u001b[31m21.6 MB/s\u001b[0m eta \u001b[36m0:00:00\u001b[0m\n\u001b[?25hCollecting seaborn==0.12.2 (from -r /workspaces/mildew-detection-in-cherry-leaves/requirements.txt (line 43))\n  Downloading seaborn-0.12.2-py3-none-any.whl (293 kB)\n\u001b[2K     \u001b[90m━━━━━━━━━━━━━━━━━━━━━━━━━━━━━━━━━━━━━━\u001b[0m \u001b[32m293.3/293.3 kB\u001b[0m \u001b[31m38.7 MB/s\u001b[0m eta \u001b[36m0:00:00\u001b[0m\n\u001b[?25hCollecting streamlit==1.23.1 (from -r /workspaces/mildew-detection-in-cherry-leaves/requirements.txt (line 44))\n  Downloading streamlit-1.23.1-py2.py3-none-any.whl (8.9 MB)\n\u001b[2K     \u001b[90m━━━━━━━━━━━━━━━━━━━━━━━━━━━━━━━━━━━━━━━━\u001b[0m \u001b[32m8.9/8.9 MB\u001b[0m \u001b[31m51.4 MB/s\u001b[0m eta \u001b[36m0:00:00\u001b[0m\n\u001b[?25hCollecting tenacity==8.2.2 (from -r /workspaces/mildew-detection-in-cherry-leaves/requirements.txt (line 45))\n  Downloading tenacity-8.2.2-py3-none-any.whl (24 kB)\nCollecting tensorboard==2.12.3 (from -r /workspaces/mildew-detection-in-cherry-leaves/requirements.txt (line 46))\n  Downloading tensorboard-2.12.3-py3-none-any.whl (5.6 MB)\n\u001b[2K     \u001b[90m━━━━━━━━━━━━━━━━━━━━━━━━━━━━━━━━━━━━━━━━\u001b[0m \u001b[32m5.6/5.6 MB\u001b[0m \u001b[31m40.4 MB/s\u001b[0m eta \u001b[36m0:00:00\u001b[0m\n\u001b[?25hCollecting tensorboard-data-server==0.7.0 (from -r /workspaces/mildew-detection-in-cherry-leaves/requirements.txt (line 47))\n  Downloading tensorboard_data_server-0.7.0-py3-none-manylinux2014_x86_64.whl (6.6 MB)\n\u001b[2K     \u001b[90m━━━━━━━━━━━━━━━━━━━━━━━━━━━━━━━━━━━━━━━━\u001b[0m \u001b[32m6.6/6.6 MB\u001b[0m \u001b[31m21.7 MB/s\u001b[0m eta \u001b[36m0:00:00\u001b[0m\n\u001b[?25hCollecting tensorflow==2.12.0 (from -r /workspaces/mildew-detection-in-cherry-leaves/requirements.txt (line 48))\n  Downloading tensorflow-2.12.0-cp38-cp38-manylinux_2_17_x86_64.manylinux2014_x86_64.whl (585.9 MB)\n\u001b[2K     \u001b[90m━━━━━━━━━━━━━━━━━━━━━━━━━━━━━━━━━━━━━━━\u001b[0m \u001b[32m585.9/585.9 MB\u001b[0m \u001b[31m2.7 MB/s\u001b[0m eta \u001b[36m0:00:00\u001b[0m\n\u001b[?25hCollecting tensorflow-estimator==2.12.0 (from -r /workspaces/mildew-detection-in-cherry-leaves/requirements.txt (line 49))\n  Downloading tensorflow_estimator-2.12.0-py2.py3-none-any.whl (440 kB)\n\u001b[2K     \u001b[90m━━━━━━━━━━━━━━━━━━━━━━━━━━━━━━━━━━━━━━\u001b[0m \u001b[32m440.7/440.7 kB\u001b[0m \u001b[31m50.1 MB/s\u001b[0m eta \u001b[36m0:00:00\u001b[0m\n\u001b[?25hCollecting tensorflow-io-gcs-filesystem==0.32.0 (from -r /workspaces/mildew-detection-in-cherry-leaves/requirements.txt (line 50))\n  Downloading tensorflow_io_gcs_filesystem-0.32.0-cp38-cp38-manylinux_2_12_x86_64.manylinux2010_x86_64.whl (2.4 MB)\n\u001b[2K     \u001b[90m━━━━━━━━━━━━━━━━━━━━━━━━━━━━━━━━━━━━━━━━\u001b[0m \u001b[32m2.4/2.4 MB\u001b[0m \u001b[31m38.3 MB/s\u001b[0m eta \u001b[36m0:00:00\u001b[0m\n\u001b[?25hCollecting termcolor==2.3.0 (from -r /workspaces/mildew-detection-in-cherry-leaves/requirements.txt (line 51))\n  Downloading termcolor-2.3.0-py3-none-any.whl (6.9 kB)\nCollecting toml==0.10.2 (from -r /workspaces/mildew-detection-in-cherry-leaves/requirements.txt (line 52))\n  Downloading toml-0.10.2-py2.py3-none-any.whl (16 kB)\nCollecting toolz==0.12.0 (from -r /workspaces/mildew-detection-in-cherry-leaves/requirements.txt (line 53))\n  Downloading toolz-0.12.0-py3-none-any.whl (55 kB)\n\u001b[2K     \u001b[90m━━━━━━━━━━━━━━━━━━━━━━━━━━━━━━━━━━━━━━━━\u001b[0m \u001b[32m55.8/55.8 kB\u001b[0m \u001b[31m8.2 MB/s\u001b[0m eta \u001b[36m0:00:00\u001b[0m\n\u001b[?25hCollecting tzdata==2023.3 (from -r /workspaces/mildew-detection-in-cherry-leaves/requirements.txt (line 54))\n  Downloading tzdata-2023.3-py2.py3-none-any.whl (341 kB)\n\u001b[2K     \u001b[90m━━━━━━━━━━━━━━━━━━━━━━━━━━━━━━━━━━━━━━\u001b[0m \u001b[32m341.8/341.8 kB\u001b[0m \u001b[31m38.9 MB/s\u001b[0m eta \u001b[36m0:00:00\u001b[0m\n\u001b[?25hCollecting tzlocal==4.3 (from -r /workspaces/mildew-detection-in-cherry-leaves/requirements.txt (line 55))\n  Downloading tzlocal-4.3-py3-none-any.whl (20 kB)\nCollecting validators==0.20.0 (from -r /workspaces/mildew-detection-in-cherry-leaves/requirements.txt (line 56))\n  Downloading validators-0.20.0.tar.gz (30 kB)\n  Preparing metadata (setup.py) ... \u001b[?25ldone\n\u001b[?25hCollecting watchdog==3.0.0 (from -r /workspaces/mildew-detection-in-cherry-leaves/requirements.txt (line 57))\n  Downloading watchdog-3.0.0-py3-none-manylinux2014_x86_64.whl (82 kB)\n\u001b[2K     \u001b[90m━━━━━━━━━━━━━━━━━━━━━━━━━━━━━━━━━━━━━━━━\u001b[0m \u001b[32m82.1/82.1 kB\u001b[0m \u001b[31m11.5 MB/s\u001b[0m eta \u001b[36m0:00:00\u001b[0m\n\u001b[?25hCollecting Werkzeug==2.3.6 (from -r /workspaces/mildew-detection-in-cherry-leaves/requirements.txt (line 58))\n  Downloading Werkzeug-2.3.6-py3-none-any.whl (242 kB)\n\u001b[2K     \u001b[90m━━━━━━━━━━━━━━━━━━━━━━━━━━━━━━━━━━━━━━\u001b[0m \u001b[32m242.5/242.5 kB\u001b[0m \u001b[31m31.0 MB/s\u001b[0m eta \u001b[36m0:00:00\u001b[0m\n\u001b[?25hCollecting wrapt==1.14.1 (from -r /workspaces/mildew-detection-in-cherry-leaves/requirements.txt (line 59))\n  Downloading wrapt-1.14.1-cp38-cp38-manylinux_2_5_x86_64.manylinux1_x86_64.manylinux_2_17_x86_64.manylinux2014_x86_64.whl (81 kB)\n\u001b[2K     \u001b[90m━━━━━━━━━━━━━━━━━━━━━━━━━━━━━━━━━━━━━━━━\u001b[0m \u001b[32m81.0/81.0 kB\u001b[0m \u001b[31m15.5 MB/s\u001b[0m eta \u001b[36m0:00:00\u001b[0m\n\u001b[?25hRequirement already satisfied: jinja2 in /home/codeany/.pyenv/versions/3.8.12/lib/python3.8/site-packages (from altair==5.0.1->-r /workspaces/mildew-detection-in-cherry-leaves/requirements.txt (line 2)) (3.1.2)\nRequirement already satisfied: jsonschema>=3.0 in /home/codeany/.pyenv/versions/3.8.12/lib/python3.8/site-packages (from altair==5.0.1->-r /workspaces/mildew-detection-in-cherry-leaves/requirements.txt (line 2)) (4.17.3)\nRequirement already satisfied: typing-extensions>=4.0.1 in /home/codeany/.pyenv/versions/3.8.12/lib/python3.8/site-packages (from altair==5.0.1->-r /workspaces/mildew-detection-in-cherry-leaves/requirements.txt (line 2)) (4.6.3)\nRequirement already satisfied: wheel<1.0,>=0.23.0 in /home/codeany/.pyenv/versions/3.8.12/lib/python3.8/site-packages (from astunparse==1.6.3->-r /workspaces/mildew-detection-in-cherry-leaves/requirements.txt (line 3)) (0.40.0)\nRequirement already satisfied: six<2.0,>=1.6.1 in /home/codeany/.pyenv/versions/3.8.12/lib/python3.8/site-packages (from astunparse==1.6.3->-r /workspaces/mildew-detection-in-cherry-leaves/requirements.txt (line 3)) (1.16.0)\nCollecting urllib3<2.0 (from google-auth==2.19.1->-r /workspaces/mildew-detection-in-cherry-leaves/requirements.txt (line 12))\n  Downloading urllib3-1.26.16-py2.py3-none-any.whl (143 kB)\n\u001b[2K     \u001b[90m━━━━━━━━━━━━━━━━━━━━━━━━━━━━━━━━━━━━━━\u001b[0m \u001b[32m143.1/143.1 kB\u001b[0m \u001b[31m28.5 MB/s\u001b[0m eta \u001b[36m0:00:00\u001b[0m\n\u001b[?25hRequirement already satisfied: importlib-metadata>=4.6 in /home/codeany/.pyenv/versions/3.8.12/lib/python3.8/site-packages (from jax==0.4.12->-r /workspaces/mildew-detection-in-cherry-leaves/requirements.txt (line 17)) (6.6.0)\nRequirement already satisfied: packaging>=20.0 in /home/codeany/.pyenv/versions/3.8.12/lib/python3.8/site-packages (from matplotlib==3.7.1->-r /workspaces/mildew-detection-in-cherry-leaves/requirements.txt (line 23)) (23.1)\nRequirement already satisfied: python-dateutil>=2.7 in /home/codeany/.pyenv/versions/3.8.12/lib/python3.8/site-packages (from matplotlib==3.7.1->-r /workspaces/mildew-detection-in-cherry-leaves/requirements.txt (line 23)) (2.8.2)\nRequirement already satisfied: importlib-resources>=3.2.0 in /home/codeany/.pyenv/versions/3.8.12/lib/python3.8/site-packages (from matplotlib==3.7.1->-r /workspaces/mildew-detection-in-cherry-leaves/requirements.txt (line 23)) (5.12.0)\nCollecting backports.zoneinfo (from pytz-deprecation-shim==0.1.0.post0->-r /workspaces/mildew-detection-in-cherry-leaves/requirements.txt (line 39))\n  Downloading backports.zoneinfo-0.2.1-cp38-cp38-manylinux1_x86_64.whl (74 kB)\n\u001b[2K     \u001b[90m━━━━━━━━━━━━━━━━━━━━━━━━━━━━━━━━━━━━━━━━\u001b[0m \u001b[32m74.0/74.0 kB\u001b[0m \u001b[31m13.7 MB/s\u001b[0m eta \u001b[36m0:00:00\u001b[0m\n\u001b[?25hRequirement already satisfied: requests>=2.0.0 in /home/codeany/.pyenv/versions/3.8.12/lib/python3.8/site-packages (from requests-oauthlib==1.3.1->-r /workspaces/mildew-detection-in-cherry-leaves/requirements.txt (line 40)) (2.31.0)\nRequirement already satisfied: rich<14,>=10.11.0 in /home/codeany/.pyenv/versions/3.8.12/lib/python3.8/site-packages (from streamlit==1.23.1->-r /workspaces/mildew-detection-in-cherry-leaves/requirements.txt (line 44)) (13.4.1)\nRequirement already satisfied: gitpython!=3.1.19,<4,>=3 in /home/codeany/.pyenv/versions/3.8.12/lib/python3.8/site-packages (from streamlit==1.23.1->-r /workspaces/mildew-detection-in-cherry-leaves/requirements.txt (line 44)) (3.1.31)\nRequirement already satisfied: tornado<7,>=6.0.3 in /home/codeany/.pyenv/versions/3.8.12/lib/python3.8/site-packages (from streamlit==1.23.1->-r /workspaces/mildew-detection-in-cherry-leaves/requirements.txt (line 44)) (6.3.2)\nRequirement already satisfied: setuptools>=41.0.0 in /home/codeany/.pyenv/versions/3.8.12/lib/python3.8/site-packages (from tensorboard==2.12.3->-r /workspaces/mildew-detection-in-cherry-leaves/requirements.txt (line 46)) (67.8.0)\nRequirement already satisfied: decorator>=3.4.0 in /home/codeany/.pyenv/versions/3.8.12/lib/python3.8/site-packages (from validators==0.20.0->-r /workspaces/mildew-detection-in-cherry-leaves/requirements.txt (line 56)) (5.1.1)\nRequirement already satisfied: MarkupSafe>=2.1.1 in /home/codeany/.pyenv/versions/3.8.12/lib/python3.8/site-packages (from Werkzeug==2.3.6->-r /workspaces/mildew-detection-in-cherry-leaves/requirements.txt (line 58)) (2.1.3)\nRequirement already satisfied: gitdb<5,>=4.0.1 in /home/codeany/.pyenv/versions/3.8.12/lib/python3.8/site-packages (from gitpython!=3.1.19,<4,>=3->streamlit==1.23.1->-r /workspaces/mildew-detection-in-cherry-leaves/requirements.txt (line 44)) (4.0.10)\nRequirement already satisfied: zipp>=0.5 in /home/codeany/.pyenv/versions/3.8.12/lib/python3.8/site-packages (from importlib-metadata>=4.6->jax==0.4.12->-r /workspaces/mildew-detection-in-cherry-leaves/requirements.txt (line 17)) (3.15.0)\nRequirement already satisfied: attrs>=17.4.0 in /home/codeany/.pyenv/versions/3.8.12/lib/python3.8/site-packages (from jsonschema>=3.0->altair==5.0.1->-r /workspaces/mildew-detection-in-cherry-leaves/requirements.txt (line 2)) (23.1.0)\nRequirement already satisfied: pkgutil-resolve-name>=1.3.10 in /home/codeany/.pyenv/versions/3.8.12/lib/python3.8/site-packages (from jsonschema>=3.0->altair==5.0.1->-r /workspaces/mildew-detection-in-cherry-leaves/requirements.txt (line 2)) (1.3.10)\nRequirement already satisfied: pyrsistent!=0.17.0,!=0.17.1,!=0.17.2,>=0.14.0 in /home/codeany/.pyenv/versions/3.8.12/lib/python3.8/site-packages (from jsonschema>=3.0->altair==5.0.1->-r /workspaces/mildew-detection-in-cherry-leaves/requirements.txt (line 2)) (0.19.3)\nRequirement already satisfied: charset-normalizer<4,>=2 in /home/codeany/.pyenv/versions/3.8.12/lib/python3.8/site-packages (from requests>=2.0.0->requests-oauthlib==1.3.1->-r /workspaces/mildew-detection-in-cherry-leaves/requirements.txt (line 40)) (3.1.0)\nRequirement already satisfied: idna<4,>=2.5 in /home/codeany/.pyenv/versions/3.8.12/lib/python3.8/site-packages (from requests>=2.0.0->requests-oauthlib==1.3.1->-r /workspaces/mildew-detection-in-cherry-leaves/requirements.txt (line 40)) (3.4)\nRequirement already satisfied: certifi>=2017.4.17 in /home/codeany/.pyenv/versions/3.8.12/lib/python3.8/site-packages (from requests>=2.0.0->requests-oauthlib==1.3.1->-r /workspaces/mildew-detection-in-cherry-leaves/requirements.txt (line 40)) (2023.5.7)\nRequirement already satisfied: markdown-it-py<3.0.0,>=2.2.0 in /home/codeany/.pyenv/versions/3.8.12/lib/python3.8/site-packages (from rich<14,>=10.11.0->streamlit==1.23.1->-r /workspaces/mildew-detection-in-cherry-leaves/requirements.txt (line 44)) (2.2.0)\nRequirement already satisfied: pygments<3.0.0,>=2.13.0 in /home/codeany/.pyenv/versions/3.8.12/lib/python3.8/site-packages (from rich<14,>=10.11.0->streamlit==1.23.1->-r /workspaces/mildew-detection-in-cherry-leaves/requirements.txt (line 44)) (2.15.1)\nRequirement already satisfied: smmap<6,>=3.0.1 in /home/codeany/.pyenv/versions/3.8.12/lib/python3.8/site-packages (from gitdb<5,>=4.0.1->gitpython!=3.1.19,<4,>=3->streamlit==1.23.1->-r /workspaces/mildew-detection-in-cherry-leaves/requirements.txt (line 44)) (5.0.0)\nRequirement already satisfied: mdurl~=0.1 in /home/codeany/.pyenv/versions/3.8.12/lib/python3.8/site-packages (from markdown-it-py<3.0.0,>=2.2.0->rich<14,>=10.11.0->streamlit==1.23.1->-r /workspaces/mildew-detection-in-cherry-leaves/requirements.txt (line 44)) (0.1.2)\nBuilding wheels for collected packages: jax, validators\n  Building wheel for jax (pyproject.toml) ... \u001b[?25ldone\n\u001b[?25h  Created wheel for jax: filename=jax-0.4.12-py3-none-any.whl size=1498447 sha256=db03d69fb92749db189406a902fb89f299cad94dcf4f5d7354e8301d7504b2ff\n  Stored in directory: /home/codeany/.cache/pip/wheels/cd/5a/a8/88d7a5c8d35f5a5e9cddec186ce76d5e303e0462d8a6c827bb\n  Building wheel for validators (setup.py) ... \u001b[?25ldone\n\u001b[?25h  Created wheel for validators: filename=validators-0.20.0-py3-none-any.whl size=19579 sha256=a0b9b090c29dbb4f831bf8a571170dc1a0fd79d45c999bfb15c4c4d7c88ce8c5\n  Stored in directory: /home/codeany/.cache/pip/wheels/19/09/72/3eb74d236bb48bd0f3c6c3c83e4e0c5bbfcbcad7c6c3539db8\nSuccessfully built jax validators\nInstalling collected packages: pytz, libclang, flatbuffers, wrapt, Werkzeug, watchdog, validators, urllib3, tzdata, toolz, toml, termcolor, tensorflow-io-gcs-filesystem, tensorflow-estimator, tensorboard-data-server, tenacity, pyparsing, Pympler, pyasn1, protobuf, Pillow, oauthlib, numpy, kiwisolver, keras, joblib, grpcio, google-pasta, gast, fonttools, cycler, click, cachetools, blinker, backports.zoneinfo, astunparse, absl-py, scipy, rsa, pytz-deprecation-shim, pydeck, pyasn1-modules, pyarrow, plotly, pandas, opt-einsum, ml-dtypes, Markdown, h5py, contourpy, tzlocal, requests-oauthlib, matplotlib, jax, google-auth, altair, streamlit, seaborn, google-auth-oauthlib, tensorboard, tensorflow\n  Attempting uninstall: wrapt\n    Found existing installation: wrapt 1.15.0\n    Uninstalling wrapt-1.15.0:\n      Successfully uninstalled wrapt-1.15.0\n  Attempting uninstall: urllib3\n    Found existing installation: urllib3 2.0.3\n    Uninstalling urllib3-2.0.3:\n      Successfully uninstalled urllib3-2.0.3\nSuccessfully installed Markdown-3.4.3 Pillow-9.5.0 Pympler-1.0.1 Werkzeug-2.3.6 absl-py-1.4.0 altair-5.0.1 astunparse-1.6.3 backports.zoneinfo-0.2.1 blinker-1.6.2 cachetools-5.3.1 click-8.1.3 contourpy-1.0.7 cycler-0.11.0 flatbuffers-23.5.26 fonttools-4.39.4 gast-0.4.0 google-auth-2.19.1 google-auth-oauthlib-1.0.0 google-pasta-0.2.0 grpcio-1.54.2 h5py-3.8.0 jax-0.4.12 joblib-1.2.0 keras-2.12.0 kiwisolver-1.4.4 libclang-16.0.0 matplotlib-3.7.1 ml-dtypes-0.2.0 numpy-1.23.5 oauthlib-3.2.2 opt-einsum-3.3.0 pandas-2.0.2 plotly-5.15.0 protobuf-4.23.2 pyarrow-12.0.0 pyasn1-0.5.0 pyasn1-modules-0.3.0 pydeck-0.8.1b0 pyparsing-3.0.9 pytz-2023.3 pytz-deprecation-shim-0.1.0.post0 requests-oauthlib-1.3.1 rsa-4.9 scipy-1.10.1 seaborn-0.12.2 streamlit-1.23.1 tenacity-8.2.2 tensorboard-2.12.3 tensorboard-data-server-0.7.0 tensorflow-2.12.0 tensorflow-estimator-2.12.0 tensorflow-io-gcs-filesystem-0.32.0 termcolor-2.3.0 toml-0.10.2 toolz-0.12.0 tzdata-2023.3 tzlocal-4.3 urllib3-1.26.16 validators-0.20.0 watchdog-3.0.0 wrapt-1.14.1\n"
        }
      ],
      "source": [
        "! pip install -r /workspaces/mildew-detection-in-cherry-leaves/requirements.txt"
      ]
    },
    {
      "cell_type": "code",
      "execution_count": 2,
      "metadata": {
        "tags": []
      },
      "outputs": [],
      "source": [
        "import numpy\n",
        "import os"
      ]
    },
    {
      "attachments": {},
      "cell_type": "markdown",
      "metadata": {
        "id": "9uWZXH9LwoQg"
      },
      "source": [
        "---"
      ]
    },
    {
      "attachments": {},
      "cell_type": "markdown",
      "metadata": {
        "id": "cqP-UeN-z3i2"
      },
      "source": [
        "# Change working directory"
      ]
    },
    {
      "attachments": {},
      "cell_type": "markdown",
      "metadata": {},
      "source": [
        "* We are assuming you will store the notebooks in a subfolder, therefore when running the notebook in the editor, you will need to change the working directory"
      ]
    },
    {
      "attachments": {},
      "cell_type": "markdown",
      "metadata": {
        "id": "aOGIGS-uz3i2"
      },
      "source": [
        "* We need to change the working directory from its current folder to its parent folder\n",
        "* We access the current directory with os.getcwd()"
      ]
    },
    {
      "cell_type": "code",
      "execution_count": 3,
      "metadata": {
        "id": "wZfF_j-Bz3i4",
        "outputId": "66943449-1436-4c3d-85c7-b85f9f78349b"
      },
      "outputs": [
        {
          "output_type": "execute_result",
          "data": {
            "text/plain": "'/workspaces/mildew-detection-in-cherry-leaves/jupyter_notebooks'"
          },
          "metadata": {},
          "execution_count": 3
        }
      ],
      "source": [
        "import os\n",
        "current_dir = os.getcwd()\n",
        "current_dir"
      ]
    },
    {
      "attachments": {},
      "cell_type": "markdown",
      "metadata": {
        "id": "9MWW8E7lz3i7"
      },
      "source": [
        "We want to make the parent of the current directory the new current directory\n",
        "* os.path.dirname() gets the parent directory\n",
        "* os.chir() defines the new current directory"
      ]
    },
    {
      "cell_type": "code",
      "execution_count": 4,
      "metadata": {
        "id": "TwHsQRWjz3i9",
        "outputId": "86849db3-cd2f-4cc5-ebb8-2d0caafa1a2c",
        "tags": []
      },
      "outputs": [
        {
          "output_type": "stream",
          "name": "stdout",
          "text": "You set a new current directory\n"
        }
      ],
      "source": [
        "os.chdir(os.path.dirname(current_dir))\n",
        "print(\"You set a new current directory\")"
      ]
    },
    {
      "attachments": {},
      "cell_type": "markdown",
      "metadata": {
        "id": "M_xPk_Ijz3i-"
      },
      "source": [
        "Confirm the new current directory"
      ]
    },
    {
      "cell_type": "code",
      "execution_count": 5,
      "metadata": {
        "id": "vz3S-_kjz3jA",
        "outputId": "00b79ae4-75d0-4a96-d193-ac9ef9847ea2"
      },
      "outputs": [
        {
          "output_type": "execute_result",
          "data": {
            "text/plain": "'/workspaces/mildew-detection-in-cherry-leaves'"
          },
          "metadata": {},
          "execution_count": 5
        }
      ],
      "source": [
        "current_dir = os.getcwd()\n",
        "current_dir"
      ]
    },
    {
      "attachments": {},
      "cell_type": "markdown",
      "metadata": {
        "id": "-mavJ8DibrcQ"
      },
      "source": [
        "# Install Kaggle"
      ]
    },
    {
      "cell_type": "code",
      "execution_count": 6,
      "metadata": {
        "tags": []
      },
      "outputs": [
        {
          "output_type": "stream",
          "name": "stdout",
          "text": "Collecting kaggle\n  Downloading kaggle-1.5.13.tar.gz (63 kB)\n\u001b[2K     \u001b[90m━━━━━━━━━━━━━━━━━━━━━━━━━━━━━━━━━━━━━━━━\u001b[0m \u001b[32m63.3/63.3 kB\u001b[0m \u001b[31m1.3 MB/s\u001b[0m eta \u001b[36m0:00:00\u001b[0m\n\u001b[?25h  Preparing metadata (setup.py) ... \u001b[?25ldone\n\u001b[?25hRequirement already satisfied: six>=1.10 in /home/codeany/.pyenv/versions/3.8.12/lib/python3.8/site-packages (from kaggle) (1.16.0)\nRequirement already satisfied: certifi in /home/codeany/.pyenv/versions/3.8.12/lib/python3.8/site-packages (from kaggle) (2023.5.7)\nRequirement already satisfied: python-dateutil in /home/codeany/.pyenv/versions/3.8.12/lib/python3.8/site-packages (from kaggle) (2.8.2)\nRequirement already satisfied: requests in /home/codeany/.pyenv/versions/3.8.12/lib/python3.8/site-packages (from kaggle) (2.31.0)\nCollecting tqdm (from kaggle)\n  Downloading tqdm-4.65.0-py3-none-any.whl (77 kB)\n\u001b[2K     \u001b[90m━━━━━━━━━━━━━━━━━━━━━━━━━━━━━━━━━━━━━━━━\u001b[0m \u001b[32m77.1/77.1 kB\u001b[0m \u001b[31m5.2 MB/s\u001b[0m eta \u001b[36m0:00:00\u001b[0m\n\u001b[?25hCollecting python-slugify (from kaggle)\n  Downloading python_slugify-8.0.1-py2.py3-none-any.whl (9.7 kB)\nRequirement already satisfied: urllib3 in /home/codeany/.pyenv/versions/3.8.12/lib/python3.8/site-packages (from kaggle) (1.26.16)\nCollecting text-unidecode>=1.3 (from python-slugify->kaggle)\n  Downloading text_unidecode-1.3-py2.py3-none-any.whl (78 kB)\n\u001b[2K     \u001b[90m━━━━━━━━━━━━━━━━━━━━━━━━━━━━━━━━━━━━━━━━\u001b[0m \u001b[32m78.2/78.2 kB\u001b[0m \u001b[31m16.8 MB/s\u001b[0m eta \u001b[36m0:00:00\u001b[0m\n\u001b[?25hRequirement already satisfied: charset-normalizer<4,>=2 in /home/codeany/.pyenv/versions/3.8.12/lib/python3.8/site-packages (from requests->kaggle) (3.1.0)\nRequirement already satisfied: idna<4,>=2.5 in /home/codeany/.pyenv/versions/3.8.12/lib/python3.8/site-packages (from requests->kaggle) (3.4)\nBuilding wheels for collected packages: kaggle\n  Building wheel for kaggle (setup.py) ... \u001b[?25ldone\n\u001b[?25h  Created wheel for kaggle: filename=kaggle-1.5.13-py3-none-any.whl size=77717 sha256=1ee9b062a57c1c2e95eafb6d13ceadf50433bd66ac740d6ac71431bbed6285e7\n  Stored in directory: /home/codeany/.cache/pip/wheels/e6/8e/67/e07554a720a493dc6b39b30488590ba92ed45448ad0134d253\nSuccessfully built kaggle\nInstalling collected packages: text-unidecode, tqdm, python-slugify, kaggle\nSuccessfully installed kaggle-1.5.13 python-slugify-8.0.1 text-unidecode-1.3 tqdm-4.65.0\n"
        }
      ],
      "source": [
        "! pip install kaggle"
      ]
    },
    {
      "attachments": {},
      "cell_type": "markdown",
      "metadata": {
        "id": "ZY3l0-AxO93d"
      },
      "source": [
        "---"
      ]
    },
    {
      "attachments": {},
      "cell_type": "markdown",
      "metadata": {
        "id": "uFQo3ycuO-v6"
      },
      "source": [
        "Run the cell below to change the kaggle configuration directory to current working directory and permission of kaggle authentication json"
      ]
    },
    {
      "cell_type": "code",
      "execution_count": 8,
      "metadata": {
        "tags": []
      },
      "outputs": [],
      "source": [
        "os.environ['KAGGLE_CONFIG_DIR'] = os.getcwd()\n",
        "! chmod 600 kaggle.json"
      ]
    },
    {
      "attachments": {},
      "cell_type": "markdown",
      "metadata": {},
      "source": [
        "* Get the dataset path from Kaggle url.  When you are viewing the dataset at Kaggle, check what is after https://www.kaggle.com/ (in some case kaggle.com/datasets). You should copy that at KaggleDatasetPath.\n",
        "\n",
        "* Set the destination folder\n",
        "* Set the Kaggle Dataset and Download it"
      ]
    },
    {
      "cell_type": "code",
      "execution_count": 15,
      "metadata": {
        "tags": []
      },
      "outputs": [
        {
          "output_type": "stream",
          "name": "stdout",
          "text": "Downloading cherry-leaves.zip to inputs/cherry-leaves_dataset\n 96%|█████████████████████████████████████▌ | 53.0M/55.0M [00:00<00:00, 190MB/s]\n100%|███████████████████████████████████████| 55.0M/55.0M [00:00<00:00, 181MB/s]\n"
        }
      ],
      "source": [
        "KaggleDatasetPath = \"codeinstitute/cherry-leaves\"\n",
        "DestinationFolder = \"inputs/cherry-leaves_dataset\"   \n",
        "! kaggle datasets download -d {KaggleDatasetPath} -p {DestinationFolder}"
      ]
    },
    {
      "attachments": {},
      "cell_type": "markdown",
      "metadata": {},
      "source": [
        "* Un-zip the downloaded file and delete the zip file afterwards."
      ]
    },
    {
      "cell_type": "code",
      "execution_count": 16,
      "metadata": {},
      "outputs": [],
      "source": [
        "import zipfile\n",
        "with zipfile.ZipFile(DestinationFolder + '/cherry-leaves.zip', 'r') as zip_ref:\n",
        "    zip_ref.extractall(DestinationFolder)\n",
        "\n",
        "os.remove(DestinationFolder + '/cherry-leaves.zip')"
      ]
    },
    {
      "attachments": {},
      "cell_type": "markdown",
      "metadata": {},
      "source": [
        "# Data Preparation"
      ]
    },
    {
      "attachments": {},
      "cell_type": "markdown",
      "metadata": {},
      "source": [
        "* Check and remove non-image files"
      ]
    },
    {
      "cell_type": "code",
      "execution_count": 18,
      "metadata": {},
      "outputs": [],
      "source": [
        "def remove_non_image_file(my_data_dir):\n",
        "    image_extension = ('.png', '.jpg', '.jpeg')\n",
        "    folders = os.listdir(my_data_dir) \n",
        "    for folder in folders:\n",
        "        files = os.listdir(my_data_dir + '/' + folder)\n",
        "        \n",
        "            #print(files)\n",
        "        i = []\n",
        "        j = []\n",
        "        for given_file in files:\n",
        "            if not given_file.lower().endswith(image_extension):\n",
        "                file_location = my_data_dir + '/' + folder + '/' + given_file\n",
        "                os.remove(file_location) # remove non image file\n",
        "                i.append(1)\n",
        "            else:\n",
        "                j.append(1)\n",
        "                pass\n",
        "        print(f\"Folder: {folder} - has image file\",len(j))\n",
        "        print(f\"Folder: {folder} - has non-image file\",len(i))"
      ]
    },
    {
      "cell_type": "code",
      "execution_count": 19,
      "metadata": {
        "tags": []
      },
      "outputs": [
        {
          "output_type": "stream",
          "name": "stdout",
          "text": "Folder: healthy - has image file 2104\nFolder: healthy - has non-image file 0\nFolder: powdery_mildew - has image file 2104\nFolder: powdery_mildew - has non-image file 0\n"
        }
      ],
      "source": [
        "remove_non_image_file(my_data_dir='inputs/cherry-leaves_dataset/cherry-leaves')"
      ]
    },
    {
      "attachments": {},
      "cell_type": "markdown",
      "metadata": {},
      "source": [
        "### Split train validation set"
      ]
    },
    {
      "cell_type": "code",
      "execution_count": 20,
      "metadata": {},
      "outputs": [],
      "source": [
        "import os\n",
        "import shutil\n",
        "import random\n",
        "import joblib\n",
        "\n",
        "my_data_dir=\"inputs/cherry-leaves_dataset/cherry-leaves\"\n",
        "\n",
        "def split_train_validation_test_images(my_data_dir, train_set_ratio, validation_set_ratio, test_set_ratio):\n",
        "  \n",
        "  if train_set_ratio + validation_set_ratio + test_set_ratio != 1.0:\n",
        "    print(\"train_set_ratio + validation_set_ratio + test_set_ratio should sum 1.0\")\n",
        "    return\n",
        "\n",
        "  # gets classes labels\n",
        "  labels = os.listdir(my_data_dir) # it should get only the folder name\n",
        "  if 'test' in labels:\n",
        "    pass\n",
        "  else: \n",
        "    # create train, test folders with classess labels sub-folder\n",
        "    for folder in ['train','validation','test']:\n",
        "      for label in labels:\n",
        "        os.makedirs(name=my_data_dir+ '/' + folder + '/' + label)\n",
        "\n",
        "    for label in labels:\n",
        "\n",
        "      files = os.listdir(my_data_dir + '/' + label)\n",
        "      random.shuffle(files)\n",
        "\n",
        "      train_set_files_qty = int(len(files) * train_set_ratio)\n",
        "      validation_set_files_qty = int(len(files) * validation_set_ratio)\n",
        "\n",
        "      count = 1\n",
        "      for file_name in files:\n",
        "        if count <= train_set_files_qty:\n",
        "          # move given file to train set\n",
        "          shutil.move(my_data_dir + '/' + label + '/' + file_name,\n",
        "                      my_data_dir + '/train/' + label + '/' + file_name)\n",
        "          \n",
        "\n",
        "        elif count <= (train_set_files_qty + validation_set_files_qty ):\n",
        "          # move given file to validation set\n",
        "          shutil.move(my_data_dir + '/' + label + '/' + file_name,\n",
        "                      my_data_dir + '/validation/' + label + '/' + file_name)\n",
        "\n",
        "        else:\n",
        "          # move given file to test set\n",
        "          shutil.move(my_data_dir + '/' + label + '/' + file_name,\n",
        "                  my_data_dir + '/test/' +label + '/'+ file_name)\n",
        "          \n",
        "        count += 1\n",
        "\n",
        "      os.rmdir(my_data_dir + '/' + label)"
      ]
    },
    {
      "cell_type": "code",
      "execution_count": 21,
      "metadata": {},
      "outputs": [],
      "source": [
        "split_train_validation_test_images(my_data_dir=f\"inputs/cherry-leaves_dataset/cherry-leaves\",\n",
        "                        train_set_ratio = 0.7,\n",
        "                        validation_set_ratio=0.1,\n",
        "                        test_set_ratio=0.2\n",
        "                        )"
      ]
    },
    {
      "attachments": {},
      "cell_type": "markdown",
      "metadata": {},
      "source": [
        "---"
      ]
    },
    {
      "attachments": {},
      "cell_type": "markdown",
      "metadata": {},
      "source": [
        "NOTE"
      ]
    },
    {
      "attachments": {},
      "cell_type": "markdown",
      "metadata": {},
      "source": [
        "* You may add as many sections as you want, as long as it supports your project workflow.\n",
        "* All notebook's cells should be run top-down (you can't create a dynamic wherein a given point you need to go back to a previous cell to execute some task, like go back to a previous cell and refresh a variable content)"
      ]
    },
    {
      "attachments": {},
      "cell_type": "markdown",
      "metadata": {},
      "source": [
        "---"
      ]
    },
    {
      "attachments": {},
      "cell_type": "markdown",
      "metadata": {
        "id": "ltNetd085qHf"
      },
      "source": [
        "# Push files to Repo"
      ]
    },
    {
      "attachments": {},
      "cell_type": "markdown",
      "metadata": {},
      "source": [
        "## Push generated/new files from this Session to your GitHub repo"
      ]
    },
    {
      "attachments": {},
      "cell_type": "markdown",
      "metadata": {},
      "source": [
        "* .gitignore"
      ]
    },
    {
      "cell_type": "code",
      "execution_count": 22,
      "metadata": {
        "tags": []
      },
      "outputs": [
        {
          "output_type": "stream",
          "name": "stdout",
          "text": "core.Microsoft*\ncore.mongo*\ncore.python*\nenv.py\n__pycache__/\n*.py[cod]\nnode_modules/\n.github/\ncloudinary_python.txt\nkaggle.json"
        }
      ],
      "source": [
        "!cat .gitignore"
      ]
    },
    {
      "attachments": {},
      "cell_type": "markdown",
      "metadata": {},
      "source": [
        "* Git status"
      ]
    },
    {
      "cell_type": "code",
      "execution_count": 23,
      "metadata": {
        "tags": [
          "outputPrepend"
        ]
      },
      "outputs": [
        {
          "output_type": "stream",
          "name": "stdout",
          "text": "_FREC_Pwd.M 4912.JPG\u001b[m\n\t\u001b[31minputs/cherry-leaves_dataset/cherry-leaves/validation/powdery_mildew/3d908213-1f46-40a1-b4d6-567d4f05edfe___FREC_Pwd.M 0287.JPG\u001b[m\n\t\u001b[31minputs/cherry-leaves_dataset/cherry-leaves/validation/powdery_mildew/3e888774-5b36-4346-8627-484de167ea88___FREC_Pwd.M 4982.JPG\u001b[m\n\t\u001b[31minputs/cherry-leaves_dataset/cherry-leaves/validation/powdery_mildew/40f6e95a-837c-4d31-a1b4-14351c25bd25___FREC_Pwd.M 4621.JPG\u001b[m\n\t\u001b[31minputs/cherry-leaves_dataset/cherry-leaves/validation/powdery_mildew/41493e9c-7e7b-49ce-b189-e5b772623a78___FREC_Pwd.M 4583.JPG\u001b[m\n\t\u001b[31minputs/cherry-leaves_dataset/cherry-leaves/validation/powdery_mildew/43289d9f-5de8-4b04-a455-24445a6efe54___FREC_Pwd.M 4750.JPG\u001b[m\n\t\u001b[31minputs/cherry-leaves_dataset/cherry-leaves/validation/powdery_mildew/441b415a-197a-4880-a373-6821f5a14725___FREC_Pwd.M 4880.JPG\u001b[m\n\t\u001b[31minputs/cherry-leaves_dataset/cherry-leaves/validation/powdery_mildew/441b415a-197a-4880-a373-6821f5a14725___FREC_Pwd.M 4880_flipLR.JPG\u001b[m\n\t\u001b[31minputs/cherry-leaves_dataset/cherry-leaves/validation/powdery_mildew/445eb8d9-0991-4415-835a-d1b6c1268ef2___FREC_Pwd.M 5001_flipLR.JPG\u001b[m\n\t\u001b[31minputs/cherry-leaves_dataset/cherry-leaves/validation/powdery_mildew/460f7421-98c2-4477-b10b-88341b71f4f8___FREC_Pwd.M 0579.JPG\u001b[m\n\t\u001b[31minputs/cherry-leaves_dataset/cherry-leaves/validation/powdery_mildew/46713371-70e1-4a42-9537-5781e602c174___FREC_Pwd.M 0384_flipLR.JPG\u001b[m\n\t\u001b[31minputs/cherry-leaves_dataset/cherry-leaves/validation/powdery_mildew/48a8b952-2746-4a2d-95f0-18f6efcaa834___FREC_Pwd.M 4794.JPG\u001b[m\n\t\u001b[31minputs/cherry-leaves_dataset/cherry-leaves/validation/powdery_mildew/49008a5d-9ba2-4291-ad7a-93c8bc72b4b2___FREC_Pwd.M 0463.JPG\u001b[m\n\t\u001b[31minputs/cherry-leaves_dataset/cherry-leaves/validation/powdery_mildew/4c823529-3235-4215-b13d-e74c16ea761a___FREC_Pwd.M 0331.JPG\u001b[m\n\t\u001b[31minputs/cherry-leaves_dataset/cherry-leaves/validation/powdery_mildew/4e88b060-7419-4eb9-a429-db020ef20f0a___FREC_Pwd.M 5084.JPG\u001b[m\n\t\u001b[31minputs/cherry-leaves_dataset/cherry-leaves/validation/powdery_mildew/50acb035-381b-46f2-83df-853cb40a9d25___FREC_Pwd.M 4869_flipLR.JPG\u001b[m\n\t\u001b[31minputs/cherry-leaves_dataset/cherry-leaves/validation/powdery_mildew/52aea538-85d0-461c-8956-25af2d74a1ac___FREC_Pwd.M 0426_flipLR.JPG\u001b[m\n\t\u001b[31minputs/cherry-leaves_dataset/cherry-leaves/validation/powdery_mildew/566e59d0-0ff8-4442-b08a-1b734fd44e1d___FREC_Pwd.M 0470.JPG\u001b[m\n\t\u001b[31minputs/cherry-leaves_dataset/cherry-leaves/validation/powdery_mildew/581c8e0d-54e0-4a4e-937d-919d0b914c9b___FREC_Pwd.M 0371_flipLR.JPG\u001b[m\n\t\u001b[31minputs/cherry-leaves_dataset/cherry-leaves/validation/powdery_mildew/58d680f4-c586-47d0-98a6-0e89ad4f8ff2___FREC_Pwd.M 0401.JPG\u001b[m\n\t\u001b[31minputs/cherry-leaves_dataset/cherry-leaves/validation/powdery_mildew/596a3002-0685-4b75-a782-1ed69092f23c___FREC_Pwd.M 4654_flipLR.JPG\u001b[m\n\t\u001b[31minputs/cherry-leaves_dataset/cherry-leaves/validation/powdery_mildew/59727cfd-2b6e-4f3c-8a65-6769b3e770f1___FREC_Pwd.M 4871_flipLR.JPG\u001b[m\n\t\u001b[31minputs/cherry-leaves_dataset/cherry-leaves/validation/powdery_mildew/5aa2ca92-de44-41cc-97c1-3a622d885337___FREC_Pwd.M 4490.JPG\u001b[m\n\t\u001b[31minputs/cherry-leaves_dataset/cherry-leaves/validation/powdery_mildew/5b860b1a-a09f-4445-8c8a-f5c11865abab___FREC_Pwd.M 4879.JPG\u001b[m\n\t\u001b[31minputs/cherry-leaves_dataset/cherry-leaves/validation/powdery_mildew/5bdf2bac-34ff-4636-81fa-813a3564e1c6___FREC_Pwd.M 4802_flipLR.JPG\u001b[m\n\t\u001b[31minputs/cherry-leaves_dataset/cherry-leaves/validation/powdery_mildew/5c889ff2-b516-4333-ba98-d6f31b95efa8___FREC_Pwd.M 4620.JPG\u001b[m\n\t\u001b[31minputs/cherry-leaves_dataset/cherry-leaves/validation/powdery_mildew/5cd54f30-4203-4545-80d1-dd3afe90648f___FREC_Pwd.M 4825.JPG\u001b[m\n\t\u001b[31minputs/cherry-leaves_dataset/cherry-leaves/validation/powdery_mildew/5f807d2d-f7bc-4c9d-b8bc-74549ddfd47c___FREC_Pwd.M 0582.JPG\u001b[m\n\t\u001b[31minputs/cherry-leaves_dataset/cherry-leaves/validation/powdery_mildew/5f969553-68de-42bf-a892-0d7d6a96bb28___FREC_Pwd.M 4537.JPG\u001b[m\n\t\u001b[31minputs/cherry-leaves_dataset/cherry-leaves/validation/powdery_mildew/60c15b34-a1a5-440e-85f7-c83d848d41f9___FREC_Pwd.M 4770.JPG\u001b[m\n\t\u001b[31minputs/cherry-leaves_dataset/cherry-leaves/validation/powdery_mildew/61800495-73fd-40e8-8ddf-b45cb4670213___FREC_Pwd.M 5074.JPG\u001b[m\n\t\u001b[31minputs/cherry-leaves_dataset/cherry-leaves/validation/powdery_mildew/6269aa19-6cb1-41de-828d-e59361033b3f___FREC_Pwd.M 0565.JPG\u001b[m\n\t\u001b[31minputs/cherry-leaves_dataset/cherry-leaves/validation/powdery_mildew/62f18804-329f-41b0-bb05-3cf72f6ac5f6___FREC_Pwd.M 4838_flipLR.JPG\u001b[m\n\t\u001b[31minputs/cherry-leaves_dataset/cherry-leaves/validation/powdery_mildew/631167a9-9bde-44c5-8344-461589dd9a75___FREC_Pwd.M 4862_flipLR.JPG\u001b[m\n\t\u001b[31minputs/cherry-leaves_dataset/cherry-leaves/validation/powdery_mildew/63ca2f3f-c6aa-463e-b74a-23e328637043___FREC_Pwd.M 5109.JPG\u001b[m\n\t\u001b[31minputs/cherry-leaves_dataset/cherry-leaves/validation/powdery_mildew/6ae2e341-c330-46c4-835a-813ddbf61540___FREC_Pwd.M 4785_flipLR.JPG\u001b[m\n\t\u001b[31minputs/cherry-leaves_dataset/cherry-leaves/validation/powdery_mildew/6c02f514-7059-4071-8752-4e970ccb4f2e___FREC_Pwd.M 4878_flipLR.JPG\u001b[m\n\t\u001b[31minputs/cherry-leaves_dataset/cherry-leaves/validation/powdery_mildew/6c194f25-d1cb-48b1-908e-e6a66a0f6ed2___FREC_Pwd.M 5008_flipLR.JPG\u001b[m\n\t\u001b[31minputs/cherry-leaves_dataset/cherry-leaves/validation/powdery_mildew/6c2861d5-bc13-4296-aa71-1225c3bad7df___FREC_Pwd.M 4804_flipLR.JPG\u001b[m\n\t\u001b[31minputs/cherry-leaves_dataset/cherry-leaves/validation/powdery_mildew/6f863320-0323-490f-a02d-b943a9caa94f___FREC_Pwd.M 0251.JPG\u001b[m\n\t\u001b[31minputs/cherry-leaves_dataset/cherry-leaves/validation/powdery_mildew/70c5c136-d253-4825-902a-ab8e4f6b8588___FREC_Pwd.M 4849.JPG\u001b[m\n\t\u001b[31minputs/cherry-leaves_dataset/cherry-leaves/validation/powdery_mildew/70e798a5-6773-4abd-86b6-f2e4d2fbb265___FREC_Pwd.M 0574.JPG\u001b[m\n\t\u001b[31minputs/cherry-leaves_dataset/cherry-leaves/validation/powdery_mildew/7153bd0f-847f-40a5-9252-cf1d2e0426c4___FREC_Pwd.M 4666_flipLR.JPG\u001b[m\n\t\u001b[31minputs/cherry-leaves_dataset/cherry-leaves/validation/powdery_mildew/71f131a8-9dbd-4330-a515-519a65d705a5___FREC_Pwd.M 0436_flipLR.JPG\u001b[m\n\t\u001b[31minputs/cherry-leaves_dataset/cherry-leaves/validation/powdery_mildew/728525fd-75a3-4356-a7b4-34d56c31e12b___FREC_Pwd.M 4857.JPG\u001b[m\n\t\u001b[31minputs/cherry-leaves_dataset/cherry-leaves/validation/powdery_mildew/74e32f6b-3bab-49b9-8665-aa8ce546d555___FREC_Pwd.M 0260.JPG\u001b[m\n\t\u001b[31minputs/cherry-leaves_dataset/cherry-leaves/validation/powdery_mildew/74e32f6b-3bab-49b9-8665-aa8ce546d555___FREC_Pwd.M 0260_flipLR.JPG\u001b[m\n\t\u001b[31minputs/cherry-leaves_dataset/cherry-leaves/validation/powdery_mildew/7722c82b-13bd-44b0-aabd-dd37e8e02a6b___FREC_Pwd.M 5062.JPG\u001b[m\n\t\u001b[31minputs/cherry-leaves_dataset/cherry-leaves/validation/powdery_mildew/7862888d-6bad-46c1-82a4-f824860ce1b1___FREC_Pwd.M 0533.JPG\u001b[m\n\t\u001b[31minputs/cherry-leaves_dataset/cherry-leaves/validation/powdery_mildew/7862888d-6bad-46c1-82a4-f824860ce1b1___FREC_Pwd.M 0533_flipLR.JPG\u001b[m\n\t\u001b[31minputs/cherry-leaves_dataset/cherry-leaves/validation/powdery_mildew/78a912be-4a06-43c3-ac79-876b1a0f7c9f___FREC_Pwd.M 5072.JPG\u001b[m\n\t\u001b[31minputs/cherry-leaves_dataset/cherry-leaves/validation/powdery_mildew/7aa06c3f-08e1-4de1-9bfb-3f6bdd4c1abd___FREC_Pwd.M 5034_flipLR.JPG\u001b[m\n\t\u001b[31minputs/cherry-leaves_dataset/cherry-leaves/validation/powdery_mildew/82cad357-576b-4e8f-9d46-8db17d592d4d___FREC_Pwd.M 0411.JPG\u001b[m\n\t\u001b[31minputs/cherry-leaves_dataset/cherry-leaves/validation/powdery_mildew/82d1cf96-b56d-4476-a14e-759319b473b8___FREC_Pwd.M 0519_flipLR.JPG\u001b[m\n\t\u001b[31minputs/cherry-leaves_dataset/cherry-leaves/validation/powdery_mildew/84c6b4a2-fbab-4315-bd1a-c154c2435ee5___FREC_Pwd.M 4474.JPG\u001b[m\n\t\u001b[31minputs/cherry-leaves_dataset/cherry-leaves/validation/powdery_mildew/8556b7ae-0dc8-4d68-ac44-119f1aff6082___FREC_Pwd.M 0588.JPG\u001b[m\n\t\u001b[31minputs/cherry-leaves_dataset/cherry-leaves/validation/powdery_mildew/87458990-3ac3-4cc8-bee6-d4135cb92086___FREC_Pwd.M 0561_flipLR.JPG\u001b[m\n\t\u001b[31minputs/cherry-leaves_dataset/cherry-leaves/validation/powdery_mildew/8af0a449-b266-4e80-822e-af6033fc537b___FREC_Pwd.M 0545.JPG\u001b[m\n\t\u001b[31minputs/cherry-leaves_dataset/cherry-leaves/validation/powdery_mildew/8d6e8113-7c11-401a-aa6e-a5e91e7f94ce___FREC_Pwd.M 0278.JPG\u001b[m\n\t\u001b[31minputs/cherry-leaves_dataset/cherry-leaves/validation/powdery_mildew/8d6e8113-7c11-401a-aa6e-a5e91e7f94ce___FREC_Pwd.M 0278_flipLR.JPG\u001b[m\n\t\u001b[31minputs/cherry-leaves_dataset/cherry-leaves/validation/powdery_mildew/8ea23363-e8ad-4e80-a02e-1eb9b80e9a76___FREC_Pwd.M 5155.JPG\u001b[m\n\t\u001b[31minputs/cherry-leaves_dataset/cherry-leaves/validation/powdery_mildew/900cf5aa-c000-45d4-8e30-743c195b1ccd___FREC_Pwd.M 0516.JPG\u001b[m\n\t\u001b[31minputs/cherry-leaves_dataset/cherry-leaves/validation/powdery_mildew/90a92942-d448-4394-a618-f7b7236f0fc3___FREC_Pwd.M 5002_flipLR.JPG\u001b[m\n\t\u001b[31minputs/cherry-leaves_dataset/cherry-leaves/validation/powdery_mildew/90b2da87-c7d3-4369-8547-f4246836806f___FREC_Pwd.M 0575_flipLR.JPG\u001b[m\n\t\u001b[31minputs/cherry-leaves_dataset/cherry-leaves/validation/powdery_mildew/933c196b-f28c-4cd9-8620-ef97762ff394___FREC_Pwd.M 4772.JPG\u001b[m\n\t\u001b[31minputs/cherry-leaves_dataset/cherry-leaves/validation/powdery_mildew/94427a36-9a76-477b-a53e-1b735e3ac9cb___FREC_Pwd.M 4588_flipLR.JPG\u001b[m\n\t\u001b[31minputs/cherry-leaves_dataset/cherry-leaves/validation/powdery_mildew/95689263-5b6a-4aba-9b28-ec6adb2c4eaf___FREC_Pwd.M 0418_flipLR.JPG\u001b[m\n\t\u001b[31minputs/cherry-leaves_dataset/cherry-leaves/validation/powdery_mildew/9798c4ae-5a80-4386-9e1c-c306d507940b___FREC_Pwd.M 0465_flipLR.JPG\u001b[m\n\t\u001b[31minputs/cherry-leaves_dataset/cherry-leaves/validation/powdery_mildew/98735a23-9c85-4110-a4b7-f3614a7e168d___FREC_Pwd.M 5055.JPG\u001b[m\n\t\u001b[31minputs/cherry-leaves_dataset/cherry-leaves/validation/powdery_mildew/9888b4cb-17f3-4aa4-9f8e-39ddd67d3110___FREC_Pwd.M 4940.JPG\u001b[m\n\t\u001b[31minputs/cherry-leaves_dataset/cherry-leaves/validation/powdery_mildew/9a190630-f11a-4e5b-9495-3c4535bb4144___FREC_Pwd.M 0367.JPG\u001b[m\n\t\u001b[31minputs/cherry-leaves_dataset/cherry-leaves/validation/powdery_mildew/9c809051-23f7-4159-81aa-4d7f596535f0___FREC_Pwd.M 5019_flipLR.JPG\u001b[m\n\t\u001b[31minputs/cherry-leaves_dataset/cherry-leaves/validation/powdery_mildew/9d41e7d1-9410-460f-b2e2-2141c0c4e42b___FREC_Pwd.M 0302.JPG\u001b[m\n\t\u001b[31minputs/cherry-leaves_dataset/cherry-leaves/validation/powdery_mildew/9f1837a8-5fe3-429a-acaa-2f851be4cbc9___FREC_Pwd.M 4843.JPG\u001b[m\n\t\u001b[31minputs/cherry-leaves_dataset/cherry-leaves/validation/powdery_mildew/a1b8deb6-ef70-4d87-8fea-188a2d84b240___FREC_Pwd.M 5069.JPG\u001b[m\n\t\u001b[31minputs/cherry-leaves_dataset/cherry-leaves/validation/powdery_mildew/a1e9c49a-5188-4441-8918-60c4719dc313___FREC_Pwd.M 0558.JPG\u001b[m\n\t\u001b[31minputs/cherry-leaves_dataset/cherry-leaves/validation/powdery_mildew/a2bf26c3-9f0b-4b47-be11-ab058cc9a133___FREC_Pwd.M 5165_flipLR.JPG\u001b[m\n\t\u001b[31minputs/cherry-leaves_dataset/cherry-leaves/validation/powdery_mildew/a3591bf9-0311-4c54-88de-002e18a55e32___FREC_Pwd.M 4565_flipLR.JPG\u001b[m\n\t\u001b[31minputs/cherry-leaves_dataset/cherry-leaves/validation/powdery_mildew/a3ebcd97-c380-4a41-b8c0-493e5a74d0fd___FREC_Pwd.M 0387_flipLR.JPG\u001b[m\n\t\u001b[31minputs/cherry-leaves_dataset/cherry-leaves/validation/powdery_mildew/a6015a83-8f5e-4e1b-bede-d326e49efc1f___FREC_Pwd.M 4780_flipLR.JPG\u001b[m\n\t\u001b[31minputs/cherry-leaves_dataset/cherry-leaves/validation/powdery_mildew/a6421f2e-fa46-45a6-9f1b-64b60cde096a___FREC_Pwd.M 4743_flipLR.JPG\u001b[m\n\t\u001b[31minputs/cherry-leaves_dataset/cherry-leaves/validation/powdery_mildew/a8532f9d-c6c3-44e4-9278-c7350c4adb09___FREC_Pwd.M 0526.JPG\u001b[m\n\t\u001b[31minputs/cherry-leaves_dataset/cherry-leaves/validation/powdery_mildew/ac3e6824-a60e-4c8f-a844-4e97abc983a7___FREC_Pwd.M 4801_flipLR.JPG\u001b[m\n\t\u001b[31minputs/cherry-leaves_dataset/cherry-leaves/validation/powdery_mildew/af17d4b3-3193-4f16-9449-28cd5a204499___FREC_Pwd.M 5058_flipLR.JPG\u001b[m\n\t\u001b[31minputs/cherry-leaves_dataset/cherry-leaves/validation/powdery_mildew/afc7e0e1-0524-4de8-8409-ba6e501c8d54___FREC_Pwd.M 0515_flipLR.JPG\u001b[m\n\t\u001b[31minputs/cherry-leaves_dataset/cherry-leaves/validation/powdery_mildew/b03329a7-d263-482f-b400-b54fc63a160a___FREC_Pwd.M 5110.JPG\u001b[m\n\t\u001b[31minputs/cherry-leaves_dataset/cherry-leaves/validation/powdery_mildew/b09e4052-bc5a-4f9a-a2f0-c27698a94b50___FREC_Pwd.M 0451.JPG\u001b[m\n\t\u001b[31minputs/cherry-leaves_dataset/cherry-leaves/validation/powdery_mildew/b1db081a-33e4-4a6a-96ee-07ab2369c0f1___FREC_Pwd.M 4932.JPG\u001b[m\n\t\u001b[31minputs/cherry-leaves_dataset/cherry-leaves/validation/powdery_mildew/b24c156d-6183-49a7-86ad-3b90c943d470___FREC_Pwd.M 4889_flipLR.JPG\u001b[m\n\t\u001b[31minputs/cherry-leaves_dataset/cherry-leaves/validation/powdery_mildew/b3aa0d92-9de0-4889-b95d-124b035c05a2___FREC_Pwd.M 4675.JPG\u001b[m\n\t\u001b[31minputs/cherry-leaves_dataset/cherry-leaves/validation/powdery_mildew/b696bdf0-4c75-40e6-a980-000f8d75c654___FREC_Pwd.M 5061.JPG\u001b[m\n\t\u001b[31minputs/cherry-leaves_dataset/cherry-leaves/validation/powdery_mildew/bca13e59-8eb8-4074-8fa0-ce441f43383b___FREC_Pwd.M 4738_flipLR.JPG\u001b[m\n\t\u001b[31minputs/cherry-leaves_dataset/cherry-leaves/validation/powdery_mildew/bdb92bce-9638-4d5b-ab73-daad834b5427___FREC_Pwd.M 0368.JPG\u001b[m\n\t\u001b[31minputs/cherry-leaves_dataset/cherry-leaves/validation/powdery_mildew/be3fa929-9035-41bf-adfb-e55f97fab802___FREC_Pwd.M 4684.JPG\u001b[m\n\t\u001b[31minputs/cherry-leaves_dataset/cherry-leaves/validation/powdery_mildew/be4d3a56-be53-4b0d-8b0b-9ff088a4ad92___FREC_Pwd.M 4854.JPG\u001b[m\n\t\u001b[31minputs/cherry-leaves_dataset/cherry-leaves/validation/powdery_mildew/bec20378-8230-4b53-8dc4-942bc878a592___FREC_Pwd.M 4495.JPG\u001b[m\n\t\u001b[31minputs/cherry-leaves_dataset/cherry-leaves/validation/powdery_mildew/bec20378-8230-4b53-8dc4-942bc878a592___FREC_Pwd.M 4495_flipLR.JPG\u001b[m\n\t\u001b[31minputs/cherry-leaves_dataset/cherry-leaves/validation/powdery_mildew/beea0c7e-0e13-4852-ac62-4f393c51c9e0___FREC_Pwd.M 4941.JPG\u001b[m\n\t\u001b[31minputs/cherry-leaves_dataset/cherry-leaves/validation/powdery_mildew/c12ef0fd-7f67-4589-986a-31c0332bfa38___FREC_Pwd.M 4602.JPG\u001b[m\n\t\u001b[31minputs/cherry-leaves_dataset/cherry-leaves/validation/powdery_mildew/c3e1ea3d-8fb8-4ebe-8b3c-20bdf02a8038___FREC_Pwd.M 5125.JPG\u001b[m\n\t\u001b[31minputs/cherry-leaves_dataset/cherry-leaves/validation/powdery_mildew/c871d4ee-1726-4873-9e5c-ffe67de425fb___FREC_Pwd.M 4705.JPG\u001b[m\n\t\u001b[31minputs/cherry-leaves_dataset/cherry-leaves/validation/powdery_mildew/cb149e1b-f02f-4948-9058-ab06a9b7ab72___FREC_Pwd.M 4899.JPG\u001b[m\n\t\u001b[31minputs/cherry-leaves_dataset/cherry-leaves/validation/powdery_mildew/cbac0b30-05d8-4fb1-b193-347d8d989bd6___FREC_Pwd.M 4721.JPG\u001b[m\n\t\u001b[31minputs/cherry-leaves_dataset/cherry-leaves/validation/powdery_mildew/cbdddf3a-11c7-4d26-b2f9-a4e47a509c9a___FREC_Pwd.M 4984_flipLR.JPG\u001b[m\n\t\u001b[31minputs/cherry-leaves_dataset/cherry-leaves/validation/powdery_mildew/ce5efd4e-f2cb-47ac-9544-69291614286d___FREC_Pwd.M 5073.JPG\u001b[m\n\t\u001b[31minputs/cherry-leaves_dataset/cherry-leaves/validation/powdery_mildew/cf98e1fd-1f1b-4f21-b485-d37a7b594965___FREC_Pwd.M 0503_flipLR.JPG\u001b[m\n\t\u001b[31minputs/cherry-leaves_dataset/cherry-leaves/validation/powdery_mildew/cfafb471-f8ce-4887-97c6-28363fa5164b___FREC_Pwd.M 4571.JPG\u001b[m\n\t\u001b[31minputs/cherry-leaves_dataset/cherry-leaves/validation/powdery_mildew/d10450db-0969-4618-b9e9-0405c2ce0ef9___FREC_Pwd.M 0464.JPG\u001b[m\n\t\u001b[31minputs/cherry-leaves_dataset/cherry-leaves/validation/powdery_mildew/d12701d9-e2d8-4647-aad4-e09f34117cc3___FREC_Pwd.M 0364.JPG\u001b[m\n\t\u001b[31minputs/cherry-leaves_dataset/cherry-leaves/validation/powdery_mildew/d4433120-16d3-48da-84eb-76a8cdb2436a___FREC_Pwd.M 4875_flipLR.JPG\u001b[m\n\t\u001b[31minputs/cherry-leaves_dataset/cherry-leaves/validation/powdery_mildew/d5510570-6f71-4af0-9fda-07eee0e55442___FREC_Pwd.M 0333_flipLR.JPG\u001b[m\n\t\u001b[31minputs/cherry-leaves_dataset/cherry-leaves/validation/powdery_mildew/d5dea1b0-527d-445a-9a7c-2eae850beadc___FREC_Pwd.M 4516.JPG\u001b[m\n\t\u001b[31minputs/cherry-leaves_dataset/cherry-leaves/validation/powdery_mildew/d5dea1b0-527d-445a-9a7c-2eae850beadc___FREC_Pwd.M 4516_flipLR.JPG\u001b[m\n\t\u001b[31minputs/cherry-leaves_dataset/cherry-leaves/validation/powdery_mildew/ddfca5ac-a909-43ca-b8c7-66aeb996c8ad___FREC_Pwd.M 5036_flipLR.JPG\u001b[m\n\t\u001b[31minputs/cherry-leaves_dataset/cherry-leaves/validation/powdery_mildew/dea9ce8a-30b3-47cd-bb96-29e648896c8f___FREC_Pwd.M 4947_flipLR.JPG\u001b[m\n\t\u001b[31minputs/cherry-leaves_dataset/cherry-leaves/validation/powdery_mildew/e06e9da2-0432-4060-b341-30ee0319685a___FREC_Pwd.M 4798.JPG\u001b[m\n\t\u001b[31minputs/cherry-leaves_dataset/cherry-leaves/validation/powdery_mildew/e06e9da2-0432-4060-b341-30ee0319685a___FREC_Pwd.M 4798_flipLR.JPG\u001b[m\n\t\u001b[31minputs/cherry-leaves_dataset/cherry-leaves/validation/powdery_mildew/e308c527-a0a9-4c33-b469-ac05a2059b7b___FREC_Pwd.M 0552_flipLR.JPG\u001b[m\n\t\u001b[31minputs/cherry-leaves_dataset/cherry-leaves/validation/powdery_mildew/e394c1ec-ade0-4481-a0ae-17fea0f9a8b3___FREC_Pwd.M 4962_flipLR.JPG\u001b[m\n\t\u001b[31minputs/cherry-leaves_dataset/cherry-leaves/validation/powdery_mildew/e567184a-cee1-4eb4-be59-429da00b17d8___FREC_Pwd.M 4465.JPG\u001b[m\n\t\u001b[31minputs/cherry-leaves_dataset/cherry-leaves/validation/powdery_mildew/e6ed3334-ab39-40cd-ae6e-cb1b9a5e999d___FREC_Pwd.M 0586_flipLR.JPG\u001b[m\n\t\u001b[31minputs/cherry-leaves_dataset/cherry-leaves/validation/powdery_mildew/e7fe2094-95a1-40fe-ba1d-687ab0756edb___FREC_Pwd.M 0541.JPG\u001b[m\n\t\u001b[31minputs/cherry-leaves_dataset/cherry-leaves/validation/powdery_mildew/e7fe2094-95a1-40fe-ba1d-687ab0756edb___FREC_Pwd.M 0541_flipLR.JPG\u001b[m\n\t\u001b[31minputs/cherry-leaves_dataset/cherry-leaves/validation/powdery_mildew/e97f7a3c-aa95-4861-9f61-857920dd888a___FREC_Pwd.M 4944_flipLR.JPG\u001b[m\n\t\u001b[31minputs/cherry-leaves_dataset/cherry-leaves/validation/powdery_mildew/ea5bee00-19ac-4b88-a52c-751bb287c087___FREC_Pwd.M 0580.JPG\u001b[m\n\t\u001b[31minputs/cherry-leaves_dataset/cherry-leaves/validation/powdery_mildew/ec5335a1-204b-4db7-86b2-1dec53bc4be8___FREC_Pwd.M 4638.JPG\u001b[m\n\t\u001b[31minputs/cherry-leaves_dataset/cherry-leaves/validation/powdery_mildew/ec5335a1-204b-4db7-86b2-1dec53bc4be8___FREC_Pwd.M 4638_flipLR.JPG\u001b[m\n\t\u001b[31minputs/cherry-leaves_dataset/cherry-leaves/validation/powdery_mildew/ec9ad40e-b581-4777-b3c0-6775e39d6b1c___FREC_Pwd.M 4592_flipLR.JPG\u001b[m\n\t\u001b[31minputs/cherry-leaves_dataset/cherry-leaves/validation/powdery_mildew/ee6035b6-8ac1-49db-8ea5-079ccea4790d___FREC_Pwd.M 4590.JPG\u001b[m\n\t\u001b[31minputs/cherry-leaves_dataset/cherry-leaves/validation/powdery_mildew/efdc7774-273a-488d-8153-fb61908e3cfb___FREC_Pwd.M 4467.JPG\u001b[m\n\t\u001b[31minputs/cherry-leaves_dataset/cherry-leaves/validation/powdery_mildew/f0af55b8-2e06-4881-ba70-1b1918473a95___FREC_Pwd.M 4731_flipLR.JPG\u001b[m\n\t\u001b[31minputs/cherry-leaves_dataset/cherry-leaves/validation/powdery_mildew/f2195961-ff27-4628-a344-72aae1d750b4___FREC_Pwd.M 4476.JPG\u001b[m\n\t\u001b[31minputs/cherry-leaves_dataset/cherry-leaves/validation/powdery_mildew/f22b9bbe-1c84-4e0b-bc23-f9da36765801___FREC_Pwd.M 0472.JPG\u001b[m\n\t\u001b[31minputs/cherry-leaves_dataset/cherry-leaves/validation/powdery_mildew/f28e7be1-c3ac-4c7b-bc30-94b8985a9614___FREC_Pwd.M 4999_flipLR.JPG\u001b[m\n\t\u001b[31minputs/cherry-leaves_dataset/cherry-leaves/validation/powdery_mildew/f4b0bedb-975d-484c-8e38-42c8ed478474___FREC_Pwd.M 4873_flipLR.JPG\u001b[m\n\t\u001b[31minputs/cherry-leaves_dataset/cherry-leaves/validation/powdery_mildew/f5ed7117-153e-4e4a-a466-297bdbd1bf37___FREC_Pwd.M 4787_flipLR.JPG\u001b[m\n\t\u001b[31minputs/cherry-leaves_dataset/cherry-leaves/validation/powdery_mildew/f66cd543-8b6b-4a13-9581-6a57dd83032e___FREC_Pwd.M 0571_flipLR.JPG\u001b[m\n\t\u001b[31minputs/cherry-leaves_dataset/cherry-leaves/validation/powdery_mildew/f6bb0a43-56e1-423a-9da5-0e2e71f0d9a6___FREC_Pwd.M 5149_flipLR.JPG\u001b[m\n\t\u001b[31minputs/cherry-leaves_dataset/cherry-leaves/validation/powdery_mildew/f9dfbedf-66b4-4493-9ce9-6f6aca0cb152___FREC_Pwd.M 4926_flipLR.JPG\u001b[m\n\t\u001b[31minputs/cherry-leaves_dataset/cherry-leaves/validation/powdery_mildew/fcc71c46-4b27-48c6-99be-528a12895cd0___FREC_Pwd.M 4773_flipLR.JPG\u001b[m\n\t\u001b[31minputs/cherry-leaves_dataset/cherry-leaves/validation/powdery_mildew/fded10e6-0668-43d4-be77-e091cafc25fd___FREC_Pwd.M 0538.JPG\u001b[m\n\t\u001b[31minputs/cherry-leaves_dataset/cherry-leaves/validation/powdery_mildew/fded10e6-0668-43d4-be77-e091cafc25fd___FREC_Pwd.M 0538_flipLR.JPG\u001b[m\n\t\u001b[31minputs/cherry-leaves_dataset/cherry-leaves/validation/powdery_mildew/ff64f373-b8e3-4e59-9e7a-7065957a4dc2___FREC_Pwd.M 0583_flipLR.JPG\u001b[m\n\nno changes added to commit (use \"git add\" and/or \"git commit -a\")\n"
        }
      ],
      "source": [
        "!git status"
      ]
    },
    {
      "attachments": {},
      "cell_type": "markdown",
      "metadata": {},
      "source": [
        "* Git add"
      ]
    },
    {
      "cell_type": "code",
      "execution_count": 24,
      "metadata": {},
      "outputs": [],
      "source": [
        "!git add ."
      ]
    },
    {
      "attachments": {},
      "cell_type": "markdown",
      "metadata": {},
      "source": [
        "* Git commit"
      ]
    },
    {
      "cell_type": "code",
      "execution_count": 26,
      "metadata": {
        "tags": []
      },
      "outputs": [
        {
          "output_type": "stream",
          "name": "stdout",
          "text": "[main 6274060]  Add data collection\n 1 file changed, 14 insertions(+), 4 deletions(-)\n"
        }
      ],
      "source": [
        "!git commit -am \" Add data collection\""
      ]
    },
    {
      "attachments": {},
      "cell_type": "markdown",
      "metadata": {},
      "source": [
        "* Git Push"
      ]
    },
    {
      "cell_type": "code",
      "execution_count": 27,
      "metadata": {
        "tags": []
      },
      "outputs": [
        {
          "output_type": "stream",
          "name": "stdout",
          "text": "Enumerating objects: 3818, done.\nCounting objects: 100% (3818/3818), done.\nDelta compression using up to 4 threads\nCompressing objects: 100% (3806/3806), done.\nWriting objects: 100% (3809/3809), 48.79 MiB | 13.59 MiB/s, done.\nTotal 3809 (delta 6), reused 1 (delta 1), pack-reused 0\nremote: Resolving deltas: 100% (6/6), completed with 3 local objects.\u001b[K\nTo https://github.com/HumaIlyas/mildew-detection-in-cherry-leaves\n   249477d..6274060  main -> main\n"
        }
      ],
      "source": [
        "! git push"
      ]
    },
    {
      "attachments": {},
      "cell_type": "markdown",
      "metadata": {},
      "source": [
        "* If you don't need to push files to Repo, you may replace this section with \"Conclusions and Next Steps\" and state your conclusions and next steps."
      ]
    },
    {
      "cell_type": "code",
      "execution_count": null,
      "metadata": {
        "id": "aKlnIozA4eQO",
        "outputId": "fd09bc1f-adb1-4511-f6ce-492a6af570c0"
      },
      "outputs": [],
      "source": [
        "import os\n",
        "try:\n",
        "    # create here your folder\n",
        "    # os.makedirs(name='')\n",
        "except Exception as e:\n",
        "    print(e)\n"
      ]
    }
  ],
  "metadata": {
    "accelerator": "GPU",
    "colab": {
      "name": "Data Practitioner Jupyter Notebook.ipynb",
      "provenance": [],
      "toc_visible": true
    },
    "interpreter": {
      "hash": "8b8334dab9339717f727a1deaf837b322d7a41c20d15cc86be99a8e69ceec8ce"
    },
    "kernelspec": {
      "display_name": "Python 3.8.12 64-bit ('3.8.12': pyenv)",
      "name": "python381264bit3812pyenv901c3f2742a1488a9932ab2889209df4"
    },
    "language_info": {
      "codemirror_mode": {
        "name": "ipython",
        "version": 3
      },
      "file_extension": ".py",
      "mimetype": "text/x-python",
      "name": "python",
      "nbconvert_exporter": "python",
      "pygments_lexer": "ipython3",
      "version": "3.8.12-final"
    },
    "orig_nbformat": 2
  },
  "nbformat": 4,
  "nbformat_minor": 2
}