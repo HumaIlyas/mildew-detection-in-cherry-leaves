{
  "cells": [
    {
      "attachments": {},
      "cell_type": "markdown",
      "metadata": {
        "id": "0aStgWSO0E0E"
      },
      "source": [
        "# **Data Collection - Fetch Dataset from Kaggle**"
      ]
    },
    {
      "attachments": {},
      "cell_type": "markdown",
      "metadata": {
        "id": "1eLEkw5O0ECa"
      },
      "source": [
        "## Objectives\n",
        "* Fetch data from Kaggle and save as raw data to prepare it for further processes.\n",
        "\n",
        "## Inputs\n",
        "* Kaggle JSON file - the authentication token \n",
        "\n",
        "## Outputs\n",
        "* Generate Dataset: inputs/mildew_dataset/cherry-leaves \n",
        "\n",
        "## Additional Comments\n",
        "* No additional comments\n",
        "\n"
      ]
    },
    {
      "attachments": {},
      "cell_type": "markdown",
      "metadata": {},
      "source": [
        "## Import pagkages"
      ]
    },
    {
      "cell_type": "code",
      "execution_count": 1,
      "metadata": {
        "tags": [
          "outputPrepend"
        ]
      },
      "outputs": [
        {
          "output_type": "stream",
          "name": "stdout",
          "text": "uirement already satisfied: h5py==3.1.0 in /home/codeany/.pyenv/versions/3.8.12/lib/python3.8/site-packages (from -r /workspaces/mildew-detection-in-cherry-leaves/requirements.txt (line 18)) (3.1.0)\nRequirement already satisfied: joblib==1.2.0 in /home/codeany/.pyenv/versions/3.8.12/lib/python3.8/site-packages (from -r /workspaces/mildew-detection-in-cherry-leaves/requirements.txt (line 19)) (1.2.0)\nRequirement already satisfied: kaggle==1.5.12 in /home/codeany/.pyenv/versions/3.8.12/lib/python3.8/site-packages (from -r /workspaces/mildew-detection-in-cherry-leaves/requirements.txt (line 20)) (1.5.12)\nRequirement already satisfied: keras==2.6.0 in /home/codeany/.pyenv/versions/3.8.12/lib/python3.8/site-packages (from -r /workspaces/mildew-detection-in-cherry-leaves/requirements.txt (line 21)) (2.6.0)\nRequirement already satisfied: Keras-Preprocessing==1.1.2 in /home/codeany/.pyenv/versions/3.8.12/lib/python3.8/site-packages (from -r /workspaces/mildew-detection-in-cherry-leaves/requirements.txt (line 22)) (1.1.2)\nRequirement already satisfied: keras-tuner==1.1.3 in /home/codeany/.pyenv/versions/3.8.12/lib/python3.8/site-packages (from -r /workspaces/mildew-detection-in-cherry-leaves/requirements.txt (line 23)) (1.1.3)\nRequirement already satisfied: kiwisolver==1.4.4 in /home/codeany/.pyenv/versions/3.8.12/lib/python3.8/site-packages (from -r /workspaces/mildew-detection-in-cherry-leaves/requirements.txt (line 24)) (1.4.4)\nRequirement already satisfied: kt-legacy==1.0.4 in /home/codeany/.pyenv/versions/3.8.12/lib/python3.8/site-packages (from -r /workspaces/mildew-detection-in-cherry-leaves/requirements.txt (line 25)) (1.0.4)\nRequirement already satisfied: Markdown==3.4.1 in /home/codeany/.pyenv/versions/3.8.12/lib/python3.8/site-packages (from -r /workspaces/mildew-detection-in-cherry-leaves/requirements.txt (line 26)) (3.4.1)\nRequirement already satisfied: matplotlib==3.3.1 in /home/codeany/.pyenv/versions/3.8.12/lib/python3.8/site-packages (from -r /workspaces/mildew-detection-in-cherry-leaves/requirements.txt (line 27)) (3.3.1)\nRequirement already satisfied: numpy==1.19.2 in /home/codeany/.pyenv/versions/3.8.12/lib/python3.8/site-packages (from -r /workspaces/mildew-detection-in-cherry-leaves/requirements.txt (line 28)) (1.19.2)\nRequirement already satisfied: oauthlib==3.2.2 in /home/codeany/.pyenv/versions/3.8.12/lib/python3.8/site-packages (from -r /workspaces/mildew-detection-in-cherry-leaves/requirements.txt (line 29)) (3.2.2)\nRequirement already satisfied: opt-einsum==3.3.0 in /home/codeany/.pyenv/versions/3.8.12/lib/python3.8/site-packages (from -r /workspaces/mildew-detection-in-cherry-leaves/requirements.txt (line 30)) (3.3.0)\nRequirement already satisfied: pandas==1.1.2 in /home/codeany/.pyenv/versions/3.8.12/lib/python3.8/site-packages (from -r /workspaces/mildew-detection-in-cherry-leaves/requirements.txt (line 31)) (1.1.2)\nRequirement already satisfied: Pillow==9.3.0 in /home/codeany/.pyenv/versions/3.8.12/lib/python3.8/site-packages (from -r /workspaces/mildew-detection-in-cherry-leaves/requirements.txt (line 32)) (9.3.0)\nRequirement already satisfied: plotly==4.12.0 in /home/codeany/.pyenv/versions/3.8.12/lib/python3.8/site-packages (from -r /workspaces/mildew-detection-in-cherry-leaves/requirements.txt (line 33)) (4.12.0)\nRequirement already satisfied: protobuf==3.20.3 in /home/codeany/.pyenv/versions/3.8.12/lib/python3.8/site-packages (from -r /workspaces/mildew-detection-in-cherry-leaves/requirements.txt (line 34)) (3.20.3)\nRequirement already satisfied: pyarrow==10.0.1 in /home/codeany/.pyenv/versions/3.8.12/lib/python3.8/site-packages (from -r /workspaces/mildew-detection-in-cherry-leaves/requirements.txt (line 35)) (10.0.1)\nRequirement already satisfied: pyasn1==0.4.8 in /home/codeany/.pyenv/versions/3.8.12/lib/python3.8/site-packages (from -r /workspaces/mildew-detection-in-cherry-leaves/requirements.txt (line 36)) (0.4.8)\nRequirement already satisfied: pyasn1-modules==0.2.8 in /home/codeany/.pyenv/versions/3.8.12/lib/python3.8/site-packages (from -r /workspaces/mildew-detection-in-cherry-leaves/requirements.txt (line 37)) (0.2.8)\nRequirement already satisfied: pydeck==0.8.0 in /home/codeany/.pyenv/versions/3.8.12/lib/python3.8/site-packages (from -r /workspaces/mildew-detection-in-cherry-leaves/requirements.txt (line 38)) (0.8.0)\nRequirement already satisfied: python-slugify==7.0.0 in /home/codeany/.pyenv/versions/3.8.12/lib/python3.8/site-packages (from -r /workspaces/mildew-detection-in-cherry-leaves/requirements.txt (line 39)) (7.0.0)\nRequirement already satisfied: pytz==2022.6 in /home/codeany/.pyenv/versions/3.8.12/lib/python3.8/site-packages (from -r /workspaces/mildew-detection-in-cherry-leaves/requirements.txt (line 40)) (2022.6)\nRequirement already satisfied: pytz-deprecation-shim==0.1.0.post0 in /home/codeany/.pyenv/versions/3.8.12/lib/python3.8/site-packages (from -r /workspaces/mildew-detection-in-cherry-leaves/requirements.txt (line 41)) (0.1.0.post0)\nRequirement already satisfied: requests-oauthlib==1.3.1 in /home/codeany/.pyenv/versions/3.8.12/lib/python3.8/site-packages (from -r /workspaces/mildew-detection-in-cherry-leaves/requirements.txt (line 42)) (1.3.1)\nRequirement already satisfied: retrying==1.3.4 in /home/codeany/.pyenv/versions/3.8.12/lib/python3.8/site-packages (from -r /workspaces/mildew-detection-in-cherry-leaves/requirements.txt (line 43)) (1.3.4)\nRequirement already satisfied: rsa==4.9 in /home/codeany/.pyenv/versions/3.8.12/lib/python3.8/site-packages (from -r /workspaces/mildew-detection-in-cherry-leaves/requirements.txt (line 44)) (4.9)\nRequirement already satisfied: scikit-learn==0.24.2 in /home/codeany/.pyenv/versions/3.8.12/lib/python3.8/site-packages (from -r /workspaces/mildew-detection-in-cherry-leaves/requirements.txt (line 45)) (0.24.2)\nRequirement already satisfied: scipy==1.9.3 in /home/codeany/.pyenv/versions/3.8.12/lib/python3.8/site-packages (from -r /workspaces/mildew-detection-in-cherry-leaves/requirements.txt (line 46)) (1.9.3)\nRequirement already satisfied: seaborn==0.11.0 in /home/codeany/.pyenv/versions/3.8.12/lib/python3.8/site-packages (from -r /workspaces/mildew-detection-in-cherry-leaves/requirements.txt (line 47)) (0.11.0)\nRequirement already satisfied: six==1.15.0 in /home/codeany/.pyenv/versions/3.8.12/lib/python3.8/site-packages (from -r /workspaces/mildew-detection-in-cherry-leaves/requirements.txt (line 48)) (1.15.0)\nRequirement already satisfied: streamlit==0.85.0 in /home/codeany/.pyenv/versions/3.8.12/lib/python3.8/site-packages (from -r /workspaces/mildew-detection-in-cherry-leaves/requirements.txt (line 49)) (0.85.0)\nRequirement already satisfied: tensorboard==2.11.0 in /home/codeany/.pyenv/versions/3.8.12/lib/python3.8/site-packages (from -r /workspaces/mildew-detection-in-cherry-leaves/requirements.txt (line 50)) (2.11.0)\nRequirement already satisfied: tensorboard-data-server==0.6.1 in /home/codeany/.pyenv/versions/3.8.12/lib/python3.8/site-packages (from -r /workspaces/mildew-detection-in-cherry-leaves/requirements.txt (line 51)) (0.6.1)\nRequirement already satisfied: tensorboard-plugin-wit==1.8.1 in /home/codeany/.pyenv/versions/3.8.12/lib/python3.8/site-packages (from -r /workspaces/mildew-detection-in-cherry-leaves/requirements.txt (line 52)) (1.8.1)\nRequirement already satisfied: tensorflow-cpu==2.6.0 in /home/codeany/.pyenv/versions/3.8.12/lib/python3.8/site-packages (from -r /workspaces/mildew-detection-in-cherry-leaves/requirements.txt (line 53)) (2.6.0)\nRequirement already satisfied: tensorflow-estimator==2.11.0 in /home/codeany/.pyenv/versions/3.8.12/lib/python3.8/site-packages (from -r /workspaces/mildew-detection-in-cherry-leaves/requirements.txt (line 54)) (2.11.0)\nRequirement already satisfied: termcolor==1.1.0 in /home/codeany/.pyenv/versions/3.8.12/lib/python3.8/site-packages (from -r /workspaces/mildew-detection-in-cherry-leaves/requirements.txt (line 55)) (1.1.0)\nRequirement already satisfied: text-unidecode==1.3 in /home/codeany/.pyenv/versions/3.8.12/lib/python3.8/site-packages (from -r /workspaces/mildew-detection-in-cherry-leaves/requirements.txt (line 56)) (1.3)\nRequirement already satisfied: threadpoolctl==3.1.0 in /home/codeany/.pyenv/versions/3.8.12/lib/python3.8/site-packages (from -r /workspaces/mildew-detection-in-cherry-leaves/requirements.txt (line 57)) (3.1.0)\nRequirement already satisfied: toml==0.10.2 in /home/codeany/.pyenv/versions/3.8.12/lib/python3.8/site-packages (from -r /workspaces/mildew-detection-in-cherry-leaves/requirements.txt (line 58)) (0.10.2)\nRequirement already satisfied: toolz==0.12.0 in /home/codeany/.pyenv/versions/3.8.12/lib/python3.8/site-packages (from -r /workspaces/mildew-detection-in-cherry-leaves/requirements.txt (line 59)) (0.12.0)\nRequirement already satisfied: tqdm==4.64.1 in /home/codeany/.pyenv/versions/3.8.12/lib/python3.8/site-packages (from -r /workspaces/mildew-detection-in-cherry-leaves/requirements.txt (line 60)) (4.64.1)\nRequirement already satisfied: typing-extensions==3.7.4.3 in /home/codeany/.pyenv/versions/3.8.12/lib/python3.8/site-packages (from -r /workspaces/mildew-detection-in-cherry-leaves/requirements.txt (line 61)) (3.7.4.3)\nRequirement already satisfied: tzdata==2022.7 in /home/codeany/.pyenv/versions/3.8.12/lib/python3.8/site-packages (from -r /workspaces/mildew-detection-in-cherry-leaves/requirements.txt (line 62)) (2022.7)\nRequirement already satisfied: tzlocal==4.2 in /home/codeany/.pyenv/versions/3.8.12/lib/python3.8/site-packages (from -r /workspaces/mildew-detection-in-cherry-leaves/requirements.txt (line 63)) (4.2)\nRequirement already satisfied: validators==0.20.0 in /home/codeany/.pyenv/versions/3.8.12/lib/python3.8/site-packages (from -r /workspaces/mildew-detection-in-cherry-leaves/requirements.txt (line 64)) (0.20.0)\nRequirement already satisfied: watchdog==2.1.9 in /home/codeany/.pyenv/versions/3.8.12/lib/python3.8/site-packages (from -r /workspaces/mildew-detection-in-cherry-leaves/requirements.txt (line 65)) (2.1.9)\nRequirement already satisfied: Werkzeug==2.2.2 in /home/codeany/.pyenv/versions/3.8.12/lib/python3.8/site-packages (from -r /workspaces/mildew-detection-in-cherry-leaves/requirements.txt (line 66)) (2.2.2)\nRequirement already satisfied: wrapt==1.12.1 in /home/codeany/.pyenv/versions/3.8.12/lib/python3.8/site-packages (from -r /workspaces/mildew-detection-in-cherry-leaves/requirements.txt (line 67)) (1.12.1)\nRequirement already satisfied: entrypoints in /home/codeany/.pyenv/versions/3.8.12/lib/python3.8/site-packages (from altair==4.2.0->-r /workspaces/mildew-detection-in-cherry-leaves/requirements.txt (line 2)) (0.4)\nRequirement already satisfied: jinja2 in /home/codeany/.pyenv/versions/3.8.12/lib/python3.8/site-packages (from altair==4.2.0->-r /workspaces/mildew-detection-in-cherry-leaves/requirements.txt (line 2)) (3.1.2)\nRequirement already satisfied: jsonschema>=3.0 in /home/codeany/.pyenv/versions/3.8.12/lib/python3.8/site-packages (from altair==4.2.0->-r /workspaces/mildew-detection-in-cherry-leaves/requirements.txt (line 2)) (4.17.3)\nRequirement already satisfied: wheel<1.0,>=0.23.0 in /home/codeany/.pyenv/versions/3.8.12/lib/python3.8/site-packages (from astunparse==1.6.3->-r /workspaces/mildew-detection-in-cherry-leaves/requirements.txt (line 4)) (0.40.0)\nRequirement already satisfied: certifi in /home/codeany/.pyenv/versions/3.8.12/lib/python3.8/site-packages (from kaggle==1.5.12->-r /workspaces/mildew-detection-in-cherry-leaves/requirements.txt (line 20)) (2023.5.7)\nRequirement already satisfied: python-dateutil in /home/codeany/.pyenv/versions/3.8.12/lib/python3.8/site-packages (from kaggle==1.5.12->-r /workspaces/mildew-detection-in-cherry-leaves/requirements.txt (line 20)) (2.8.2)\nRequirement already satisfied: requests in /home/codeany/.pyenv/versions/3.8.12/lib/python3.8/site-packages (from kaggle==1.5.12->-r /workspaces/mildew-detection-in-cherry-leaves/requirements.txt (line 20)) (2.31.0)\nRequirement already satisfied: urllib3 in /home/codeany/.pyenv/versions/3.8.12/lib/python3.8/site-packages (from kaggle==1.5.12->-r /workspaces/mildew-detection-in-cherry-leaves/requirements.txt (line 20)) (2.0.3)\nRequirement already satisfied: packaging in /home/codeany/.pyenv/versions/3.8.12/lib/python3.8/site-packages (from keras-tuner==1.1.3->-r /workspaces/mildew-detection-in-cherry-leaves/requirements.txt (line 23)) (23.1)\nRequirement already satisfied: ipython in /home/codeany/.pyenv/versions/3.8.12/lib/python3.8/site-packages (from keras-tuner==1.1.3->-r /workspaces/mildew-detection-in-cherry-leaves/requirements.txt (line 23)) (8.12.2)\nRequirement already satisfied: importlib-metadata>=4.4 in /home/codeany/.pyenv/versions/3.8.12/lib/python3.8/site-packages (from Markdown==3.4.1->-r /workspaces/mildew-detection-in-cherry-leaves/requirements.txt (line 26)) (6.7.0)\nRequirement already satisfied: pyparsing!=2.0.4,!=2.1.2,!=2.1.6,>=2.0.3 in /home/codeany/.pyenv/versions/3.8.12/lib/python3.8/site-packages (from matplotlib==3.3.1->-r /workspaces/mildew-detection-in-cherry-leaves/requirements.txt (line 27)) (3.1.0)\nRequirement already satisfied: attrs in /home/codeany/.pyenv/versions/3.8.12/lib/python3.8/site-packages (from streamlit==0.85.0->-r /workspaces/mildew-detection-in-cherry-leaves/requirements.txt (line 49)) (23.1.0)\nRequirement already satisfied: tornado>=5.0 in /home/codeany/.pyenv/versions/3.8.12/lib/python3.8/site-packages (from streamlit==0.85.0->-r /workspaces/mildew-detection-in-cherry-leaves/requirements.txt (line 49)) (6.3.2)\nRequirement already satisfied: gitpython in /home/codeany/.pyenv/versions/3.8.12/lib/python3.8/site-packages (from streamlit==0.85.0->-r /workspaces/mildew-detection-in-cherry-leaves/requirements.txt (line 49)) (3.1.31)\nRequirement already satisfied: setuptools>=41.0.0 in /home/codeany/.pyenv/versions/3.8.12/lib/python3.8/site-packages (from tensorboard==2.11.0->-r /workspaces/mildew-detection-in-cherry-leaves/requirements.txt (line 50)) (68.0.0)\nRequirement already satisfied: decorator>=3.4.0 in /home/codeany/.pyenv/versions/3.8.12/lib/python3.8/site-packages (from validators==0.20.0->-r /workspaces/mildew-detection-in-cherry-leaves/requirements.txt (line 64)) (5.1.1)\nRequirement already satisfied: MarkupSafe>=2.1.1 in /home/codeany/.pyenv/versions/3.8.12/lib/python3.8/site-packages (from Werkzeug==2.2.2->-r /workspaces/mildew-detection-in-cherry-leaves/requirements.txt (line 66)) (2.1.3)\nRequirement already satisfied: zipp>=0.5 in /home/codeany/.pyenv/versions/3.8.12/lib/python3.8/site-packages (from importlib-metadata>=4.4->Markdown==3.4.1->-r /workspaces/mildew-detection-in-cherry-leaves/requirements.txt (line 26)) (3.15.0)\nRequirement already satisfied: importlib-resources>=1.4.0 in /home/codeany/.pyenv/versions/3.8.12/lib/python3.8/site-packages (from jsonschema>=3.0->altair==4.2.0->-r /workspaces/mildew-detection-in-cherry-leaves/requirements.txt (line 2)) (5.12.0)\nRequirement already satisfied: pkgutil-resolve-name>=1.3.10 in /home/codeany/.pyenv/versions/3.8.12/lib/python3.8/site-packages (from jsonschema>=3.0->altair==4.2.0->-r /workspaces/mildew-detection-in-cherry-leaves/requirements.txt (line 2)) (1.3.10)\nRequirement already satisfied: pyrsistent!=0.17.0,!=0.17.1,!=0.17.2,>=0.14.0 in /home/codeany/.pyenv/versions/3.8.12/lib/python3.8/site-packages (from jsonschema>=3.0->altair==4.2.0->-r /workspaces/mildew-detection-in-cherry-leaves/requirements.txt (line 2)) (0.19.3)\nRequirement already satisfied: charset-normalizer<4,>=2 in /home/codeany/.pyenv/versions/3.8.12/lib/python3.8/site-packages (from requests->kaggle==1.5.12->-r /workspaces/mildew-detection-in-cherry-leaves/requirements.txt (line 20)) (3.1.0)\nRequirement already satisfied: idna<4,>=2.5 in /home/codeany/.pyenv/versions/3.8.12/lib/python3.8/site-packages (from requests->kaggle==1.5.12->-r /workspaces/mildew-detection-in-cherry-leaves/requirements.txt (line 20)) (3.4)\nRequirement already satisfied: gitdb<5,>=4.0.1 in /home/codeany/.pyenv/versions/3.8.12/lib/python3.8/site-packages (from gitpython->streamlit==0.85.0->-r /workspaces/mildew-detection-in-cherry-leaves/requirements.txt (line 49)) (4.0.10)\nRequirement already satisfied: backcall in /home/codeany/.pyenv/versions/3.8.12/lib/python3.8/site-packages (from ipython->keras-tuner==1.1.3->-r /workspaces/mildew-detection-in-cherry-leaves/requirements.txt (line 23)) (0.2.0)\nRequirement already satisfied: jedi>=0.16 in /home/codeany/.pyenv/versions/3.8.12/lib/python3.8/site-packages (from ipython->keras-tuner==1.1.3->-r /workspaces/mildew-detection-in-cherry-leaves/requirements.txt (line 23)) (0.18.2)\nRequirement already satisfied: matplotlib-inline in /home/codeany/.pyenv/versions/3.8.12/lib/python3.8/site-packages (from ipython->keras-tuner==1.1.3->-r /workspaces/mildew-detection-in-cherry-leaves/requirements.txt (line 23)) (0.1.6)\nRequirement already satisfied: pickleshare in /home/codeany/.pyenv/versions/3.8.12/lib/python3.8/site-packages (from ipython->keras-tuner==1.1.3->-r /workspaces/mildew-detection-in-cherry-leaves/requirements.txt (line 23)) (0.7.5)\nRequirement already satisfied: prompt-toolkit!=3.0.37,<3.1.0,>=3.0.30 in /home/codeany/.pyenv/versions/3.8.12/lib/python3.8/site-packages (from ipython->keras-tuner==1.1.3->-r /workspaces/mildew-detection-in-cherry-leaves/requirements.txt (line 23)) (3.0.38)\nRequirement already satisfied: pygments>=2.4.0 in /home/codeany/.pyenv/versions/3.8.12/lib/python3.8/site-packages (from ipython->keras-tuner==1.1.3->-r /workspaces/mildew-detection-in-cherry-leaves/requirements.txt (line 23)) (2.15.1)\nRequirement already satisfied: stack-data in /home/codeany/.pyenv/versions/3.8.12/lib/python3.8/site-packages (from ipython->keras-tuner==1.1.3->-r /workspaces/mildew-detection-in-cherry-leaves/requirements.txt (line 23)) (0.6.2)\nRequirement already satisfied: traitlets>=5 in /home/codeany/.pyenv/versions/3.8.12/lib/python3.8/site-packages (from ipython->keras-tuner==1.1.3->-r /workspaces/mildew-detection-in-cherry-leaves/requirements.txt (line 23)) (5.9.0)\nRequirement already satisfied: pexpect>4.3 in /home/codeany/.pyenv/versions/3.8.12/lib/python3.8/site-packages (from ipython->keras-tuner==1.1.3->-r /workspaces/mildew-detection-in-cherry-leaves/requirements.txt (line 23)) (4.8.0)\nRequirement already satisfied: smmap<6,>=3.0.1 in /home/codeany/.pyenv/versions/3.8.12/lib/python3.8/site-packages (from gitdb<5,>=4.0.1->gitpython->streamlit==0.85.0->-r /workspaces/mildew-detection-in-cherry-leaves/requirements.txt (line 49)) (5.0.0)\nRequirement already satisfied: parso<0.9.0,>=0.8.0 in /home/codeany/.pyenv/versions/3.8.12/lib/python3.8/site-packages (from jedi>=0.16->ipython->keras-tuner==1.1.3->-r /workspaces/mildew-detection-in-cherry-leaves/requirements.txt (line 23)) (0.8.3)\nRequirement already satisfied: ptyprocess>=0.5 in /home/codeany/.pyenv/versions/3.8.12/lib/python3.8/site-packages (from pexpect>4.3->ipython->keras-tuner==1.1.3->-r /workspaces/mildew-detection-in-cherry-leaves/requirements.txt (line 23)) (0.7.0)\nRequirement already satisfied: wcwidth in /home/codeany/.pyenv/versions/3.8.12/lib/python3.8/site-packages (from prompt-toolkit!=3.0.37,<3.1.0,>=3.0.30->ipython->keras-tuner==1.1.3->-r /workspaces/mildew-detection-in-cherry-leaves/requirements.txt (line 23)) (0.2.6)\nRequirement already satisfied: executing>=1.2.0 in /home/codeany/.pyenv/versions/3.8.12/lib/python3.8/site-packages (from stack-data->ipython->keras-tuner==1.1.3->-r /workspaces/mildew-detection-in-cherry-leaves/requirements.txt (line 23)) (1.2.0)\nRequirement already satisfied: asttokens>=2.1.0 in /home/codeany/.pyenv/versions/3.8.12/lib/python3.8/site-packages (from stack-data->ipython->keras-tuner==1.1.3->-r /workspaces/mildew-detection-in-cherry-leaves/requirements.txt (line 23)) (2.2.1)\nRequirement already satisfied: pure-eval in /home/codeany/.pyenv/versions/3.8.12/lib/python3.8/site-packages (from stack-data->ipython->keras-tuner==1.1.3->-r /workspaces/mildew-detection-in-cherry-leaves/requirements.txt (line 23)) (0.2.2)\n"
        }
      ],
      "source": [
        "! pip install -r /workspaces/mildew-detection-in-cherry-leaves/requirements.txt"
      ]
    },
    {
      "cell_type": "code",
      "execution_count": 2,
      "metadata": {
        "tags": []
      },
      "outputs": [],
      "source": [
        "import numpy\n",
        "import os"
      ]
    },
    {
      "attachments": {},
      "cell_type": "markdown",
      "metadata": {
        "id": "9uWZXH9LwoQg"
      },
      "source": [
        "## Change Working Directory"
      ]
    },
    {
      "attachments": {},
      "cell_type": "markdown",
      "metadata": {
        "id": "aOGIGS-uz3i2"
      },
      "source": [
        "* To change the working directory from its current folder to its parent folder\n",
        "* To access the current directory with os.getcwd()"
      ]
    },
    {
      "cell_type": "code",
      "execution_count": 3,
      "metadata": {
        "id": "wZfF_j-Bz3i4",
        "outputId": "66943449-1436-4c3d-85c7-b85f9f78349b"
      },
      "outputs": [
        {
          "output_type": "execute_result",
          "data": {
            "text/plain": "'/workspaces/mildew-detection-in-cherry-leaves/jupyter_notebooks'"
          },
          "metadata": {},
          "execution_count": 3
        }
      ],
      "source": [
        "import os\n",
        "current_dir = os.getcwd()\n",
        "current_dir"
      ]
    },
    {
      "attachments": {},
      "cell_type": "markdown",
      "metadata": {
        "id": "9MWW8E7lz3i7"
      },
      "source": [
        "To make the parent of the current directory the new current directory\n",
        "* os.path.dirname() gets the parent directory\n",
        "* os.chdir() defines the new current directory"
      ]
    },
    {
      "cell_type": "code",
      "execution_count": 4,
      "metadata": {
        "id": "TwHsQRWjz3i9",
        "outputId": "86849db3-cd2f-4cc5-ebb8-2d0caafa1a2c",
        "tags": []
      },
      "outputs": [
        {
          "output_type": "stream",
          "name": "stdout",
          "text": "You set a new current directory\n"
        }
      ],
      "source": [
        "os.chdir(os.path.dirname(current_dir))\n",
        "print(\"You set a new current directory\")"
      ]
    },
    {
      "attachments": {},
      "cell_type": "markdown",
      "metadata": {
        "id": "M_xPk_Ijz3i-"
      },
      "source": [
        "To confirm the new current directory"
      ]
    },
    {
      "cell_type": "code",
      "execution_count": 5,
      "metadata": {
        "id": "vz3S-_kjz3jA",
        "outputId": "00b79ae4-75d0-4a96-d193-ac9ef9847ea2"
      },
      "outputs": [
        {
          "output_type": "execute_result",
          "data": {
            "text/plain": "'/workspaces/mildew-detection-in-cherry-leaves'"
          },
          "metadata": {},
          "execution_count": 5
        }
      ],
      "source": [
        "current_dir = os.getcwd()\n",
        "current_dir"
      ]
    },
    {
      "attachments": {},
      "cell_type": "markdown",
      "metadata": {
        "id": "-mavJ8DibrcQ"
      },
      "source": [
        "# Install Kaggle"
      ]
    },
    {
      "cell_type": "code",
      "execution_count": 6,
      "metadata": {
        "tags": []
      },
      "outputs": [
        {
          "output_type": "stream",
          "name": "stdout",
          "text": "Requirement already satisfied: kaggle in /home/codeany/.pyenv/versions/3.8.12/lib/python3.8/site-packages (1.5.12)\nRequirement already satisfied: six>=1.10 in /home/codeany/.pyenv/versions/3.8.12/lib/python3.8/site-packages (from kaggle) (1.15.0)\nRequirement already satisfied: certifi in /home/codeany/.pyenv/versions/3.8.12/lib/python3.8/site-packages (from kaggle) (2023.5.7)\nRequirement already satisfied: python-dateutil in /home/codeany/.pyenv/versions/3.8.12/lib/python3.8/site-packages (from kaggle) (2.8.2)\nRequirement already satisfied: requests in /home/codeany/.pyenv/versions/3.8.12/lib/python3.8/site-packages (from kaggle) (2.31.0)\nRequirement already satisfied: tqdm in /home/codeany/.pyenv/versions/3.8.12/lib/python3.8/site-packages (from kaggle) (4.64.1)\nRequirement already satisfied: python-slugify in /home/codeany/.pyenv/versions/3.8.12/lib/python3.8/site-packages (from kaggle) (7.0.0)\nRequirement already satisfied: urllib3 in /home/codeany/.pyenv/versions/3.8.12/lib/python3.8/site-packages (from kaggle) (2.0.3)\nRequirement already satisfied: text-unidecode>=1.3 in /home/codeany/.pyenv/versions/3.8.12/lib/python3.8/site-packages (from python-slugify->kaggle) (1.3)\nRequirement already satisfied: charset-normalizer<4,>=2 in /home/codeany/.pyenv/versions/3.8.12/lib/python3.8/site-packages (from requests->kaggle) (3.1.0)\nRequirement already satisfied: idna<4,>=2.5 in /home/codeany/.pyenv/versions/3.8.12/lib/python3.8/site-packages (from requests->kaggle) (3.4)\nNote: you may need to restart the kernel to use updated packages.\n"
        }
      ],
      "source": [
        "# install kaggle package\n",
        "%pip install kaggle"
      ]
    },
    {
      "attachments": {},
      "cell_type": "markdown",
      "metadata": {
        "id": "ZY3l0-AxO93d"
      },
      "source": [
        "---"
      ]
    },
    {
      "attachments": {},
      "cell_type": "markdown",
      "metadata": {
        "id": "uFQo3ycuO-v6"
      },
      "source": [
        "Run the cell below to change the kaggle configuration directory to current working directory and permission of kaggle authentication JSON"
      ]
    },
    {
      "cell_type": "code",
      "execution_count": 7,
      "metadata": {
        "tags": []
      },
      "outputs": [],
      "source": [
        "os.environ['KAGGLE_CONFIG_DIR'] = os.getcwd()\n",
        "! chmod 600 kaggle.json"
      ]
    },
    {
      "attachments": {},
      "cell_type": "markdown",
      "metadata": {},
      "source": [
        "* Get the dataset path from Kaggle url.  When you are viewing the dataset at Kaggle, check what is after https://www.kaggle.com/ (in some case kaggle.com/datasets). You should copy that at KaggleDatasetPath.\n",
        "\n",
        "* Set the destination folder\n",
        "* Set the Kaggle Dataset and Download it"
      ]
    },
    {
      "cell_type": "code",
      "execution_count": 8,
      "metadata": {
        "tags": []
      },
      "outputs": [
        {
          "output_type": "stream",
          "name": "stdout",
          "text": "Downloading cherry-leaves.zip to inputs/mildew_dataset\n 91%|██████████████████████████████████▌   | 50.0M/55.0M [00:00<00:00, 57.0MB/s]\n100%|██████████████████████████████████████| 55.0M/55.0M [00:00<00:00, 70.4MB/s]\n"
        }
      ],
      "source": [
        "# Set the destination folder to download Kaggle Dataset\n",
        "KaggleDatasetPath = \"codeinstitute/cherry-leaves\"\n",
        "DestinationFolder = \"inputs/mildew_dataset\"   \n",
        "! kaggle datasets download -d {KaggleDatasetPath} -p {DestinationFolder}"
      ]
    },
    {
      "attachments": {},
      "cell_type": "markdown",
      "metadata": {},
      "source": [
        "* Unzip the downloaded file, and delete the zip file."
      ]
    },
    {
      "cell_type": "code",
      "execution_count": 9,
      "metadata": {},
      "outputs": [],
      "source": [
        "import zipfile\n",
        "with zipfile.ZipFile(DestinationFolder + '/cherry-leaves.zip', 'r') as zip_ref:\n",
        "    zip_ref.extractall(DestinationFolder)\n",
        "\n",
        "os.remove(DestinationFolder + '/cherry-leaves.zip')"
      ]
    },
    {
      "attachments": {},
      "cell_type": "markdown",
      "metadata": {},
      "source": [
        "# Data Preparation"
      ]
    },
    {
      "attachments": {},
      "cell_type": "markdown",
      "metadata": {},
      "source": [
        "### Check and remove non-image files"
      ]
    },
    {
      "cell_type": "code",
      "execution_count": 10,
      "metadata": {},
      "outputs": [],
      "source": [
        "# Function to remove non-image files\n",
        "def remove_non_image_file(my_data_dir):\n",
        "    image_extension = ('.png', '.jpg', '.jpeg')\n",
        "    folders = os.listdir(my_data_dir) \n",
        "    for folder in folders:\n",
        "        files = os.listdir(my_data_dir + '/' + folder)\n",
        "        # print(files)\n",
        "        i = []\n",
        "        j = []\n",
        "        for given_file in files:\n",
        "            if not given_file.lower().endswith(image_extension):\n",
        "                file_location = my_data_dir + '/' + folder + '/' + given_file\n",
        "                os.remove(file_location) # remove non-image file\n",
        "                i.append(1)\n",
        "            else:\n",
        "                j.append(1)\n",
        "                pass\n",
        "        print(f\"Folder: {folder} - has image file\",len(j))\n",
        "        print(f\"Folder: {folder} - has non-image file\",len(i))"
      ]
    },
    {
      "cell_type": "code",
      "execution_count": 11,
      "metadata": {
        "tags": []
      },
      "outputs": [
        {
          "output_type": "stream",
          "name": "stdout",
          "text": "Folder: healthy - has image file 2104\nFolder: healthy - has non-image file 0\nFolder: powdery_mildew - has image file 2104\nFolder: powdery_mildew - has non-image file 0\n"
        }
      ],
      "source": [
        "# Remove non-image files\n",
        "remove_non_image_file(my_data_dir='inputs/mildew_dataset/cherry-leaves')"
      ]
    },
    {
      "attachments": {},
      "cell_type": "markdown",
      "metadata": {},
      "source": [
        "### Split train, validation, and test sets"
      ]
    },
    {
      "cell_type": "code",
      "execution_count": 12,
      "metadata": {},
      "outputs": [],
      "source": [
        "import os\n",
        "import shutil\n",
        "import random\n",
        "import joblib\n",
        "\n",
        "my_data_dir=\"inputs/mildew_dataset/cherry-leaves\"\n",
        "\n",
        "# Function to split train, validation, and test images\n",
        "def split_train_validation_test_images(my_data_dir, train_set_ratio, validation_set_ratio, test_set_ratio):\n",
        "  \n",
        "  if train_set_ratio + validation_set_ratio + test_set_ratio != 1.0:\n",
        "    print(\"train_set_ratio + validation_set_ratio + test_set_ratio should sum 1.0\")\n",
        "    return\n",
        "\n",
        "  # gets classes labels\n",
        "  labels = os.listdir(my_data_dir) # To get only the folder name\n",
        "  if 'test' in labels:\n",
        "    pass\n",
        "  else: \n",
        "    # create train, validation, and test folders with classess labels sub-folder\n",
        "    for folder in ['train','validation','test']:\n",
        "      for label in labels:\n",
        "        os.makedirs(name=my_data_dir+ '/' + folder + '/' + label)\n",
        "\n",
        "    for label in labels:\n",
        "\n",
        "      files = os.listdir(my_data_dir + '/' + label)\n",
        "      random.shuffle(files)\n",
        "\n",
        "      train_set_files_qty = int(len(files) * train_set_ratio)\n",
        "      validation_set_files_qty = int(len(files) * validation_set_ratio)\n",
        "\n",
        "      count = 1\n",
        "      for file_name in files:\n",
        "        if count <= train_set_files_qty:\n",
        "          # move given file to train set\n",
        "          shutil.move(my_data_dir + '/' + label + '/' + file_name,\n",
        "                      my_data_dir + '/train/' + label + '/' + file_name)\n",
        "          \n",
        "\n",
        "        elif count <= (train_set_files_qty + validation_set_files_qty ):\n",
        "          # move given file to validation set\n",
        "          shutil.move(my_data_dir + '/' + label + '/' + file_name,\n",
        "                      my_data_dir + '/validation/' + label + '/' + file_name)\n",
        "\n",
        "        else:\n",
        "          # move given file to test set\n",
        "          shutil.move(my_data_dir + '/' + label + '/' + file_name,\n",
        "                  my_data_dir + '/test/' +label + '/'+ file_name)\n",
        "          \n",
        "        count += 1\n",
        "\n",
        "      os.rmdir(my_data_dir + '/' + label)"
      ]
    },
    {
      "cell_type": "code",
      "execution_count": 13,
      "metadata": {},
      "outputs": [],
      "source": [
        "# Split train, validation, and test images\n",
        "split_train_validation_test_images(my_data_dir=f\"inputs/mildew_dataset/cherry-leaves\",\n",
        "                        train_set_ratio = 0.7,\n",
        "                        validation_set_ratio=0.1,\n",
        "                        test_set_ratio=0.2\n",
        "                        )"
      ]
    },
    {
      "attachments": {},
      "cell_type": "markdown",
      "metadata": {},
      "source": [
        "---"
      ]
    },
    {
      "attachments": {},
      "cell_type": "markdown",
      "metadata": {
        "id": "ltNetd085qHf"
      },
      "source": [
        "# Push files to Repo"
      ]
    },
    {
      "attachments": {},
      "cell_type": "markdown",
      "metadata": {},
      "source": [
        "## Push generated/new files from this Session to your GitHub repo"
      ]
    },
    {
      "attachments": {},
      "cell_type": "markdown",
      "metadata": {},
      "source": [
        "* .gitignore"
      ]
    },
    {
      "cell_type": "code",
      "execution_count": 15,
      "metadata": {
        "tags": []
      },
      "outputs": [
        {
          "output_type": "stream",
          "name": "stdout",
          "text": "core.Microsoft*\ncore.mongo*\ncore.python*\nenv.py\n__pycache__/\n*.py[cod]\nnode_modules/\n.github/\ncloudinary_python.txt\nkaggle.json\ninputs/mildew_dataset/cherry-leaves/test\ninputs/mildew-leaves_dataset/cherry-leaves/train\ninputs/mildew-leaves_dataset/cherry-leaves/validation"
        }
      ],
      "source": [
        "!cat .gitignore"
      ]
    },
    {
      "attachments": {},
      "cell_type": "markdown",
      "metadata": {},
      "source": [
        "* Git status"
      ]
    },
    {
      "cell_type": "code",
      "execution_count": 16,
      "metadata": {
        "tags": [
          "outputPrepend"
        ]
      },
      "outputs": [
        {
          "output_type": "stream",
          "name": "stdout",
          "text": "cherry-leaves/validation/powdery_mildew/5f969553-68de-42bf-a892-0d7d6a96bb28___FREC_Pwd.M 4537.JPG\u001b[m\n\t\u001b[31mdeleted:    inputs/cherry-leaves_dataset/cherry-leaves/validation/powdery_mildew/60c15b34-a1a5-440e-85f7-c83d848d41f9___FREC_Pwd.M 4770.JPG\u001b[m\n\t\u001b[31mdeleted:    inputs/cherry-leaves_dataset/cherry-leaves/validation/powdery_mildew/61800495-73fd-40e8-8ddf-b45cb4670213___FREC_Pwd.M 5074.JPG\u001b[m\n\t\u001b[31mdeleted:    inputs/cherry-leaves_dataset/cherry-leaves/validation/powdery_mildew/6269aa19-6cb1-41de-828d-e59361033b3f___FREC_Pwd.M 0565.JPG\u001b[m\n\t\u001b[31mdeleted:    inputs/cherry-leaves_dataset/cherry-leaves/validation/powdery_mildew/62f18804-329f-41b0-bb05-3cf72f6ac5f6___FREC_Pwd.M 4838_flipLR.JPG\u001b[m\n\t\u001b[31mdeleted:    inputs/cherry-leaves_dataset/cherry-leaves/validation/powdery_mildew/631167a9-9bde-44c5-8344-461589dd9a75___FREC_Pwd.M 4862_flipLR.JPG\u001b[m\n\t\u001b[31mdeleted:    inputs/cherry-leaves_dataset/cherry-leaves/validation/powdery_mildew/63ca2f3f-c6aa-463e-b74a-23e328637043___FREC_Pwd.M 5109.JPG\u001b[m\n\t\u001b[31mdeleted:    inputs/cherry-leaves_dataset/cherry-leaves/validation/powdery_mildew/6881e24e-2702-4f68-8dd1-13120bc48e9d___FREC_Pwd.M 0440_flipLR.JPG\u001b[m\n\t\u001b[31mdeleted:    inputs/cherry-leaves_dataset/cherry-leaves/validation/powdery_mildew/69ec43f8-9a3a-4c2a-aaa7-18375819931f___FREC_Pwd.M 0518_flipLR.JPG\u001b[m\n\t\u001b[31mdeleted:    inputs/cherry-leaves_dataset/cherry-leaves/validation/powdery_mildew/6ae2e341-c330-46c4-835a-813ddbf61540___FREC_Pwd.M 4785_flipLR.JPG\u001b[m\n\t\u001b[31mdeleted:    inputs/cherry-leaves_dataset/cherry-leaves/validation/powdery_mildew/6c02f514-7059-4071-8752-4e970ccb4f2e___FREC_Pwd.M 4878_flipLR.JPG\u001b[m\n\t\u001b[31mdeleted:    inputs/cherry-leaves_dataset/cherry-leaves/validation/powdery_mildew/6c194f25-d1cb-48b1-908e-e6a66a0f6ed2___FREC_Pwd.M 5008_flipLR.JPG\u001b[m\n\t\u001b[31mdeleted:    inputs/cherry-leaves_dataset/cherry-leaves/validation/powdery_mildew/6c2861d5-bc13-4296-aa71-1225c3bad7df___FREC_Pwd.M 4804_flipLR.JPG\u001b[m\n\t\u001b[31mdeleted:    inputs/cherry-leaves_dataset/cherry-leaves/validation/powdery_mildew/6f863320-0323-490f-a02d-b943a9caa94f___FREC_Pwd.M 0251.JPG\u001b[m\n\t\u001b[31mdeleted:    inputs/cherry-leaves_dataset/cherry-leaves/validation/powdery_mildew/70c5c136-d253-4825-902a-ab8e4f6b8588___FREC_Pwd.M 4849.JPG\u001b[m\n\t\u001b[31mdeleted:    inputs/cherry-leaves_dataset/cherry-leaves/validation/powdery_mildew/70e798a5-6773-4abd-86b6-f2e4d2fbb265___FREC_Pwd.M 0574.JPG\u001b[m\n\t\u001b[31mdeleted:    inputs/cherry-leaves_dataset/cherry-leaves/validation/powdery_mildew/7153bd0f-847f-40a5-9252-cf1d2e0426c4___FREC_Pwd.M 4666_flipLR.JPG\u001b[m\n\t\u001b[31mdeleted:    inputs/cherry-leaves_dataset/cherry-leaves/validation/powdery_mildew/71f131a8-9dbd-4330-a515-519a65d705a5___FREC_Pwd.M 0436_flipLR.JPG\u001b[m\n\t\u001b[31mdeleted:    inputs/cherry-leaves_dataset/cherry-leaves/validation/powdery_mildew/728525fd-75a3-4356-a7b4-34d56c31e12b___FREC_Pwd.M 4857.JPG\u001b[m\n\t\u001b[31mdeleted:    inputs/cherry-leaves_dataset/cherry-leaves/validation/powdery_mildew/74e32f6b-3bab-49b9-8665-aa8ce546d555___FREC_Pwd.M 0260.JPG\u001b[m\n\t\u001b[31mdeleted:    inputs/cherry-leaves_dataset/cherry-leaves/validation/powdery_mildew/74e32f6b-3bab-49b9-8665-aa8ce546d555___FREC_Pwd.M 0260_flipLR.JPG\u001b[m\n\t\u001b[31mdeleted:    inputs/cherry-leaves_dataset/cherry-leaves/validation/powdery_mildew/7722c82b-13bd-44b0-aabd-dd37e8e02a6b___FREC_Pwd.M 5062.JPG\u001b[m\n\t\u001b[31mdeleted:    inputs/cherry-leaves_dataset/cherry-leaves/validation/powdery_mildew/7862888d-6bad-46c1-82a4-f824860ce1b1___FREC_Pwd.M 0533.JPG\u001b[m\n\t\u001b[31mdeleted:    inputs/cherry-leaves_dataset/cherry-leaves/validation/powdery_mildew/7862888d-6bad-46c1-82a4-f824860ce1b1___FREC_Pwd.M 0533_flipLR.JPG\u001b[m\n\t\u001b[31mdeleted:    inputs/cherry-leaves_dataset/cherry-leaves/validation/powdery_mildew/78a912be-4a06-43c3-ac79-876b1a0f7c9f___FREC_Pwd.M 5072.JPG\u001b[m\n\t\u001b[31mdeleted:    inputs/cherry-leaves_dataset/cherry-leaves/validation/powdery_mildew/7aa06c3f-08e1-4de1-9bfb-3f6bdd4c1abd___FREC_Pwd.M 5034_flipLR.JPG\u001b[m\n\t\u001b[31mdeleted:    inputs/cherry-leaves_dataset/cherry-leaves/validation/powdery_mildew/7aae9182-41b4-4675-89f9-84daac6ec058___FREC_Pwd.M 4627.JPG\u001b[m\n\t\u001b[31mdeleted:    inputs/cherry-leaves_dataset/cherry-leaves/validation/powdery_mildew/8197f614-82e6-440a-bb94-74322b7c0b4c___FREC_Pwd.M 0425.JPG\u001b[m\n\t\u001b[31mdeleted:    inputs/cherry-leaves_dataset/cherry-leaves/validation/powdery_mildew/82cad357-576b-4e8f-9d46-8db17d592d4d___FREC_Pwd.M 0411.JPG\u001b[m\n\t\u001b[31mdeleted:    inputs/cherry-leaves_dataset/cherry-leaves/validation/powdery_mildew/82d1cf96-b56d-4476-a14e-759319b473b8___FREC_Pwd.M 0519_flipLR.JPG\u001b[m\n\t\u001b[31mdeleted:    inputs/cherry-leaves_dataset/cherry-leaves/validation/powdery_mildew/84c6b4a2-fbab-4315-bd1a-c154c2435ee5___FREC_Pwd.M 4474.JPG\u001b[m\n\t\u001b[31mdeleted:    inputs/cherry-leaves_dataset/cherry-leaves/validation/powdery_mildew/8556b7ae-0dc8-4d68-ac44-119f1aff6082___FREC_Pwd.M 0588.JPG\u001b[m\n\t\u001b[31mdeleted:    inputs/cherry-leaves_dataset/cherry-leaves/validation/powdery_mildew/87458990-3ac3-4cc8-bee6-d4135cb92086___FREC_Pwd.M 0561_flipLR.JPG\u001b[m\n\t\u001b[31mdeleted:    inputs/cherry-leaves_dataset/cherry-leaves/validation/powdery_mildew/8af0a449-b266-4e80-822e-af6033fc537b___FREC_Pwd.M 0545.JPG\u001b[m\n\t\u001b[31mdeleted:    inputs/cherry-leaves_dataset/cherry-leaves/validation/powdery_mildew/8d6e8113-7c11-401a-aa6e-a5e91e7f94ce___FREC_Pwd.M 0278.JPG\u001b[m\n\t\u001b[31mdeleted:    inputs/cherry-leaves_dataset/cherry-leaves/validation/powdery_mildew/8d6e8113-7c11-401a-aa6e-a5e91e7f94ce___FREC_Pwd.M 0278_flipLR.JPG\u001b[m\n\t\u001b[31mdeleted:    inputs/cherry-leaves_dataset/cherry-leaves/validation/powdery_mildew/8ea23363-e8ad-4e80-a02e-1eb9b80e9a76___FREC_Pwd.M 5155.JPG\u001b[m\n\t\u001b[31mdeleted:    inputs/cherry-leaves_dataset/cherry-leaves/validation/powdery_mildew/900cf5aa-c000-45d4-8e30-743c195b1ccd___FREC_Pwd.M 0516.JPG\u001b[m\n\t\u001b[31mdeleted:    inputs/cherry-leaves_dataset/cherry-leaves/validation/powdery_mildew/90a92942-d448-4394-a618-f7b7236f0fc3___FREC_Pwd.M 5002_flipLR.JPG\u001b[m\n\t\u001b[31mdeleted:    inputs/cherry-leaves_dataset/cherry-leaves/validation/powdery_mildew/90b2da87-c7d3-4369-8547-f4246836806f___FREC_Pwd.M 0575_flipLR.JPG\u001b[m\n\t\u001b[31mdeleted:    inputs/cherry-leaves_dataset/cherry-leaves/validation/powdery_mildew/933c196b-f28c-4cd9-8620-ef97762ff394___FREC_Pwd.M 4772.JPG\u001b[m\n\t\u001b[31mdeleted:    inputs/cherry-leaves_dataset/cherry-leaves/validation/powdery_mildew/94427a36-9a76-477b-a53e-1b735e3ac9cb___FREC_Pwd.M 4588_flipLR.JPG\u001b[m\n\t\u001b[31mdeleted:    inputs/cherry-leaves_dataset/cherry-leaves/validation/powdery_mildew/95689263-5b6a-4aba-9b28-ec6adb2c4eaf___FREC_Pwd.M 0418_flipLR.JPG\u001b[m\n\t\u001b[31mdeleted:    inputs/cherry-leaves_dataset/cherry-leaves/validation/powdery_mildew/971178c1-4670-43ca-b01c-9461663f0a60___FREC_Pwd.M 0262_flipLR.JPG\u001b[m\n\t\u001b[31mdeleted:    inputs/cherry-leaves_dataset/cherry-leaves/validation/powdery_mildew/9798c4ae-5a80-4386-9e1c-c306d507940b___FREC_Pwd.M 0465_flipLR.JPG\u001b[m\n\t\u001b[31mdeleted:    inputs/cherry-leaves_dataset/cherry-leaves/validation/powdery_mildew/98735a23-9c85-4110-a4b7-f3614a7e168d___FREC_Pwd.M 5055.JPG\u001b[m\n\t\u001b[31mdeleted:    inputs/cherry-leaves_dataset/cherry-leaves/validation/powdery_mildew/9888b4cb-17f3-4aa4-9f8e-39ddd67d3110___FREC_Pwd.M 4940.JPG\u001b[m\n\t\u001b[31mdeleted:    inputs/cherry-leaves_dataset/cherry-leaves/validation/powdery_mildew/9a190630-f11a-4e5b-9495-3c4535bb4144___FREC_Pwd.M 0367.JPG\u001b[m\n\t\u001b[31mdeleted:    inputs/cherry-leaves_dataset/cherry-leaves/validation/powdery_mildew/9c809051-23f7-4159-81aa-4d7f596535f0___FREC_Pwd.M 5019_flipLR.JPG\u001b[m\n\t\u001b[31mdeleted:    inputs/cherry-leaves_dataset/cherry-leaves/validation/powdery_mildew/9d41e7d1-9410-460f-b2e2-2141c0c4e42b___FREC_Pwd.M 0302.JPG\u001b[m\n\t\u001b[31mdeleted:    inputs/cherry-leaves_dataset/cherry-leaves/validation/powdery_mildew/9f1837a8-5fe3-429a-acaa-2f851be4cbc9___FREC_Pwd.M 4843.JPG\u001b[m\n\t\u001b[31mdeleted:    inputs/cherry-leaves_dataset/cherry-leaves/validation/powdery_mildew/a1b8deb6-ef70-4d87-8fea-188a2d84b240___FREC_Pwd.M 5069.JPG\u001b[m\n\t\u001b[31mdeleted:    inputs/cherry-leaves_dataset/cherry-leaves/validation/powdery_mildew/a1e9c49a-5188-4441-8918-60c4719dc313___FREC_Pwd.M 0558.JPG\u001b[m\n\t\u001b[31mdeleted:    inputs/cherry-leaves_dataset/cherry-leaves/validation/powdery_mildew/a2bf26c3-9f0b-4b47-be11-ab058cc9a133___FREC_Pwd.M 5165_flipLR.JPG\u001b[m\n\t\u001b[31mdeleted:    inputs/cherry-leaves_dataset/cherry-leaves/validation/powdery_mildew/a3591bf9-0311-4c54-88de-002e18a55e32___FREC_Pwd.M 4565_flipLR.JPG\u001b[m\n\t\u001b[31mdeleted:    inputs/cherry-leaves_dataset/cherry-leaves/validation/powdery_mildew/a3ebcd97-c380-4a41-b8c0-493e5a74d0fd___FREC_Pwd.M 0387_flipLR.JPG\u001b[m\n\t\u001b[31mdeleted:    inputs/cherry-leaves_dataset/cherry-leaves/validation/powdery_mildew/a6015a83-8f5e-4e1b-bede-d326e49efc1f___FREC_Pwd.M 4780_flipLR.JPG\u001b[m\n\t\u001b[31mdeleted:    inputs/cherry-leaves_dataset/cherry-leaves/validation/powdery_mildew/a6421f2e-fa46-45a6-9f1b-64b60cde096a___FREC_Pwd.M 4743_flipLR.JPG\u001b[m\n\t\u001b[31mdeleted:    inputs/cherry-leaves_dataset/cherry-leaves/validation/powdery_mildew/a8532f9d-c6c3-44e4-9278-c7350c4adb09___FREC_Pwd.M 0526.JPG\u001b[m\n\t\u001b[31mdeleted:    inputs/cherry-leaves_dataset/cherry-leaves/validation/powdery_mildew/aa2deb62-4250-4a7d-957f-ec15e090780c___FREC_Pwd.M 4661.JPG\u001b[m\n\t\u001b[31mdeleted:    inputs/cherry-leaves_dataset/cherry-leaves/validation/powdery_mildew/ac3e6824-a60e-4c8f-a844-4e97abc983a7___FREC_Pwd.M 4801_flipLR.JPG\u001b[m\n\t\u001b[31mdeleted:    inputs/cherry-leaves_dataset/cherry-leaves/validation/powdery_mildew/af17d4b3-3193-4f16-9449-28cd5a204499___FREC_Pwd.M 5058_flipLR.JPG\u001b[m\n\t\u001b[31mdeleted:    inputs/cherry-leaves_dataset/cherry-leaves/validation/powdery_mildew/afc7e0e1-0524-4de8-8409-ba6e501c8d54___FREC_Pwd.M 0515_flipLR.JPG\u001b[m\n\t\u001b[31mdeleted:    inputs/cherry-leaves_dataset/cherry-leaves/validation/powdery_mildew/b03329a7-d263-482f-b400-b54fc63a160a___FREC_Pwd.M 5110.JPG\u001b[m\n\t\u001b[31mdeleted:    inputs/cherry-leaves_dataset/cherry-leaves/validation/powdery_mildew/b09e4052-bc5a-4f9a-a2f0-c27698a94b50___FREC_Pwd.M 0451.JPG\u001b[m\n\t\u001b[31mdeleted:    inputs/cherry-leaves_dataset/cherry-leaves/validation/powdery_mildew/b1db081a-33e4-4a6a-96ee-07ab2369c0f1___FREC_Pwd.M 4932.JPG\u001b[m\n\t\u001b[31mdeleted:    inputs/cherry-leaves_dataset/cherry-leaves/validation/powdery_mildew/b24c156d-6183-49a7-86ad-3b90c943d470___FREC_Pwd.M 4889_flipLR.JPG\u001b[m\n\t\u001b[31mdeleted:    inputs/cherry-leaves_dataset/cherry-leaves/validation/powdery_mildew/b3aa0d92-9de0-4889-b95d-124b035c05a2___FREC_Pwd.M 4675.JPG\u001b[m\n\t\u001b[31mdeleted:    inputs/cherry-leaves_dataset/cherry-leaves/validation/powdery_mildew/b696bdf0-4c75-40e6-a980-000f8d75c654___FREC_Pwd.M 5061.JPG\u001b[m\n\t\u001b[31mdeleted:    inputs/cherry-leaves_dataset/cherry-leaves/validation/powdery_mildew/bca13e59-8eb8-4074-8fa0-ce441f43383b___FREC_Pwd.M 4738_flipLR.JPG\u001b[m\n\t\u001b[31mdeleted:    inputs/cherry-leaves_dataset/cherry-leaves/validation/powdery_mildew/bcf29f97-4079-4c53-af05-a7bda7372c3b___FREC_Pwd.M 4744.JPG\u001b[m\n\t\u001b[31mdeleted:    inputs/cherry-leaves_dataset/cherry-leaves/validation/powdery_mildew/bdb92bce-9638-4d5b-ab73-daad834b5427___FREC_Pwd.M 0368.JPG\u001b[m\n\t\u001b[31mdeleted:    inputs/cherry-leaves_dataset/cherry-leaves/validation/powdery_mildew/be3fa929-9035-41bf-adfb-e55f97fab802___FREC_Pwd.M 4684.JPG\u001b[m\n\t\u001b[31mdeleted:    inputs/cherry-leaves_dataset/cherry-leaves/validation/powdery_mildew/be4d3a56-be53-4b0d-8b0b-9ff088a4ad92___FREC_Pwd.M 4854.JPG\u001b[m\n\t\u001b[31mdeleted:    inputs/cherry-leaves_dataset/cherry-leaves/validation/powdery_mildew/bec20378-8230-4b53-8dc4-942bc878a592___FREC_Pwd.M 4495.JPG\u001b[m\n\t\u001b[31mdeleted:    inputs/cherry-leaves_dataset/cherry-leaves/validation/powdery_mildew/bec20378-8230-4b53-8dc4-942bc878a592___FREC_Pwd.M 4495_flipLR.JPG\u001b[m\n\t\u001b[31mdeleted:    inputs/cherry-leaves_dataset/cherry-leaves/validation/powdery_mildew/beea0c7e-0e13-4852-ac62-4f393c51c9e0___FREC_Pwd.M 4941.JPG\u001b[m\n\t\u001b[31mdeleted:    inputs/cherry-leaves_dataset/cherry-leaves/validation/powdery_mildew/c12ef0fd-7f67-4589-986a-31c0332bfa38___FREC_Pwd.M 4602.JPG\u001b[m\n\t\u001b[31mdeleted:    inputs/cherry-leaves_dataset/cherry-leaves/validation/powdery_mildew/c3e1ea3d-8fb8-4ebe-8b3c-20bdf02a8038___FREC_Pwd.M 5125.JPG\u001b[m\n\t\u001b[31mdeleted:    inputs/cherry-leaves_dataset/cherry-leaves/validation/powdery_mildew/c871d4ee-1726-4873-9e5c-ffe67de425fb___FREC_Pwd.M 4705.JPG\u001b[m\n\t\u001b[31mdeleted:    inputs/cherry-leaves_dataset/cherry-leaves/validation/powdery_mildew/cb149e1b-f02f-4948-9058-ab06a9b7ab72___FREC_Pwd.M 4899.JPG\u001b[m\n\t\u001b[31mdeleted:    inputs/cherry-leaves_dataset/cherry-leaves/validation/powdery_mildew/cb5807a3-cdda-4f87-b17a-be25c42ef72b___FREC_Pwd.M 0587.JPG\u001b[m\n\t\u001b[31mdeleted:    inputs/cherry-leaves_dataset/cherry-leaves/validation/powdery_mildew/cbac0b30-05d8-4fb1-b193-347d8d989bd6___FREC_Pwd.M 4721.JPG\u001b[m\n\t\u001b[31mdeleted:    inputs/cherry-leaves_dataset/cherry-leaves/validation/powdery_mildew/cbdddf3a-11c7-4d26-b2f9-a4e47a509c9a___FREC_Pwd.M 4984_flipLR.JPG\u001b[m\n\t\u001b[31mdeleted:    inputs/cherry-leaves_dataset/cherry-leaves/validation/powdery_mildew/cbfe1c0b-9d3b-484b-9f7d-9639a938790b___FREC_Pwd.M 0322.JPG\u001b[m\n\t\u001b[31mdeleted:    inputs/cherry-leaves_dataset/cherry-leaves/validation/powdery_mildew/ce5efd4e-f2cb-47ac-9544-69291614286d___FREC_Pwd.M 5073.JPG\u001b[m\n\t\u001b[31mdeleted:    inputs/cherry-leaves_dataset/cherry-leaves/validation/powdery_mildew/cf98e1fd-1f1b-4f21-b485-d37a7b594965___FREC_Pwd.M 0503_flipLR.JPG\u001b[m\n\t\u001b[31mdeleted:    inputs/cherry-leaves_dataset/cherry-leaves/validation/powdery_mildew/cfafb471-f8ce-4887-97c6-28363fa5164b___FREC_Pwd.M 4571.JPG\u001b[m\n\t\u001b[31mdeleted:    inputs/cherry-leaves_dataset/cherry-leaves/validation/powdery_mildew/d10450db-0969-4618-b9e9-0405c2ce0ef9___FREC_Pwd.M 0464.JPG\u001b[m\n\t\u001b[31mdeleted:    inputs/cherry-leaves_dataset/cherry-leaves/validation/powdery_mildew/d12701d9-e2d8-4647-aad4-e09f34117cc3___FREC_Pwd.M 0364.JPG\u001b[m\n\t\u001b[31mdeleted:    inputs/cherry-leaves_dataset/cherry-leaves/validation/powdery_mildew/d4433120-16d3-48da-84eb-76a8cdb2436a___FREC_Pwd.M 4875_flipLR.JPG\u001b[m\n\t\u001b[31mdeleted:    inputs/cherry-leaves_dataset/cherry-leaves/validation/powdery_mildew/d5510570-6f71-4af0-9fda-07eee0e55442___FREC_Pwd.M 0333_flipLR.JPG\u001b[m\n\t\u001b[31mdeleted:    inputs/cherry-leaves_dataset/cherry-leaves/validation/powdery_mildew/d5dea1b0-527d-445a-9a7c-2eae850beadc___FREC_Pwd.M 4516.JPG\u001b[m\n\t\u001b[31mdeleted:    inputs/cherry-leaves_dataset/cherry-leaves/validation/powdery_mildew/d5dea1b0-527d-445a-9a7c-2eae850beadc___FREC_Pwd.M 4516_flipLR.JPG\u001b[m\n\t\u001b[31mdeleted:    inputs/cherry-leaves_dataset/cherry-leaves/validation/powdery_mildew/ddfca5ac-a909-43ca-b8c7-66aeb996c8ad___FREC_Pwd.M 5036_flipLR.JPG\u001b[m\n\t\u001b[31mdeleted:    inputs/cherry-leaves_dataset/cherry-leaves/validation/powdery_mildew/dea9ce8a-30b3-47cd-bb96-29e648896c8f___FREC_Pwd.M 4947_flipLR.JPG\u001b[m\n\t\u001b[31mdeleted:    inputs/cherry-leaves_dataset/cherry-leaves/validation/powdery_mildew/e00332a5-dd41-4381-9ed4-1f3d8b9a9ed9___FREC_Pwd.M 4555_flipLR.JPG\u001b[m\n\t\u001b[31mdeleted:    inputs/cherry-leaves_dataset/cherry-leaves/validation/powdery_mildew/e06e9da2-0432-4060-b341-30ee0319685a___FREC_Pwd.M 4798.JPG\u001b[m\n\t\u001b[31mdeleted:    inputs/cherry-leaves_dataset/cherry-leaves/validation/powdery_mildew/e06e9da2-0432-4060-b341-30ee0319685a___FREC_Pwd.M 4798_flipLR.JPG\u001b[m\n\t\u001b[31mdeleted:    inputs/cherry-leaves_dataset/cherry-leaves/validation/powdery_mildew/e308c527-a0a9-4c33-b469-ac05a2059b7b___FREC_Pwd.M 0552_flipLR.JPG\u001b[m\n\t\u001b[31mdeleted:    inputs/cherry-leaves_dataset/cherry-leaves/validation/powdery_mildew/e394c1ec-ade0-4481-a0ae-17fea0f9a8b3___FREC_Pwd.M 4962_flipLR.JPG\u001b[m\n\t\u001b[31mdeleted:    inputs/cherry-leaves_dataset/cherry-leaves/validation/powdery_mildew/e567184a-cee1-4eb4-be59-429da00b17d8___FREC_Pwd.M 4465.JPG\u001b[m\n\t\u001b[31mdeleted:    inputs/cherry-leaves_dataset/cherry-leaves/validation/powdery_mildew/e5ca68e7-17cb-4aee-bf65-7abba2629a29___FREC_Pwd.M 0325.JPG\u001b[m\n\t\u001b[31mdeleted:    inputs/cherry-leaves_dataset/cherry-leaves/validation/powdery_mildew/e6ed3334-ab39-40cd-ae6e-cb1b9a5e999d___FREC_Pwd.M 0586_flipLR.JPG\u001b[m\n\t\u001b[31mdeleted:    inputs/cherry-leaves_dataset/cherry-leaves/validation/powdery_mildew/e794c6d4-20ea-4643-87dc-34f87db6cafd___FREC_Pwd.M 4967.JPG\u001b[m\n\t\u001b[31mdeleted:    inputs/cherry-leaves_dataset/cherry-leaves/validation/powdery_mildew/e7fe2094-95a1-40fe-ba1d-687ab0756edb___FREC_Pwd.M 0541.JPG\u001b[m\n\t\u001b[31mdeleted:    inputs/cherry-leaves_dataset/cherry-leaves/validation/powdery_mildew/e7fe2094-95a1-40fe-ba1d-687ab0756edb___FREC_Pwd.M 0541_flipLR.JPG\u001b[m\n\t\u001b[31mdeleted:    inputs/cherry-leaves_dataset/cherry-leaves/validation/powdery_mildew/e97f7a3c-aa95-4861-9f61-857920dd888a___FREC_Pwd.M 4944_flipLR.JPG\u001b[m\n\t\u001b[31mdeleted:    inputs/cherry-leaves_dataset/cherry-leaves/validation/powdery_mildew/ea5bee00-19ac-4b88-a52c-751bb287c087___FREC_Pwd.M 0580.JPG\u001b[m\n\t\u001b[31mdeleted:    inputs/cherry-leaves_dataset/cherry-leaves/validation/powdery_mildew/ec5335a1-204b-4db7-86b2-1dec53bc4be8___FREC_Pwd.M 4638.JPG\u001b[m\n\t\u001b[31mdeleted:    inputs/cherry-leaves_dataset/cherry-leaves/validation/powdery_mildew/ec5335a1-204b-4db7-86b2-1dec53bc4be8___FREC_Pwd.M 4638_flipLR.JPG\u001b[m\n\t\u001b[31mdeleted:    inputs/cherry-leaves_dataset/cherry-leaves/validation/powdery_mildew/ec9ad40e-b581-4777-b3c0-6775e39d6b1c___FREC_Pwd.M 4592_flipLR.JPG\u001b[m\n\t\u001b[31mdeleted:    inputs/cherry-leaves_dataset/cherry-leaves/validation/powdery_mildew/ee6035b6-8ac1-49db-8ea5-079ccea4790d___FREC_Pwd.M 4590.JPG\u001b[m\n\t\u001b[31mdeleted:    inputs/cherry-leaves_dataset/cherry-leaves/validation/powdery_mildew/efdc7774-273a-488d-8153-fb61908e3cfb___FREC_Pwd.M 4467.JPG\u001b[m\n\t\u001b[31mdeleted:    inputs/cherry-leaves_dataset/cherry-leaves/validation/powdery_mildew/f0318151-9783-43f4-a1f1-d8ec05e565df___FREC_Pwd.M 0315_flipLR.JPG\u001b[m\n\t\u001b[31mdeleted:    inputs/cherry-leaves_dataset/cherry-leaves/validation/powdery_mildew/f0af55b8-2e06-4881-ba70-1b1918473a95___FREC_Pwd.M 4731_flipLR.JPG\u001b[m\n\t\u001b[31mdeleted:    inputs/cherry-leaves_dataset/cherry-leaves/validation/powdery_mildew/f2195961-ff27-4628-a344-72aae1d750b4___FREC_Pwd.M 4476.JPG\u001b[m\n\t\u001b[31mdeleted:    inputs/cherry-leaves_dataset/cherry-leaves/validation/powdery_mildew/f22b9bbe-1c84-4e0b-bc23-f9da36765801___FREC_Pwd.M 0472.JPG\u001b[m\n\t\u001b[31mdeleted:    inputs/cherry-leaves_dataset/cherry-leaves/validation/powdery_mildew/f28e7be1-c3ac-4c7b-bc30-94b8985a9614___FREC_Pwd.M 4999_flipLR.JPG\u001b[m\n\t\u001b[31mdeleted:    inputs/cherry-leaves_dataset/cherry-leaves/validation/powdery_mildew/f4b0bedb-975d-484c-8e38-42c8ed478474___FREC_Pwd.M 4873_flipLR.JPG\u001b[m\n\t\u001b[31mdeleted:    inputs/cherry-leaves_dataset/cherry-leaves/validation/powdery_mildew/f5ed7117-153e-4e4a-a466-297bdbd1bf37___FREC_Pwd.M 4787_flipLR.JPG\u001b[m\n\t\u001b[31mdeleted:    inputs/cherry-leaves_dataset/cherry-leaves/validation/powdery_mildew/f66cd543-8b6b-4a13-9581-6a57dd83032e___FREC_Pwd.M 0571_flipLR.JPG\u001b[m\n\t\u001b[31mdeleted:    inputs/cherry-leaves_dataset/cherry-leaves/validation/powdery_mildew/f67d7a09-517c-460f-9c75-aa891586a58b___FREC_Pwd.M 4909_flipLR.JPG\u001b[m\n\t\u001b[31mdeleted:    inputs/cherry-leaves_dataset/cherry-leaves/validation/powdery_mildew/f6bb0a43-56e1-423a-9da5-0e2e71f0d9a6___FREC_Pwd.M 5149_flipLR.JPG\u001b[m\n\t\u001b[31mdeleted:    inputs/cherry-leaves_dataset/cherry-leaves/validation/powdery_mildew/f9dfbedf-66b4-4493-9ce9-6f6aca0cb152___FREC_Pwd.M 4926_flipLR.JPG\u001b[m\n\t\u001b[31mdeleted:    inputs/cherry-leaves_dataset/cherry-leaves/validation/powdery_mildew/fae0ccf9-efd8-47c2-af4d-77a13740e172___FREC_Pwd.M 4779.JPG\u001b[m\n\t\u001b[31mdeleted:    inputs/cherry-leaves_dataset/cherry-leaves/validation/powdery_mildew/fcc71c46-4b27-48c6-99be-528a12895cd0___FREC_Pwd.M 4773_flipLR.JPG\u001b[m\n\t\u001b[31mdeleted:    inputs/cherry-leaves_dataset/cherry-leaves/validation/powdery_mildew/fded10e6-0668-43d4-be77-e091cafc25fd___FREC_Pwd.M 0538.JPG\u001b[m\n\t\u001b[31mdeleted:    inputs/cherry-leaves_dataset/cherry-leaves/validation/powdery_mildew/fded10e6-0668-43d4-be77-e091cafc25fd___FREC_Pwd.M 0538_flipLR.JPG\u001b[m\n\t\u001b[31mdeleted:    inputs/cherry-leaves_dataset/cherry-leaves/validation/powdery_mildew/ff64f373-b8e3-4e59-9e7a-7065957a4dc2___FREC_Pwd.M 0583_flipLR.JPG\u001b[m\n\t\u001b[31mmodified:   jupyter_notebooks/data_collection.ipynb\u001b[m\n\nUntracked files:\n  (use \"git add <file>...\" to include in what will be committed)\n\t\u001b[31minputs/mildew_dataset/\u001b[m\n\nno changes added to commit (use \"git add\" and/or \"git commit -a\")\n"
        }
      ],
      "source": [
        "!git status"
      ]
    },
    {
      "attachments": {},
      "cell_type": "markdown",
      "metadata": {},
      "source": [
        "* Git add"
      ]
    },
    {
      "cell_type": "code",
      "execution_count": 24,
      "metadata": {},
      "outputs": [],
      "source": [
        "!git add ."
      ]
    },
    {
      "attachments": {},
      "cell_type": "markdown",
      "metadata": {},
      "source": [
        "* Git commit"
      ]
    },
    {
      "cell_type": "code",
      "execution_count": 26,
      "metadata": {
        "tags": []
      },
      "outputs": [
        {
          "output_type": "stream",
          "name": "stdout",
          "text": "[main 6274060]  Add data collection\n 1 file changed, 14 insertions(+), 4 deletions(-)\n"
        }
      ],
      "source": [
        "!git commit -am \" Add data collection\""
      ]
    },
    {
      "attachments": {},
      "cell_type": "markdown",
      "metadata": {},
      "source": [
        "* Git Push"
      ]
    },
    {
      "cell_type": "code",
      "execution_count": 27,
      "metadata": {
        "tags": []
      },
      "outputs": [
        {
          "output_type": "stream",
          "name": "stdout",
          "text": "Enumerating objects: 3818, done.\nCounting objects: 100% (3818/3818), done.\nDelta compression using up to 4 threads\nCompressing objects: 100% (3806/3806), done.\nWriting objects: 100% (3809/3809), 48.79 MiB | 13.59 MiB/s, done.\nTotal 3809 (delta 6), reused 1 (delta 1), pack-reused 0\nremote: Resolving deltas: 100% (6/6), completed with 3 local objects.\u001b[K\nTo https://github.com/HumaIlyas/mildew-detection-in-cherry-leaves\n   249477d..6274060  main -> main\n"
        }
      ],
      "source": [
        "! git push"
      ]
    },
    {
      "attachments": {},
      "cell_type": "markdown",
      "metadata": {},
      "source": [
        "* If you don't need to push files to Repo, you may replace this section with \"Conclusions and Next Steps\" and state your conclusions and next steps."
      ]
    },
    {
      "cell_type": "code",
      "execution_count": null,
      "metadata": {
        "id": "aKlnIozA4eQO",
        "outputId": "fd09bc1f-adb1-4511-f6ce-492a6af570c0"
      },
      "outputs": [],
      "source": [
        "import os\n",
        "try:\n",
        "    # create here your folder\n",
        "    # os.makedirs(name='')\n",
        "except Exception as e:\n",
        "    print(e)\n"
      ]
    }
  ],
  "metadata": {
    "accelerator": "GPU",
    "colab": {
      "name": "Data Practitioner Jupyter Notebook.ipynb",
      "provenance": [],
      "toc_visible": true
    },
    "interpreter": {
      "hash": "8b8334dab9339717f727a1deaf837b322d7a41c20d15cc86be99a8e69ceec8ce"
    },
    "kernelspec": {
      "display_name": "Python 3.8.12 64-bit ('3.8.12': pyenv)",
      "name": "python381264bit3812pyenvcaa10f60c93143e295cfb40b26df824f"
    },
    "language_info": {
      "codemirror_mode": {
        "name": "ipython",
        "version": 3
      },
      "file_extension": ".py",
      "mimetype": "text/x-python",
      "name": "python",
      "nbconvert_exporter": "python",
      "pygments_lexer": "ipython3",
      "version": "3.8.12-final"
    },
    "orig_nbformat": 2
  },
  "nbformat": 4,
  "nbformat_minor": 2
}