{
  "cells": [
    {
      "attachments": {},
      "cell_type": "markdown",
      "metadata": {
        "id": "0aStgWSO0E0E"
      },
      "source": [
        "# **Data Collection - Fetch Dataset from Kaggle**"
      ]
    },
    {
      "attachments": {},
      "cell_type": "markdown",
      "metadata": {
        "id": "1eLEkw5O0ECa"
      },
      "source": [
        "## Objectives\n",
        "* Fetch data from Kaggle and save as raw data to prepare it for further processes.\n",
        "\n",
        "## Inputs\n",
        "* Kaggle JSON file - the authentication token \n",
        "\n",
        "## Outputs\n",
        "* Generate Dataset: inputs/mildew_dataset/cherry-leaves \n",
        "\n",
        "## Additional Comments\n",
        "* No additional comments\n",
        "\n"
      ]
    },
    {
      "attachments": {},
      "cell_type": "markdown",
      "metadata": {},
      "source": [
        "## Import pagkages"
      ]
    },
    {
      "cell_type": "code",
      "execution_count": 1,
      "metadata": {
        "tags": [
          "outputPrepend"
        ]
      },
      "outputs": [
        {
          "output_type": "stream",
          "name": "stdout",
          "text": "uirement already satisfied: h5py==3.1.0 in /home/codeany/.pyenv/versions/3.8.12/lib/python3.8/site-packages (from -r /workspaces/mildew-detection-in-cherry-leaves/requirements.txt (line 18)) (3.1.0)\nRequirement already satisfied: joblib==1.2.0 in /home/codeany/.pyenv/versions/3.8.12/lib/python3.8/site-packages (from -r /workspaces/mildew-detection-in-cherry-leaves/requirements.txt (line 19)) (1.2.0)\nRequirement already satisfied: kaggle==1.5.12 in /home/codeany/.pyenv/versions/3.8.12/lib/python3.8/site-packages (from -r /workspaces/mildew-detection-in-cherry-leaves/requirements.txt (line 20)) (1.5.12)\nRequirement already satisfied: keras==2.6.0 in /home/codeany/.pyenv/versions/3.8.12/lib/python3.8/site-packages (from -r /workspaces/mildew-detection-in-cherry-leaves/requirements.txt (line 21)) (2.6.0)\nRequirement already satisfied: Keras-Preprocessing==1.1.2 in /home/codeany/.pyenv/versions/3.8.12/lib/python3.8/site-packages (from -r /workspaces/mildew-detection-in-cherry-leaves/requirements.txt (line 22)) (1.1.2)\nRequirement already satisfied: keras-tuner==1.1.3 in /home/codeany/.pyenv/versions/3.8.12/lib/python3.8/site-packages (from -r /workspaces/mildew-detection-in-cherry-leaves/requirements.txt (line 23)) (1.1.3)\nRequirement already satisfied: kiwisolver==1.4.4 in /home/codeany/.pyenv/versions/3.8.12/lib/python3.8/site-packages (from -r /workspaces/mildew-detection-in-cherry-leaves/requirements.txt (line 24)) (1.4.4)\nRequirement already satisfied: kt-legacy==1.0.4 in /home/codeany/.pyenv/versions/3.8.12/lib/python3.8/site-packages (from -r /workspaces/mildew-detection-in-cherry-leaves/requirements.txt (line 25)) (1.0.4)\nRequirement already satisfied: Markdown==3.4.1 in /home/codeany/.pyenv/versions/3.8.12/lib/python3.8/site-packages (from -r /workspaces/mildew-detection-in-cherry-leaves/requirements.txt (line 26)) (3.4.1)\nRequirement already satisfied: matplotlib==3.3.1 in /home/codeany/.pyenv/versions/3.8.12/lib/python3.8/site-packages (from -r /workspaces/mildew-detection-in-cherry-leaves/requirements.txt (line 27)) (3.3.1)\nRequirement already satisfied: numpy==1.19.2 in /home/codeany/.pyenv/versions/3.8.12/lib/python3.8/site-packages (from -r /workspaces/mildew-detection-in-cherry-leaves/requirements.txt (line 28)) (1.19.2)\nRequirement already satisfied: oauthlib==3.2.2 in /home/codeany/.pyenv/versions/3.8.12/lib/python3.8/site-packages (from -r /workspaces/mildew-detection-in-cherry-leaves/requirements.txt (line 29)) (3.2.2)\nRequirement already satisfied: opt-einsum==3.3.0 in /home/codeany/.pyenv/versions/3.8.12/lib/python3.8/site-packages (from -r /workspaces/mildew-detection-in-cherry-leaves/requirements.txt (line 30)) (3.3.0)\nRequirement already satisfied: pandas==1.1.2 in /home/codeany/.pyenv/versions/3.8.12/lib/python3.8/site-packages (from -r /workspaces/mildew-detection-in-cherry-leaves/requirements.txt (line 31)) (1.1.2)\nRequirement already satisfied: Pillow==9.3.0 in /home/codeany/.pyenv/versions/3.8.12/lib/python3.8/site-packages (from -r /workspaces/mildew-detection-in-cherry-leaves/requirements.txt (line 32)) (9.3.0)\nRequirement already satisfied: plotly==4.12.0 in /home/codeany/.pyenv/versions/3.8.12/lib/python3.8/site-packages (from -r /workspaces/mildew-detection-in-cherry-leaves/requirements.txt (line 33)) (4.12.0)\nRequirement already satisfied: protobuf==3.20.3 in /home/codeany/.pyenv/versions/3.8.12/lib/python3.8/site-packages (from -r /workspaces/mildew-detection-in-cherry-leaves/requirements.txt (line 34)) (3.20.3)\nRequirement already satisfied: pyarrow==10.0.1 in /home/codeany/.pyenv/versions/3.8.12/lib/python3.8/site-packages (from -r /workspaces/mildew-detection-in-cherry-leaves/requirements.txt (line 35)) (10.0.1)\nRequirement already satisfied: pyasn1==0.4.8 in /home/codeany/.pyenv/versions/3.8.12/lib/python3.8/site-packages (from -r /workspaces/mildew-detection-in-cherry-leaves/requirements.txt (line 36)) (0.4.8)\nRequirement already satisfied: pyasn1-modules==0.2.8 in /home/codeany/.pyenv/versions/3.8.12/lib/python3.8/site-packages (from -r /workspaces/mildew-detection-in-cherry-leaves/requirements.txt (line 37)) (0.2.8)\nRequirement already satisfied: pydeck==0.8.0 in /home/codeany/.pyenv/versions/3.8.12/lib/python3.8/site-packages (from -r /workspaces/mildew-detection-in-cherry-leaves/requirements.txt (line 38)) (0.8.0)\nRequirement already satisfied: python-slugify==7.0.0 in /home/codeany/.pyenv/versions/3.8.12/lib/python3.8/site-packages (from -r /workspaces/mildew-detection-in-cherry-leaves/requirements.txt (line 39)) (7.0.0)\nRequirement already satisfied: pytz==2022.6 in /home/codeany/.pyenv/versions/3.8.12/lib/python3.8/site-packages (from -r /workspaces/mildew-detection-in-cherry-leaves/requirements.txt (line 40)) (2022.6)\nRequirement already satisfied: pytz-deprecation-shim==0.1.0.post0 in /home/codeany/.pyenv/versions/3.8.12/lib/python3.8/site-packages (from -r /workspaces/mildew-detection-in-cherry-leaves/requirements.txt (line 41)) (0.1.0.post0)\nRequirement already satisfied: requests-oauthlib==1.3.1 in /home/codeany/.pyenv/versions/3.8.12/lib/python3.8/site-packages (from -r /workspaces/mildew-detection-in-cherry-leaves/requirements.txt (line 42)) (1.3.1)\nRequirement already satisfied: retrying==1.3.4 in /home/codeany/.pyenv/versions/3.8.12/lib/python3.8/site-packages (from -r /workspaces/mildew-detection-in-cherry-leaves/requirements.txt (line 43)) (1.3.4)\nRequirement already satisfied: rsa==4.9 in /home/codeany/.pyenv/versions/3.8.12/lib/python3.8/site-packages (from -r /workspaces/mildew-detection-in-cherry-leaves/requirements.txt (line 44)) (4.9)\nRequirement already satisfied: scikit-learn==0.24.2 in /home/codeany/.pyenv/versions/3.8.12/lib/python3.8/site-packages (from -r /workspaces/mildew-detection-in-cherry-leaves/requirements.txt (line 45)) (0.24.2)\nRequirement already satisfied: scipy==1.9.3 in /home/codeany/.pyenv/versions/3.8.12/lib/python3.8/site-packages (from -r /workspaces/mildew-detection-in-cherry-leaves/requirements.txt (line 46)) (1.9.3)\nRequirement already satisfied: seaborn==0.11.0 in /home/codeany/.pyenv/versions/3.8.12/lib/python3.8/site-packages (from -r /workspaces/mildew-detection-in-cherry-leaves/requirements.txt (line 47)) (0.11.0)\nRequirement already satisfied: six==1.15.0 in /home/codeany/.pyenv/versions/3.8.12/lib/python3.8/site-packages (from -r /workspaces/mildew-detection-in-cherry-leaves/requirements.txt (line 48)) (1.15.0)\nRequirement already satisfied: streamlit==0.85.0 in /home/codeany/.pyenv/versions/3.8.12/lib/python3.8/site-packages (from -r /workspaces/mildew-detection-in-cherry-leaves/requirements.txt (line 49)) (0.85.0)\nRequirement already satisfied: tensorboard==2.11.0 in /home/codeany/.pyenv/versions/3.8.12/lib/python3.8/site-packages (from -r /workspaces/mildew-detection-in-cherry-leaves/requirements.txt (line 50)) (2.11.0)\nRequirement already satisfied: tensorboard-data-server==0.6.1 in /home/codeany/.pyenv/versions/3.8.12/lib/python3.8/site-packages (from -r /workspaces/mildew-detection-in-cherry-leaves/requirements.txt (line 51)) (0.6.1)\nRequirement already satisfied: tensorboard-plugin-wit==1.8.1 in /home/codeany/.pyenv/versions/3.8.12/lib/python3.8/site-packages (from -r /workspaces/mildew-detection-in-cherry-leaves/requirements.txt (line 52)) (1.8.1)\nRequirement already satisfied: tensorflow-cpu==2.6.0 in /home/codeany/.pyenv/versions/3.8.12/lib/python3.8/site-packages (from -r /workspaces/mildew-detection-in-cherry-leaves/requirements.txt (line 53)) (2.6.0)\nRequirement already satisfied: tensorflow-estimator==2.11.0 in /home/codeany/.pyenv/versions/3.8.12/lib/python3.8/site-packages (from -r /workspaces/mildew-detection-in-cherry-leaves/requirements.txt (line 54)) (2.11.0)\nRequirement already satisfied: termcolor==1.1.0 in /home/codeany/.pyenv/versions/3.8.12/lib/python3.8/site-packages (from -r /workspaces/mildew-detection-in-cherry-leaves/requirements.txt (line 55)) (1.1.0)\nRequirement already satisfied: text-unidecode==1.3 in /home/codeany/.pyenv/versions/3.8.12/lib/python3.8/site-packages (from -r /workspaces/mildew-detection-in-cherry-leaves/requirements.txt (line 56)) (1.3)\nRequirement already satisfied: threadpoolctl==3.1.0 in /home/codeany/.pyenv/versions/3.8.12/lib/python3.8/site-packages (from -r /workspaces/mildew-detection-in-cherry-leaves/requirements.txt (line 57)) (3.1.0)\nRequirement already satisfied: toml==0.10.2 in /home/codeany/.pyenv/versions/3.8.12/lib/python3.8/site-packages (from -r /workspaces/mildew-detection-in-cherry-leaves/requirements.txt (line 58)) (0.10.2)\nRequirement already satisfied: toolz==0.12.0 in /home/codeany/.pyenv/versions/3.8.12/lib/python3.8/site-packages (from -r /workspaces/mildew-detection-in-cherry-leaves/requirements.txt (line 59)) (0.12.0)\nRequirement already satisfied: tqdm==4.64.1 in /home/codeany/.pyenv/versions/3.8.12/lib/python3.8/site-packages (from -r /workspaces/mildew-detection-in-cherry-leaves/requirements.txt (line 60)) (4.64.1)\nRequirement already satisfied: typing-extensions==3.7.4.3 in /home/codeany/.pyenv/versions/3.8.12/lib/python3.8/site-packages (from -r /workspaces/mildew-detection-in-cherry-leaves/requirements.txt (line 61)) (3.7.4.3)\nRequirement already satisfied: tzdata==2022.7 in /home/codeany/.pyenv/versions/3.8.12/lib/python3.8/site-packages (from -r /workspaces/mildew-detection-in-cherry-leaves/requirements.txt (line 62)) (2022.7)\nRequirement already satisfied: tzlocal==4.2 in /home/codeany/.pyenv/versions/3.8.12/lib/python3.8/site-packages (from -r /workspaces/mildew-detection-in-cherry-leaves/requirements.txt (line 63)) (4.2)\nRequirement already satisfied: validators==0.20.0 in /home/codeany/.pyenv/versions/3.8.12/lib/python3.8/site-packages (from -r /workspaces/mildew-detection-in-cherry-leaves/requirements.txt (line 64)) (0.20.0)\nRequirement already satisfied: watchdog==2.1.9 in /home/codeany/.pyenv/versions/3.8.12/lib/python3.8/site-packages (from -r /workspaces/mildew-detection-in-cherry-leaves/requirements.txt (line 65)) (2.1.9)\nRequirement already satisfied: Werkzeug==2.2.2 in /home/codeany/.pyenv/versions/3.8.12/lib/python3.8/site-packages (from -r /workspaces/mildew-detection-in-cherry-leaves/requirements.txt (line 66)) (2.2.2)\nRequirement already satisfied: wrapt==1.12.1 in /home/codeany/.pyenv/versions/3.8.12/lib/python3.8/site-packages (from -r /workspaces/mildew-detection-in-cherry-leaves/requirements.txt (line 67)) (1.12.1)\nRequirement already satisfied: entrypoints in /home/codeany/.pyenv/versions/3.8.12/lib/python3.8/site-packages (from altair==4.2.0->-r /workspaces/mildew-detection-in-cherry-leaves/requirements.txt (line 2)) (0.4)\nRequirement already satisfied: jinja2 in /home/codeany/.pyenv/versions/3.8.12/lib/python3.8/site-packages (from altair==4.2.0->-r /workspaces/mildew-detection-in-cherry-leaves/requirements.txt (line 2)) (3.1.2)\nRequirement already satisfied: jsonschema>=3.0 in /home/codeany/.pyenv/versions/3.8.12/lib/python3.8/site-packages (from altair==4.2.0->-r /workspaces/mildew-detection-in-cherry-leaves/requirements.txt (line 2)) (4.17.3)\nRequirement already satisfied: wheel<1.0,>=0.23.0 in /home/codeany/.pyenv/versions/3.8.12/lib/python3.8/site-packages (from astunparse==1.6.3->-r /workspaces/mildew-detection-in-cherry-leaves/requirements.txt (line 4)) (0.40.0)\nRequirement already satisfied: certifi in /home/codeany/.pyenv/versions/3.8.12/lib/python3.8/site-packages (from kaggle==1.5.12->-r /workspaces/mildew-detection-in-cherry-leaves/requirements.txt (line 20)) (2023.5.7)\nRequirement already satisfied: python-dateutil in /home/codeany/.pyenv/versions/3.8.12/lib/python3.8/site-packages (from kaggle==1.5.12->-r /workspaces/mildew-detection-in-cherry-leaves/requirements.txt (line 20)) (2.8.2)\nRequirement already satisfied: requests in /home/codeany/.pyenv/versions/3.8.12/lib/python3.8/site-packages (from kaggle==1.5.12->-r /workspaces/mildew-detection-in-cherry-leaves/requirements.txt (line 20)) (2.31.0)\nRequirement already satisfied: urllib3 in /home/codeany/.pyenv/versions/3.8.12/lib/python3.8/site-packages (from kaggle==1.5.12->-r /workspaces/mildew-detection-in-cherry-leaves/requirements.txt (line 20)) (2.0.3)\nRequirement already satisfied: packaging in /home/codeany/.pyenv/versions/3.8.12/lib/python3.8/site-packages (from keras-tuner==1.1.3->-r /workspaces/mildew-detection-in-cherry-leaves/requirements.txt (line 23)) (23.1)\nRequirement already satisfied: ipython in /home/codeany/.pyenv/versions/3.8.12/lib/python3.8/site-packages (from keras-tuner==1.1.3->-r /workspaces/mildew-detection-in-cherry-leaves/requirements.txt (line 23)) (8.12.2)\nRequirement already satisfied: importlib-metadata>=4.4 in /home/codeany/.pyenv/versions/3.8.12/lib/python3.8/site-packages (from Markdown==3.4.1->-r /workspaces/mildew-detection-in-cherry-leaves/requirements.txt (line 26)) (6.7.0)\nRequirement already satisfied: pyparsing!=2.0.4,!=2.1.2,!=2.1.6,>=2.0.3 in /home/codeany/.pyenv/versions/3.8.12/lib/python3.8/site-packages (from matplotlib==3.3.1->-r /workspaces/mildew-detection-in-cherry-leaves/requirements.txt (line 27)) (3.1.0)\nRequirement already satisfied: attrs in /home/codeany/.pyenv/versions/3.8.12/lib/python3.8/site-packages (from streamlit==0.85.0->-r /workspaces/mildew-detection-in-cherry-leaves/requirements.txt (line 49)) (23.1.0)\nRequirement already satisfied: tornado>=5.0 in /home/codeany/.pyenv/versions/3.8.12/lib/python3.8/site-packages (from streamlit==0.85.0->-r /workspaces/mildew-detection-in-cherry-leaves/requirements.txt (line 49)) (6.3.2)\nRequirement already satisfied: gitpython in /home/codeany/.pyenv/versions/3.8.12/lib/python3.8/site-packages (from streamlit==0.85.0->-r /workspaces/mildew-detection-in-cherry-leaves/requirements.txt (line 49)) (3.1.31)\nRequirement already satisfied: setuptools>=41.0.0 in /home/codeany/.pyenv/versions/3.8.12/lib/python3.8/site-packages (from tensorboard==2.11.0->-r /workspaces/mildew-detection-in-cherry-leaves/requirements.txt (line 50)) (68.0.0)\nRequirement already satisfied: decorator>=3.4.0 in /home/codeany/.pyenv/versions/3.8.12/lib/python3.8/site-packages (from validators==0.20.0->-r /workspaces/mildew-detection-in-cherry-leaves/requirements.txt (line 64)) (5.1.1)\nRequirement already satisfied: MarkupSafe>=2.1.1 in /home/codeany/.pyenv/versions/3.8.12/lib/python3.8/site-packages (from Werkzeug==2.2.2->-r /workspaces/mildew-detection-in-cherry-leaves/requirements.txt (line 66)) (2.1.3)\nRequirement already satisfied: zipp>=0.5 in /home/codeany/.pyenv/versions/3.8.12/lib/python3.8/site-packages (from importlib-metadata>=4.4->Markdown==3.4.1->-r /workspaces/mildew-detection-in-cherry-leaves/requirements.txt (line 26)) (3.15.0)\nRequirement already satisfied: importlib-resources>=1.4.0 in /home/codeany/.pyenv/versions/3.8.12/lib/python3.8/site-packages (from jsonschema>=3.0->altair==4.2.0->-r /workspaces/mildew-detection-in-cherry-leaves/requirements.txt (line 2)) (5.12.0)\nRequirement already satisfied: pkgutil-resolve-name>=1.3.10 in /home/codeany/.pyenv/versions/3.8.12/lib/python3.8/site-packages (from jsonschema>=3.0->altair==4.2.0->-r /workspaces/mildew-detection-in-cherry-leaves/requirements.txt (line 2)) (1.3.10)\nRequirement already satisfied: pyrsistent!=0.17.0,!=0.17.1,!=0.17.2,>=0.14.0 in /home/codeany/.pyenv/versions/3.8.12/lib/python3.8/site-packages (from jsonschema>=3.0->altair==4.2.0->-r /workspaces/mildew-detection-in-cherry-leaves/requirements.txt (line 2)) (0.19.3)\nRequirement already satisfied: charset-normalizer<4,>=2 in /home/codeany/.pyenv/versions/3.8.12/lib/python3.8/site-packages (from requests->kaggle==1.5.12->-r /workspaces/mildew-detection-in-cherry-leaves/requirements.txt (line 20)) (3.1.0)\nRequirement already satisfied: idna<4,>=2.5 in /home/codeany/.pyenv/versions/3.8.12/lib/python3.8/site-packages (from requests->kaggle==1.5.12->-r /workspaces/mildew-detection-in-cherry-leaves/requirements.txt (line 20)) (3.4)\nRequirement already satisfied: gitdb<5,>=4.0.1 in /home/codeany/.pyenv/versions/3.8.12/lib/python3.8/site-packages (from gitpython->streamlit==0.85.0->-r /workspaces/mildew-detection-in-cherry-leaves/requirements.txt (line 49)) (4.0.10)\nRequirement already satisfied: backcall in /home/codeany/.pyenv/versions/3.8.12/lib/python3.8/site-packages (from ipython->keras-tuner==1.1.3->-r /workspaces/mildew-detection-in-cherry-leaves/requirements.txt (line 23)) (0.2.0)\nRequirement already satisfied: jedi>=0.16 in /home/codeany/.pyenv/versions/3.8.12/lib/python3.8/site-packages (from ipython->keras-tuner==1.1.3->-r /workspaces/mildew-detection-in-cherry-leaves/requirements.txt (line 23)) (0.18.2)\nRequirement already satisfied: matplotlib-inline in /home/codeany/.pyenv/versions/3.8.12/lib/python3.8/site-packages (from ipython->keras-tuner==1.1.3->-r /workspaces/mildew-detection-in-cherry-leaves/requirements.txt (line 23)) (0.1.6)\nRequirement already satisfied: pickleshare in /home/codeany/.pyenv/versions/3.8.12/lib/python3.8/site-packages (from ipython->keras-tuner==1.1.3->-r /workspaces/mildew-detection-in-cherry-leaves/requirements.txt (line 23)) (0.7.5)\nRequirement already satisfied: prompt-toolkit!=3.0.37,<3.1.0,>=3.0.30 in /home/codeany/.pyenv/versions/3.8.12/lib/python3.8/site-packages (from ipython->keras-tuner==1.1.3->-r /workspaces/mildew-detection-in-cherry-leaves/requirements.txt (line 23)) (3.0.38)\nRequirement already satisfied: pygments>=2.4.0 in /home/codeany/.pyenv/versions/3.8.12/lib/python3.8/site-packages (from ipython->keras-tuner==1.1.3->-r /workspaces/mildew-detection-in-cherry-leaves/requirements.txt (line 23)) (2.15.1)\nRequirement already satisfied: stack-data in /home/codeany/.pyenv/versions/3.8.12/lib/python3.8/site-packages (from ipython->keras-tuner==1.1.3->-r /workspaces/mildew-detection-in-cherry-leaves/requirements.txt (line 23)) (0.6.2)\nRequirement already satisfied: traitlets>=5 in /home/codeany/.pyenv/versions/3.8.12/lib/python3.8/site-packages (from ipython->keras-tuner==1.1.3->-r /workspaces/mildew-detection-in-cherry-leaves/requirements.txt (line 23)) (5.9.0)\nRequirement already satisfied: pexpect>4.3 in /home/codeany/.pyenv/versions/3.8.12/lib/python3.8/site-packages (from ipython->keras-tuner==1.1.3->-r /workspaces/mildew-detection-in-cherry-leaves/requirements.txt (line 23)) (4.8.0)\nRequirement already satisfied: smmap<6,>=3.0.1 in /home/codeany/.pyenv/versions/3.8.12/lib/python3.8/site-packages (from gitdb<5,>=4.0.1->gitpython->streamlit==0.85.0->-r /workspaces/mildew-detection-in-cherry-leaves/requirements.txt (line 49)) (5.0.0)\nRequirement already satisfied: parso<0.9.0,>=0.8.0 in /home/codeany/.pyenv/versions/3.8.12/lib/python3.8/site-packages (from jedi>=0.16->ipython->keras-tuner==1.1.3->-r /workspaces/mildew-detection-in-cherry-leaves/requirements.txt (line 23)) (0.8.3)\nRequirement already satisfied: ptyprocess>=0.5 in /home/codeany/.pyenv/versions/3.8.12/lib/python3.8/site-packages (from pexpect>4.3->ipython->keras-tuner==1.1.3->-r /workspaces/mildew-detection-in-cherry-leaves/requirements.txt (line 23)) (0.7.0)\nRequirement already satisfied: wcwidth in /home/codeany/.pyenv/versions/3.8.12/lib/python3.8/site-packages (from prompt-toolkit!=3.0.37,<3.1.0,>=3.0.30->ipython->keras-tuner==1.1.3->-r /workspaces/mildew-detection-in-cherry-leaves/requirements.txt (line 23)) (0.2.6)\nRequirement already satisfied: executing>=1.2.0 in /home/codeany/.pyenv/versions/3.8.12/lib/python3.8/site-packages (from stack-data->ipython->keras-tuner==1.1.3->-r /workspaces/mildew-detection-in-cherry-leaves/requirements.txt (line 23)) (1.2.0)\nRequirement already satisfied: asttokens>=2.1.0 in /home/codeany/.pyenv/versions/3.8.12/lib/python3.8/site-packages (from stack-data->ipython->keras-tuner==1.1.3->-r /workspaces/mildew-detection-in-cherry-leaves/requirements.txt (line 23)) (2.2.1)\nRequirement already satisfied: pure-eval in /home/codeany/.pyenv/versions/3.8.12/lib/python3.8/site-packages (from stack-data->ipython->keras-tuner==1.1.3->-r /workspaces/mildew-detection-in-cherry-leaves/requirements.txt (line 23)) (0.2.2)\n"
        }
      ],
      "source": [
        "! pip install -r /workspaces/mildew-detection-in-cherry-leaves/requirements.txt"
      ]
    },
    {
      "cell_type": "code",
      "execution_count": 2,
      "metadata": {
        "tags": []
      },
      "outputs": [],
      "source": [
        "import numpy\n",
        "import os"
      ]
    },
    {
      "attachments": {},
      "cell_type": "markdown",
      "metadata": {
        "id": "9uWZXH9LwoQg"
      },
      "source": [
        "## Change Working Directory"
      ]
    },
    {
      "attachments": {},
      "cell_type": "markdown",
      "metadata": {
        "id": "aOGIGS-uz3i2"
      },
      "source": [
        "* To change the working directory from its current folder to its parent folder\n",
        "* To access the current directory with os.getcwd()"
      ]
    },
    {
      "cell_type": "code",
      "execution_count": 3,
      "metadata": {
        "id": "wZfF_j-Bz3i4",
        "outputId": "66943449-1436-4c3d-85c7-b85f9f78349b"
      },
      "outputs": [
        {
          "output_type": "execute_result",
          "data": {
            "text/plain": "'/workspaces/mildew-detection-in-cherry-leaves/jupyter_notebooks'"
          },
          "metadata": {},
          "execution_count": 3
        }
      ],
      "source": [
        "import os\n",
        "current_dir = os.getcwd()\n",
        "current_dir"
      ]
    },
    {
      "attachments": {},
      "cell_type": "markdown",
      "metadata": {
        "id": "9MWW8E7lz3i7"
      },
      "source": [
        "To make the parent of the current directory the new current directory\n",
        "* os.path.dirname() gets the parent directory\n",
        "* os.chdir() defines the new current directory"
      ]
    },
    {
      "cell_type": "code",
      "execution_count": 4,
      "metadata": {
        "id": "TwHsQRWjz3i9",
        "outputId": "86849db3-cd2f-4cc5-ebb8-2d0caafa1a2c",
        "tags": []
      },
      "outputs": [
        {
          "output_type": "stream",
          "name": "stdout",
          "text": "You set a new current directory\n"
        }
      ],
      "source": [
        "os.chdir(os.path.dirname(current_dir))\n",
        "print(\"You set a new current directory\")"
      ]
    },
    {
      "attachments": {},
      "cell_type": "markdown",
      "metadata": {
        "id": "M_xPk_Ijz3i-"
      },
      "source": [
        "To confirm the new current directory"
      ]
    },
    {
      "cell_type": "code",
      "execution_count": 5,
      "metadata": {
        "id": "vz3S-_kjz3jA",
        "outputId": "00b79ae4-75d0-4a96-d193-ac9ef9847ea2"
      },
      "outputs": [
        {
          "output_type": "execute_result",
          "data": {
            "text/plain": "'/workspaces/mildew-detection-in-cherry-leaves'"
          },
          "metadata": {},
          "execution_count": 5
        }
      ],
      "source": [
        "current_dir = os.getcwd()\n",
        "current_dir"
      ]
    },
    {
      "attachments": {},
      "cell_type": "markdown",
      "metadata": {
        "id": "-mavJ8DibrcQ"
      },
      "source": [
        "# Install Kaggle"
      ]
    },
    {
      "cell_type": "code",
      "execution_count": 6,
      "metadata": {
        "tags": []
      },
      "outputs": [
        {
          "output_type": "stream",
          "name": "stdout",
          "text": "Requirement already satisfied: kaggle in /home/codeany/.pyenv/versions/3.8.12/lib/python3.8/site-packages (1.5.12)\nRequirement already satisfied: six>=1.10 in /home/codeany/.pyenv/versions/3.8.12/lib/python3.8/site-packages (from kaggle) (1.15.0)\nRequirement already satisfied: certifi in /home/codeany/.pyenv/versions/3.8.12/lib/python3.8/site-packages (from kaggle) (2023.5.7)\nRequirement already satisfied: python-dateutil in /home/codeany/.pyenv/versions/3.8.12/lib/python3.8/site-packages (from kaggle) (2.8.2)\nRequirement already satisfied: requests in /home/codeany/.pyenv/versions/3.8.12/lib/python3.8/site-packages (from kaggle) (2.31.0)\nRequirement already satisfied: tqdm in /home/codeany/.pyenv/versions/3.8.12/lib/python3.8/site-packages (from kaggle) (4.64.1)\nRequirement already satisfied: python-slugify in /home/codeany/.pyenv/versions/3.8.12/lib/python3.8/site-packages (from kaggle) (7.0.0)\nRequirement already satisfied: urllib3 in /home/codeany/.pyenv/versions/3.8.12/lib/python3.8/site-packages (from kaggle) (2.0.3)\nRequirement already satisfied: text-unidecode>=1.3 in /home/codeany/.pyenv/versions/3.8.12/lib/python3.8/site-packages (from python-slugify->kaggle) (1.3)\nRequirement already satisfied: charset-normalizer<4,>=2 in /home/codeany/.pyenv/versions/3.8.12/lib/python3.8/site-packages (from requests->kaggle) (3.1.0)\nRequirement already satisfied: idna<4,>=2.5 in /home/codeany/.pyenv/versions/3.8.12/lib/python3.8/site-packages (from requests->kaggle) (3.4)\nNote: you may need to restart the kernel to use updated packages.\n"
        }
      ],
      "source": [
        "# install kaggle package\n",
        "%pip install kaggle"
      ]
    },
    {
      "attachments": {},
      "cell_type": "markdown",
      "metadata": {
        "id": "ZY3l0-AxO93d"
      },
      "source": [
        "---"
      ]
    },
    {
      "attachments": {},
      "cell_type": "markdown",
      "metadata": {
        "id": "uFQo3ycuO-v6"
      },
      "source": [
        "Run the cell below to change the kaggle configuration directory to current working directory and permission of kaggle authentication JSON"
      ]
    },
    {
      "cell_type": "code",
      "execution_count": 7,
      "metadata": {
        "tags": []
      },
      "outputs": [],
      "source": [
        "os.environ['KAGGLE_CONFIG_DIR'] = os.getcwd()\n",
        "! chmod 600 kaggle.json"
      ]
    },
    {
      "attachments": {},
      "cell_type": "markdown",
      "metadata": {},
      "source": [
        "* Get the dataset path from Kaggle url.  When you are viewing the dataset at Kaggle, check what is after https://www.kaggle.com/ (in some case kaggle.com/datasets). You should copy that at KaggleDatasetPath.\n",
        "\n",
        "* Set the destination folder\n",
        "* Set the Kaggle Dataset and Download it"
      ]
    },
    {
      "cell_type": "code",
      "execution_count": 8,
      "metadata": {
        "tags": []
      },
      "outputs": [
        {
          "output_type": "stream",
          "name": "stdout",
          "text": "Downloading cherry-leaves.zip to inputs/mildew_dataset\n 91%|██████████████████████████████████▌   | 50.0M/55.0M [00:00<00:00, 57.0MB/s]\n100%|██████████████████████████████████████| 55.0M/55.0M [00:00<00:00, 70.4MB/s]\n"
        }
      ],
      "source": [
        "# Set the destination folder to download Kaggle Dataset\n",
        "KaggleDatasetPath = \"codeinstitute/cherry-leaves\"\n",
        "DestinationFolder = \"inputs/mildew_dataset\"   \n",
        "! kaggle datasets download -d {KaggleDatasetPath} -p {DestinationFolder}"
      ]
    },
    {
      "attachments": {},
      "cell_type": "markdown",
      "metadata": {},
      "source": [
        "* Unzip the downloaded file, and delete the zip file."
      ]
    },
    {
      "cell_type": "code",
      "execution_count": 9,
      "metadata": {},
      "outputs": [],
      "source": [
        "import zipfile\n",
        "with zipfile.ZipFile(DestinationFolder + '/cherry-leaves.zip', 'r') as zip_ref:\n",
        "    zip_ref.extractall(DestinationFolder)\n",
        "\n",
        "os.remove(DestinationFolder + '/cherry-leaves.zip')"
      ]
    },
    {
      "attachments": {},
      "cell_type": "markdown",
      "metadata": {},
      "source": [
        "# Data Preparation"
      ]
    },
    {
      "attachments": {},
      "cell_type": "markdown",
      "metadata": {},
      "source": [
        "### Check and remove non-image files"
      ]
    },
    {
      "cell_type": "code",
      "execution_count": 10,
      "metadata": {},
      "outputs": [],
      "source": [
        "# Function to remove non-image files\n",
        "def remove_non_image_file(my_data_dir):\n",
        "    image_extension = ('.png', '.jpg', '.jpeg')\n",
        "    folders = os.listdir(my_data_dir) \n",
        "    for folder in folders:\n",
        "        files = os.listdir(my_data_dir + '/' + folder)\n",
        "        # print(files)\n",
        "        i = []\n",
        "        j = []\n",
        "        for given_file in files:\n",
        "            if not given_file.lower().endswith(image_extension):\n",
        "                file_location = my_data_dir + '/' + folder + '/' + given_file\n",
        "                os.remove(file_location) # remove non-image file\n",
        "                i.append(1)\n",
        "            else:\n",
        "                j.append(1)\n",
        "                pass\n",
        "        print(f\"Folder: {folder} - has image file\",len(j))\n",
        "        print(f\"Folder: {folder} - has non-image file\",len(i))"
      ]
    },
    {
      "cell_type": "code",
      "execution_count": 11,
      "metadata": {
        "tags": []
      },
      "outputs": [
        {
          "output_type": "stream",
          "name": "stdout",
          "text": "Folder: healthy - has image file 2104\nFolder: healthy - has non-image file 0\nFolder: powdery_mildew - has image file 2104\nFolder: powdery_mildew - has non-image file 0\n"
        }
      ],
      "source": [
        "# Remove non-image files\n",
        "remove_non_image_file(my_data_dir='inputs/mildew_dataset/cherry-leaves')"
      ]
    },
    {
      "attachments": {},
      "cell_type": "markdown",
      "metadata": {},
      "source": [
        "### Split train, validation, and test sets"
      ]
    },
    {
      "cell_type": "code",
      "execution_count": 12,
      "metadata": {},
      "outputs": [],
      "source": [
        "import os\n",
        "import shutil\n",
        "import random\n",
        "import joblib\n",
        "\n",
        "my_data_dir=\"inputs/mildew_dataset/cherry-leaves\"\n",
        "\n",
        "# Function to split train, validation, and test images\n",
        "def split_train_validation_test_images(my_data_dir, train_set_ratio, validation_set_ratio, test_set_ratio):\n",
        "  \n",
        "  if train_set_ratio + validation_set_ratio + test_set_ratio != 1.0:\n",
        "    print(\"train_set_ratio + validation_set_ratio + test_set_ratio should sum 1.0\")\n",
        "    return\n",
        "\n",
        "  # gets classes labels\n",
        "  labels = os.listdir(my_data_dir) # To get only the folder name\n",
        "  if 'test' in labels:\n",
        "    pass\n",
        "  else: \n",
        "    # create train, validation, and test folders with classess labels sub-folder\n",
        "    for folder in ['train','validation','test']:\n",
        "      for label in labels:\n",
        "        os.makedirs(name=my_data_dir+ '/' + folder + '/' + label)\n",
        "\n",
        "    for label in labels:\n",
        "\n",
        "      files = os.listdir(my_data_dir + '/' + label)\n",
        "      random.shuffle(files)\n",
        "\n",
        "      train_set_files_qty = int(len(files) * train_set_ratio)\n",
        "      validation_set_files_qty = int(len(files) * validation_set_ratio)\n",
        "\n",
        "      count = 1\n",
        "      for file_name in files:\n",
        "        if count <= train_set_files_qty:\n",
        "          # move given file to train set\n",
        "          shutil.move(my_data_dir + '/' + label + '/' + file_name,\n",
        "                      my_data_dir + '/train/' + label + '/' + file_name)\n",
        "          \n",
        "\n",
        "        elif count <= (train_set_files_qty + validation_set_files_qty ):\n",
        "          # move given file to validation set\n",
        "          shutil.move(my_data_dir + '/' + label + '/' + file_name,\n",
        "                      my_data_dir + '/validation/' + label + '/' + file_name)\n",
        "\n",
        "        else:\n",
        "          # move given file to test set\n",
        "          shutil.move(my_data_dir + '/' + label + '/' + file_name,\n",
        "                  my_data_dir + '/test/' +label + '/'+ file_name)\n",
        "          \n",
        "        count += 1\n",
        "\n",
        "      os.rmdir(my_data_dir + '/' + label)"
      ]
    },
    {
      "cell_type": "code",
      "execution_count": 13,
      "metadata": {},
      "outputs": [],
      "source": [
        "# Split train, validation, and test images\n",
        "split_train_validation_test_images(my_data_dir=f\"inputs/mildew_dataset/cherry-leaves\",\n",
        "                        train_set_ratio = 0.7,\n",
        "                        validation_set_ratio=0.1,\n",
        "                        test_set_ratio=0.2\n",
        "                        )"
      ]
    },
    {
      "source": [
        "## Conclusions and Next Steps"
      ],
      "cell_type": "markdown",
      "metadata": {}
    },
    {
      "source": [
        "## Conclusions\n",
        "* Dataset as a mildew_dataset has been successfuly added to the input folder \n",
        "* mildew_dataset has been successfully splitted into train, validation, and test test\n",
        "\n",
        "## Next Steps\n",
        "* Answer business requirement 1:\n",
        "    * The client is interested in conducting a study to visually differentiate a cherry leaf that is healthy from one that contains powdery mildew"
      ],
      "cell_type": "markdown",
      "metadata": {}
    },
    {
      "attachments": {},
      "cell_type": "markdown",
      "metadata": {},
      "source": [
        "---"
      ]
    },
    {
      "attachments": {},
      "cell_type": "markdown",
      "metadata": {
        "id": "ltNetd085qHf"
      },
      "source": [
        "# Push files to Repo"
      ]
    },
    {
      "attachments": {},
      "cell_type": "markdown",
      "metadata": {},
      "source": [
        "## Push generated/new files from this Session to GitHub repository"
      ]
    },
    {
      "attachments": {},
      "cell_type": "markdown",
      "metadata": {},
      "source": [
        "### .gitignore"
      ]
    },
    {
      "cell_type": "code",
      "execution_count": 23,
      "metadata": {
        "tags": []
      },
      "outputs": [
        {
          "output_type": "stream",
          "name": "stdout",
          "text": "core.Microsoft*\ncore.mongo*\ncore.python*\nenv.py\n__pycache__/\n*.py[cod]\nnode_modules/\n.github/\ncloudinary_python.txt\nkaggle.json\ninputs/mildew_dataset/cherry-leaves/test\ninputs/mildew_dataset/cherry-leaves/train\ninputs/mildew_dataset/cherry-leaves/validation"
        }
      ],
      "source": [
        "!cat .gitignore"
      ]
    },
    {
      "attachments": {},
      "cell_type": "markdown",
      "metadata": {},
      "source": [
        "### Git status"
      ]
    },
    {
      "cell_type": "code",
      "execution_count": 24,
      "metadata": {
        "tags": []
      },
      "outputs": [
        {
          "output_type": "stream",
          "name": "stdout",
          "text": "On branch main\nYour branch is up to date with 'origin/main'.\n\nChanges not staged for commit:\n  (use \"git add <file>...\" to update what will be committed)\n  (use \"git restore <file>...\" to discard changes in working directory)\n\t\u001b[31mmodified:   .gitignore\u001b[m\n\t\u001b[31mmodified:   README.md\u001b[m\n\t\u001b[31mmodified:   jupyter_notebooks/data_collection.ipynb\u001b[m\n\t\u001b[31mmodified:   jupyter_notebooks/data_visualization.ipynb\u001b[m\n\nno changes added to commit (use \"git add\" and/or \"git commit -a\")\n"
        }
      ],
      "source": [
        "!git status"
      ]
    },
    {
      "attachments": {},
      "cell_type": "markdown",
      "metadata": {},
      "source": [
        "### Git add"
      ]
    },
    {
      "cell_type": "code",
      "execution_count": 25,
      "metadata": {},
      "outputs": [],
      "source": [
        "!git add ."
      ]
    },
    {
      "attachments": {},
      "cell_type": "markdown",
      "metadata": {},
      "source": [
        "### Git commit"
      ]
    },
    {
      "cell_type": "code",
      "execution_count": 26,
      "metadata": {
        "tags": []
      },
      "outputs": [
        {
          "output_type": "stream",
          "name": "stdout",
          "text": "[main 7ae3e0b]  Add data collection\n 4 files changed, 41 insertions(+), 50 deletions(-)\n"
        }
      ],
      "source": [
        "!git commit -am \"Add data collection\""
      ]
    },
    {
      "attachments": {},
      "cell_type": "markdown",
      "metadata": {},
      "source": [
        "### Git Push"
      ]
    },
    {
      "cell_type": "code",
      "execution_count": 21,
      "metadata": {
        "tags": []
      },
      "outputs": [
        {
          "output_type": "stream",
          "name": "stdout",
          "text": "Enumerating objects: 3387, done.\nCounting objects: 100% (3387/3387), done.\nDelta compression using up to 4 threads\nCompressing objects: 100% (3380/3380), done.\nWriting objects: 100% (3382/3382), 43.36 MiB | 36.04 MiB/s, done.\nTotal 3382 (delta 7), reused 3364 (delta 0), pack-reused 0\nremote: Resolving deltas: 100% (7/7), completed with 4 local objects.\u001b[K\nTo https://github.com/HumaIlyas/mildew-detection-in-cherry-leaves\n   7454755..460a5db  main -> main\n"
        }
      ],
      "source": [
        "! git push"
      ]
    }
  ],
  "metadata": {
    "accelerator": "GPU",
    "colab": {
      "name": "Data Practitioner Jupyter Notebook.ipynb",
      "provenance": [],
      "toc_visible": true
    },
    "interpreter": {
      "hash": "8b8334dab9339717f727a1deaf837b322d7a41c20d15cc86be99a8e69ceec8ce"
    },
    "kernelspec": {
      "display_name": "Python 3.8.12 64-bit ('3.8.12': pyenv)",
      "name": "python381264bit3812pyenvcaa10f60c93143e295cfb40b26df824f"
    },
    "language_info": {
      "codemirror_mode": {
        "name": "ipython",
        "version": 3
      },
      "file_extension": ".py",
      "mimetype": "text/x-python",
      "name": "python",
      "nbconvert_exporter": "python",
      "pygments_lexer": "ipython3",
      "version": "3.8.12-final"
    },
    "orig_nbformat": 2
  },
  "nbformat": 4,
  "nbformat_minor": 2
}