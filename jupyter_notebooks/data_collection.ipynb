{
  "cells": [
    {
      "attachments": {},
      "cell_type": "markdown",
      "metadata": {
        "id": "0aStgWSO0E0E"
      },
      "source": [
        "# **Data Collection - Fetch Dataset from Kaggle**"
      ]
    },
    {
      "attachments": {},
      "cell_type": "markdown",
      "metadata": {
        "id": "1eLEkw5O0ECa"
      },
      "source": [
        "## Objectives\n",
        "* Fetch data from Kaggle and save as raw data to prepare it for further processes.\n",
        "\n",
        "## Inputs\n",
        "* Kaggle JSON file - the authentication token \n",
        "\n",
        "## Outputs\n",
        "* Generate Dataset: inputs/mildew_dataset/cherry-leaves \n",
        "\n",
        "## Additional Comments\n",
        "* The client provided the data under an NDA (non-disclosure agreement), therefore the data should only be shared with professionals that are officially involved in the project.\n",
        "\n"
      ]
    },
    {
      "attachments": {},
      "cell_type": "markdown",
      "metadata": {},
      "source": [
        "## Import pagkages"
      ]
    },
    {
      "cell_type": "code",
      "execution_count": 5,
      "metadata": {
        "tags": [
          "outputPrepend"
        ]
      },
      "outputs": [
        {
          "output_type": "stream",
          "name": "stdout",
          "text": "ne\n\u001b[?25hCollecting typing-extensions~=3.7.4 (from tensorflow-cpu==2.6.0->-r /workspaces/mildew-detection-in-cherry-leaves/requirements.txt (line 10))\n  Downloading typing_extensions-3.7.4.3-py3-none-any.whl (22 kB)\nRequirement already satisfied: wheel~=0.35 in /home/codeany/.pyenv/versions/3.8.12/lib/python3.8/site-packages (from tensorflow-cpu==2.6.0->-r /workspaces/mildew-detection-in-cherry-leaves/requirements.txt (line 10)) (0.40.0)\nCollecting wrapt~=1.12.1 (from tensorflow-cpu==2.6.0->-r /workspaces/mildew-detection-in-cherry-leaves/requirements.txt (line 10))\n  Downloading wrapt-1.12.1.tar.gz (27 kB)\n  Preparing metadata (setup.py) ... \u001b[?25ldone\n\u001b[?25hCollecting gast==0.4.0 (from tensorflow-cpu==2.6.0->-r /workspaces/mildew-detection-in-cherry-leaves/requirements.txt (line 10))\n  Downloading gast-0.4.0-py3-none-any.whl (9.8 kB)\nCollecting tensorboard~=2.6 (from tensorflow-cpu==2.6.0->-r /workspaces/mildew-detection-in-cherry-leaves/requirements.txt (line 10))\n  Downloading tensorboard-2.13.0-py3-none-any.whl (5.6 MB)\n\u001b[2K     \u001b[90m━━━━━━━━━━━━━━━━━━━━━━━━━━━━━━━━━━━━━━━━\u001b[0m \u001b[32m5.6/5.6 MB\u001b[0m \u001b[31m18.3 MB/s\u001b[0m eta \u001b[36m0:00:00\u001b[0m\n\u001b[?25hCollecting tensorflow-estimator~=2.6 (from tensorflow-cpu==2.6.0->-r /workspaces/mildew-detection-in-cherry-leaves/requirements.txt (line 10))\n  Downloading tensorflow_estimator-2.13.0-py2.py3-none-any.whl (440 kB)\n\u001b[2K     \u001b[90m━━━━━━━━━━━━━━━━━━━━━━━━━━━━━━━━━━━━━━\u001b[0m \u001b[32m440.8/440.8 kB\u001b[0m \u001b[31m23.1 MB/s\u001b[0m eta \u001b[36m0:00:00\u001b[0m\n\u001b[?25hCollecting grpcio<2.0,>=1.37.0 (from tensorflow-cpu==2.6.0->-r /workspaces/mildew-detection-in-cherry-leaves/requirements.txt (line 10))\n  Downloading grpcio-1.56.0-cp38-cp38-manylinux_2_17_x86_64.manylinux2014_x86_64.whl (5.2 MB)\n\u001b[2K     \u001b[90m━━━━━━━━━━━━━━━━━━━━━━━━━━━━━━━━━━━━━━━━\u001b[0m \u001b[32m5.2/5.2 MB\u001b[0m \u001b[31m36.2 MB/s\u001b[0m eta \u001b[36m0:00:00\u001b[0m\n\u001b[?25hRequirement already satisfied: ipython in /home/codeany/.pyenv/versions/3.8.12/lib/python3.8/site-packages (from keras-tuner==1.1.3->-r /workspaces/mildew-detection-in-cherry-leaves/requirements.txt (line 12)) (8.12.2)\nCollecting kt-legacy (from keras-tuner==1.1.3->-r /workspaces/mildew-detection-in-cherry-leaves/requirements.txt (line 12))\n  Downloading kt_legacy-1.0.5-py3-none-any.whl (9.6 kB)\nRequirement already satisfied: jinja2 in /home/codeany/.pyenv/versions/3.8.12/lib/python3.8/site-packages (from altair>=3.2.0->streamlit==0.85.0->-r /workspaces/mildew-detection-in-cherry-leaves/requirements.txt (line 7)) (3.1.2)\nRequirement already satisfied: jsonschema>=3.0 in /home/codeany/.pyenv/versions/3.8.12/lib/python3.8/site-packages (from altair>=3.2.0->streamlit==0.85.0->-r /workspaces/mildew-detection-in-cherry-leaves/requirements.txt (line 7)) (4.17.3)\nCollecting toolz (from altair>=3.2.0->streamlit==0.85.0->-r /workspaces/mildew-detection-in-cherry-leaves/requirements.txt (line 7))\n  Downloading toolz-0.12.0-py3-none-any.whl (55 kB)\n\u001b[2K     \u001b[90m━━━━━━━━━━━━━━━━━━━━━━━━━━━━━━━━━━━━━━━━\u001b[0m \u001b[32m55.8/55.8 kB\u001b[0m \u001b[31m7.0 MB/s\u001b[0m eta \u001b[36m0:00:00\u001b[0m\n\u001b[?25hINFO: pip is looking at multiple versions of altair to determine which version is compatible with other requirements. This could take a while.\nCollecting altair>=3.2.0 (from streamlit==0.85.0->-r /workspaces/mildew-detection-in-cherry-leaves/requirements.txt (line 7))\n  Downloading altair-5.0.0-py3-none-any.whl (477 kB)\n\u001b[2K     \u001b[90m━━━━━━━━━━━━━━━━━━━━━━━━━━━━━━━━━━━━━━━\u001b[0m \u001b[32m477.4/477.4 kB\u001b[0m \u001b[31m9.5 MB/s\u001b[0m eta \u001b[36m0:00:00\u001b[0m\n\u001b[?25h  Downloading altair-4.2.2-py3-none-any.whl (813 kB)\n\u001b[2K     \u001b[90m━━━━━━━━━━━━━━━━━━━━━━━━━━━━━━━━━━━━━━\u001b[0m \u001b[32m813.6/813.6 kB\u001b[0m \u001b[31m18.4 MB/s\u001b[0m eta \u001b[36m0:00:00\u001b[0m\n\u001b[?25hCollecting entrypoints (from altair>=3.2.0->streamlit==0.85.0->-r /workspaces/mildew-detection-in-cherry-leaves/requirements.txt (line 7))\n  Downloading entrypoints-0.4-py3-none-any.whl (5.3 kB)\nINFO: pip is looking at multiple versions of scipy to determine which version is compatible with other requirements. This could take a while.\nCollecting scipy>=1.0 (from seaborn==0.11.0->-r /workspaces/mildew-detection-in-cherry-leaves/requirements.txt (line 4))\n  Downloading scipy-1.10.0-cp38-cp38-manylinux_2_17_x86_64.manylinux2014_x86_64.whl (34.5 MB)\n\u001b[2K     \u001b[90m━━━━━━━━━━━━━━━━━━━━━━━━━━━━━━━━━━━━━━━━\u001b[0m \u001b[32m34.5/34.5 MB\u001b[0m \u001b[31m18.9 MB/s\u001b[0m eta \u001b[36m0:00:00\u001b[0m\n\u001b[?25h  Downloading scipy-1.9.3-cp38-cp38-manylinux_2_17_x86_64.manylinux2014_x86_64.whl (33.8 MB)\n\u001b[2K     \u001b[90m━━━━━━━━━━━━━━━━━━━━━━━━━━━━━━━━━━━━━━━━\u001b[0m \u001b[32m33.8/33.8 MB\u001b[0m \u001b[31m16.8 MB/s\u001b[0m eta \u001b[36m0:00:00\u001b[0m\n\u001b[?25hCollecting google-auth<3,>=1.6.3 (from tensorboard~=2.6->tensorflow-cpu==2.6.0->-r /workspaces/mildew-detection-in-cherry-leaves/requirements.txt (line 10))\n  Downloading google_auth-2.21.0-py2.py3-none-any.whl (182 kB)\n\u001b[2K     \u001b[90m━━━━━━━━━━━━━━━━━━━━━━━━━━━━━━━━━━━━━━\u001b[0m \u001b[32m182.1/182.1 kB\u001b[0m \u001b[31m21.6 MB/s\u001b[0m eta \u001b[36m0:00:00\u001b[0m\n\u001b[?25hCollecting google-auth-oauthlib<1.1,>=0.5 (from tensorboard~=2.6->tensorflow-cpu==2.6.0->-r /workspaces/mildew-detection-in-cherry-leaves/requirements.txt (line 10))\n  Downloading google_auth_oauthlib-1.0.0-py2.py3-none-any.whl (18 kB)\nCollecting markdown>=2.6.8 (from tensorboard~=2.6->tensorflow-cpu==2.6.0->-r /workspaces/mildew-detection-in-cherry-leaves/requirements.txt (line 10))\n  Downloading Markdown-3.4.3-py3-none-any.whl (93 kB)\n\u001b[2K     \u001b[90m━━━━━━━━━━━━━━━━━━━━━━━━━━━━━━━━━━━━━━━━\u001b[0m \u001b[32m93.9/93.9 kB\u001b[0m \u001b[31m19.8 MB/s\u001b[0m eta \u001b[36m0:00:00\u001b[0m\n\u001b[?25hRequirement already satisfied: setuptools>=41.0.0 in /home/codeany/.pyenv/versions/3.8.12/lib/python3.8/site-packages (from tensorboard~=2.6->tensorflow-cpu==2.6.0->-r /workspaces/mildew-detection-in-cherry-leaves/requirements.txt (line 10)) (68.0.0)\nCollecting tensorboard-data-server<0.8.0,>=0.7.0 (from tensorboard~=2.6->tensorflow-cpu==2.6.0->-r /workspaces/mildew-detection-in-cherry-leaves/requirements.txt (line 10))\n  Downloading tensorboard_data_server-0.7.1-py3-none-manylinux2014_x86_64.whl (6.6 MB)\n\u001b[2K     \u001b[90m━━━━━━━━━━━━━━━━━━━━━━━━━━━━━━━━━━━━━━━━\u001b[0m \u001b[32m6.6/6.6 MB\u001b[0m \u001b[31m33.1 MB/s\u001b[0m eta \u001b[36m0:00:00\u001b[0m\n\u001b[?25hCollecting werkzeug>=1.0.1 (from tensorboard~=2.6->tensorflow-cpu==2.6.0->-r /workspaces/mildew-detection-in-cherry-leaves/requirements.txt (line 10))\n  Downloading Werkzeug-2.3.6-py3-none-any.whl (242 kB)\n\u001b[2K     \u001b[90m━━━━━━━━━━━━━━━━━━━━━━━━━━━━━━━━━━━━━━\u001b[0m \u001b[32m242.5/242.5 kB\u001b[0m \u001b[31m38.1 MB/s\u001b[0m eta \u001b[36m0:00:00\u001b[0m\n\u001b[?25hRequirement already satisfied: charset-normalizer<4,>=2 in /home/codeany/.pyenv/versions/3.8.12/lib/python3.8/site-packages (from requests->streamlit==0.85.0->-r /workspaces/mildew-detection-in-cherry-leaves/requirements.txt (line 7)) (3.1.0)\nRequirement already satisfied: idna<4,>=2.5 in /home/codeany/.pyenv/versions/3.8.12/lib/python3.8/site-packages (from requests->streamlit==0.85.0->-r /workspaces/mildew-detection-in-cherry-leaves/requirements.txt (line 7)) (3.4)\nRequirement already satisfied: urllib3<3,>=1.21.1 in /home/codeany/.pyenv/versions/3.8.12/lib/python3.8/site-packages (from requests->streamlit==0.85.0->-r /workspaces/mildew-detection-in-cherry-leaves/requirements.txt (line 7)) (2.0.3)\nRequirement already satisfied: gitdb<5,>=4.0.1 in /home/codeany/.pyenv/versions/3.8.12/lib/python3.8/site-packages (from gitpython->streamlit==0.85.0->-r /workspaces/mildew-detection-in-cherry-leaves/requirements.txt (line 7)) (4.0.10)\nRequirement already satisfied: backcall in /home/codeany/.pyenv/versions/3.8.12/lib/python3.8/site-packages (from ipython->keras-tuner==1.1.3->-r /workspaces/mildew-detection-in-cherry-leaves/requirements.txt (line 12)) (0.2.0)\nRequirement already satisfied: decorator in /home/codeany/.pyenv/versions/3.8.12/lib/python3.8/site-packages (from ipython->keras-tuner==1.1.3->-r /workspaces/mildew-detection-in-cherry-leaves/requirements.txt (line 12)) (5.1.1)\nRequirement already satisfied: jedi>=0.16 in /home/codeany/.pyenv/versions/3.8.12/lib/python3.8/site-packages (from ipython->keras-tuner==1.1.3->-r /workspaces/mildew-detection-in-cherry-leaves/requirements.txt (line 12)) (0.18.2)\nRequirement already satisfied: matplotlib-inline in /home/codeany/.pyenv/versions/3.8.12/lib/python3.8/site-packages (from ipython->keras-tuner==1.1.3->-r /workspaces/mildew-detection-in-cherry-leaves/requirements.txt (line 12)) (0.1.6)\nRequirement already satisfied: pickleshare in /home/codeany/.pyenv/versions/3.8.12/lib/python3.8/site-packages (from ipython->keras-tuner==1.1.3->-r /workspaces/mildew-detection-in-cherry-leaves/requirements.txt (line 12)) (0.7.5)\nRequirement already satisfied: prompt-toolkit!=3.0.37,<3.1.0,>=3.0.30 in /home/codeany/.pyenv/versions/3.8.12/lib/python3.8/site-packages (from ipython->keras-tuner==1.1.3->-r /workspaces/mildew-detection-in-cherry-leaves/requirements.txt (line 12)) (3.0.38)\nRequirement already satisfied: pygments>=2.4.0 in /home/codeany/.pyenv/versions/3.8.12/lib/python3.8/site-packages (from ipython->keras-tuner==1.1.3->-r /workspaces/mildew-detection-in-cherry-leaves/requirements.txt (line 12)) (2.15.1)\nRequirement already satisfied: stack-data in /home/codeany/.pyenv/versions/3.8.12/lib/python3.8/site-packages (from ipython->keras-tuner==1.1.3->-r /workspaces/mildew-detection-in-cherry-leaves/requirements.txt (line 12)) (0.6.2)\nRequirement already satisfied: traitlets>=5 in /home/codeany/.pyenv/versions/3.8.12/lib/python3.8/site-packages (from ipython->keras-tuner==1.1.3->-r /workspaces/mildew-detection-in-cherry-leaves/requirements.txt (line 12)) (5.9.0)\nRequirement already satisfied: pexpect>4.3 in /home/codeany/.pyenv/versions/3.8.12/lib/python3.8/site-packages (from ipython->keras-tuner==1.1.3->-r /workspaces/mildew-detection-in-cherry-leaves/requirements.txt (line 12)) (4.8.0)\nCollecting backports.zoneinfo (from tzlocal->streamlit==0.85.0->-r /workspaces/mildew-detection-in-cherry-leaves/requirements.txt (line 7))\n  Downloading backports.zoneinfo-0.2.1-cp38-cp38-manylinux1_x86_64.whl (74 kB)\n\u001b[2K     \u001b[90m━━━━━━━━━━━━━━━━━━━━━━━━━━━━━━━━━━━━━━━━\u001b[0m \u001b[32m74.0/74.0 kB\u001b[0m \u001b[31m18.6 MB/s\u001b[0m eta \u001b[36m0:00:00\u001b[0m\n\u001b[?25hRequirement already satisfied: smmap<6,>=3.0.1 in /home/codeany/.pyenv/versions/3.8.12/lib/python3.8/site-packages (from gitdb<5,>=4.0.1->gitpython->streamlit==0.85.0->-r /workspaces/mildew-detection-in-cherry-leaves/requirements.txt (line 7)) (5.0.0)\nCollecting pyasn1-modules>=0.2.1 (from google-auth<3,>=1.6.3->tensorboard~=2.6->tensorflow-cpu==2.6.0->-r /workspaces/mildew-detection-in-cherry-leaves/requirements.txt (line 10))\n  Downloading pyasn1_modules-0.3.0-py2.py3-none-any.whl (181 kB)\n\u001b[2K     \u001b[90m━━━━━━━━━━━━━━━━━━━━━━━━━━━━━━━━━━━━━━\u001b[0m \u001b[32m181.3/181.3 kB\u001b[0m \u001b[31m18.5 MB/s\u001b[0m eta \u001b[36m0:00:00\u001b[0m\n\u001b[?25hCollecting rsa<5,>=3.1.4 (from google-auth<3,>=1.6.3->tensorboard~=2.6->tensorflow-cpu==2.6.0->-r /workspaces/mildew-detection-in-cherry-leaves/requirements.txt (line 10))\n  Downloading rsa-4.9-py3-none-any.whl (34 kB)\nCollecting urllib3<3,>=1.21.1 (from requests->streamlit==0.85.0->-r /workspaces/mildew-detection-in-cherry-leaves/requirements.txt (line 7))\n  Downloading urllib3-1.26.16-py2.py3-none-any.whl (143 kB)\n\u001b[2K     \u001b[90m━━━━━━━━━━━━━━━━━━━━━━━━━━━━━━━━━━━━━━━\u001b[0m \u001b[32m143.1/143.1 kB\u001b[0m \u001b[31m9.4 MB/s\u001b[0m eta \u001b[36m0:00:00\u001b[0m\n\u001b[?25hCollecting requests-oauthlib>=0.7.0 (from google-auth-oauthlib<1.1,>=0.5->tensorboard~=2.6->tensorflow-cpu==2.6.0->-r /workspaces/mildew-detection-in-cherry-leaves/requirements.txt (line 10))\n  Downloading requests_oauthlib-1.3.1-py2.py3-none-any.whl (23 kB)\nRequirement already satisfied: parso<0.9.0,>=0.8.0 in /home/codeany/.pyenv/versions/3.8.12/lib/python3.8/site-packages (from jedi>=0.16->ipython->keras-tuner==1.1.3->-r /workspaces/mildew-detection-in-cherry-leaves/requirements.txt (line 12)) (0.8.3)\nRequirement already satisfied: MarkupSafe>=2.0 in /home/codeany/.pyenv/versions/3.8.12/lib/python3.8/site-packages (from jinja2->altair>=3.2.0->streamlit==0.85.0->-r /workspaces/mildew-detection-in-cherry-leaves/requirements.txt (line 7)) (2.1.3)\nRequirement already satisfied: importlib-resources>=1.4.0 in /home/codeany/.pyenv/versions/3.8.12/lib/python3.8/site-packages (from jsonschema>=3.0->altair>=3.2.0->streamlit==0.85.0->-r /workspaces/mildew-detection-in-cherry-leaves/requirements.txt (line 7)) (5.12.0)\nRequirement already satisfied: pkgutil-resolve-name>=1.3.10 in /home/codeany/.pyenv/versions/3.8.12/lib/python3.8/site-packages (from jsonschema>=3.0->altair>=3.2.0->streamlit==0.85.0->-r /workspaces/mildew-detection-in-cherry-leaves/requirements.txt (line 7)) (1.3.10)\nRequirement already satisfied: pyrsistent!=0.17.0,!=0.17.1,!=0.17.2,>=0.14.0 in /home/codeany/.pyenv/versions/3.8.12/lib/python3.8/site-packages (from jsonschema>=3.0->altair>=3.2.0->streamlit==0.85.0->-r /workspaces/mildew-detection-in-cherry-leaves/requirements.txt (line 7)) (0.19.3)\nRequirement already satisfied: importlib-metadata>=4.4 in /home/codeany/.pyenv/versions/3.8.12/lib/python3.8/site-packages (from markdown>=2.6.8->tensorboard~=2.6->tensorflow-cpu==2.6.0->-r /workspaces/mildew-detection-in-cherry-leaves/requirements.txt (line 10)) (6.7.0)\nRequirement already satisfied: ptyprocess>=0.5 in /home/codeany/.pyenv/versions/3.8.12/lib/python3.8/site-packages (from pexpect>4.3->ipython->keras-tuner==1.1.3->-r /workspaces/mildew-detection-in-cherry-leaves/requirements.txt (line 12)) (0.7.0)\nRequirement already satisfied: wcwidth in /home/codeany/.pyenv/versions/3.8.12/lib/python3.8/site-packages (from prompt-toolkit!=3.0.37,<3.1.0,>=3.0.30->ipython->keras-tuner==1.1.3->-r /workspaces/mildew-detection-in-cherry-leaves/requirements.txt (line 12)) (0.2.6)\nRequirement already satisfied: executing>=1.2.0 in /home/codeany/.pyenv/versions/3.8.12/lib/python3.8/site-packages (from stack-data->ipython->keras-tuner==1.1.3->-r /workspaces/mildew-detection-in-cherry-leaves/requirements.txt (line 12)) (1.2.0)\nRequirement already satisfied: asttokens>=2.1.0 in /home/codeany/.pyenv/versions/3.8.12/lib/python3.8/site-packages (from stack-data->ipython->keras-tuner==1.1.3->-r /workspaces/mildew-detection-in-cherry-leaves/requirements.txt (line 12)) (2.2.1)\nRequirement already satisfied: pure-eval in /home/codeany/.pyenv/versions/3.8.12/lib/python3.8/site-packages (from stack-data->ipython->keras-tuner==1.1.3->-r /workspaces/mildew-detection-in-cherry-leaves/requirements.txt (line 12)) (0.2.2)\nRequirement already satisfied: zipp>=0.5 in /home/codeany/.pyenv/versions/3.8.12/lib/python3.8/site-packages (from importlib-metadata>=4.4->markdown>=2.6.8->tensorboard~=2.6->tensorflow-cpu==2.6.0->-r /workspaces/mildew-detection-in-cherry-leaves/requirements.txt (line 10)) (3.15.0)\nCollecting pyasn1<0.6.0,>=0.4.6 (from pyasn1-modules>=0.2.1->google-auth<3,>=1.6.3->tensorboard~=2.6->tensorflow-cpu==2.6.0->-r /workspaces/mildew-detection-in-cherry-leaves/requirements.txt (line 10))\n  Downloading pyasn1-0.5.0-py2.py3-none-any.whl (83 kB)\n\u001b[2K     \u001b[90m━━━━━━━━━━━━━━━━━━━━━━━━━━━━━━━━━━━━━━━━\u001b[0m \u001b[32m83.9/83.9 kB\u001b[0m \u001b[31m5.5 MB/s\u001b[0m eta \u001b[36m0:00:00\u001b[0m\n\u001b[?25hCollecting oauthlib>=3.0.0 (from requests-oauthlib>=0.7.0->google-auth-oauthlib<1.1,>=0.5->tensorboard~=2.6->tensorflow-cpu==2.6.0->-r /workspaces/mildew-detection-in-cherry-leaves/requirements.txt (line 10))\n  Downloading oauthlib-3.2.2-py3-none-any.whl (151 kB)\n\u001b[2K     \u001b[90m━━━━━━━━━━━━━━━━━━━━━━━━━━━━━━━━━━━━━━━\u001b[0m \u001b[32m151.7/151.7 kB\u001b[0m \u001b[31m6.9 MB/s\u001b[0m eta \u001b[36m0:00:00\u001b[0m\n\u001b[?25hBuilding wheels for collected packages: clang, termcolor, wrapt, validators\n  Building wheel for clang (setup.py) ... \u001b[?25ldone\n\u001b[?25h  Created wheel for clang: filename=clang-5.0-py3-none-any.whl size=30682 sha256=064f6195a716fe61f14d3f26cd2de9dd16d02979276ea536523fd8e862db4757\n  Stored in directory: /home/codeany/.cache/pip/wheels/f1/60/77/22b9b5887bd47801796a856f47650d9789c74dc3161a26d608\n  Building wheel for termcolor (setup.py) ... \u001b[?25ldone\n\u001b[?25h  Created wheel for termcolor: filename=termcolor-1.1.0-py3-none-any.whl size=4832 sha256=b8b16ab69e17d5f2d4ff9c98b53e8c97831109bf0e5226f255409ead948a7ad3\n  Stored in directory: /home/codeany/.cache/pip/wheels/a0/16/9c/5473df82468f958445479c59e784896fa24f4a5fc024b0f501\n  Building wheel for wrapt (setup.py) ... \u001b[?25ldone\n\u001b[?25h  Created wheel for wrapt: filename=wrapt-1.12.1-cp38-cp38-linux_x86_64.whl size=75893 sha256=54b6f7afba245134d2c3e6ea718ea38d592d78018e9de91e8d30467d91676daf\n  Stored in directory: /home/codeany/.cache/pip/wheels/5f/fd/9e/b6cf5890494cb8ef0b5eaff72e5d55a70fb56316007d6dfe73\n  Building wheel for validators (setup.py) ... \u001b[?25ldone\n\u001b[?25h  Created wheel for validators: filename=validators-0.20.0-py3-none-any.whl size=19579 sha256=2517d21eec869323e4c8fafc8fc066b5f4494c9a800309d916dea07f481cda9a\n  Stored in directory: /home/codeany/.cache/pip/wheels/19/09/72/3eb74d236bb48bd0f3c6c3c83e4e0c5bbfcbcad7c6c3539db8\nSuccessfully built clang termcolor wrapt validators\nInstalling collected packages: wrapt, typing-extensions, termcolor, pytz, kt-legacy, keras, flatbuffers, clang, werkzeug, watchdog, validators, urllib3, toolz, toml, threadpoolctl, tensorflow-estimator, tensorboard-data-server, six, pyparsing, pyasn1, protobuf, pillow, oauthlib, numpy, kiwisolver, joblib, grpcio, gast, entrypoints, cycler, click, cachetools, blinker, base58, backports.zoneinfo, astor, tzlocal, scipy, rsa, retrying, pydeck, pyasn1-modules, pyarrow, opt-einsum, markdown, keras-preprocessing, h5py, google-pasta, astunparse, absl-py, scikit-learn, requests-oauthlib, plotly, pandas, matplotlib, google-auth, seaborn, google-auth-oauthlib, altair, tensorboard, streamlit, tensorflow-cpu, keras-tuner\n  Attempting uninstall: wrapt\n    Found existing installation: wrapt 1.15.0\n    Uninstalling wrapt-1.15.0:\n      Successfully uninstalled wrapt-1.15.0\n  Attempting uninstall: typing-extensions\n    Found existing installation: typing_extensions 4.6.3\n    Uninstalling typing_extensions-4.6.3:\n      Successfully uninstalled typing_extensions-4.6.3\n  Attempting uninstall: urllib3\n    Found existing installation: urllib3 2.0.3\n    Uninstalling urllib3-2.0.3:\n      Successfully uninstalled urllib3-2.0.3\n  Attempting uninstall: six\n    Found existing installation: six 1.16.0\n    Uninstalling six-1.16.0:\n      Successfully uninstalled six-1.16.0\n\u001b[31mERROR: pip's dependency resolver does not currently take into account all the packages that are installed. This behaviour is the source of the following dependency conflicts.\nastroid 2.15.5 requires typing-extensions>=4.0.0; python_version < \"3.11\", but you have typing-extensions 3.7.4.3 which is incompatible.\nmypy 1.4.1 requires typing-extensions>=4.1.0, but you have typing-extensions 3.7.4.3 which is incompatible.\npylint 2.17.4 requires typing-extensions>=3.10.0; python_version < \"3.10\", but you have typing-extensions 3.7.4.3 which is incompatible.\nrich 13.4.2 requires typing-extensions<5.0,>=4.0.0; python_version < \"3.9\", but you have typing-extensions 3.7.4.3 which is incompatible.\u001b[0m\u001b[31m\n\u001b[0mSuccessfully installed absl-py-0.15.0 altair-4.2.2 astor-0.8.1 astunparse-1.6.3 backports.zoneinfo-0.2.1 base58-2.1.1 blinker-1.6.2 cachetools-5.3.1 clang-5.0 click-7.1.2 cycler-0.11.0 entrypoints-0.4 flatbuffers-1.12 gast-0.4.0 google-auth-2.21.0 google-auth-oauthlib-1.0.0 google-pasta-0.2.0 grpcio-1.56.0 h5py-3.1.0 joblib-1.2.0 keras-2.6.0 keras-preprocessing-1.1.2 keras-tuner-1.1.3 kiwisolver-1.4.4 kt-legacy-1.0.5 markdown-3.4.3 matplotlib-3.3.1 numpy-1.19.2 oauthlib-3.2.2 opt-einsum-3.3.0 pandas-1.1.2 pillow-9.5.0 plotly-4.12.0 protobuf-3.20.0 pyarrow-12.0.1 pyasn1-0.5.0 pyasn1-modules-0.3.0 pydeck-0.8.1b0 pyparsing-3.1.0 pytz-2023.3 requests-oauthlib-1.3.1 retrying-1.3.4 rsa-4.9 scikit-learn-0.24.2 scipy-1.9.3 seaborn-0.11.0 six-1.15.0 streamlit-0.85.0 tensorboard-2.13.0 tensorboard-data-server-0.7.1 tensorflow-cpu-2.6.0 tensorflow-estimator-2.13.0 termcolor-1.1.0 threadpoolctl-3.1.0 toml-0.10.2 toolz-0.12.0 typing-extensions-3.7.4.3 tzlocal-5.0.1 urllib3-1.26.16 validators-0.20.0 watchdog-3.0.0 werkzeug-2.3.6 wrapt-1.12.1\n"
        }
      ],
      "source": [
        "! pip install -r /workspaces/mildew-detection-in-cherry-leaves/requirements.txt"
      ]
    },
    {
      "cell_type": "code",
      "execution_count": 6,
      "metadata": {
        "tags": []
      },
      "outputs": [],
      "source": [
        "import numpy\n",
        "import os"
      ]
    },
    {
      "attachments": {},
      "cell_type": "markdown",
      "metadata": {
        "id": "9uWZXH9LwoQg"
      },
      "source": [
        "## Change Working Directory\n",
        "\n",
        "* To change the working directory from its current folder to its parent folder\n",
        "* To access the current directory with os.getcwd()"
      ]
    },
    {
      "cell_type": "code",
      "execution_count": 1,
      "metadata": {
        "id": "wZfF_j-Bz3i4",
        "outputId": "66943449-1436-4c3d-85c7-b85f9f78349b"
      },
      "outputs": [
        {
          "output_type": "execute_result",
          "data": {
            "text/plain": "'/workspaces/mildew-detection-in-cherry-leaves/jupyter_notebooks'"
          },
          "metadata": {},
          "execution_count": 1
        }
      ],
      "source": [
        "import os\n",
        "current_dir = os.getcwd()\n",
        "current_dir"
      ]
    },
    {
      "attachments": {},
      "cell_type": "markdown",
      "metadata": {
        "id": "9MWW8E7lz3i7"
      },
      "source": [
        "**To make the parent of the current directory the new current directory**\n",
        "* os.path.dirname() gets the parent directory\n",
        "* os.chdir() defines the new current directory"
      ]
    },
    {
      "cell_type": "code",
      "execution_count": 2,
      "metadata": {
        "id": "TwHsQRWjz3i9",
        "outputId": "86849db3-cd2f-4cc5-ebb8-2d0caafa1a2c",
        "tags": []
      },
      "outputs": [
        {
          "output_type": "stream",
          "name": "stdout",
          "text": "You set a new current directory\n"
        }
      ],
      "source": [
        "os.chdir(os.path.dirname(current_dir))\n",
        "print(\"You set a new current directory\")"
      ]
    },
    {
      "attachments": {},
      "cell_type": "markdown",
      "metadata": {
        "id": "M_xPk_Ijz3i-"
      },
      "source": [
        "**To confirm the new current directory**"
      ]
    },
    {
      "cell_type": "code",
      "execution_count": 3,
      "metadata": {
        "id": "vz3S-_kjz3jA",
        "outputId": "00b79ae4-75d0-4a96-d193-ac9ef9847ea2"
      },
      "outputs": [
        {
          "output_type": "execute_result",
          "data": {
            "text/plain": "'/workspaces/mildew-detection-in-cherry-leaves'"
          },
          "metadata": {},
          "execution_count": 3
        }
      ],
      "source": [
        "current_dir = os.getcwd()\n",
        "current_dir"
      ]
    },
    {
      "attachments": {},
      "cell_type": "markdown",
      "metadata": {
        "id": "-mavJ8DibrcQ"
      },
      "source": [
        "# Install Kaggle"
      ]
    },
    {
      "cell_type": "code",
      "execution_count": 4,
      "metadata": {
        "tags": []
      },
      "outputs": [
        {
          "output_type": "stream",
          "name": "stdout",
          "text": "Collecting kaggle\n  Downloading kaggle-1.5.13.tar.gz (63 kB)\n\u001b[2K     \u001b[90m━━━━━━━━━━━━━━━━━━━━━━━━━━━━━━━━━━━━━━━━\u001b[0m \u001b[32m63.3/63.3 kB\u001b[0m \u001b[31m1.1 MB/s\u001b[0m eta \u001b[36m0:00:00\u001b[0m\n\u001b[?25h  Preparing metadata (setup.py) ... \u001b[?25ldone\n\u001b[?25hRequirement already satisfied: six>=1.10 in /home/codeany/.pyenv/versions/3.8.12/lib/python3.8/site-packages (from kaggle) (1.16.0)\nRequirement already satisfied: certifi in /home/codeany/.pyenv/versions/3.8.12/lib/python3.8/site-packages (from kaggle) (2023.5.7)\nRequirement already satisfied: python-dateutil in /home/codeany/.pyenv/versions/3.8.12/lib/python3.8/site-packages (from kaggle) (2.8.2)\nRequirement already satisfied: requests in /home/codeany/.pyenv/versions/3.8.12/lib/python3.8/site-packages (from kaggle) (2.31.0)\nCollecting tqdm (from kaggle)\n  Downloading tqdm-4.65.0-py3-none-any.whl (77 kB)\n\u001b[2K     \u001b[90m━━━━━━━━━━━━━━━━━━━━━━━━━━━━━━━━━━━━━━━━\u001b[0m \u001b[32m77.1/77.1 kB\u001b[0m \u001b[31m4.7 MB/s\u001b[0m eta \u001b[36m0:00:00\u001b[0m\n\u001b[?25hCollecting python-slugify (from kaggle)\n  Downloading python_slugify-8.0.1-py2.py3-none-any.whl (9.7 kB)\nRequirement already satisfied: urllib3 in /home/codeany/.pyenv/versions/3.8.12/lib/python3.8/site-packages (from kaggle) (2.0.3)\nCollecting text-unidecode>=1.3 (from python-slugify->kaggle)\n  Downloading text_unidecode-1.3-py2.py3-none-any.whl (78 kB)\n\u001b[2K     \u001b[90m━━━━━━━━━━━━━━━━━━━━━━━━━━━━━━━━━━━━━━━━\u001b[0m \u001b[32m78.2/78.2 kB\u001b[0m \u001b[31m12.9 MB/s\u001b[0m eta \u001b[36m0:00:00\u001b[0m\n\u001b[?25hRequirement already satisfied: charset-normalizer<4,>=2 in /home/codeany/.pyenv/versions/3.8.12/lib/python3.8/site-packages (from requests->kaggle) (3.1.0)\nRequirement already satisfied: idna<4,>=2.5 in /home/codeany/.pyenv/versions/3.8.12/lib/python3.8/site-packages (from requests->kaggle) (3.4)\nBuilding wheels for collected packages: kaggle\n  Building wheel for kaggle (setup.py) ... \u001b[?25ldone\n\u001b[?25h  Created wheel for kaggle: filename=kaggle-1.5.13-py3-none-any.whl size=77717 sha256=7873d8ec409b993e8ff46f5491b687d669951c311d6c6dd5fc69c476c9c9cc33\n  Stored in directory: /home/codeany/.cache/pip/wheels/e6/8e/67/e07554a720a493dc6b39b30488590ba92ed45448ad0134d253\nSuccessfully built kaggle\nInstalling collected packages: text-unidecode, tqdm, python-slugify, kaggle\nSuccessfully installed kaggle-1.5.13 python-slugify-8.0.1 text-unidecode-1.3 tqdm-4.65.0\nNote: you may need to restart the kernel to use updated packages.\n"
        }
      ],
      "source": [
        "# install kaggle package\n",
        "%pip install kaggle"
      ]
    },
    {
      "attachments": {},
      "cell_type": "markdown",
      "metadata": {
        "id": "uFQo3ycuO-v6"
      },
      "source": [
        "Run the cell below to change the kaggle configuration directory to current working directory and permission of kaggle authentication JSON"
      ]
    },
    {
      "cell_type": "code",
      "execution_count": 12,
      "metadata": {
        "tags": []
      },
      "outputs": [],
      "source": [
        "os.environ['KAGGLE_CONFIG_DIR'] = os.getcwd()\n",
        "! chmod 600 kaggle.json"
      ]
    },
    {
      "attachments": {},
      "cell_type": "markdown",
      "metadata": {},
      "source": [
        "* Get the dataset path from Kaggle url.  When you are viewing the dataset at Kaggle, check what is after https://www.kaggle.com/ (in some case kaggle.com/datasets). You should copy that at KaggleDatasetPath.\n",
        "\n",
        "* Set the destination folder\n",
        "* Set the Kaggle Dataset and Download it"
      ]
    },
    {
      "cell_type": "code",
      "execution_count": 13,
      "metadata": {
        "tags": []
      },
      "outputs": [
        {
          "output_type": "stream",
          "name": "stdout",
          "text": "Downloading cherry-leaves.zip to inputs/mildew_dataset\n 84%|████████████████████████████████▌      | 46.0M/55.0M [00:00<00:00, 168MB/s]\n100%|███████████████████████████████████████| 55.0M/55.0M [00:00<00:00, 144MB/s]\n"
        }
      ],
      "source": [
        "# Set the destination folder to download Kaggle Dataset\n",
        "KaggleDatasetPath = \"codeinstitute/cherry-leaves\"\n",
        "DestinationFolder = \"inputs/mildew_dataset\"   \n",
        "! kaggle datasets download -d {KaggleDatasetPath} -p {DestinationFolder}"
      ]
    },
    {
      "attachments": {},
      "cell_type": "markdown",
      "metadata": {},
      "source": [
        "* Unzip the downloaded file, and delete the zip file."
      ]
    },
    {
      "cell_type": "code",
      "execution_count": 14,
      "metadata": {},
      "outputs": [],
      "source": [
        "import zipfile\n",
        "with zipfile.ZipFile(DestinationFolder + '/cherry-leaves.zip', 'r') as zip_ref:\n",
        "    zip_ref.extractall(DestinationFolder)\n",
        "\n",
        "os.remove(DestinationFolder + '/cherry-leaves.zip')"
      ]
    },
    {
      "attachments": {},
      "cell_type": "markdown",
      "metadata": {},
      "source": [
        "# Data Preparation"
      ]
    },
    {
      "attachments": {},
      "cell_type": "markdown",
      "metadata": {},
      "source": [
        "### Check and remove non-image files"
      ]
    },
    {
      "cell_type": "code",
      "execution_count": 15,
      "metadata": {},
      "outputs": [],
      "source": [
        "# Function to remove non-image files\n",
        "def remove_non_image_file(my_data_dir):\n",
        "    image_extension = ('.png', '.jpg', '.jpeg')\n",
        "    folders = os.listdir(my_data_dir) \n",
        "    for folder in folders:\n",
        "        files = os.listdir(my_data_dir + '/' + folder)\n",
        "        # print(files)\n",
        "        i = []\n",
        "        j = []\n",
        "        for given_file in files:\n",
        "            if not given_file.lower().endswith(image_extension):\n",
        "                file_location = my_data_dir + '/' + folder + '/' + given_file\n",
        "                os.remove(file_location) # remove non-image file\n",
        "                i.append(1)\n",
        "            else:\n",
        "                j.append(1)\n",
        "                pass\n",
        "        print(f\"Folder: {folder} - has image file\",len(j))\n",
        "        print(f\"Folder: {folder} - has non-image file\",len(i))"
      ]
    },
    {
      "cell_type": "code",
      "execution_count": 16,
      "metadata": {
        "tags": []
      },
      "outputs": [
        {
          "output_type": "stream",
          "name": "stdout",
          "text": "Folder: powdery_mildew - has image file 2104\nFolder: powdery_mildew - has non-image file 0\nFolder: healthy - has image file 2104\nFolder: healthy - has non-image file 0\n"
        }
      ],
      "source": [
        "# Remove non-image files\n",
        "remove_non_image_file(my_data_dir='inputs/mildew_dataset/cherry-leaves')"
      ]
    },
    {
      "attachments": {},
      "cell_type": "markdown",
      "metadata": {},
      "source": [
        "### Split train, validation, and test sets"
      ]
    },
    {
      "cell_type": "code",
      "execution_count": 17,
      "metadata": {},
      "outputs": [],
      "source": [
        "import os\n",
        "import shutil\n",
        "import random\n",
        "import joblib\n",
        "\n",
        "my_data_dir=\"inputs/mildew_dataset/cherry-leaves\"\n",
        "\n",
        "# Function to split train, validation, and test images\n",
        "def split_train_validation_test_images(my_data_dir, train_set_ratio, validation_set_ratio, test_set_ratio):\n",
        "  \n",
        "  if train_set_ratio + validation_set_ratio + test_set_ratio != 1.0:\n",
        "    print(\"train_set_ratio + validation_set_ratio + test_set_ratio should sum 1.0\")\n",
        "    return\n",
        "\n",
        "  # gets classes labels\n",
        "  labels = os.listdir(my_data_dir) # To get only the folder name\n",
        "  if 'test' in labels:\n",
        "    pass\n",
        "  else: \n",
        "    # create train, validation, and test folders with classess labels sub-folder\n",
        "    for folder in ['train','validation','test']:\n",
        "      for label in labels:\n",
        "        os.makedirs(name=my_data_dir+ '/' + folder + '/' + label)\n",
        "\n",
        "    for label in labels:\n",
        "\n",
        "      files = os.listdir(my_data_dir + '/' + label)\n",
        "      random.shuffle(files)\n",
        "\n",
        "      train_set_files_qty = int(len(files) * train_set_ratio)\n",
        "      validation_set_files_qty = int(len(files) * validation_set_ratio)\n",
        "\n",
        "      count = 1\n",
        "      for file_name in files:\n",
        "        if count <= train_set_files_qty:\n",
        "          # move given file to train set\n",
        "          shutil.move(my_data_dir + '/' + label + '/' + file_name,\n",
        "                      my_data_dir + '/train/' + label + '/' + file_name)\n",
        "          \n",
        "\n",
        "        elif count <= (train_set_files_qty + validation_set_files_qty ):\n",
        "          # move given file to validation set\n",
        "          shutil.move(my_data_dir + '/' + label + '/' + file_name,\n",
        "                      my_data_dir + '/validation/' + label + '/' + file_name)\n",
        "\n",
        "        else:\n",
        "          # move given file to test set\n",
        "          shutil.move(my_data_dir + '/' + label + '/' + file_name,\n",
        "                  my_data_dir + '/test/' +label + '/'+ file_name)\n",
        "          \n",
        "        count += 1\n",
        "\n",
        "      os.rmdir(my_data_dir + '/' + label)"
      ]
    },
    {
      "cell_type": "code",
      "execution_count": 18,
      "metadata": {},
      "outputs": [],
      "source": [
        "# Split train, validation, and test images\n",
        "split_train_validation_test_images(my_data_dir=f\"inputs/mildew_dataset/cherry-leaves\",\n",
        "                        train_set_ratio = 0.7,\n",
        "                        validation_set_ratio=0.1,\n",
        "                        test_set_ratio=0.2\n",
        "                        )"
      ]
    },
    {
      "source": [
        "## Conclusions and Next Steps\n",
        "## Conclusions\n",
        "* Dataset as a mildew_dataset has been successfuly added to the input folder \n",
        "* mildew_dataset has been successfully splitted into train, validation, and test test\n",
        "\n",
        "## Next Steps\n",
        "* Answer business requirement 1:\n",
        "    * The client is interested in conducting a study to visually differentiate a cherry leaf that is healthy from one that contains powdery mildew"
      ],
      "cell_type": "markdown",
      "metadata": {}
    },
    {
      "attachments": {},
      "cell_type": "markdown",
      "metadata": {
        "id": "ltNetd085qHf"
      },
      "source": [
        "# Push files to Repo\n",
        "## Push generated/new files from this Session to GitHub repository"
      ]
    },
    {
      "attachments": {},
      "cell_type": "markdown",
      "metadata": {},
      "source": [
        "### .gitignore"
      ]
    },
    {
      "cell_type": "code",
      "execution_count": 19,
      "metadata": {
        "tags": []
      },
      "outputs": [
        {
          "output_type": "stream",
          "name": "stdout",
          "text": "core.Microsoft*\ncore.mongo*\ncore.python*\nenv.py\n__pycache__/\n*.py[cod]\nnode_modules/\n.github/\ncloudinary_python.txt\nkaggle.json\ninputs/mildew_dataset/cherry-leaves/test\ninputs/mildew_dataset/cherry-leaves/train\ninputs/mildew_dataset/cherry-leaves/validation"
        }
      ],
      "source": [
        "!cat .gitignore"
      ]
    },
    {
      "attachments": {},
      "cell_type": "markdown",
      "metadata": {},
      "source": [
        "### Git status"
      ]
    },
    {
      "cell_type": "code",
      "execution_count": 20,
      "metadata": {
        "tags": [
          "outputPrepend"
        ]
      },
      "outputs": [
        {
          "output_type": "stream",
          "name": "stdout",
          "text": "ry_mildew/0d20bb6d-798a-4c82-8aea-8d64bd1a086b___FREC_Pwd.M 4761_flipLR.JPG\u001b[m\n\t\u001b[31mdeleted:    inputs/mildew_dataset/cherry-leaves/train/powdery_mildew/112567fd-5046-4328-80f1-f33e01f76cbf___FREC_Pwd.M 5038_flipLR.JPG\u001b[m\n\t\u001b[31mdeleted:    inputs/mildew_dataset/cherry-leaves/train/powdery_mildew/11486ca3-39fe-4ff3-8474-de8d579ededf___FREC_Pwd.M 0359_flipLR.JPG\u001b[m\n\t\u001b[31mdeleted:    inputs/mildew_dataset/cherry-leaves/train/powdery_mildew/119ee0ba-5aec-455d-9ce7-cfc7dae1b39d___FREC_Pwd.M 4542.JPG\u001b[m\n\t\u001b[31mdeleted:    inputs/mildew_dataset/cherry-leaves/train/powdery_mildew/13cd1180-f191-4603-9c1a-02ebec65f2c1___FREC_Pwd.M 4561_flipLR.JPG\u001b[m\n\t\u001b[31mdeleted:    inputs/mildew_dataset/cherry-leaves/train/powdery_mildew/167d6c02-d49c-4571-b9b8-6d77be09dfb4___FREC_Pwd.M 0256_flipLR.JPG\u001b[m\n\t\u001b[31mdeleted:    inputs/mildew_dataset/cherry-leaves/train/powdery_mildew/17079025-3a59-46d4-83f2-ccff1c099bee___FREC_Pwd.M 0513.JPG\u001b[m\n\t\u001b[31mdeleted:    inputs/mildew_dataset/cherry-leaves/train/powdery_mildew/177ebecc-dcdc-4d9f-8949-cb47b4473730___FREC_Pwd.M 4709_flipLR.JPG\u001b[m\n\t\u001b[31mdeleted:    inputs/mildew_dataset/cherry-leaves/train/powdery_mildew/1877b54d-3240-4f43-a441-fb3a50514b5b___FREC_Pwd.M 4876_flipLR.JPG\u001b[m\n\t\u001b[31mdeleted:    inputs/mildew_dataset/cherry-leaves/train/powdery_mildew/1aa7235d-9c4e-47c1-9a38-20f7ff3022df___FREC_Pwd.M 5123_flipLR.JPG\u001b[m\n\t\u001b[31mdeleted:    inputs/mildew_dataset/cherry-leaves/train/powdery_mildew/1c0ef846-0a17-4c88-b0c2-11eea5a40378___FREC_Pwd.M 0525.JPG\u001b[m\n\t\u001b[31mdeleted:    inputs/mildew_dataset/cherry-leaves/train/powdery_mildew/1e9cbbdb-4760-4218-881c-9ef0c25e396c___FREC_Pwd.M 5054.JPG\u001b[m\n\t\u001b[31mdeleted:    inputs/mildew_dataset/cherry-leaves/train/powdery_mildew/21f36453-b011-4ac8-8156-2876561b154c___FREC_Pwd.M 0424_flipLR.JPG\u001b[m\n\t\u001b[31mdeleted:    inputs/mildew_dataset/cherry-leaves/train/powdery_mildew/22f57320-eb78-472e-ba00-716f3385ddeb___FREC_Pwd.M 4844_flipLR.JPG\u001b[m\n\t\u001b[31mdeleted:    inputs/mildew_dataset/cherry-leaves/train/powdery_mildew/230895ef-e471-4e5a-bde2-38b53729f3ee___FREC_Pwd.M 4598_flipLR.JPG\u001b[m\n\t\u001b[31mdeleted:    inputs/mildew_dataset/cherry-leaves/train/powdery_mildew/240240b2-ab73-4831-bd3b-da01d626f346___FREC_Pwd.M 0373.JPG\u001b[m\n\t\u001b[31mdeleted:    inputs/mildew_dataset/cherry-leaves/train/powdery_mildew/24933275-9337-474d-b6ce-c372b58dbc7f___FREC_Pwd.M 0430.JPG\u001b[m\n\t\u001b[31mdeleted:    inputs/mildew_dataset/cherry-leaves/train/powdery_mildew/26fb02d8-2009-475e-8a92-ec576e757205___FREC_Pwd.M 4736.JPG\u001b[m\n\t\u001b[31mdeleted:    inputs/mildew_dataset/cherry-leaves/train/powdery_mildew/2ad49112-96a3-42df-a00f-72df73f8efaa___FREC_Pwd.M 4610.JPG\u001b[m\n\t\u001b[31mdeleted:    inputs/mildew_dataset/cherry-leaves/train/powdery_mildew/2b1b73ab-346e-4a2d-94b2-c17aaffaed3d___FREC_Pwd.M 4749.JPG\u001b[m\n\t\u001b[31mdeleted:    inputs/mildew_dataset/cherry-leaves/train/powdery_mildew/2d356a28-26fe-45e9-8f3d-d65c7a5be236___FREC_Pwd.M 0420_flipLR.JPG\u001b[m\n\t\u001b[31mdeleted:    inputs/mildew_dataset/cherry-leaves/train/powdery_mildew/2d9f4080-ce6a-44d4-8a51-1f3cd2be4570___FREC_Pwd.M 0490.JPG\u001b[m\n\t\u001b[31mdeleted:    inputs/mildew_dataset/cherry-leaves/train/powdery_mildew/2e83ac75-fc6d-4c88-b62f-474e244e6944___FREC_Pwd.M 4481.JPG\u001b[m\n\t\u001b[31mdeleted:    inputs/mildew_dataset/cherry-leaves/train/powdery_mildew/3060a921-5f6b-4d36-b208-4a68bccbb5de___FREC_Pwd.M 4729_flipLR.JPG\u001b[m\n\t\u001b[31mdeleted:    inputs/mildew_dataset/cherry-leaves/train/powdery_mildew/30ba2ad1-d339-44c8-a41f-5798b867600a___FREC_Pwd.M 5020_flipLR.JPG\u001b[m\n\t\u001b[31mdeleted:    inputs/mildew_dataset/cherry-leaves/train/powdery_mildew/312f2fb1-f0f5-414c-9b3d-eccacf0d2129___FREC_Pwd.M 0403.JPG\u001b[m\n\t\u001b[31mdeleted:    inputs/mildew_dataset/cherry-leaves/train/powdery_mildew/31e0b236-bd92-4020-976d-520cdff0e28b___FREC_Pwd.M 5066_flipLR.JPG\u001b[m\n\t\u001b[31mdeleted:    inputs/mildew_dataset/cherry-leaves/train/powdery_mildew/3241ea49-4272-490b-95d5-6797a3aea739___FREC_Pwd.M 0408.JPG\u001b[m\n\t\u001b[31mdeleted:    inputs/mildew_dataset/cherry-leaves/train/powdery_mildew/35d6c68e-d0c0-49d7-80c5-b3cb2618f933___FREC_Pwd.M 4686_flipLR.JPG\u001b[m\n\t\u001b[31mdeleted:    inputs/mildew_dataset/cherry-leaves/train/powdery_mildew/38895ed0-5a4e-4954-8778-9f022267431e___FREC_Pwd.M 4997.JPG\u001b[m\n\t\u001b[31mdeleted:    inputs/mildew_dataset/cherry-leaves/train/powdery_mildew/392bcdd9-eed3-4f4e-a56f-227b990d9719___FREC_Pwd.M 0531.JPG\u001b[m\n\t\u001b[31mdeleted:    inputs/mildew_dataset/cherry-leaves/train/powdery_mildew/3a043be9-9ea9-4017-9ebc-1a10084dbe08___FREC_Pwd.M 0388_flipLR.JPG\u001b[m\n\t\u001b[31mdeleted:    inputs/mildew_dataset/cherry-leaves/train/powdery_mildew/3b29c5d1-5a66-421c-974c-38c604b918ae___FREC_Pwd.M 5030.JPG\u001b[m\n\t\u001b[31mdeleted:    inputs/mildew_dataset/cherry-leaves/train/powdery_mildew/3c726192-540f-4ce5-9590-0aa8500e195c___FREC_Pwd.M 0547.JPG\u001b[m\n\t\u001b[31mdeleted:    inputs/mildew_dataset/cherry-leaves/train/powdery_mildew/3f56f44a-0a1b-4bf7-abda-d1893f44abc3___FREC_Pwd.M 5090_flipLR.JPG\u001b[m\n\t\u001b[31mdeleted:    inputs/mildew_dataset/cherry-leaves/train/powdery_mildew/405eb186-3a7e-4160-896b-b23b25d06548___FREC_Pwd.M 4669.JPG\u001b[m\n\t\u001b[31mdeleted:    inputs/mildew_dataset/cherry-leaves/train/powdery_mildew/41e2a7fa-2b13-4bdf-b17a-990cea0775cc___FREC_Pwd.M 0253_flipLR.JPG\u001b[m\n\t\u001b[31mdeleted:    inputs/mildew_dataset/cherry-leaves/train/powdery_mildew/485a5bc3-01f2-4fe1-a99d-46315e428e29___FREC_Pwd.M 4462.JPG\u001b[m\n\t\u001b[31mdeleted:    inputs/mildew_dataset/cherry-leaves/train/powdery_mildew/4aa7df26-15a1-40b2-80b7-19a6284a8ca3___FREC_Pwd.M 0569_flipLR.JPG\u001b[m\n\t\u001b[31mdeleted:    inputs/mildew_dataset/cherry-leaves/train/powdery_mildew/4bbc2747-4250-4f66-ae71-fd178771f2f3___FREC_Pwd.M 4569.JPG\u001b[m\n\t\u001b[31mdeleted:    inputs/mildew_dataset/cherry-leaves/train/powdery_mildew/4d8dadf9-1b3d-49d1-a8f2-eaf5ccaef559___FREC_Pwd.M 0433.JPG\u001b[m\n\t\u001b[31mdeleted:    inputs/mildew_dataset/cherry-leaves/train/powdery_mildew/4e64e49b-ff7b-435d-a304-4ab059403849___FREC_Pwd.M 5098.JPG\u001b[m\n\t\u001b[31mdeleted:    inputs/mildew_dataset/cherry-leaves/train/powdery_mildew/51a6dc79-5439-4159-af32-725a53dae409___FREC_Pwd.M 4865.JPG\u001b[m\n\t\u001b[31mdeleted:    inputs/mildew_dataset/cherry-leaves/train/powdery_mildew/535f0fec-14f2-4222-a44a-1e4f52d2ab0c___FREC_Pwd.M 0259.JPG\u001b[m\n\t\u001b[31mdeleted:    inputs/mildew_dataset/cherry-leaves/train/powdery_mildew/5666b4ed-32ac-4db9-a07c-230fb75b7413___FREC_Pwd.M 0524.JPG\u001b[m\n\t\u001b[31mdeleted:    inputs/mildew_dataset/cherry-leaves/train/powdery_mildew/5f807d2d-f7bc-4c9d-b8bc-74549ddfd47c___FREC_Pwd.M 0582_flipLR.JPG\u001b[m\n\t\u001b[31mdeleted:    inputs/mildew_dataset/cherry-leaves/train/powdery_mildew/62e8936d-bd22-43e1-a807-9588131172f0___FREC_Pwd.M 4992_flipLR.JPG\u001b[m\n\t\u001b[31mdeleted:    inputs/mildew_dataset/cherry-leaves/train/powdery_mildew/65972389-76f0-4b7a-ac4d-b2e9d6dc8d67___FREC_Pwd.M 4664.JPG\u001b[m\n\t\u001b[31mdeleted:    inputs/mildew_dataset/cherry-leaves/train/powdery_mildew/66a3e2fb-8e92-408a-86e2-3959921beea2___FREC_Pwd.M 0275_flipLR.JPG\u001b[m\n\t\u001b[31mdeleted:    inputs/mildew_dataset/cherry-leaves/train/powdery_mildew/683ff209-2360-44c5-bc28-7ae288869562___FREC_Pwd.M 4740.JPG\u001b[m\n\t\u001b[31mdeleted:    inputs/mildew_dataset/cherry-leaves/train/powdery_mildew/693a442d-fa07-421e-b8f6-b5db6817b604___FREC_Pwd.M 0532_flipLR.JPG\u001b[m\n\t\u001b[31mdeleted:    inputs/mildew_dataset/cherry-leaves/train/powdery_mildew/693c845b-b606-4bf9-8f29-7f8ae2c7f09d___FREC_Pwd.M 5096.JPG\u001b[m\n\t\u001b[31mdeleted:    inputs/mildew_dataset/cherry-leaves/train/powdery_mildew/6a076e30-41cb-409c-9209-97e6ed8aa6fb___FREC_Pwd.M 0410_flipLR.JPG\u001b[m\n\t\u001b[31mdeleted:    inputs/mildew_dataset/cherry-leaves/train/powdery_mildew/6ca92452-78c5-422b-bec6-afe04e862a62___FREC_Pwd.M 0341_flipLR.JPG\u001b[m\n\t\u001b[31mdeleted:    inputs/mildew_dataset/cherry-leaves/train/powdery_mildew/6e4263eb-1b86-4d34-9da8-e398e3e8931d___FREC_Pwd.M 0307.JPG\u001b[m\n\t\u001b[31mdeleted:    inputs/mildew_dataset/cherry-leaves/train/powdery_mildew/6f1c8a5e-7df4-46cf-9cbf-3f5588512393___FREC_Pwd.M 0564_flipLR.JPG\u001b[m\n\t\u001b[31mdeleted:    inputs/mildew_dataset/cherry-leaves/train/powdery_mildew/70408f47-c49b-44d5-8ced-f3d7d02d8b68___FREC_Pwd.M 4503.JPG\u001b[m\n\t\u001b[31mdeleted:    inputs/mildew_dataset/cherry-leaves/train/powdery_mildew/70c5c136-d253-4825-902a-ab8e4f6b8588___FREC_Pwd.M 4849_flipLR.JPG\u001b[m\n\t\u001b[31mdeleted:    inputs/mildew_dataset/cherry-leaves/train/powdery_mildew/71f131a8-9dbd-4330-a515-519a65d705a5___FREC_Pwd.M 0436.JPG\u001b[m\n\t\u001b[31mdeleted:    inputs/mildew_dataset/cherry-leaves/train/powdery_mildew/728525fd-75a3-4356-a7b4-34d56c31e12b___FREC_Pwd.M 4857.JPG\u001b[m\n\t\u001b[31mdeleted:    inputs/mildew_dataset/cherry-leaves/train/powdery_mildew/72d335eb-b2fc-4808-ba4a-94f1178f9c54___FREC_Pwd.M 0413_flipLR.JPG\u001b[m\n\t\u001b[31mdeleted:    inputs/mildew_dataset/cherry-leaves/train/powdery_mildew/75819ffc-fe0c-4586-b925-e84c5a7c7528___FREC_Pwd.M 4563.JPG\u001b[m\n\t\u001b[31mdeleted:    inputs/mildew_dataset/cherry-leaves/train/powdery_mildew/763ede8b-c6f1-4e82-8326-1b240c17103f___FREC_Pwd.M 5106.JPG\u001b[m\n\t\u001b[31mdeleted:    inputs/mildew_dataset/cherry-leaves/train/powdery_mildew/76d8c7b8-2091-48bd-b169-37f3c739cc89___FREC_Pwd.M 4877.JPG\u001b[m\n\t\u001b[31mdeleted:    inputs/mildew_dataset/cherry-leaves/train/powdery_mildew/77989419-b1f4-4e7e-8e85-48edbd870d31___FREC_Pwd.M 4933.JPG\u001b[m\n\t\u001b[31mdeleted:    inputs/mildew_dataset/cherry-leaves/train/powdery_mildew/78a912be-4a06-43c3-ac79-876b1a0f7c9f___FREC_Pwd.M 5072.JPG\u001b[m\n\t\u001b[31mdeleted:    inputs/mildew_dataset/cherry-leaves/train/powdery_mildew/7a567828-29c4-47e9-8503-66cf4d211f68___FREC_Pwd.M 0352_flipLR.JPG\u001b[m\n\t\u001b[31mdeleted:    inputs/mildew_dataset/cherry-leaves/train/powdery_mildew/7a67d9b7-02ee-4296-823f-5872dd55894c___FREC_Pwd.M 4746.JPG\u001b[m\n\t\u001b[31mdeleted:    inputs/mildew_dataset/cherry-leaves/train/powdery_mildew/7c954648-9427-4785-bc21-2bf92256da2a___FREC_Pwd.M 4657_flipLR.JPG\u001b[m\n\t\u001b[31mdeleted:    inputs/mildew_dataset/cherry-leaves/train/powdery_mildew/81cd32df-f7ac-4ffa-bdc2-0a64b9c13792___FREC_Pwd.M 4505_flipLR.JPG\u001b[m\n\t\u001b[31mdeleted:    inputs/mildew_dataset/cherry-leaves/train/powdery_mildew/82002c9f-b763-411f-9795-497c1de9ca6d___FREC_Pwd.M 0249.JPG\u001b[m\n\t\u001b[31mdeleted:    inputs/mildew_dataset/cherry-leaves/train/powdery_mildew/82002c9f-b763-411f-9795-497c1de9ca6d___FREC_Pwd.M 0249_flipLR.JPG\u001b[m\n\t\u001b[31mdeleted:    inputs/mildew_dataset/cherry-leaves/train/powdery_mildew/84c6b4a2-fbab-4315-bd1a-c154c2435ee5___FREC_Pwd.M 4474_flipLR.JPG\u001b[m\n\t\u001b[31mdeleted:    inputs/mildew_dataset/cherry-leaves/train/powdery_mildew/85447316-1260-4088-9121-3b1d69c533f1___FREC_Pwd.M 5141.JPG\u001b[m\n\t\u001b[31mdeleted:    inputs/mildew_dataset/cherry-leaves/train/powdery_mildew/854a1985-0856-41a9-9f9a-2e1a5822e07c___FREC_Pwd.M 5079_flipLR.JPG\u001b[m\n\t\u001b[31mdeleted:    inputs/mildew_dataset/cherry-leaves/train/powdery_mildew/890379a9-f446-4f14-af25-bbf4a3544473___FREC_Pwd.M 0391_flipLR.JPG\u001b[m\n\t\u001b[31mdeleted:    inputs/mildew_dataset/cherry-leaves/train/powdery_mildew/8b8c2681-e75e-452f-babe-04499e8160c5___FREC_Pwd.M 4507_flipLR.JPG\u001b[m\n\t\u001b[31mdeleted:    inputs/mildew_dataset/cherry-leaves/train/powdery_mildew/8efb390e-1477-4de8-90cc-829adfc3e46c___FREC_Pwd.M 4987.JPG\u001b[m\n\t\u001b[31mdeleted:    inputs/mildew_dataset/cherry-leaves/train/powdery_mildew/910283ff-e130-48c1-9a7d-a379a90e8bf4___FREC_Pwd.M 0381.JPG\u001b[m\n\t\u001b[31mdeleted:    inputs/mildew_dataset/cherry-leaves/train/powdery_mildew/94427a36-9a76-477b-a53e-1b735e3ac9cb___FREC_Pwd.M 4588_flipLR.JPG\u001b[m\n\t\u001b[31mdeleted:    inputs/mildew_dataset/cherry-leaves/train/powdery_mildew/94ebc82a-0f50-4fcd-a3e7-a10b5c844781___FREC_Pwd.M 4484.JPG\u001b[m\n\t\u001b[31mdeleted:    inputs/mildew_dataset/cherry-leaves/train/powdery_mildew/9888b4cb-17f3-4aa4-9f8e-39ddd67d3110___FREC_Pwd.M 4940.JPG\u001b[m\n\t\u001b[31mdeleted:    inputs/mildew_dataset/cherry-leaves/train/powdery_mildew/9a969b7c-484b-45c8-9d25-f240903511a4___FREC_Pwd.M 4786.JPG\u001b[m\n\t\u001b[31mdeleted:    inputs/mildew_dataset/cherry-leaves/train/powdery_mildew/9af3c619-59ed-4037-8106-26af5fadc388___FREC_Pwd.M 5011_flipLR.JPG\u001b[m\n\t\u001b[31mdeleted:    inputs/mildew_dataset/cherry-leaves/train/powdery_mildew/9d9c0c1a-fd2b-4563-b5c6-e393e4fd8b09___FREC_Pwd.M 4803_flipLR.JPG\u001b[m\n\t\u001b[31mdeleted:    inputs/mildew_dataset/cherry-leaves/train/powdery_mildew/a24067ad-f2ad-469a-ad73-033aa1bdbc51___FREC_Pwd.M 4859_flipLR.JPG\u001b[m\n\t\u001b[31mdeleted:    inputs/mildew_dataset/cherry-leaves/train/powdery_mildew/a28e20f2-73bd-40d0-b523-0893cb1f77fd___FREC_Pwd.M 0514_flipLR.JPG\u001b[m\n\t\u001b[31mdeleted:    inputs/mildew_dataset/cherry-leaves/train/powdery_mildew/a726864c-cd52-4dde-818b-7b79b6ce2f0e___FREC_Pwd.M 4915_flipLR.JPG\u001b[m\n\t\u001b[31mdeleted:    inputs/mildew_dataset/cherry-leaves/train/powdery_mildew/a97ab660-879e-4cc5-a1ff-ae98e0c794e4___FREC_Pwd.M 0488_flipLR.JPG\u001b[m\n\t\u001b[31mdeleted:    inputs/mildew_dataset/cherry-leaves/train/powdery_mildew/ac4e6f2c-b2f6-4a21-a42a-b51ae78b38a4___FREC_Pwd.M 0255_flipLR.JPG\u001b[m\n\t\u001b[31mdeleted:    inputs/mildew_dataset/cherry-leaves/train/powdery_mildew/ac6dfdbf-88d8-41f3-ae2c-ac264c1be2f5___FREC_Pwd.M 5083.JPG\u001b[m\n\t\u001b[31mdeleted:    inputs/mildew_dataset/cherry-leaves/train/powdery_mildew/ae1f1589-016e-4619-99ac-00f214199bfc___FREC_Pwd.M 5150_flipLR.JPG\u001b[m\n\t\u001b[31mdeleted:    inputs/mildew_dataset/cherry-leaves/train/powdery_mildew/b0698c28-34b6-4232-aa9c-55fb466df8dd___FREC_Pwd.M 4512_flipLR.JPG\u001b[m\n\t\u001b[31mdeleted:    inputs/mildew_dataset/cherry-leaves/train/powdery_mildew/b1100ac1-5c39-4d75-8bc6-b4415151e607___FREC_Pwd.M 4916.JPG\u001b[m\n\t\u001b[31mdeleted:    inputs/mildew_dataset/cherry-leaves/train/powdery_mildew/b136af29-b428-4b17-b9c8-b56d8fadb559___FREC_Pwd.M 0378_flipLR.JPG\u001b[m\n\t\u001b[31mdeleted:    inputs/mildew_dataset/cherry-leaves/train/powdery_mildew/b22853ce-86ca-4a0c-9a16-ce82e0817513___FREC_Pwd.M 4942.JPG\u001b[m\n\t\u001b[31mdeleted:    inputs/mildew_dataset/cherry-leaves/train/powdery_mildew/b2c8b5a5-86a8-4039-b042-6dc3980c57b3___FREC_Pwd.M 0551.JPG\u001b[m\n\t\u001b[31mdeleted:    inputs/mildew_dataset/cherry-leaves/train/powdery_mildew/b62afeb0-4144-49db-83f5-6a5fe46715f2___FREC_Pwd.M 0471_flipLR.JPG\u001b[m\n\t\u001b[31mdeleted:    inputs/mildew_dataset/cherry-leaves/train/powdery_mildew/b97fc191-9b3b-4c4c-b857-eca7767c033a___FREC_Pwd.M 4816_flipLR.JPG\u001b[m\n\t\u001b[31mdeleted:    inputs/mildew_dataset/cherry-leaves/train/powdery_mildew/bc20f3c6-4a2f-4cbc-94c4-f4a5f52b9f21___FREC_Pwd.M 0566.JPG\u001b[m\n\t\u001b[31mdeleted:    inputs/mildew_dataset/cherry-leaves/train/powdery_mildew/bf88ee41-8b66-4915-b799-a0894ae02ad8___FREC_Pwd.M 4968_flipLR.JPG\u001b[m\n\t\u001b[31mdeleted:    inputs/mildew_dataset/cherry-leaves/train/powdery_mildew/bfc76298-a208-4a0a-88b0-580218720055___FREC_Pwd.M 4904_flipLR.JPG\u001b[m\n\t\u001b[31mdeleted:    inputs/mildew_dataset/cherry-leaves/train/powdery_mildew/c20cdaa2-54fc-4bed-9f9e-a82495f889ea___FREC_Pwd.M 4559.JPG\u001b[m\n\t\u001b[31mdeleted:    inputs/mildew_dataset/cherry-leaves/train/powdery_mildew/c28e81c2-a058-4f06-935c-80ba96dd7d4c___FREC_Pwd.M 0534_flipLR.JPG\u001b[m\n\t\u001b[31mdeleted:    inputs/mildew_dataset/cherry-leaves/train/powdery_mildew/c42f244f-92a2-4800-b6ae-6d623b54f55f___FREC_Pwd.M 4551_flipLR.JPG\u001b[m\n\t\u001b[31mdeleted:    inputs/mildew_dataset/cherry-leaves/train/powdery_mildew/c79bd6b7-b4a6-4d95-a9b6-46e7c89953b6___FREC_Pwd.M 4690_flipLR.JPG\u001b[m\n\t\u001b[31mdeleted:    inputs/mildew_dataset/cherry-leaves/train/powdery_mildew/c82e8bfd-a4d6-448f-9c6c-1da54df1e12f___FREC_Pwd.M 4547.JPG\u001b[m\n\t\u001b[31mdeleted:    inputs/mildew_dataset/cherry-leaves/train/powdery_mildew/c8c3b247-8cec-4103-8acb-0ae5d6655cee___FREC_Pwd.M 4659_flipLR.JPG\u001b[m\n\t\u001b[31mdeleted:    inputs/mildew_dataset/cherry-leaves/train/powdery_mildew/c98fe18a-cac1-4956-8fa5-a5bac2c5c268___FREC_Pwd.M 4793.JPG\u001b[m\n\t\u001b[31mdeleted:    inputs/mildew_dataset/cherry-leaves/train/powdery_mildew/cbdddf3a-11c7-4d26-b2f9-a4e47a509c9a___FREC_Pwd.M 4984.JPG\u001b[m\n\t\u001b[31mdeleted:    inputs/mildew_dataset/cherry-leaves/train/powdery_mildew/cc0b027a-d0e9-489c-97fa-017a94efd300___FREC_Pwd.M 0510.JPG\u001b[m\n\t\u001b[31mdeleted:    inputs/mildew_dataset/cherry-leaves/train/powdery_mildew/ccd9f930-bf7f-4235-8aec-d191089efbb2___FREC_Pwd.M 0299_flipLR.JPG\u001b[m\n\t\u001b[31mdeleted:    inputs/mildew_dataset/cherry-leaves/train/powdery_mildew/cd8572da-75c4-4388-a20b-25c136aee122___FREC_Pwd.M 0476.JPG\u001b[m\n\t\u001b[31mdeleted:    inputs/mildew_dataset/cherry-leaves/train/powdery_mildew/cf98e1fd-1f1b-4f21-b485-d37a7b594965___FREC_Pwd.M 0503_flipLR.JPG\u001b[m\n\t\u001b[31mdeleted:    inputs/mildew_dataset/cherry-leaves/train/powdery_mildew/cfa004d4-fb53-4ad8-ab21-9e478a2d309b___FREC_Pwd.M 5111_flipLR.JPG\u001b[m\n\t\u001b[31mdeleted:    inputs/mildew_dataset/cherry-leaves/train/powdery_mildew/d297097e-4fbb-4133-b8d8-eb3a2d9acfc2___FREC_Pwd.M 4609.JPG\u001b[m\n\t\u001b[31mdeleted:    inputs/mildew_dataset/cherry-leaves/train/powdery_mildew/d42add39-cfc9-4603-948e-fb70a8fb0a12___FREC_Pwd.M 4823_flipLR.JPG\u001b[m\n\t\u001b[31mdeleted:    inputs/mildew_dataset/cherry-leaves/train/powdery_mildew/d45b03fe-d4cc-470c-bb27-e8ced9b6468f___FREC_Pwd.M 5081.JPG\u001b[m\n\t\u001b[31mdeleted:    inputs/mildew_dataset/cherry-leaves/train/powdery_mildew/d5dea1b0-527d-445a-9a7c-2eae850beadc___FREC_Pwd.M 4516.JPG\u001b[m\n\t\u001b[31mdeleted:    inputs/mildew_dataset/cherry-leaves/train/powdery_mildew/d900ece6-df13-478f-a07a-be31c56e64d5___FREC_Pwd.M 0290.JPG\u001b[m\n\t\u001b[31mdeleted:    inputs/mildew_dataset/cherry-leaves/train/powdery_mildew/d93c6cb4-f143-46b1-96db-bb12e8bd6c0b___FREC_Pwd.M 4964.JPG\u001b[m\n\t\u001b[31mdeleted:    inputs/mildew_dataset/cherry-leaves/train/powdery_mildew/da099922-273a-456d-a8c0-84226a746907___FREC_Pwd.M 4881.JPG\u001b[m\n\t\u001b[31mdeleted:    inputs/mildew_dataset/cherry-leaves/train/powdery_mildew/dbf6a6fd-5606-4584-bd11-659a86eac60b___FREC_Pwd.M 4707.JPG\u001b[m\n\t\u001b[31mdeleted:    inputs/mildew_dataset/cherry-leaves/train/powdery_mildew/dc06d560-e913-4f2f-adb9-7fe0ab5b5a92___FREC_Pwd.M 4580_flipLR.JPG\u001b[m\n\t\u001b[31mdeleted:    inputs/mildew_dataset/cherry-leaves/train/powdery_mildew/dd6a34da-d476-471e-ad72-f7ac94236416___FREC_Pwd.M 0365.JPG\u001b[m\n\t\u001b[31mdeleted:    inputs/mildew_dataset/cherry-leaves/train/powdery_mildew/de8ef18c-2d11-47e0-8fa1-85f5f0177277___FREC_Pwd.M 0473.JPG\u001b[m\n\t\u001b[31mdeleted:    inputs/mildew_dataset/cherry-leaves/train/powdery_mildew/e1ea1451-0d15-4b27-93c0-9d20fd15d396___FREC_Pwd.M 0400.JPG\u001b[m\n\t\u001b[31mdeleted:    inputs/mildew_dataset/cherry-leaves/train/powdery_mildew/e57a51c0-d0c0-46a1-a298-4c9cfd0337e2___FREC_Pwd.M 4778.JPG\u001b[m\n\t\u001b[31mdeleted:    inputs/mildew_dataset/cherry-leaves/train/powdery_mildew/e6cff815-c0e5-4a03-b0b1-baada088b7e9___FREC_Pwd.M 4960_flipLR.JPG\u001b[m\n\t\u001b[31mdeleted:    inputs/mildew_dataset/cherry-leaves/train/powdery_mildew/e79eda22-9c31-4e34-87e1-e1c9ae2d6449___FREC_Pwd.M 4988.JPG\u001b[m\n\t\u001b[31mdeleted:    inputs/mildew_dataset/cherry-leaves/train/powdery_mildew/ea7682b0-f644-40a7-95b1-83cb41265907___FREC_Pwd.M 4872.JPG\u001b[m\n\t\u001b[31mdeleted:    inputs/mildew_dataset/cherry-leaves/train/powdery_mildew/eada22e6-434b-4a9b-9d7c-7f6d298677c9___FREC_Pwd.M 5059.JPG\u001b[m\n\t\u001b[31mdeleted:    inputs/mildew_dataset/cherry-leaves/train/powdery_mildew/eb002010-f84f-4b0e-a005-f09c77ad262c___FREC_Pwd.M 0478_flipLR.JPG\u001b[m\n\t\u001b[31mdeleted:    inputs/mildew_dataset/cherry-leaves/train/powdery_mildew/edf764dc-8951-4a95-80f7-4827693db0db___FREC_Pwd.M 0593_flipLR.JPG\u001b[m\n\t\u001b[31mdeleted:    inputs/mildew_dataset/cherry-leaves/train/powdery_mildew/f0a3927a-f7b3-4907-b511-930107a5607f___FREC_Pwd.M 0590_flipLR.JPG\u001b[m\n\t\u001b[31mdeleted:    inputs/mildew_dataset/cherry-leaves/train/powdery_mildew/f0af55b8-2e06-4881-ba70-1b1918473a95___FREC_Pwd.M 4731_flipLR.JPG\u001b[m\n\t\u001b[31mdeleted:    inputs/mildew_dataset/cherry-leaves/train/powdery_mildew/f0bd1b72-eaaa-4a37-b84f-ff62bb1214f4___FREC_Pwd.M 4540_flipLR.JPG\u001b[m\n\t\u001b[31mdeleted:    inputs/mildew_dataset/cherry-leaves/train/powdery_mildew/f6d3fe59-d384-444b-a906-b7aa8e008c31___FREC_Pwd.M 4852.JPG\u001b[m\n\t\u001b[31mdeleted:    inputs/mildew_dataset/cherry-leaves/train/powdery_mildew/f84ac3f6-8aa8-43cb-aaf4-6bc79e189608___FREC_Pwd.M 0269.JPG\u001b[m\n\t\u001b[31mdeleted:    inputs/mildew_dataset/cherry-leaves/train/powdery_mildew/f9ecca4f-e052-40e9-8d79-dc04ba579ff0___FREC_Pwd.M 0404.JPG\u001b[m\n\t\u001b[31mdeleted:    inputs/mildew_dataset/cherry-leaves/train/powdery_mildew/fae0ccf9-efd8-47c2-af4d-77a13740e172___FREC_Pwd.M 4779_flipLR.JPG\u001b[m\n\t\u001b[31mdeleted:    inputs/mildew_dataset/cherry-leaves/train/powdery_mildew/fee69dd9-eeb1-4cf2-b249-17482605f1f7___FREC_Pwd.M 4689_flipLR.JPG\u001b[m\n\t\u001b[31mmodified:   jupyter_notebooks/data_collection.ipynb\u001b[m\n\nno changes added to commit (use \"git add\" and/or \"git commit -a\")\n"
        }
      ],
      "source": [
        "!git status"
      ]
    },
    {
      "attachments": {},
      "cell_type": "markdown",
      "metadata": {},
      "source": [
        "### Git add"
      ]
    },
    {
      "cell_type": "code",
      "execution_count": 21,
      "metadata": {},
      "outputs": [],
      "source": [
        "!git add ."
      ]
    },
    {
      "attachments": {},
      "cell_type": "markdown",
      "metadata": {},
      "source": [
        "### Git commit"
      ]
    },
    {
      "cell_type": "code",
      "execution_count": 22,
      "metadata": {
        "tags": [
          "outputPrepend"
        ]
      },
      "outputs": [
        {
          "output_type": "stream",
          "name": "stdout",
          "text": "a03f-3c6e-4977-96b7-6460433168b8___FREC_Pwd.M 5137_flipLR.JPG\n delete mode 100644 inputs/mildew_dataset/cherry-leaves/train/powdery_mildew/0ceb54ca-c9c1-48fb-9b8c-eb8afaefc378___FREC_Pwd.M 4698_flipLR.JPG\n delete mode 100644 inputs/mildew_dataset/cherry-leaves/train/powdery_mildew/0d20bb6d-798a-4c82-8aea-8d64bd1a086b___FREC_Pwd.M 4761_flipLR.JPG\n delete mode 100644 inputs/mildew_dataset/cherry-leaves/train/powdery_mildew/112567fd-5046-4328-80f1-f33e01f76cbf___FREC_Pwd.M 5038_flipLR.JPG\n delete mode 100644 inputs/mildew_dataset/cherry-leaves/train/powdery_mildew/11486ca3-39fe-4ff3-8474-de8d579ededf___FREC_Pwd.M 0359_flipLR.JPG\n delete mode 100644 inputs/mildew_dataset/cherry-leaves/train/powdery_mildew/119ee0ba-5aec-455d-9ce7-cfc7dae1b39d___FREC_Pwd.M 4542.JPG\n delete mode 100644 inputs/mildew_dataset/cherry-leaves/train/powdery_mildew/13cd1180-f191-4603-9c1a-02ebec65f2c1___FREC_Pwd.M 4561_flipLR.JPG\n delete mode 100644 inputs/mildew_dataset/cherry-leaves/train/powdery_mildew/167d6c02-d49c-4571-b9b8-6d77be09dfb4___FREC_Pwd.M 0256_flipLR.JPG\n delete mode 100644 inputs/mildew_dataset/cherry-leaves/train/powdery_mildew/17079025-3a59-46d4-83f2-ccff1c099bee___FREC_Pwd.M 0513.JPG\n delete mode 100644 inputs/mildew_dataset/cherry-leaves/train/powdery_mildew/177ebecc-dcdc-4d9f-8949-cb47b4473730___FREC_Pwd.M 4709_flipLR.JPG\n delete mode 100644 inputs/mildew_dataset/cherry-leaves/train/powdery_mildew/1877b54d-3240-4f43-a441-fb3a50514b5b___FREC_Pwd.M 4876_flipLR.JPG\n delete mode 100644 inputs/mildew_dataset/cherry-leaves/train/powdery_mildew/1aa7235d-9c4e-47c1-9a38-20f7ff3022df___FREC_Pwd.M 5123_flipLR.JPG\n delete mode 100644 inputs/mildew_dataset/cherry-leaves/train/powdery_mildew/1c0ef846-0a17-4c88-b0c2-11eea5a40378___FREC_Pwd.M 0525.JPG\n delete mode 100644 inputs/mildew_dataset/cherry-leaves/train/powdery_mildew/1e9cbbdb-4760-4218-881c-9ef0c25e396c___FREC_Pwd.M 5054.JPG\n delete mode 100644 inputs/mildew_dataset/cherry-leaves/train/powdery_mildew/21f36453-b011-4ac8-8156-2876561b154c___FREC_Pwd.M 0424_flipLR.JPG\n delete mode 100644 inputs/mildew_dataset/cherry-leaves/train/powdery_mildew/22f57320-eb78-472e-ba00-716f3385ddeb___FREC_Pwd.M 4844_flipLR.JPG\n delete mode 100644 inputs/mildew_dataset/cherry-leaves/train/powdery_mildew/230895ef-e471-4e5a-bde2-38b53729f3ee___FREC_Pwd.M 4598_flipLR.JPG\n delete mode 100644 inputs/mildew_dataset/cherry-leaves/train/powdery_mildew/240240b2-ab73-4831-bd3b-da01d626f346___FREC_Pwd.M 0373.JPG\n delete mode 100644 inputs/mildew_dataset/cherry-leaves/train/powdery_mildew/24933275-9337-474d-b6ce-c372b58dbc7f___FREC_Pwd.M 0430.JPG\n delete mode 100644 inputs/mildew_dataset/cherry-leaves/train/powdery_mildew/26fb02d8-2009-475e-8a92-ec576e757205___FREC_Pwd.M 4736.JPG\n delete mode 100644 inputs/mildew_dataset/cherry-leaves/train/powdery_mildew/2ad49112-96a3-42df-a00f-72df73f8efaa___FREC_Pwd.M 4610.JPG\n delete mode 100644 inputs/mildew_dataset/cherry-leaves/train/powdery_mildew/2b1b73ab-346e-4a2d-94b2-c17aaffaed3d___FREC_Pwd.M 4749.JPG\n delete mode 100644 inputs/mildew_dataset/cherry-leaves/train/powdery_mildew/2d356a28-26fe-45e9-8f3d-d65c7a5be236___FREC_Pwd.M 0420_flipLR.JPG\n delete mode 100644 inputs/mildew_dataset/cherry-leaves/train/powdery_mildew/2d9f4080-ce6a-44d4-8a51-1f3cd2be4570___FREC_Pwd.M 0490.JPG\n delete mode 100644 inputs/mildew_dataset/cherry-leaves/train/powdery_mildew/2e83ac75-fc6d-4c88-b62f-474e244e6944___FREC_Pwd.M 4481.JPG\n delete mode 100644 inputs/mildew_dataset/cherry-leaves/train/powdery_mildew/3060a921-5f6b-4d36-b208-4a68bccbb5de___FREC_Pwd.M 4729_flipLR.JPG\n delete mode 100644 inputs/mildew_dataset/cherry-leaves/train/powdery_mildew/30ba2ad1-d339-44c8-a41f-5798b867600a___FREC_Pwd.M 5020_flipLR.JPG\n delete mode 100644 inputs/mildew_dataset/cherry-leaves/train/powdery_mildew/312f2fb1-f0f5-414c-9b3d-eccacf0d2129___FREC_Pwd.M 0403.JPG\n delete mode 100644 inputs/mildew_dataset/cherry-leaves/train/powdery_mildew/31e0b236-bd92-4020-976d-520cdff0e28b___FREC_Pwd.M 5066_flipLR.JPG\n delete mode 100644 inputs/mildew_dataset/cherry-leaves/train/powdery_mildew/3241ea49-4272-490b-95d5-6797a3aea739___FREC_Pwd.M 0408.JPG\n delete mode 100644 inputs/mildew_dataset/cherry-leaves/train/powdery_mildew/35d6c68e-d0c0-49d7-80c5-b3cb2618f933___FREC_Pwd.M 4686_flipLR.JPG\n delete mode 100644 inputs/mildew_dataset/cherry-leaves/train/powdery_mildew/38895ed0-5a4e-4954-8778-9f022267431e___FREC_Pwd.M 4997.JPG\n delete mode 100644 inputs/mildew_dataset/cherry-leaves/train/powdery_mildew/392bcdd9-eed3-4f4e-a56f-227b990d9719___FREC_Pwd.M 0531.JPG\n delete mode 100644 inputs/mildew_dataset/cherry-leaves/train/powdery_mildew/3a043be9-9ea9-4017-9ebc-1a10084dbe08___FREC_Pwd.M 0388_flipLR.JPG\n delete mode 100644 inputs/mildew_dataset/cherry-leaves/train/powdery_mildew/3b29c5d1-5a66-421c-974c-38c604b918ae___FREC_Pwd.M 5030.JPG\n delete mode 100644 inputs/mildew_dataset/cherry-leaves/train/powdery_mildew/3c726192-540f-4ce5-9590-0aa8500e195c___FREC_Pwd.M 0547.JPG\n delete mode 100644 inputs/mildew_dataset/cherry-leaves/train/powdery_mildew/3f56f44a-0a1b-4bf7-abda-d1893f44abc3___FREC_Pwd.M 5090_flipLR.JPG\n delete mode 100644 inputs/mildew_dataset/cherry-leaves/train/powdery_mildew/405eb186-3a7e-4160-896b-b23b25d06548___FREC_Pwd.M 4669.JPG\n delete mode 100644 inputs/mildew_dataset/cherry-leaves/train/powdery_mildew/41e2a7fa-2b13-4bdf-b17a-990cea0775cc___FREC_Pwd.M 0253_flipLR.JPG\n delete mode 100644 inputs/mildew_dataset/cherry-leaves/train/powdery_mildew/485a5bc3-01f2-4fe1-a99d-46315e428e29___FREC_Pwd.M 4462.JPG\n delete mode 100644 inputs/mildew_dataset/cherry-leaves/train/powdery_mildew/4aa7df26-15a1-40b2-80b7-19a6284a8ca3___FREC_Pwd.M 0569_flipLR.JPG\n delete mode 100644 inputs/mildew_dataset/cherry-leaves/train/powdery_mildew/4bbc2747-4250-4f66-ae71-fd178771f2f3___FREC_Pwd.M 4569.JPG\n delete mode 100644 inputs/mildew_dataset/cherry-leaves/train/powdery_mildew/4d8dadf9-1b3d-49d1-a8f2-eaf5ccaef559___FREC_Pwd.M 0433.JPG\n delete mode 100644 inputs/mildew_dataset/cherry-leaves/train/powdery_mildew/4e64e49b-ff7b-435d-a304-4ab059403849___FREC_Pwd.M 5098.JPG\n delete mode 100644 inputs/mildew_dataset/cherry-leaves/train/powdery_mildew/51a6dc79-5439-4159-af32-725a53dae409___FREC_Pwd.M 4865.JPG\n delete mode 100644 inputs/mildew_dataset/cherry-leaves/train/powdery_mildew/535f0fec-14f2-4222-a44a-1e4f52d2ab0c___FREC_Pwd.M 0259.JPG\n delete mode 100644 inputs/mildew_dataset/cherry-leaves/train/powdery_mildew/5666b4ed-32ac-4db9-a07c-230fb75b7413___FREC_Pwd.M 0524.JPG\n delete mode 100644 inputs/mildew_dataset/cherry-leaves/train/powdery_mildew/5f807d2d-f7bc-4c9d-b8bc-74549ddfd47c___FREC_Pwd.M 0582_flipLR.JPG\n delete mode 100644 inputs/mildew_dataset/cherry-leaves/train/powdery_mildew/62e8936d-bd22-43e1-a807-9588131172f0___FREC_Pwd.M 4992_flipLR.JPG\n delete mode 100644 inputs/mildew_dataset/cherry-leaves/train/powdery_mildew/65972389-76f0-4b7a-ac4d-b2e9d6dc8d67___FREC_Pwd.M 4664.JPG\n delete mode 100644 inputs/mildew_dataset/cherry-leaves/train/powdery_mildew/66a3e2fb-8e92-408a-86e2-3959921beea2___FREC_Pwd.M 0275_flipLR.JPG\n delete mode 100644 inputs/mildew_dataset/cherry-leaves/train/powdery_mildew/683ff209-2360-44c5-bc28-7ae288869562___FREC_Pwd.M 4740.JPG\n delete mode 100644 inputs/mildew_dataset/cherry-leaves/train/powdery_mildew/693a442d-fa07-421e-b8f6-b5db6817b604___FREC_Pwd.M 0532_flipLR.JPG\n delete mode 100644 inputs/mildew_dataset/cherry-leaves/train/powdery_mildew/693c845b-b606-4bf9-8f29-7f8ae2c7f09d___FREC_Pwd.M 5096.JPG\n delete mode 100644 inputs/mildew_dataset/cherry-leaves/train/powdery_mildew/6a076e30-41cb-409c-9209-97e6ed8aa6fb___FREC_Pwd.M 0410_flipLR.JPG\n delete mode 100644 inputs/mildew_dataset/cherry-leaves/train/powdery_mildew/6ca92452-78c5-422b-bec6-afe04e862a62___FREC_Pwd.M 0341_flipLR.JPG\n delete mode 100644 inputs/mildew_dataset/cherry-leaves/train/powdery_mildew/6e4263eb-1b86-4d34-9da8-e398e3e8931d___FREC_Pwd.M 0307.JPG\n delete mode 100644 inputs/mildew_dataset/cherry-leaves/train/powdery_mildew/6f1c8a5e-7df4-46cf-9cbf-3f5588512393___FREC_Pwd.M 0564_flipLR.JPG\n delete mode 100644 inputs/mildew_dataset/cherry-leaves/train/powdery_mildew/70408f47-c49b-44d5-8ced-f3d7d02d8b68___FREC_Pwd.M 4503.JPG\n delete mode 100644 inputs/mildew_dataset/cherry-leaves/train/powdery_mildew/70c5c136-d253-4825-902a-ab8e4f6b8588___FREC_Pwd.M 4849_flipLR.JPG\n delete mode 100644 inputs/mildew_dataset/cherry-leaves/train/powdery_mildew/71f131a8-9dbd-4330-a515-519a65d705a5___FREC_Pwd.M 0436.JPG\n delete mode 100644 inputs/mildew_dataset/cherry-leaves/train/powdery_mildew/728525fd-75a3-4356-a7b4-34d56c31e12b___FREC_Pwd.M 4857.JPG\n delete mode 100644 inputs/mildew_dataset/cherry-leaves/train/powdery_mildew/72d335eb-b2fc-4808-ba4a-94f1178f9c54___FREC_Pwd.M 0413_flipLR.JPG\n delete mode 100644 inputs/mildew_dataset/cherry-leaves/train/powdery_mildew/75819ffc-fe0c-4586-b925-e84c5a7c7528___FREC_Pwd.M 4563.JPG\n delete mode 100644 inputs/mildew_dataset/cherry-leaves/train/powdery_mildew/763ede8b-c6f1-4e82-8326-1b240c17103f___FREC_Pwd.M 5106.JPG\n delete mode 100644 inputs/mildew_dataset/cherry-leaves/train/powdery_mildew/76d8c7b8-2091-48bd-b169-37f3c739cc89___FREC_Pwd.M 4877.JPG\n delete mode 100644 inputs/mildew_dataset/cherry-leaves/train/powdery_mildew/77989419-b1f4-4e7e-8e85-48edbd870d31___FREC_Pwd.M 4933.JPG\n delete mode 100644 inputs/mildew_dataset/cherry-leaves/train/powdery_mildew/78a912be-4a06-43c3-ac79-876b1a0f7c9f___FREC_Pwd.M 5072.JPG\n delete mode 100644 inputs/mildew_dataset/cherry-leaves/train/powdery_mildew/7a567828-29c4-47e9-8503-66cf4d211f68___FREC_Pwd.M 0352_flipLR.JPG\n delete mode 100644 inputs/mildew_dataset/cherry-leaves/train/powdery_mildew/7a67d9b7-02ee-4296-823f-5872dd55894c___FREC_Pwd.M 4746.JPG\n delete mode 100644 inputs/mildew_dataset/cherry-leaves/train/powdery_mildew/7c954648-9427-4785-bc21-2bf92256da2a___FREC_Pwd.M 4657_flipLR.JPG\n delete mode 100644 inputs/mildew_dataset/cherry-leaves/train/powdery_mildew/81cd32df-f7ac-4ffa-bdc2-0a64b9c13792___FREC_Pwd.M 4505_flipLR.JPG\n delete mode 100644 inputs/mildew_dataset/cherry-leaves/train/powdery_mildew/82002c9f-b763-411f-9795-497c1de9ca6d___FREC_Pwd.M 0249.JPG\n delete mode 100644 inputs/mildew_dataset/cherry-leaves/train/powdery_mildew/82002c9f-b763-411f-9795-497c1de9ca6d___FREC_Pwd.M 0249_flipLR.JPG\n delete mode 100644 inputs/mildew_dataset/cherry-leaves/train/powdery_mildew/84c6b4a2-fbab-4315-bd1a-c154c2435ee5___FREC_Pwd.M 4474_flipLR.JPG\n delete mode 100644 inputs/mildew_dataset/cherry-leaves/train/powdery_mildew/85447316-1260-4088-9121-3b1d69c533f1___FREC_Pwd.M 5141.JPG\n delete mode 100644 inputs/mildew_dataset/cherry-leaves/train/powdery_mildew/854a1985-0856-41a9-9f9a-2e1a5822e07c___FREC_Pwd.M 5079_flipLR.JPG\n delete mode 100644 inputs/mildew_dataset/cherry-leaves/train/powdery_mildew/890379a9-f446-4f14-af25-bbf4a3544473___FREC_Pwd.M 0391_flipLR.JPG\n delete mode 100644 inputs/mildew_dataset/cherry-leaves/train/powdery_mildew/8b8c2681-e75e-452f-babe-04499e8160c5___FREC_Pwd.M 4507_flipLR.JPG\n delete mode 100644 inputs/mildew_dataset/cherry-leaves/train/powdery_mildew/8efb390e-1477-4de8-90cc-829adfc3e46c___FREC_Pwd.M 4987.JPG\n delete mode 100644 inputs/mildew_dataset/cherry-leaves/train/powdery_mildew/910283ff-e130-48c1-9a7d-a379a90e8bf4___FREC_Pwd.M 0381.JPG\n delete mode 100644 inputs/mildew_dataset/cherry-leaves/train/powdery_mildew/94427a36-9a76-477b-a53e-1b735e3ac9cb___FREC_Pwd.M 4588_flipLR.JPG\n delete mode 100644 inputs/mildew_dataset/cherry-leaves/train/powdery_mildew/94ebc82a-0f50-4fcd-a3e7-a10b5c844781___FREC_Pwd.M 4484.JPG\n delete mode 100644 inputs/mildew_dataset/cherry-leaves/train/powdery_mildew/9888b4cb-17f3-4aa4-9f8e-39ddd67d3110___FREC_Pwd.M 4940.JPG\n delete mode 100644 inputs/mildew_dataset/cherry-leaves/train/powdery_mildew/9a969b7c-484b-45c8-9d25-f240903511a4___FREC_Pwd.M 4786.JPG\n delete mode 100644 inputs/mildew_dataset/cherry-leaves/train/powdery_mildew/9af3c619-59ed-4037-8106-26af5fadc388___FREC_Pwd.M 5011_flipLR.JPG\n delete mode 100644 inputs/mildew_dataset/cherry-leaves/train/powdery_mildew/9d9c0c1a-fd2b-4563-b5c6-e393e4fd8b09___FREC_Pwd.M 4803_flipLR.JPG\n delete mode 100644 inputs/mildew_dataset/cherry-leaves/train/powdery_mildew/a24067ad-f2ad-469a-ad73-033aa1bdbc51___FREC_Pwd.M 4859_flipLR.JPG\n delete mode 100644 inputs/mildew_dataset/cherry-leaves/train/powdery_mildew/a28e20f2-73bd-40d0-b523-0893cb1f77fd___FREC_Pwd.M 0514_flipLR.JPG\n delete mode 100644 inputs/mildew_dataset/cherry-leaves/train/powdery_mildew/a726864c-cd52-4dde-818b-7b79b6ce2f0e___FREC_Pwd.M 4915_flipLR.JPG\n delete mode 100644 inputs/mildew_dataset/cherry-leaves/train/powdery_mildew/a97ab660-879e-4cc5-a1ff-ae98e0c794e4___FREC_Pwd.M 0488_flipLR.JPG\n delete mode 100644 inputs/mildew_dataset/cherry-leaves/train/powdery_mildew/ac4e6f2c-b2f6-4a21-a42a-b51ae78b38a4___FREC_Pwd.M 0255_flipLR.JPG\n delete mode 100644 inputs/mildew_dataset/cherry-leaves/train/powdery_mildew/ac6dfdbf-88d8-41f3-ae2c-ac264c1be2f5___FREC_Pwd.M 5083.JPG\n delete mode 100644 inputs/mildew_dataset/cherry-leaves/train/powdery_mildew/ae1f1589-016e-4619-99ac-00f214199bfc___FREC_Pwd.M 5150_flipLR.JPG\n delete mode 100644 inputs/mildew_dataset/cherry-leaves/train/powdery_mildew/b0698c28-34b6-4232-aa9c-55fb466df8dd___FREC_Pwd.M 4512_flipLR.JPG\n delete mode 100644 inputs/mildew_dataset/cherry-leaves/train/powdery_mildew/b1100ac1-5c39-4d75-8bc6-b4415151e607___FREC_Pwd.M 4916.JPG\n delete mode 100644 inputs/mildew_dataset/cherry-leaves/train/powdery_mildew/b136af29-b428-4b17-b9c8-b56d8fadb559___FREC_Pwd.M 0378_flipLR.JPG\n delete mode 100644 inputs/mildew_dataset/cherry-leaves/train/powdery_mildew/b22853ce-86ca-4a0c-9a16-ce82e0817513___FREC_Pwd.M 4942.JPG\n delete mode 100644 inputs/mildew_dataset/cherry-leaves/train/powdery_mildew/b2c8b5a5-86a8-4039-b042-6dc3980c57b3___FREC_Pwd.M 0551.JPG\n delete mode 100644 inputs/mildew_dataset/cherry-leaves/train/powdery_mildew/b62afeb0-4144-49db-83f5-6a5fe46715f2___FREC_Pwd.M 0471_flipLR.JPG\n delete mode 100644 inputs/mildew_dataset/cherry-leaves/train/powdery_mildew/b97fc191-9b3b-4c4c-b857-eca7767c033a___FREC_Pwd.M 4816_flipLR.JPG\n delete mode 100644 inputs/mildew_dataset/cherry-leaves/train/powdery_mildew/bc20f3c6-4a2f-4cbc-94c4-f4a5f52b9f21___FREC_Pwd.M 0566.JPG\n delete mode 100644 inputs/mildew_dataset/cherry-leaves/train/powdery_mildew/bf88ee41-8b66-4915-b799-a0894ae02ad8___FREC_Pwd.M 4968_flipLR.JPG\n delete mode 100644 inputs/mildew_dataset/cherry-leaves/train/powdery_mildew/bfc76298-a208-4a0a-88b0-580218720055___FREC_Pwd.M 4904_flipLR.JPG\n delete mode 100644 inputs/mildew_dataset/cherry-leaves/train/powdery_mildew/c20cdaa2-54fc-4bed-9f9e-a82495f889ea___FREC_Pwd.M 4559.JPG\n delete mode 100644 inputs/mildew_dataset/cherry-leaves/train/powdery_mildew/c28e81c2-a058-4f06-935c-80ba96dd7d4c___FREC_Pwd.M 0534_flipLR.JPG\n delete mode 100644 inputs/mildew_dataset/cherry-leaves/train/powdery_mildew/c42f244f-92a2-4800-b6ae-6d623b54f55f___FREC_Pwd.M 4551_flipLR.JPG\n delete mode 100644 inputs/mildew_dataset/cherry-leaves/train/powdery_mildew/c79bd6b7-b4a6-4d95-a9b6-46e7c89953b6___FREC_Pwd.M 4690_flipLR.JPG\n delete mode 100644 inputs/mildew_dataset/cherry-leaves/train/powdery_mildew/c82e8bfd-a4d6-448f-9c6c-1da54df1e12f___FREC_Pwd.M 4547.JPG\n delete mode 100644 inputs/mildew_dataset/cherry-leaves/train/powdery_mildew/c8c3b247-8cec-4103-8acb-0ae5d6655cee___FREC_Pwd.M 4659_flipLR.JPG\n delete mode 100644 inputs/mildew_dataset/cherry-leaves/train/powdery_mildew/c98fe18a-cac1-4956-8fa5-a5bac2c5c268___FREC_Pwd.M 4793.JPG\n delete mode 100644 inputs/mildew_dataset/cherry-leaves/train/powdery_mildew/cbdddf3a-11c7-4d26-b2f9-a4e47a509c9a___FREC_Pwd.M 4984.JPG\n delete mode 100644 inputs/mildew_dataset/cherry-leaves/train/powdery_mildew/cc0b027a-d0e9-489c-97fa-017a94efd300___FREC_Pwd.M 0510.JPG\n delete mode 100644 inputs/mildew_dataset/cherry-leaves/train/powdery_mildew/ccd9f930-bf7f-4235-8aec-d191089efbb2___FREC_Pwd.M 0299_flipLR.JPG\n delete mode 100644 inputs/mildew_dataset/cherry-leaves/train/powdery_mildew/cd8572da-75c4-4388-a20b-25c136aee122___FREC_Pwd.M 0476.JPG\n delete mode 100644 inputs/mildew_dataset/cherry-leaves/train/powdery_mildew/cf98e1fd-1f1b-4f21-b485-d37a7b594965___FREC_Pwd.M 0503_flipLR.JPG\n delete mode 100644 inputs/mildew_dataset/cherry-leaves/train/powdery_mildew/cfa004d4-fb53-4ad8-ab21-9e478a2d309b___FREC_Pwd.M 5111_flipLR.JPG\n delete mode 100644 inputs/mildew_dataset/cherry-leaves/train/powdery_mildew/d297097e-4fbb-4133-b8d8-eb3a2d9acfc2___FREC_Pwd.M 4609.JPG\n delete mode 100644 inputs/mildew_dataset/cherry-leaves/train/powdery_mildew/d42add39-cfc9-4603-948e-fb70a8fb0a12___FREC_Pwd.M 4823_flipLR.JPG\n delete mode 100644 inputs/mildew_dataset/cherry-leaves/train/powdery_mildew/d45b03fe-d4cc-470c-bb27-e8ced9b6468f___FREC_Pwd.M 5081.JPG\n delete mode 100644 inputs/mildew_dataset/cherry-leaves/train/powdery_mildew/d5dea1b0-527d-445a-9a7c-2eae850beadc___FREC_Pwd.M 4516.JPG\n delete mode 100644 inputs/mildew_dataset/cherry-leaves/train/powdery_mildew/d900ece6-df13-478f-a07a-be31c56e64d5___FREC_Pwd.M 0290.JPG\n delete mode 100644 inputs/mildew_dataset/cherry-leaves/train/powdery_mildew/d93c6cb4-f143-46b1-96db-bb12e8bd6c0b___FREC_Pwd.M 4964.JPG\n delete mode 100644 inputs/mildew_dataset/cherry-leaves/train/powdery_mildew/da099922-273a-456d-a8c0-84226a746907___FREC_Pwd.M 4881.JPG\n delete mode 100644 inputs/mildew_dataset/cherry-leaves/train/powdery_mildew/dbf6a6fd-5606-4584-bd11-659a86eac60b___FREC_Pwd.M 4707.JPG\n delete mode 100644 inputs/mildew_dataset/cherry-leaves/train/powdery_mildew/dc06d560-e913-4f2f-adb9-7fe0ab5b5a92___FREC_Pwd.M 4580_flipLR.JPG\n delete mode 100644 inputs/mildew_dataset/cherry-leaves/train/powdery_mildew/dd6a34da-d476-471e-ad72-f7ac94236416___FREC_Pwd.M 0365.JPG\n delete mode 100644 inputs/mildew_dataset/cherry-leaves/train/powdery_mildew/de8ef18c-2d11-47e0-8fa1-85f5f0177277___FREC_Pwd.M 0473.JPG\n delete mode 100644 inputs/mildew_dataset/cherry-leaves/train/powdery_mildew/e1ea1451-0d15-4b27-93c0-9d20fd15d396___FREC_Pwd.M 0400.JPG\n delete mode 100644 inputs/mildew_dataset/cherry-leaves/train/powdery_mildew/e57a51c0-d0c0-46a1-a298-4c9cfd0337e2___FREC_Pwd.M 4778.JPG\n delete mode 100644 inputs/mildew_dataset/cherry-leaves/train/powdery_mildew/e6cff815-c0e5-4a03-b0b1-baada088b7e9___FREC_Pwd.M 4960_flipLR.JPG\n delete mode 100644 inputs/mildew_dataset/cherry-leaves/train/powdery_mildew/e79eda22-9c31-4e34-87e1-e1c9ae2d6449___FREC_Pwd.M 4988.JPG\n delete mode 100644 inputs/mildew_dataset/cherry-leaves/train/powdery_mildew/ea7682b0-f644-40a7-95b1-83cb41265907___FREC_Pwd.M 4872.JPG\n delete mode 100644 inputs/mildew_dataset/cherry-leaves/train/powdery_mildew/eada22e6-434b-4a9b-9d7c-7f6d298677c9___FREC_Pwd.M 5059.JPG\n delete mode 100644 inputs/mildew_dataset/cherry-leaves/train/powdery_mildew/eb002010-f84f-4b0e-a005-f09c77ad262c___FREC_Pwd.M 0478_flipLR.JPG\n delete mode 100644 inputs/mildew_dataset/cherry-leaves/train/powdery_mildew/edf764dc-8951-4a95-80f7-4827693db0db___FREC_Pwd.M 0593_flipLR.JPG\n delete mode 100644 inputs/mildew_dataset/cherry-leaves/train/powdery_mildew/f0a3927a-f7b3-4907-b511-930107a5607f___FREC_Pwd.M 0590_flipLR.JPG\n delete mode 100644 inputs/mildew_dataset/cherry-leaves/train/powdery_mildew/f0af55b8-2e06-4881-ba70-1b1918473a95___FREC_Pwd.M 4731_flipLR.JPG\n delete mode 100644 inputs/mildew_dataset/cherry-leaves/train/powdery_mildew/f0bd1b72-eaaa-4a37-b84f-ff62bb1214f4___FREC_Pwd.M 4540_flipLR.JPG\n delete mode 100644 inputs/mildew_dataset/cherry-leaves/train/powdery_mildew/f6d3fe59-d384-444b-a906-b7aa8e008c31___FREC_Pwd.M 4852.JPG\n delete mode 100644 inputs/mildew_dataset/cherry-leaves/train/powdery_mildew/f84ac3f6-8aa8-43cb-aaf4-6bc79e189608___FREC_Pwd.M 0269.JPG\n delete mode 100644 inputs/mildew_dataset/cherry-leaves/train/powdery_mildew/f9ecca4f-e052-40e9-8d79-dc04ba579ff0___FREC_Pwd.M 0404.JPG\n delete mode 100644 inputs/mildew_dataset/cherry-leaves/train/powdery_mildew/fae0ccf9-efd8-47c2-af4d-77a13740e172___FREC_Pwd.M 4779_flipLR.JPG\n delete mode 100644 inputs/mildew_dataset/cherry-leaves/train/powdery_mildew/fee69dd9-eeb1-4cf2-b249-17482605f1f7___FREC_Pwd.M 4689_flipLR.JPG\n"
        }
      ],
      "source": [
        "!git commit -am \"Add data collection\""
      ]
    },
    {
      "attachments": {},
      "cell_type": "markdown",
      "metadata": {},
      "source": [
        "### Git Push"
      ]
    },
    {
      "cell_type": "code",
      "execution_count": 23,
      "metadata": {
        "tags": []
      },
      "outputs": [
        {
          "output_type": "stream",
          "name": "stdout",
          "text": "Enumerating objects: 19, done.\nCounting objects: 100% (19/19), done.\nDelta compression using up to 4 threads\nCompressing objects: 100% (7/7), done.\nWriting objects: 100% (10/10), 13.12 KiB | 2.62 MiB/s, done.\nTotal 10 (delta 4), reused 0 (delta 0), pack-reused 0\nremote: Resolving deltas: 100% (4/4), completed with 4 local objects.\u001b[K\nTo https://github.com/HumaIlyas/mildew-detection-in-cherry-leaves\n   6c305ff..019013f  main -> main\n"
        }
      ],
      "source": [
        "! git push"
      ]
    }
  ],
  "metadata": {
    "accelerator": "GPU",
    "colab": {
      "name": "Data Practitioner Jupyter Notebook.ipynb",
      "provenance": [],
      "toc_visible": true
    },
    "interpreter": {
      "hash": "8b8334dab9339717f727a1deaf837b322d7a41c20d15cc86be99a8e69ceec8ce"
    },
    "kernelspec": {
      "display_name": "Python 3.8.12 64-bit ('3.8.12': pyenv)",
      "name": "python381264bit3812pyenv4d4aa23360284f0f9d33856f19c6b82c"
    },
    "language_info": {
      "codemirror_mode": {
        "name": "ipython",
        "version": 3
      },
      "file_extension": ".py",
      "mimetype": "text/x-python",
      "name": "python",
      "nbconvert_exporter": "python",
      "pygments_lexer": "ipython3",
      "version": "3.8.12-final"
    },
    "orig_nbformat": 2
  },
  "nbformat": 4,
  "nbformat_minor": 2
}