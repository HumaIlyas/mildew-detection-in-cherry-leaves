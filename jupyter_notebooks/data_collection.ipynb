{
  "cells": [
    {
      "attachments": {},
      "cell_type": "markdown",
      "metadata": {
        "id": "0aStgWSO0E0E"
      },
      "source": [
        "# **Data Collection - Fetch Dataset from Kaggle**"
      ]
    },
    {
      "attachments": {},
      "cell_type": "markdown",
      "metadata": {
        "id": "1eLEkw5O0ECa"
      },
      "source": [
        "## Objectives\n",
        "* Fetch data from Kaggle and save as raw data to prepare it for further processes.\n",
        "\n",
        "## Inputs\n",
        "* Kaggle JSON file - the authentication token \n",
        "\n",
        "## Outputs\n",
        "* Generate Dataset: inputs/mildew_dataset/cherry-leaves \n",
        "\n",
        "## Additional Comments\n",
        "* No additional comments\n",
        "\n"
      ]
    },
    {
      "attachments": {},
      "cell_type": "markdown",
      "metadata": {},
      "source": [
        "## Import pagkages"
      ]
    },
    {
      "cell_type": "code",
      "execution_count": 1,
      "metadata": {
        "tags": [
          "outputPrepend"
        ]
      },
      "outputs": [
        {
          "output_type": "stream",
          "name": "stdout",
          "text": "workspaces/mildew-detection-in-cherry-leaves/requirements.txt (line 47))\n  Downloading seaborn-0.11.0-py3-none-any.whl (283 kB)\n\u001b[2K     \u001b[90m━━━━━━━━━━━━━━━━━━━━━━━━━━━━━━━━━━━━━━\u001b[0m \u001b[32m283.1/283.1 kB\u001b[0m \u001b[31m39.7 MB/s\u001b[0m eta \u001b[36m0:00:00\u001b[0m\n\u001b[?25hCollecting six==1.15.0 (from -r /workspaces/mildew-detection-in-cherry-leaves/requirements.txt (line 48))\n  Downloading six-1.15.0-py2.py3-none-any.whl (10 kB)\nCollecting streamlit==0.85.0 (from -r /workspaces/mildew-detection-in-cherry-leaves/requirements.txt (line 49))\n  Downloading streamlit-0.85.0-py2.py3-none-any.whl (7.9 MB)\n\u001b[2K     \u001b[90m━━━━━━━━━━━━━━━━━━━━━━━━━━━━━━━━━━━━━━━━\u001b[0m \u001b[32m7.9/7.9 MB\u001b[0m \u001b[31m47.8 MB/s\u001b[0m eta \u001b[36m0:00:00\u001b[0m\n\u001b[?25hCollecting tensorboard==2.11.0 (from -r /workspaces/mildew-detection-in-cherry-leaves/requirements.txt (line 50))\n  Downloading tensorboard-2.11.0-py3-none-any.whl (6.0 MB)\n\u001b[2K     \u001b[90m━━━━━━━━━━━━━━━━━━━━━━━━━━━━━━━━━━━━━━━━\u001b[0m \u001b[32m6.0/6.0 MB\u001b[0m \u001b[31m47.0 MB/s\u001b[0m eta \u001b[36m0:00:00\u001b[0m\n\u001b[?25hCollecting tensorboard-data-server==0.6.1 (from -r /workspaces/mildew-detection-in-cherry-leaves/requirements.txt (line 51))\n  Downloading tensorboard_data_server-0.6.1-py3-none-manylinux2010_x86_64.whl (4.9 MB)\n\u001b[2K     \u001b[90m━━━━━━━━━━━━━━━━━━━━━━━━━━━━━━━━━━━━━━━━\u001b[0m \u001b[32m4.9/4.9 MB\u001b[0m \u001b[31m43.4 MB/s\u001b[0m eta \u001b[36m0:00:00\u001b[0m\n\u001b[?25hCollecting tensorboard-plugin-wit==1.8.1 (from -r /workspaces/mildew-detection-in-cherry-leaves/requirements.txt (line 52))\n  Downloading tensorboard_plugin_wit-1.8.1-py3-none-any.whl (781 kB)\n\u001b[2K     \u001b[90m━━━━━━━━━━━━━━━━━━━━━━━━━━━━━━━━━━━━━━\u001b[0m \u001b[32m781.3/781.3 kB\u001b[0m \u001b[31m46.9 MB/s\u001b[0m eta \u001b[36m0:00:00\u001b[0m\n\u001b[?25hCollecting tensorflow-cpu==2.6.0 (from -r /workspaces/mildew-detection-in-cherry-leaves/requirements.txt (line 53))\n  Downloading tensorflow_cpu-2.6.0-cp38-cp38-manylinux2010_x86_64.whl (172.4 MB)\n\u001b[2K     \u001b[90m━━━━━━━━━━━━━━━━━━━━━━━━━━━━━━━━━━━━━━━\u001b[0m \u001b[32m172.4/172.4 MB\u001b[0m \u001b[31m9.4 MB/s\u001b[0m eta \u001b[36m0:00:00\u001b[0m\n\u001b[?25hCollecting tensorflow-estimator==2.11.0 (from -r /workspaces/mildew-detection-in-cherry-leaves/requirements.txt (line 54))\n  Downloading tensorflow_estimator-2.11.0-py2.py3-none-any.whl (439 kB)\n\u001b[2K     \u001b[90m━━━━━━━━━━━━━━━━━━━━━━━━━━━━━━━━━━━━━━\u001b[0m \u001b[32m439.2/439.2 kB\u001b[0m \u001b[31m47.9 MB/s\u001b[0m eta \u001b[36m0:00:00\u001b[0m\n\u001b[?25hCollecting termcolor==1.1.0 (from -r /workspaces/mildew-detection-in-cherry-leaves/requirements.txt (line 55))\n  Downloading termcolor-1.1.0.tar.gz (3.9 kB)\n  Preparing metadata (setup.py) ... \u001b[?25ldone\n\u001b[?25hCollecting text-unidecode==1.3 (from -r /workspaces/mildew-detection-in-cherry-leaves/requirements.txt (line 56))\n  Downloading text_unidecode-1.3-py2.py3-none-any.whl (78 kB)\n\u001b[2K     \u001b[90m━━━━━━━━━━━━━━━━━━━━━━━━━━━━━━━━━━━━━━━━\u001b[0m \u001b[32m78.2/78.2 kB\u001b[0m \u001b[31m14.7 MB/s\u001b[0m eta \u001b[36m0:00:00\u001b[0m\n\u001b[?25hCollecting threadpoolctl==3.1.0 (from -r /workspaces/mildew-detection-in-cherry-leaves/requirements.txt (line 57))\n  Downloading threadpoolctl-3.1.0-py3-none-any.whl (14 kB)\nCollecting toml==0.10.2 (from -r /workspaces/mildew-detection-in-cherry-leaves/requirements.txt (line 58))\n  Downloading toml-0.10.2-py2.py3-none-any.whl (16 kB)\nCollecting toolz==0.12.0 (from -r /workspaces/mildew-detection-in-cherry-leaves/requirements.txt (line 59))\n  Downloading toolz-0.12.0-py3-none-any.whl (55 kB)\n\u001b[2K     \u001b[90m━━━━━━━━━━━━━━━━━━━━━━━━━━━━━━━━━━━━━━━━\u001b[0m \u001b[32m55.8/55.8 kB\u001b[0m \u001b[31m9.8 MB/s\u001b[0m eta \u001b[36m0:00:00\u001b[0m\n\u001b[?25hCollecting tqdm==4.64.1 (from -r /workspaces/mildew-detection-in-cherry-leaves/requirements.txt (line 60))\n  Downloading tqdm-4.64.1-py2.py3-none-any.whl (78 kB)\n\u001b[2K     \u001b[90m━━━━━━━━━━━━━━━━━━━━━━━━━━━━━━━━━━━━━━━━\u001b[0m \u001b[32m78.5/78.5 kB\u001b[0m \u001b[31m9.7 MB/s\u001b[0m eta \u001b[36m0:00:00\u001b[0m\n\u001b[?25hCollecting typing-extensions==3.7.4.3 (from -r /workspaces/mildew-detection-in-cherry-leaves/requirements.txt (line 61))\n  Downloading typing_extensions-3.7.4.3-py3-none-any.whl (22 kB)\nCollecting tzdata==2022.7 (from -r /workspaces/mildew-detection-in-cherry-leaves/requirements.txt (line 62))\n  Downloading tzdata-2022.7-py2.py3-none-any.whl (340 kB)\n\u001b[2K     \u001b[90m━━━━━━━━━━━━━━━━━━━━━━━━━━━━━━━━━━━━━━\u001b[0m \u001b[32m340.1/340.1 kB\u001b[0m \u001b[31m38.1 MB/s\u001b[0m eta \u001b[36m0:00:00\u001b[0m\n\u001b[?25hCollecting tzlocal==4.2 (from -r /workspaces/mildew-detection-in-cherry-leaves/requirements.txt (line 63))\n  Downloading tzlocal-4.2-py3-none-any.whl (19 kB)\nCollecting validators==0.20.0 (from -r /workspaces/mildew-detection-in-cherry-leaves/requirements.txt (line 64))\n  Downloading validators-0.20.0.tar.gz (30 kB)\n  Preparing metadata (setup.py) ... \u001b[?25ldone\n\u001b[?25hCollecting watchdog==2.1.9 (from -r /workspaces/mildew-detection-in-cherry-leaves/requirements.txt (line 65))\n  Downloading watchdog-2.1.9-py3-none-manylinux2014_x86_64.whl (78 kB)\n\u001b[2K     \u001b[90m━━━━━━━━━━━━━━━━━━━━━━━━━━━━━━━━━━━━━━━━\u001b[0m \u001b[32m78.4/78.4 kB\u001b[0m \u001b[31m13.7 MB/s\u001b[0m eta \u001b[36m0:00:00\u001b[0m\n\u001b[?25hCollecting Werkzeug==2.2.2 (from -r /workspaces/mildew-detection-in-cherry-leaves/requirements.txt (line 66))\n  Downloading Werkzeug-2.2.2-py3-none-any.whl (232 kB)\n\u001b[2K     \u001b[90m━━━━━━━━━━━━━━━━━━━━━━━━━━━━━━━━━━━━━━\u001b[0m \u001b[32m232.7/232.7 kB\u001b[0m \u001b[31m35.1 MB/s\u001b[0m eta \u001b[36m0:00:00\u001b[0m\n\u001b[?25hCollecting wrapt==1.12.1 (from -r /workspaces/mildew-detection-in-cherry-leaves/requirements.txt (line 67))\n  Downloading wrapt-1.12.1.tar.gz (27 kB)\n  Preparing metadata (setup.py) ... \u001b[?25ldone\n\u001b[?25hCollecting entrypoints (from altair==4.2.0->-r /workspaces/mildew-detection-in-cherry-leaves/requirements.txt (line 2))\n  Downloading entrypoints-0.4-py3-none-any.whl (5.3 kB)\nRequirement already satisfied: jinja2 in /home/codeany/.pyenv/versions/3.8.12/lib/python3.8/site-packages (from altair==4.2.0->-r /workspaces/mildew-detection-in-cherry-leaves/requirements.txt (line 2)) (3.1.2)\nRequirement already satisfied: jsonschema>=3.0 in /home/codeany/.pyenv/versions/3.8.12/lib/python3.8/site-packages (from altair==4.2.0->-r /workspaces/mildew-detection-in-cherry-leaves/requirements.txt (line 2)) (4.17.3)\nRequirement already satisfied: wheel<1.0,>=0.23.0 in /home/codeany/.pyenv/versions/3.8.12/lib/python3.8/site-packages (from astunparse==1.6.3->-r /workspaces/mildew-detection-in-cherry-leaves/requirements.txt (line 4)) (0.40.0)\nRequirement already satisfied: certifi in /home/codeany/.pyenv/versions/3.8.12/lib/python3.8/site-packages (from kaggle==1.5.12->-r /workspaces/mildew-detection-in-cherry-leaves/requirements.txt (line 20)) (2023.5.7)\nRequirement already satisfied: python-dateutil in /home/codeany/.pyenv/versions/3.8.12/lib/python3.8/site-packages (from kaggle==1.5.12->-r /workspaces/mildew-detection-in-cherry-leaves/requirements.txt (line 20)) (2.8.2)\nRequirement already satisfied: requests in /home/codeany/.pyenv/versions/3.8.12/lib/python3.8/site-packages (from kaggle==1.5.12->-r /workspaces/mildew-detection-in-cherry-leaves/requirements.txt (line 20)) (2.31.0)\nRequirement already satisfied: urllib3 in /home/codeany/.pyenv/versions/3.8.12/lib/python3.8/site-packages (from kaggle==1.5.12->-r /workspaces/mildew-detection-in-cherry-leaves/requirements.txt (line 20)) (2.0.3)\nRequirement already satisfied: packaging in /home/codeany/.pyenv/versions/3.8.12/lib/python3.8/site-packages (from keras-tuner==1.1.3->-r /workspaces/mildew-detection-in-cherry-leaves/requirements.txt (line 23)) (23.1)\nRequirement already satisfied: ipython in /home/codeany/.pyenv/versions/3.8.12/lib/python3.8/site-packages (from keras-tuner==1.1.3->-r /workspaces/mildew-detection-in-cherry-leaves/requirements.txt (line 23)) (8.12.2)\nRequirement already satisfied: importlib-metadata>=4.4 in /home/codeany/.pyenv/versions/3.8.12/lib/python3.8/site-packages (from Markdown==3.4.1->-r /workspaces/mildew-detection-in-cherry-leaves/requirements.txt (line 26)) (6.7.0)\nCollecting pyparsing!=2.0.4,!=2.1.2,!=2.1.6,>=2.0.3 (from matplotlib==3.3.1->-r /workspaces/mildew-detection-in-cherry-leaves/requirements.txt (line 27))\n  Downloading pyparsing-3.1.0-py3-none-any.whl (102 kB)\n\u001b[2K     \u001b[90m━━━━━━━━━━━━━━━━━━━━━━━━━━━━━━━━━━━━━━\u001b[0m \u001b[32m102.6/102.6 kB\u001b[0m \u001b[31m18.1 MB/s\u001b[0m eta \u001b[36m0:00:00\u001b[0m\n\u001b[?25hRequirement already satisfied: attrs in /home/codeany/.pyenv/versions/3.8.12/lib/python3.8/site-packages (from streamlit==0.85.0->-r /workspaces/mildew-detection-in-cherry-leaves/requirements.txt (line 49)) (23.1.0)\nRequirement already satisfied: tornado>=5.0 in /home/codeany/.pyenv/versions/3.8.12/lib/python3.8/site-packages (from streamlit==0.85.0->-r /workspaces/mildew-detection-in-cherry-leaves/requirements.txt (line 49)) (6.3.2)\nRequirement already satisfied: gitpython in /home/codeany/.pyenv/versions/3.8.12/lib/python3.8/site-packages (from streamlit==0.85.0->-r /workspaces/mildew-detection-in-cherry-leaves/requirements.txt (line 49)) (3.1.31)\nRequirement already satisfied: setuptools>=41.0.0 in /home/codeany/.pyenv/versions/3.8.12/lib/python3.8/site-packages (from tensorboard==2.11.0->-r /workspaces/mildew-detection-in-cherry-leaves/requirements.txt (line 50)) (68.0.0)\nRequirement already satisfied: decorator>=3.4.0 in /home/codeany/.pyenv/versions/3.8.12/lib/python3.8/site-packages (from validators==0.20.0->-r /workspaces/mildew-detection-in-cherry-leaves/requirements.txt (line 64)) (5.1.1)\nRequirement already satisfied: MarkupSafe>=2.1.1 in /home/codeany/.pyenv/versions/3.8.12/lib/python3.8/site-packages (from Werkzeug==2.2.2->-r /workspaces/mildew-detection-in-cherry-leaves/requirements.txt (line 66)) (2.1.3)\nRequirement already satisfied: zipp>=0.5 in /home/codeany/.pyenv/versions/3.8.12/lib/python3.8/site-packages (from importlib-metadata>=4.4->Markdown==3.4.1->-r /workspaces/mildew-detection-in-cherry-leaves/requirements.txt (line 26)) (3.15.0)\nRequirement already satisfied: importlib-resources>=1.4.0 in /home/codeany/.pyenv/versions/3.8.12/lib/python3.8/site-packages (from jsonschema>=3.0->altair==4.2.0->-r /workspaces/mildew-detection-in-cherry-leaves/requirements.txt (line 2)) (5.12.0)\nRequirement already satisfied: pkgutil-resolve-name>=1.3.10 in /home/codeany/.pyenv/versions/3.8.12/lib/python3.8/site-packages (from jsonschema>=3.0->altair==4.2.0->-r /workspaces/mildew-detection-in-cherry-leaves/requirements.txt (line 2)) (1.3.10)\nRequirement already satisfied: pyrsistent!=0.17.0,!=0.17.1,!=0.17.2,>=0.14.0 in /home/codeany/.pyenv/versions/3.8.12/lib/python3.8/site-packages (from jsonschema>=3.0->altair==4.2.0->-r /workspaces/mildew-detection-in-cherry-leaves/requirements.txt (line 2)) (0.19.3)\nRequirement already satisfied: charset-normalizer<4,>=2 in /home/codeany/.pyenv/versions/3.8.12/lib/python3.8/site-packages (from requests->kaggle==1.5.12->-r /workspaces/mildew-detection-in-cherry-leaves/requirements.txt (line 20)) (3.1.0)\nRequirement already satisfied: idna<4,>=2.5 in /home/codeany/.pyenv/versions/3.8.12/lib/python3.8/site-packages (from requests->kaggle==1.5.12->-r /workspaces/mildew-detection-in-cherry-leaves/requirements.txt (line 20)) (3.4)\nRequirement already satisfied: gitdb<5,>=4.0.1 in /home/codeany/.pyenv/versions/3.8.12/lib/python3.8/site-packages (from gitpython->streamlit==0.85.0->-r /workspaces/mildew-detection-in-cherry-leaves/requirements.txt (line 49)) (4.0.10)\nRequirement already satisfied: backcall in /home/codeany/.pyenv/versions/3.8.12/lib/python3.8/site-packages (from ipython->keras-tuner==1.1.3->-r /workspaces/mildew-detection-in-cherry-leaves/requirements.txt (line 23)) (0.2.0)\nRequirement already satisfied: jedi>=0.16 in /home/codeany/.pyenv/versions/3.8.12/lib/python3.8/site-packages (from ipython->keras-tuner==1.1.3->-r /workspaces/mildew-detection-in-cherry-leaves/requirements.txt (line 23)) (0.18.2)\nRequirement already satisfied: matplotlib-inline in /home/codeany/.pyenv/versions/3.8.12/lib/python3.8/site-packages (from ipython->keras-tuner==1.1.3->-r /workspaces/mildew-detection-in-cherry-leaves/requirements.txt (line 23)) (0.1.6)\nRequirement already satisfied: pickleshare in /home/codeany/.pyenv/versions/3.8.12/lib/python3.8/site-packages (from ipython->keras-tuner==1.1.3->-r /workspaces/mildew-detection-in-cherry-leaves/requirements.txt (line 23)) (0.7.5)\nRequirement already satisfied: prompt-toolkit!=3.0.37,<3.1.0,>=3.0.30 in /home/codeany/.pyenv/versions/3.8.12/lib/python3.8/site-packages (from ipython->keras-tuner==1.1.3->-r /workspaces/mildew-detection-in-cherry-leaves/requirements.txt (line 23)) (3.0.38)\nRequirement already satisfied: pygments>=2.4.0 in /home/codeany/.pyenv/versions/3.8.12/lib/python3.8/site-packages (from ipython->keras-tuner==1.1.3->-r /workspaces/mildew-detection-in-cherry-leaves/requirements.txt (line 23)) (2.15.1)\nRequirement already satisfied: stack-data in /home/codeany/.pyenv/versions/3.8.12/lib/python3.8/site-packages (from ipython->keras-tuner==1.1.3->-r /workspaces/mildew-detection-in-cherry-leaves/requirements.txt (line 23)) (0.6.2)\nRequirement already satisfied: traitlets>=5 in /home/codeany/.pyenv/versions/3.8.12/lib/python3.8/site-packages (from ipython->keras-tuner==1.1.3->-r /workspaces/mildew-detection-in-cherry-leaves/requirements.txt (line 23)) (5.9.0)\nRequirement already satisfied: pexpect>4.3 in /home/codeany/.pyenv/versions/3.8.12/lib/python3.8/site-packages (from ipython->keras-tuner==1.1.3->-r /workspaces/mildew-detection-in-cherry-leaves/requirements.txt (line 23)) (4.8.0)\nRequirement already satisfied: smmap<6,>=3.0.1 in /home/codeany/.pyenv/versions/3.8.12/lib/python3.8/site-packages (from gitdb<5,>=4.0.1->gitpython->streamlit==0.85.0->-r /workspaces/mildew-detection-in-cherry-leaves/requirements.txt (line 49)) (5.0.0)\nRequirement already satisfied: parso<0.9.0,>=0.8.0 in /home/codeany/.pyenv/versions/3.8.12/lib/python3.8/site-packages (from jedi>=0.16->ipython->keras-tuner==1.1.3->-r /workspaces/mildew-detection-in-cherry-leaves/requirements.txt (line 23)) (0.8.3)\nRequirement already satisfied: ptyprocess>=0.5 in /home/codeany/.pyenv/versions/3.8.12/lib/python3.8/site-packages (from pexpect>4.3->ipython->keras-tuner==1.1.3->-r /workspaces/mildew-detection-in-cherry-leaves/requirements.txt (line 23)) (0.7.0)\nRequirement already satisfied: wcwidth in /home/codeany/.pyenv/versions/3.8.12/lib/python3.8/site-packages (from prompt-toolkit!=3.0.37,<3.1.0,>=3.0.30->ipython->keras-tuner==1.1.3->-r /workspaces/mildew-detection-in-cherry-leaves/requirements.txt (line 23)) (0.2.6)\nRequirement already satisfied: executing>=1.2.0 in /home/codeany/.pyenv/versions/3.8.12/lib/python3.8/site-packages (from stack-data->ipython->keras-tuner==1.1.3->-r /workspaces/mildew-detection-in-cherry-leaves/requirements.txt (line 23)) (1.2.0)\nRequirement already satisfied: asttokens>=2.1.0 in /home/codeany/.pyenv/versions/3.8.12/lib/python3.8/site-packages (from stack-data->ipython->keras-tuner==1.1.3->-r /workspaces/mildew-detection-in-cherry-leaves/requirements.txt (line 23)) (2.2.1)\nRequirement already satisfied: pure-eval in /home/codeany/.pyenv/versions/3.8.12/lib/python3.8/site-packages (from stack-data->ipython->keras-tuner==1.1.3->-r /workspaces/mildew-detection-in-cherry-leaves/requirements.txt (line 23)) (0.2.2)\nBuilding wheels for collected packages: clang, kaggle, termcolor, validators, wrapt\n  Building wheel for clang (setup.py) ... \u001b[?25ldone\n\u001b[?25h  Created wheel for clang: filename=clang-5.0-py3-none-any.whl size=30682 sha256=ea59f4a1d6dcb89339f41b701da325a615cc49f29ab51f64b223282f1682f40e\n  Stored in directory: /home/codeany/.cache/pip/wheels/f1/60/77/22b9b5887bd47801796a856f47650d9789c74dc3161a26d608\n  Building wheel for kaggle (setup.py) ... \u001b[?25ldone\n\u001b[?25h  Created wheel for kaggle: filename=kaggle-1.5.12-py3-none-any.whl size=73031 sha256=f567585fbe27e87a26b2541052bdcc263f891ce4da35ce7a7b2c536e0c0c419c\n  Stored in directory: /home/codeany/.cache/pip/wheels/29/da/11/144cc25aebdaeb4931b231e25fd34b394e6a5725cbb2f50106\n  Building wheel for termcolor (setup.py) ... \u001b[?25ldone\n\u001b[?25h  Created wheel for termcolor: filename=termcolor-1.1.0-py3-none-any.whl size=4832 sha256=5d32d93550ca999aba91a5b6a2f7a03334a4d23566de729bcf64d472226183f5\n  Stored in directory: /home/codeany/.cache/pip/wheels/a0/16/9c/5473df82468f958445479c59e784896fa24f4a5fc024b0f501\n  Building wheel for validators (setup.py) ... \u001b[?25ldone\n\u001b[?25h  Created wheel for validators: filename=validators-0.20.0-py3-none-any.whl size=19579 sha256=27f68ef357d92e47c1d52ef5b71f5344868d0db5c2304fac1e76fc38df85105b\n  Stored in directory: /home/codeany/.cache/pip/wheels/19/09/72/3eb74d236bb48bd0f3c6c3c83e4e0c5bbfcbcad7c6c3539db8\n  Building wheel for wrapt (setup.py) ... \u001b[?25ldone\n\u001b[?25h  Created wheel for wrapt: filename=wrapt-1.12.1-cp38-cp38-linux_x86_64.whl size=75893 sha256=d9d1e386720ccfcac0992e296e8c4ac705b4187a02c8576a7ceac116b63ffb5d\n  Stored in directory: /home/codeany/.cache/pip/wheels/5f/fd/9e/b6cf5890494cb8ef0b5eaff72e5d55a70fb56316007d6dfe73\nSuccessfully built clang kaggle termcolor validators wrapt\nInstalling collected packages: wrapt, typing-extensions, text-unidecode, termcolor, tensorboard-plugin-wit, pytz, pyasn1, kt-legacy, keras, flatbuffers, clang, Werkzeug, watchdog, validators, tzdata, tqdm, toolz, toml, threadpoolctl, tensorflow-estimator, tensorboard-data-server, six, rsa, python-slugify, pyparsing, pyasn1-modules, protobuf, Pillow, oauthlib, numpy, kiwisolver, joblib, grpcio, gast, entrypoints, cycler, click, cachetools, blinker, base58, backports.zoneinfo, astor, scipy, retrying, requests-oauthlib, pytz-deprecation-shim, pydeck, pyarrow, opt-einsum, Markdown, Keras-Preprocessing, h5py, google-pasta, google-auth, astunparse, absl-py, tzlocal, scikit-learn, plotly, pandas, matplotlib, kaggle, google-auth-oauthlib, tensorboard, seaborn, altair, tensorflow-cpu, streamlit, keras-tuner\n  Attempting uninstall: wrapt\n    Found existing installation: wrapt 1.15.0\n    Uninstalling wrapt-1.15.0:\n      Successfully uninstalled wrapt-1.15.0\n  Attempting uninstall: typing-extensions\n    Found existing installation: typing_extensions 4.6.3\n    Uninstalling typing_extensions-4.6.3:\n      Successfully uninstalled typing_extensions-4.6.3\n  Attempting uninstall: six\n    Found existing installation: six 1.16.0\n    Uninstalling six-1.16.0:\n      Successfully uninstalled six-1.16.0\n\u001b[31mERROR: pip's dependency resolver does not currently take into account all the packages that are installed. This behaviour is the source of the following dependency conflicts.\nastroid 2.15.5 requires typing-extensions>=4.0.0; python_version < \"3.11\", but you have typing-extensions 3.7.4.3 which is incompatible.\nmypy 1.4.0 requires typing-extensions>=3.10, but you have typing-extensions 3.7.4.3 which is incompatible.\npylint 2.17.4 requires typing-extensions>=3.10.0; python_version < \"3.10\", but you have typing-extensions 3.7.4.3 which is incompatible.\nrich 13.4.2 requires typing-extensions<5.0,>=4.0.0; python_version < \"3.9\", but you have typing-extensions 3.7.4.3 which is incompatible.\u001b[0m\u001b[31m\n\u001b[0mSuccessfully installed Keras-Preprocessing-1.1.2 Markdown-3.4.1 Pillow-9.3.0 Werkzeug-2.2.2 absl-py-0.15.0 altair-4.2.0 astor-0.8.1 astunparse-1.6.3 backports.zoneinfo-0.2.1 base58-2.1.1 blinker-1.5 cachetools-5.2.0 clang-5.0 click-7.1.2 cycler-0.11.0 entrypoints-0.4 flatbuffers-1.12 gast-0.4.0 google-auth-2.14.1 google-auth-oauthlib-0.4.6 google-pasta-0.2.0 grpcio-1.51.1 h5py-3.1.0 joblib-1.2.0 kaggle-1.5.12 keras-2.6.0 keras-tuner-1.1.3 kiwisolver-1.4.4 kt-legacy-1.0.4 matplotlib-3.3.1 numpy-1.19.2 oauthlib-3.2.2 opt-einsum-3.3.0 pandas-1.1.2 plotly-4.12.0 protobuf-3.20.3 pyarrow-10.0.1 pyasn1-0.4.8 pyasn1-modules-0.2.8 pydeck-0.8.0 pyparsing-3.1.0 python-slugify-7.0.0 pytz-2022.6 pytz-deprecation-shim-0.1.0.post0 requests-oauthlib-1.3.1 retrying-1.3.4 rsa-4.9 scikit-learn-0.24.2 scipy-1.9.3 seaborn-0.11.0 six-1.15.0 streamlit-0.85.0 tensorboard-2.11.0 tensorboard-data-server-0.6.1 tensorboard-plugin-wit-1.8.1 tensorflow-cpu-2.6.0 tensorflow-estimator-2.11.0 termcolor-1.1.0 text-unidecode-1.3 threadpoolctl-3.1.0 toml-0.10.2 toolz-0.12.0 tqdm-4.64.1 typing-extensions-3.7.4.3 tzdata-2022.7 tzlocal-4.2 validators-0.20.0 watchdog-2.1.9 wrapt-1.12.1\n"
        }
      ],
      "source": [
        "! pip install -r /workspaces/mildew-detection-in-cherry-leaves/requirements.txt"
      ]
    },
    {
      "cell_type": "code",
      "execution_count": 2,
      "metadata": {
        "tags": []
      },
      "outputs": [],
      "source": [
        "import numpy\n",
        "import os"
      ]
    },
    {
      "attachments": {},
      "cell_type": "markdown",
      "metadata": {
        "id": "9uWZXH9LwoQg"
      },
      "source": [
        "## Change Working Directory\n",
        "\n",
        "* To change the working directory from its current folder to its parent folder\n",
        "* To access the current directory with os.getcwd()"
      ]
    },
    {
      "cell_type": "code",
      "execution_count": 3,
      "metadata": {
        "id": "wZfF_j-Bz3i4",
        "outputId": "66943449-1436-4c3d-85c7-b85f9f78349b"
      },
      "outputs": [
        {
          "output_type": "execute_result",
          "data": {
            "text/plain": "'/workspaces/mildew-detection-in-cherry-leaves/jupyter_notebooks'"
          },
          "metadata": {},
          "execution_count": 3
        }
      ],
      "source": [
        "import os\n",
        "current_dir = os.getcwd()\n",
        "current_dir"
      ]
    },
    {
      "attachments": {},
      "cell_type": "markdown",
      "metadata": {
        "id": "9MWW8E7lz3i7"
      },
      "source": [
        "**To make the parent of the current directory the new current directory**\n",
        "* os.path.dirname() gets the parent directory\n",
        "* os.chdir() defines the new current directory"
      ]
    },
    {
      "cell_type": "code",
      "execution_count": 4,
      "metadata": {
        "id": "TwHsQRWjz3i9",
        "outputId": "86849db3-cd2f-4cc5-ebb8-2d0caafa1a2c",
        "tags": []
      },
      "outputs": [
        {
          "output_type": "stream",
          "name": "stdout",
          "text": "You set a new current directory\n"
        }
      ],
      "source": [
        "os.chdir(os.path.dirname(current_dir))\n",
        "print(\"You set a new current directory\")"
      ]
    },
    {
      "attachments": {},
      "cell_type": "markdown",
      "metadata": {
        "id": "M_xPk_Ijz3i-"
      },
      "source": [
        "**To confirm the new current directory**"
      ]
    },
    {
      "cell_type": "code",
      "execution_count": 5,
      "metadata": {
        "id": "vz3S-_kjz3jA",
        "outputId": "00b79ae4-75d0-4a96-d193-ac9ef9847ea2"
      },
      "outputs": [
        {
          "output_type": "execute_result",
          "data": {
            "text/plain": "'/workspaces/mildew-detection-in-cherry-leaves'"
          },
          "metadata": {},
          "execution_count": 5
        }
      ],
      "source": [
        "current_dir = os.getcwd()\n",
        "current_dir"
      ]
    },
    {
      "attachments": {},
      "cell_type": "markdown",
      "metadata": {
        "id": "-mavJ8DibrcQ"
      },
      "source": [
        "# Install Kaggle"
      ]
    },
    {
      "cell_type": "code",
      "execution_count": 6,
      "metadata": {
        "tags": []
      },
      "outputs": [
        {
          "output_type": "stream",
          "name": "stdout",
          "text": "Requirement already satisfied: kaggle in /home/codeany/.pyenv/versions/3.8.12/lib/python3.8/site-packages (1.5.12)\nRequirement already satisfied: six>=1.10 in /home/codeany/.pyenv/versions/3.8.12/lib/python3.8/site-packages (from kaggle) (1.15.0)\nRequirement already satisfied: certifi in /home/codeany/.pyenv/versions/3.8.12/lib/python3.8/site-packages (from kaggle) (2023.5.7)\nRequirement already satisfied: python-dateutil in /home/codeany/.pyenv/versions/3.8.12/lib/python3.8/site-packages (from kaggle) (2.8.2)\nRequirement already satisfied: requests in /home/codeany/.pyenv/versions/3.8.12/lib/python3.8/site-packages (from kaggle) (2.31.0)\nRequirement already satisfied: tqdm in /home/codeany/.pyenv/versions/3.8.12/lib/python3.8/site-packages (from kaggle) (4.64.1)\nRequirement already satisfied: python-slugify in /home/codeany/.pyenv/versions/3.8.12/lib/python3.8/site-packages (from kaggle) (7.0.0)\nRequirement already satisfied: urllib3 in /home/codeany/.pyenv/versions/3.8.12/lib/python3.8/site-packages (from kaggle) (2.0.3)\nRequirement already satisfied: text-unidecode>=1.3 in /home/codeany/.pyenv/versions/3.8.12/lib/python3.8/site-packages (from python-slugify->kaggle) (1.3)\nRequirement already satisfied: charset-normalizer<4,>=2 in /home/codeany/.pyenv/versions/3.8.12/lib/python3.8/site-packages (from requests->kaggle) (3.1.0)\nRequirement already satisfied: idna<4,>=2.5 in /home/codeany/.pyenv/versions/3.8.12/lib/python3.8/site-packages (from requests->kaggle) (3.4)\nNote: you may need to restart the kernel to use updated packages.\n"
        }
      ],
      "source": [
        "# install kaggle package\n",
        "%pip install kaggle"
      ]
    },
    {
      "attachments": {},
      "cell_type": "markdown",
      "metadata": {
        "id": "uFQo3ycuO-v6"
      },
      "source": [
        "Run the cell below to change the kaggle configuration directory to current working directory and permission of kaggle authentication JSON"
      ]
    },
    {
      "cell_type": "code",
      "execution_count": 7,
      "metadata": {
        "tags": []
      },
      "outputs": [],
      "source": [
        "os.environ['KAGGLE_CONFIG_DIR'] = os.getcwd()\n",
        "! chmod 600 kaggle.json"
      ]
    },
    {
      "attachments": {},
      "cell_type": "markdown",
      "metadata": {},
      "source": [
        "* Get the dataset path from Kaggle url.  When you are viewing the dataset at Kaggle, check what is after https://www.kaggle.com/ (in some case kaggle.com/datasets). You should copy that at KaggleDatasetPath.\n",
        "\n",
        "* Set the destination folder\n",
        "* Set the Kaggle Dataset and Download it"
      ]
    },
    {
      "cell_type": "code",
      "execution_count": 19,
      "metadata": {
        "tags": []
      },
      "outputs": [
        {
          "output_type": "stream",
          "name": "stdout",
          "text": "Downloading cherry-leaves.zip to inputs/mildew_dataset\n 87%|██████████████████████████████████     | 48.0M/55.0M [00:00<00:00, 175MB/s]\n100%|███████████████████████████████████████| 55.0M/55.0M [00:00<00:00, 143MB/s]\n"
        }
      ],
      "source": [
        "# Set the destination folder to download Kaggle Dataset\n",
        "KaggleDatasetPath = \"codeinstitute/cherry-leaves\"\n",
        "DestinationFolder = \"inputs/mildew_dataset\"   \n",
        "! kaggle datasets download -d {KaggleDatasetPath} -p {DestinationFolder}"
      ]
    },
    {
      "attachments": {},
      "cell_type": "markdown",
      "metadata": {},
      "source": [
        "* Unzip the downloaded file, and delete the zip file."
      ]
    },
    {
      "cell_type": "code",
      "execution_count": 20,
      "metadata": {},
      "outputs": [],
      "source": [
        "import zipfile\n",
        "with zipfile.ZipFile(DestinationFolder + '/cherry-leaves.zip', 'r') as zip_ref:\n",
        "    zip_ref.extractall(DestinationFolder)\n",
        "\n",
        "os.remove(DestinationFolder + '/cherry-leaves.zip')"
      ]
    },
    {
      "attachments": {},
      "cell_type": "markdown",
      "metadata": {},
      "source": [
        "# Data Preparation"
      ]
    },
    {
      "attachments": {},
      "cell_type": "markdown",
      "metadata": {},
      "source": [
        "### Check and remove non-image files"
      ]
    },
    {
      "cell_type": "code",
      "execution_count": 21,
      "metadata": {},
      "outputs": [],
      "source": [
        "# Function to remove non-image files\n",
        "def remove_non_image_file(my_data_dir):\n",
        "    image_extension = ('.png', '.jpg', '.jpeg')\n",
        "    folders = os.listdir(my_data_dir) \n",
        "    for folder in folders:\n",
        "        files = os.listdir(my_data_dir + '/' + folder)\n",
        "        # print(files)\n",
        "        i = []\n",
        "        j = []\n",
        "        for given_file in files:\n",
        "            if not given_file.lower().endswith(image_extension):\n",
        "                file_location = my_data_dir + '/' + folder + '/' + given_file\n",
        "                os.remove(file_location) # remove non-image file\n",
        "                i.append(1)\n",
        "            else:\n",
        "                j.append(1)\n",
        "                pass\n",
        "        print(f\"Folder: {folder} - has image file\",len(j))\n",
        "        print(f\"Folder: {folder} - has non-image file\",len(i))"
      ]
    },
    {
      "cell_type": "code",
      "execution_count": 22,
      "metadata": {
        "tags": []
      },
      "outputs": [
        {
          "output_type": "stream",
          "name": "stdout",
          "text": "Folder: healthy - has image file 2104\nFolder: healthy - has non-image file 0\nFolder: powdery_mildew - has image file 2104\nFolder: powdery_mildew - has non-image file 0\n"
        }
      ],
      "source": [
        "# Remove non-image files\n",
        "remove_non_image_file(my_data_dir='inputs/mildew_dataset/cherry-leaves')"
      ]
    },
    {
      "attachments": {},
      "cell_type": "markdown",
      "metadata": {},
      "source": [
        "### Split train, validation, and test sets"
      ]
    },
    {
      "cell_type": "code",
      "execution_count": 23,
      "metadata": {},
      "outputs": [],
      "source": [
        "import os\n",
        "import shutil\n",
        "import random\n",
        "import joblib\n",
        "\n",
        "my_data_dir=\"inputs/mildew_dataset/cherry-leaves\"\n",
        "\n",
        "# Function to split train, validation, and test images\n",
        "def split_train_validation_test_images(my_data_dir, train_set_ratio, validation_set_ratio, test_set_ratio):\n",
        "  \n",
        "  if train_set_ratio + validation_set_ratio + test_set_ratio != 1.0:\n",
        "    print(\"train_set_ratio + validation_set_ratio + test_set_ratio should sum 1.0\")\n",
        "    return\n",
        "\n",
        "  # gets classes labels\n",
        "  labels = os.listdir(my_data_dir) # To get only the folder name\n",
        "  if 'test' in labels:\n",
        "    pass\n",
        "  else: \n",
        "    # create train, validation, and test folders with classess labels sub-folder\n",
        "    for folder in ['train','validation','test']:\n",
        "      for label in labels:\n",
        "        os.makedirs(name=my_data_dir+ '/' + folder + '/' + label)\n",
        "\n",
        "    for label in labels:\n",
        "\n",
        "      files = os.listdir(my_data_dir + '/' + label)\n",
        "      random.shuffle(files)\n",
        "\n",
        "      train_set_files_qty = int(len(files) * train_set_ratio)\n",
        "      validation_set_files_qty = int(len(files) * validation_set_ratio)\n",
        "\n",
        "      count = 1\n",
        "      for file_name in files:\n",
        "        if count <= train_set_files_qty:\n",
        "          # move given file to train set\n",
        "          shutil.move(my_data_dir + '/' + label + '/' + file_name,\n",
        "                      my_data_dir + '/train/' + label + '/' + file_name)\n",
        "          \n",
        "\n",
        "        elif count <= (train_set_files_qty + validation_set_files_qty ):\n",
        "          # move given file to validation set\n",
        "          shutil.move(my_data_dir + '/' + label + '/' + file_name,\n",
        "                      my_data_dir + '/validation/' + label + '/' + file_name)\n",
        "\n",
        "        else:\n",
        "          # move given file to test set\n",
        "          shutil.move(my_data_dir + '/' + label + '/' + file_name,\n",
        "                  my_data_dir + '/test/' +label + '/'+ file_name)\n",
        "          \n",
        "        count += 1\n",
        "\n",
        "      os.rmdir(my_data_dir + '/' + label)"
      ]
    },
    {
      "cell_type": "code",
      "execution_count": 24,
      "metadata": {},
      "outputs": [],
      "source": [
        "# Split train, validation, and test images\n",
        "split_train_validation_test_images(my_data_dir=f\"inputs/mildew_dataset/cherry-leaves\",\n",
        "                        train_set_ratio = 0.7,\n",
        "                        validation_set_ratio=0.1,\n",
        "                        test_set_ratio=0.2\n",
        "                        )"
      ]
    },
    {
      "source": [
        "## Conclusions and Next Steps"
      ],
      "cell_type": "markdown",
      "metadata": {}
    },
    {
      "source": [
        "## Conclusions\n",
        "* Dataset as a mildew_dataset has been successfuly added to the input folder \n",
        "* mildew_dataset has been successfully splitted into train, validation, and test test\n",
        "\n",
        "## Next Steps\n",
        "* Answer business requirement 1:\n",
        "    * The client is interested in conducting a study to visually differentiate a cherry leaf that is healthy from one that contains powdery mildew"
      ],
      "cell_type": "markdown",
      "metadata": {}
    },
    {
      "attachments": {},
      "cell_type": "markdown",
      "metadata": {},
      "source": [
        "---"
      ]
    },
    {
      "attachments": {},
      "cell_type": "markdown",
      "metadata": {
        "id": "ltNetd085qHf"
      },
      "source": [
        "# Push files to Repo"
      ]
    },
    {
      "attachments": {},
      "cell_type": "markdown",
      "metadata": {},
      "source": [
        "## Push generated/new files from this Session to GitHub repository"
      ]
    },
    {
      "attachments": {},
      "cell_type": "markdown",
      "metadata": {},
      "source": [
        "### .gitignore"
      ]
    },
    {
      "cell_type": "code",
      "execution_count": 25,
      "metadata": {
        "tags": []
      },
      "outputs": [
        {
          "output_type": "stream",
          "name": "stdout",
          "text": "core.Microsoft*\ncore.mongo*\ncore.python*\nenv.py\n__pycache__/\n*.py[cod]\nnode_modules/\n.github/\ncloudinary_python.txt\nkaggle.json\ninputs/mildew_dataset/cherry-leaves/test\ninputs/mildew_dataset/cherry-leaves/train\ninputs/mildew_dataset/cherry-leaves/validation"
        }
      ],
      "source": [
        "!cat .gitignore"
      ]
    },
    {
      "attachments": {},
      "cell_type": "markdown",
      "metadata": {},
      "source": [
        "### Git status"
      ]
    },
    {
      "cell_type": "code",
      "execution_count": 26,
      "metadata": {
        "tags": [
          "outputPrepend"
        ]
      },
      "outputs": [
        {
          "output_type": "stream",
          "name": "stdout",
          "text": "-4267-ade3-b457a91fbe46___FREC_Pwd.M 5088_flipLR.JPG\u001b[m\n\t\u001b[31mdeleted:    inputs/mildew_dataset/cherry-leaves/validation/powdery_mildew/525e0e62-573a-4a9c-9955-bd2f4ae39bad___FREC_Pwd.M 4531.JPG\u001b[m\n\t\u001b[31mdeleted:    inputs/mildew_dataset/cherry-leaves/validation/powdery_mildew/52ecce7d-bcd4-4d36-b455-b0948eb02371___FREC_Pwd.M 4724.JPG\u001b[m\n\t\u001b[31mdeleted:    inputs/mildew_dataset/cherry-leaves/validation/powdery_mildew/56a9ffe5-ea20-41de-b40f-c6970f54fab4___FREC_Pwd.M 4837_flipLR.JPG\u001b[m\n\t\u001b[31mdeleted:    inputs/mildew_dataset/cherry-leaves/validation/powdery_mildew/56b0482b-80d1-4cd8-82c9-478b8d9e296e___FREC_Pwd.M 0594.JPG\u001b[m\n\t\u001b[31mdeleted:    inputs/mildew_dataset/cherry-leaves/validation/powdery_mildew/58d5d331-0ee1-4db8-bbab-3e0e8b7b5844___FREC_Pwd.M 0537.JPG\u001b[m\n\t\u001b[31mdeleted:    inputs/mildew_dataset/cherry-leaves/validation/powdery_mildew/596a3002-0685-4b75-a782-1ed69092f23c___FREC_Pwd.M 4654_flipLR.JPG\u001b[m\n\t\u001b[31mdeleted:    inputs/mildew_dataset/cherry-leaves/validation/powdery_mildew/59ba7560-f218-44c0-bf46-2019757ec591___FREC_Pwd.M 4923.JPG\u001b[m\n\t\u001b[31mdeleted:    inputs/mildew_dataset/cherry-leaves/validation/powdery_mildew/5aa2ca92-de44-41cc-97c1-3a622d885337___FREC_Pwd.M 4490_flipLR.JPG\u001b[m\n\t\u001b[31mdeleted:    inputs/mildew_dataset/cherry-leaves/validation/powdery_mildew/5b860b1a-a09f-4445-8c8a-f5c11865abab___FREC_Pwd.M 4879_flipLR.JPG\u001b[m\n\t\u001b[31mdeleted:    inputs/mildew_dataset/cherry-leaves/validation/powdery_mildew/5bd34c12-bc95-4068-bac8-b6ca8f45d6ae___FREC_Pwd.M 4950.JPG\u001b[m\n\t\u001b[31mdeleted:    inputs/mildew_dataset/cherry-leaves/validation/powdery_mildew/5bff6ee9-60ba-46d9-82a6-637458ebb8b0___FREC_Pwd.M 0483_flipLR.JPG\u001b[m\n\t\u001b[31mdeleted:    inputs/mildew_dataset/cherry-leaves/validation/powdery_mildew/5cd2f748-9c48-4014-a623-719154ad16e9___FREC_Pwd.M 0589_flipLR.JPG\u001b[m\n\t\u001b[31mdeleted:    inputs/mildew_dataset/cherry-leaves/validation/powdery_mildew/5cd54f30-4203-4545-80d1-dd3afe90648f___FREC_Pwd.M 4825_flipLR.JPG\u001b[m\n\t\u001b[31mdeleted:    inputs/mildew_dataset/cherry-leaves/validation/powdery_mildew/5e603aba-8668-44fd-8b33-f6dd7686606e___FREC_Pwd.M 0245_flipLR.JPG\u001b[m\n\t\u001b[31mdeleted:    inputs/mildew_dataset/cherry-leaves/validation/powdery_mildew/5e6bb1b9-d851-4300-995f-fc2121288e5d___FREC_Pwd.M 5068.JPG\u001b[m\n\t\u001b[31mdeleted:    inputs/mildew_dataset/cherry-leaves/validation/powdery_mildew/5eb34cce-2329-4c58-a86c-e69e79161a7b___FREC_Pwd.M 4939_flipLR.JPG\u001b[m\n\t\u001b[31mdeleted:    inputs/mildew_dataset/cherry-leaves/validation/powdery_mildew/6014d664-cf2e-4d0d-98c9-221789b4a3b9___FREC_Pwd.M 0312_flipLR.JPG\u001b[m\n\t\u001b[31mdeleted:    inputs/mildew_dataset/cherry-leaves/validation/powdery_mildew/61800495-73fd-40e8-8ddf-b45cb4670213___FREC_Pwd.M 5074_flipLR.JPG\u001b[m\n\t\u001b[31mdeleted:    inputs/mildew_dataset/cherry-leaves/validation/powdery_mildew/61a751d7-e1fe-433a-b86e-00febef2bb7e___FREC_Pwd.M 4945_flipLR.JPG\u001b[m\n\t\u001b[31mdeleted:    inputs/mildew_dataset/cherry-leaves/validation/powdery_mildew/62f18804-329f-41b0-bb05-3cf72f6ac5f6___FREC_Pwd.M 4838_flipLR.JPG\u001b[m\n\t\u001b[31mdeleted:    inputs/mildew_dataset/cherry-leaves/validation/powdery_mildew/6521f6d7-05fd-4144-b2e3-a20f0a7e6f7d___FREC_Pwd.M 5010.JPG\u001b[m\n\t\u001b[31mdeleted:    inputs/mildew_dataset/cherry-leaves/validation/powdery_mildew/65ab8993-f636-4bad-9771-2f07cd178cb9___FREC_Pwd.M 0390.JPG\u001b[m\n\t\u001b[31mdeleted:    inputs/mildew_dataset/cherry-leaves/validation/powdery_mildew/66a3e2fb-8e92-408a-86e2-3959921beea2___FREC_Pwd.M 0275.JPG\u001b[m\n\t\u001b[31mdeleted:    inputs/mildew_dataset/cherry-leaves/validation/powdery_mildew/675b034a-1138-468e-a70b-3bce7d373414___FREC_Pwd.M 4961.JPG\u001b[m\n\t\u001b[31mdeleted:    inputs/mildew_dataset/cherry-leaves/validation/powdery_mildew/6881e24e-2702-4f68-8dd1-13120bc48e9d___FREC_Pwd.M 0440_flipLR.JPG\u001b[m\n\t\u001b[31mdeleted:    inputs/mildew_dataset/cherry-leaves/validation/powdery_mildew/6f76b1b9-8650-4510-bdb5-3f82191e6bc8___FREC_Pwd.M 4841_flipLR.JPG\u001b[m\n\t\u001b[31mdeleted:    inputs/mildew_dataset/cherry-leaves/validation/powdery_mildew/6faac72d-9593-4b9f-9008-93ecdf88c730___FREC_Pwd.M 0308_flipLR.JPG\u001b[m\n\t\u001b[31mdeleted:    inputs/mildew_dataset/cherry-leaves/validation/powdery_mildew/7054a175-341f-47e7-b948-1db7dd713ff1___FREC_Pwd.M 4605_flipLR.JPG\u001b[m\n\t\u001b[31mdeleted:    inputs/mildew_dataset/cherry-leaves/validation/powdery_mildew/73110949-6c96-4ce8-91b1-22ee7b8af9bf___FREC_Pwd.M 4742.JPG\u001b[m\n\t\u001b[31mdeleted:    inputs/mildew_dataset/cherry-leaves/validation/powdery_mildew/7428687f-b77a-4e20-8bdd-f36cd90f931c___FREC_Pwd.M 0467.JPG\u001b[m\n\t\u001b[31mdeleted:    inputs/mildew_dataset/cherry-leaves/validation/powdery_mildew/74936000-efc2-47d4-8e31-8c59fcd17400___FREC_Pwd.M 0271_flipLR.JPG\u001b[m\n\t\u001b[31mdeleted:    inputs/mildew_dataset/cherry-leaves/validation/powdery_mildew/753c3273-e5a5-4425-ab2b-45f41c21ce12___FREC_Pwd.M 4519.JPG\u001b[m\n\t\u001b[31mdeleted:    inputs/mildew_dataset/cherry-leaves/validation/powdery_mildew/753c3273-e5a5-4425-ab2b-45f41c21ce12___FREC_Pwd.M 4519_flipLR.JPG\u001b[m\n\t\u001b[31mdeleted:    inputs/mildew_dataset/cherry-leaves/validation/powdery_mildew/769cf206-744b-4850-8c29-2ba3c9f3c0a1___FREC_Pwd.M 0495.JPG\u001b[m\n\t\u001b[31mdeleted:    inputs/mildew_dataset/cherry-leaves/validation/powdery_mildew/77627584-80d1-4b90-ba73-1d7c57f37da7___FREC_Pwd.M 0568.JPG\u001b[m\n\t\u001b[31mdeleted:    inputs/mildew_dataset/cherry-leaves/validation/powdery_mildew/7aa06c3f-08e1-4de1-9bfb-3f6bdd4c1abd___FREC_Pwd.M 5034.JPG\u001b[m\n\t\u001b[31mdeleted:    inputs/mildew_dataset/cherry-leaves/validation/powdery_mildew/7aae9182-41b4-4675-89f9-84daac6ec058___FREC_Pwd.M 4627_flipLR.JPG\u001b[m\n\t\u001b[31mdeleted:    inputs/mildew_dataset/cherry-leaves/validation/powdery_mildew/7bdc9034-8d4d-4696-a613-744345e0367b___FREC_Pwd.M 4995.JPG\u001b[m\n\t\u001b[31mdeleted:    inputs/mildew_dataset/cherry-leaves/validation/powdery_mildew/7c2e785f-36d4-4ce9-84a8-2b5a278ffa6a___FREC_Pwd.M 4710_flipLR.JPG\u001b[m\n\t\u001b[31mdeleted:    inputs/mildew_dataset/cherry-leaves/validation/powdery_mildew/7ce9d6bf-c6c3-4be4-a5f1-b6f133691f4a___FREC_Pwd.M 4572_flipLR.JPG\u001b[m\n\t\u001b[31mdeleted:    inputs/mildew_dataset/cherry-leaves/validation/powdery_mildew/849459ae-9c96-47da-875b-f79860c8e51b___FREC_Pwd.M 0320.JPG\u001b[m\n\t\u001b[31mdeleted:    inputs/mildew_dataset/cherry-leaves/validation/powdery_mildew/85447316-1260-4088-9121-3b1d69c533f1___FREC_Pwd.M 5141_flipLR.JPG\u001b[m\n\t\u001b[31mdeleted:    inputs/mildew_dataset/cherry-leaves/validation/powdery_mildew/86aceb2d-8be8-4077-b79f-4178dcb970c7___FREC_Pwd.M 5132.JPG\u001b[m\n\t\u001b[31mdeleted:    inputs/mildew_dataset/cherry-leaves/validation/powdery_mildew/87b1168d-39cf-4e31-966b-53a9fc8b8917___FREC_Pwd.M 4956_flipLR.JPG\u001b[m\n\t\u001b[31mdeleted:    inputs/mildew_dataset/cherry-leaves/validation/powdery_mildew/8a433d5d-7f92-4c12-b8fb-9993de59732f___FREC_Pwd.M 4637.JPG\u001b[m\n\t\u001b[31mdeleted:    inputs/mildew_dataset/cherry-leaves/validation/powdery_mildew/8bdd0a9b-df18-4587-a4ac-09a7cf651d54___FREC_Pwd.M 0377.JPG\u001b[m\n\t\u001b[31mdeleted:    inputs/mildew_dataset/cherry-leaves/validation/powdery_mildew/8c59b0dd-1ea9-4c7f-a008-de5cafcbb91d___FREC_Pwd.M 4570_flipLR.JPG\u001b[m\n\t\u001b[31mdeleted:    inputs/mildew_dataset/cherry-leaves/validation/powdery_mildew/90a92942-d448-4394-a618-f7b7236f0fc3___FREC_Pwd.M 5002.JPG\u001b[m\n\t\u001b[31mdeleted:    inputs/mildew_dataset/cherry-leaves/validation/powdery_mildew/95dbe9f1-ea94-4b3b-9ae4-5ee670226eee___FREC_Pwd.M 4829.JPG\u001b[m\n\t\u001b[31mdeleted:    inputs/mildew_dataset/cherry-leaves/validation/powdery_mildew/9772d53b-c48b-472c-86cb-24d0de2446a6___FREC_Pwd.M 0327_flipLR.JPG\u001b[m\n\t\u001b[31mdeleted:    inputs/mildew_dataset/cherry-leaves/validation/powdery_mildew/987c1e12-4c60-42e9-8ba7-4ba0a08c849a___FREC_Pwd.M 4491.JPG\u001b[m\n\t\u001b[31mdeleted:    inputs/mildew_dataset/cherry-leaves/validation/powdery_mildew/98d9907e-a81b-4f0f-b282-e5736aa29eb1___FREC_Pwd.M 4573.JPG\u001b[m\n\t\u001b[31mdeleted:    inputs/mildew_dataset/cherry-leaves/validation/powdery_mildew/990fbd27-217d-492a-8a8d-ead540b193e5___FREC_Pwd.M 5004.JPG\u001b[m\n\t\u001b[31mdeleted:    inputs/mildew_dataset/cherry-leaves/validation/powdery_mildew/9c809051-23f7-4159-81aa-4d7f596535f0___FREC_Pwd.M 5019_flipLR.JPG\u001b[m\n\t\u001b[31mdeleted:    inputs/mildew_dataset/cherry-leaves/validation/powdery_mildew/9d41e7d1-9410-460f-b2e2-2141c0c4e42b___FREC_Pwd.M 0302_flipLR.JPG\u001b[m\n\t\u001b[31mdeleted:    inputs/mildew_dataset/cherry-leaves/validation/powdery_mildew/9d879873-2f64-473a-8c76-72ad55131402___FREC_Pwd.M 4800.JPG\u001b[m\n\t\u001b[31mdeleted:    inputs/mildew_dataset/cherry-leaves/validation/powdery_mildew/9f1755ba-99e8-4a92-8221-45d175090c59___FREC_Pwd.M 4493_flipLR.JPG\u001b[m\n\t\u001b[31mdeleted:    inputs/mildew_dataset/cherry-leaves/validation/powdery_mildew/a0797810-e1df-4171-80f6-25f02fea33d1___FREC_Pwd.M 4796.JPG\u001b[m\n\t\u001b[31mdeleted:    inputs/mildew_dataset/cherry-leaves/validation/powdery_mildew/a0e41113-2d10-4f8a-95fb-c4c71dfe1dae___FREC_Pwd.M 4670_flipLR.JPG\u001b[m\n\t\u001b[31mdeleted:    inputs/mildew_dataset/cherry-leaves/validation/powdery_mildew/a2916797-9058-4c29-a6af-bec8c708efab___FREC_Pwd.M 4597_flipLR.JPG\u001b[m\n\t\u001b[31mdeleted:    inputs/mildew_dataset/cherry-leaves/validation/powdery_mildew/a3ebcd97-c380-4a41-b8c0-493e5a74d0fd___FREC_Pwd.M 0387_flipLR.JPG\u001b[m\n\t\u001b[31mdeleted:    inputs/mildew_dataset/cherry-leaves/validation/powdery_mildew/a98ed458-0abe-4218-bb5f-c5d8c5953aaa___FREC_Pwd.M 5053.JPG\u001b[m\n\t\u001b[31mdeleted:    inputs/mildew_dataset/cherry-leaves/validation/powdery_mildew/ab269e53-f834-4f28-a175-c24de184f407___FREC_Pwd.M 0511_flipLR.JPG\u001b[m\n\t\u001b[31mdeleted:    inputs/mildew_dataset/cherry-leaves/validation/powdery_mildew/ab366455-8a96-4984-837a-cde38c0833c4___FREC_Pwd.M 4754_flipLR.JPG\u001b[m\n\t\u001b[31mdeleted:    inputs/mildew_dataset/cherry-leaves/validation/powdery_mildew/ad7637de-7c1f-4ec7-a3d6-14032337a6c3___FREC_Pwd.M 5163_flipLR.JPG\u001b[m\n\t\u001b[31mdeleted:    inputs/mildew_dataset/cherry-leaves/validation/powdery_mildew/b1100ac1-5c39-4d75-8bc6-b4415151e607___FREC_Pwd.M 4916_flipLR.JPG\u001b[m\n\t\u001b[31mdeleted:    inputs/mildew_dataset/cherry-leaves/validation/powdery_mildew/b136af29-b428-4b17-b9c8-b56d8fadb559___FREC_Pwd.M 0378.JPG\u001b[m\n\t\u001b[31mdeleted:    inputs/mildew_dataset/cherry-leaves/validation/powdery_mildew/b1db081a-33e4-4a6a-96ee-07ab2369c0f1___FREC_Pwd.M 4932.JPG\u001b[m\n\t\u001b[31mdeleted:    inputs/mildew_dataset/cherry-leaves/validation/powdery_mildew/b23040ac-f265-4265-9c33-6bf29e52398b___FREC_Pwd.M 0549_flipLR.JPG\u001b[m\n\t\u001b[31mdeleted:    inputs/mildew_dataset/cherry-leaves/validation/powdery_mildew/b67c84bb-04cb-41f3-bb91-0f7f32fc5f1e___FREC_Pwd.M 5035.JPG\u001b[m\n\t\u001b[31mdeleted:    inputs/mildew_dataset/cherry-leaves/validation/powdery_mildew/b748047a-d6ed-49b4-8fa3-16fea0a76115___FREC_Pwd.M 0395.JPG\u001b[m\n\t\u001b[31mdeleted:    inputs/mildew_dataset/cherry-leaves/validation/powdery_mildew/b77f5498-2263-4819-b71a-ac04234ab1bf___FREC_Pwd.M 4630.JPG\u001b[m\n\t\u001b[31mdeleted:    inputs/mildew_dataset/cherry-leaves/validation/powdery_mildew/ba70e078-ab08-4f7e-ae75-7df860e52a7f___FREC_Pwd.M 5166_flipLR.JPG\u001b[m\n\t\u001b[31mdeleted:    inputs/mildew_dataset/cherry-leaves/validation/powdery_mildew/bae7b830-aac4-475a-94de-457115b1a8ee___FREC_Pwd.M 4895_flipLR.JPG\u001b[m\n\t\u001b[31mdeleted:    inputs/mildew_dataset/cherry-leaves/validation/powdery_mildew/bbd6dbcd-65f2-4982-a4f8-ef6a1c33a05f___FREC_Pwd.M 0449.JPG\u001b[m\n\t\u001b[31mdeleted:    inputs/mildew_dataset/cherry-leaves/validation/powdery_mildew/bc3b4287-ce7a-4ca1-bfa8-4812832fa00f___FREC_Pwd.M 0412.JPG\u001b[m\n\t\u001b[31mdeleted:    inputs/mildew_dataset/cherry-leaves/validation/powdery_mildew/bda9d7d5-617a-4159-92f2-a30a05396091___FREC_Pwd.M 4924_flipLR.JPG\u001b[m\n\t\u001b[31mdeleted:    inputs/mildew_dataset/cherry-leaves/validation/powdery_mildew/be3fa929-9035-41bf-adfb-e55f97fab802___FREC_Pwd.M 4684.JPG\u001b[m\n\t\u001b[31mdeleted:    inputs/mildew_dataset/cherry-leaves/validation/powdery_mildew/beea0c7e-0e13-4852-ac62-4f393c51c9e0___FREC_Pwd.M 4941_flipLR.JPG\u001b[m\n\t\u001b[31mdeleted:    inputs/mildew_dataset/cherry-leaves/validation/powdery_mildew/bf2142d8-3f04-4a04-96b4-d94aea138081___FREC_Pwd.M 4504.JPG\u001b[m\n\t\u001b[31mdeleted:    inputs/mildew_dataset/cherry-leaves/validation/powdery_mildew/bfa2932f-7203-4a9c-99e7-bb0a4d887cd6___FREC_Pwd.M 4515_flipLR.JPG\u001b[m\n\t\u001b[31mdeleted:    inputs/mildew_dataset/cherry-leaves/validation/powdery_mildew/c0ae9762-af5a-489d-9399-96732dc40391___FREC_Pwd.M 0370_flipLR.JPG\u001b[m\n\t\u001b[31mdeleted:    inputs/mildew_dataset/cherry-leaves/validation/powdery_mildew/c12ef0fd-7f67-4589-986a-31c0332bfa38___FREC_Pwd.M 4602_flipLR.JPG\u001b[m\n\t\u001b[31mdeleted:    inputs/mildew_dataset/cherry-leaves/validation/powdery_mildew/c28e81c2-a058-4f06-935c-80ba96dd7d4c___FREC_Pwd.M 0534.JPG\u001b[m\n\t\u001b[31mdeleted:    inputs/mildew_dataset/cherry-leaves/validation/powdery_mildew/c343369f-d705-4274-a55a-7fdefed948f7___FREC_Pwd.M 0386.JPG\u001b[m\n\t\u001b[31mdeleted:    inputs/mildew_dataset/cherry-leaves/validation/powdery_mildew/c4318f33-d75f-421e-a2f8-68afdcc678b9___FREC_Pwd.M 0394.JPG\u001b[m\n\t\u001b[31mdeleted:    inputs/mildew_dataset/cherry-leaves/validation/powdery_mildew/c6d3f6f6-479f-41f0-adb2-6674181932f2___FREC_Pwd.M 0330_flipLR.JPG\u001b[m\n\t\u001b[31mdeleted:    inputs/mildew_dataset/cherry-leaves/validation/powdery_mildew/c984c421-82d1-443e-9a92-ee39009ce2b2___FREC_Pwd.M 4681_flipLR.JPG\u001b[m\n\t\u001b[31mdeleted:    inputs/mildew_dataset/cherry-leaves/validation/powdery_mildew/ca4cf94b-c1ac-494e-871a-8b9970af3ac1___FREC_Pwd.M 4835.JPG\u001b[m\n\t\u001b[31mdeleted:    inputs/mildew_dataset/cherry-leaves/validation/powdery_mildew/ca96a7a3-f34e-4796-86b7-b2826b760002___FREC_Pwd.M 0338.JPG\u001b[m\n\t\u001b[31mdeleted:    inputs/mildew_dataset/cherry-leaves/validation/powdery_mildew/cbfe1c0b-9d3b-484b-9f7d-9639a938790b___FREC_Pwd.M 0322_flipLR.JPG\u001b[m\n\t\u001b[31mdeleted:    inputs/mildew_dataset/cherry-leaves/validation/powdery_mildew/cd107c83-8873-495c-9203-3b7179647522___FREC_Pwd.M 4747.JPG\u001b[m\n\t\u001b[31mdeleted:    inputs/mildew_dataset/cherry-leaves/validation/powdery_mildew/cf99f7fe-fa40-4524-a77b-deb6df6f66d5___FREC_Pwd.M 4813.JPG\u001b[m\n\t\u001b[31mdeleted:    inputs/mildew_dataset/cherry-leaves/validation/powdery_mildew/d12701d9-e2d8-4647-aad4-e09f34117cc3___FREC_Pwd.M 0364_flipLR.JPG\u001b[m\n\t\u001b[31mdeleted:    inputs/mildew_dataset/cherry-leaves/validation/powdery_mildew/d38df747-e4a6-4243-b35d-1095e30e9274___FREC_Pwd.M 4553_flipLR.JPG\u001b[m\n\t\u001b[31mdeleted:    inputs/mildew_dataset/cherry-leaves/validation/powdery_mildew/d47d4ce9-a4da-4f75-a106-3b56e43cb8ec___FREC_Pwd.M 5056.JPG\u001b[m\n\t\u001b[31mdeleted:    inputs/mildew_dataset/cherry-leaves/validation/powdery_mildew/d47d4ce9-a4da-4f75-a106-3b56e43cb8ec___FREC_Pwd.M 5056_flipLR.JPG\u001b[m\n\t\u001b[31mdeleted:    inputs/mildew_dataset/cherry-leaves/validation/powdery_mildew/d53e4b45-41d9-4cea-9f79-80e99bac6a95___FREC_Pwd.M 4948_flipLR.JPG\u001b[m\n\t\u001b[31mdeleted:    inputs/mildew_dataset/cherry-leaves/validation/powdery_mildew/d54fcec0-b210-4ab6-8b53-2e33ec81ea36___FREC_Pwd.M 5093_flipLR.JPG\u001b[m\n\t\u001b[31mdeleted:    inputs/mildew_dataset/cherry-leaves/validation/powdery_mildew/d8972cd7-999e-44c5-ac22-5ef2d595cd83___FREC_Pwd.M 4658.JPG\u001b[m\n\t\u001b[31mdeleted:    inputs/mildew_dataset/cherry-leaves/validation/powdery_mildew/da493dd2-8ffd-4d42-8601-621e62616683___FREC_Pwd.M 4480_flipLR.JPG\u001b[m\n\t\u001b[31mdeleted:    inputs/mildew_dataset/cherry-leaves/validation/powdery_mildew/dbf6a6fd-5606-4584-bd11-659a86eac60b___FREC_Pwd.M 4707_flipLR.JPG\u001b[m\n\t\u001b[31mdeleted:    inputs/mildew_dataset/cherry-leaves/validation/powdery_mildew/ddfca5ac-a909-43ca-b8c7-66aeb996c8ad___FREC_Pwd.M 5036.JPG\u001b[m\n\t\u001b[31mdeleted:    inputs/mildew_dataset/cherry-leaves/validation/powdery_mildew/df8ae90b-7bb7-4e17-bc88-20c58ea9e82b___FREC_Pwd.M 4696.JPG\u001b[m\n\t\u001b[31mdeleted:    inputs/mildew_dataset/cherry-leaves/validation/powdery_mildew/e00332a5-dd41-4381-9ed4-1f3d8b9a9ed9___FREC_Pwd.M 4555_flipLR.JPG\u001b[m\n\t\u001b[31mdeleted:    inputs/mildew_dataset/cherry-leaves/validation/powdery_mildew/e06e9da2-0432-4060-b341-30ee0319685a___FREC_Pwd.M 4798.JPG\u001b[m\n\t\u001b[31mdeleted:    inputs/mildew_dataset/cherry-leaves/validation/powdery_mildew/e06e9da2-0432-4060-b341-30ee0319685a___FREC_Pwd.M 4798_flipLR.JPG\u001b[m\n\t\u001b[31mdeleted:    inputs/mildew_dataset/cherry-leaves/validation/powdery_mildew/e1f07b98-ae8d-4f63-837e-5bca2b1c3cf5___FREC_Pwd.M 4745.JPG\u001b[m\n\t\u001b[31mdeleted:    inputs/mildew_dataset/cherry-leaves/validation/powdery_mildew/e2a982d2-166f-4e9c-a869-50f52dce5315___FREC_Pwd.M 4973_flipLR.JPG\u001b[m\n\t\u001b[31mdeleted:    inputs/mildew_dataset/cherry-leaves/validation/powdery_mildew/e83b2526-f0fb-4faf-88d5-c9f8e43d69d1___FREC_Pwd.M 4929_flipLR.JPG\u001b[m\n\t\u001b[31mdeleted:    inputs/mildew_dataset/cherry-leaves/validation/powdery_mildew/ebd3dcc5-9ac0-49c8-b8cd-03f4869f9ce2___FREC_Pwd.M 4695_flipLR.JPG\u001b[m\n\t\u001b[31mdeleted:    inputs/mildew_dataset/cherry-leaves/validation/powdery_mildew/ebd78f79-cdae-4d2e-a680-f2bb32631ffd___FREC_Pwd.M 4777.JPG\u001b[m\n\t\u001b[31mdeleted:    inputs/mildew_dataset/cherry-leaves/validation/powdery_mildew/ecd65b68-3e4d-4c5c-9498-9f1e78d4e45d___FREC_Pwd.M 5067_flipLR.JPG\u001b[m\n\t\u001b[31mdeleted:    inputs/mildew_dataset/cherry-leaves/validation/powdery_mildew/ed259920-d6b8-4023-bc7b-b37c371a7b85___FREC_Pwd.M 4789.JPG\u001b[m\n\t\u001b[31mdeleted:    inputs/mildew_dataset/cherry-leaves/validation/powdery_mildew/edfe5673-2ddd-4908-ba5f-692bf590952c___FREC_Pwd.M 4693_flipLR.JPG\u001b[m\n\t\u001b[31mdeleted:    inputs/mildew_dataset/cherry-leaves/validation/powdery_mildew/f22b9bbe-1c84-4e0b-bc23-f9da36765801___FREC_Pwd.M 0472.JPG\u001b[m\n\t\u001b[31mdeleted:    inputs/mildew_dataset/cherry-leaves/validation/powdery_mildew/f22b9bbe-1c84-4e0b-bc23-f9da36765801___FREC_Pwd.M 0472_flipLR.JPG\u001b[m\n\t\u001b[31mdeleted:    inputs/mildew_dataset/cherry-leaves/validation/powdery_mildew/f28e7be1-c3ac-4c7b-bc30-94b8985a9614___FREC_Pwd.M 4999.JPG\u001b[m\n\t\u001b[31mdeleted:    inputs/mildew_dataset/cherry-leaves/validation/powdery_mildew/f4b0bedb-975d-484c-8e38-42c8ed478474___FREC_Pwd.M 4873.JPG\u001b[m\n\t\u001b[31mdeleted:    inputs/mildew_dataset/cherry-leaves/validation/powdery_mildew/f4c7b253-a8f2-4c9d-8eae-78afa364b30a___FREC_Pwd.M 5092.JPG\u001b[m\n\t\u001b[31mdeleted:    inputs/mildew_dataset/cherry-leaves/validation/powdery_mildew/f4c7b253-a8f2-4c9d-8eae-78afa364b30a___FREC_Pwd.M 5092_flipLR.JPG\u001b[m\n\t\u001b[31mdeleted:    inputs/mildew_dataset/cherry-leaves/validation/powdery_mildew/f5ed7117-153e-4e4a-a466-297bdbd1bf37___FREC_Pwd.M 4787_flipLR.JPG\u001b[m\n\t\u001b[31mdeleted:    inputs/mildew_dataset/cherry-leaves/validation/powdery_mildew/f66cd543-8b6b-4a13-9581-6a57dd83032e___FREC_Pwd.M 0571.JPG\u001b[m\n\t\u001b[31mdeleted:    inputs/mildew_dataset/cherry-leaves/validation/powdery_mildew/f6bb0a43-56e1-423a-9da5-0e2e71f0d9a6___FREC_Pwd.M 5149_flipLR.JPG\u001b[m\n\t\u001b[31mdeleted:    inputs/mildew_dataset/cherry-leaves/validation/powdery_mildew/f727949e-3f0f-40a1-bcb5-e7619df8ff87___FREC_Pwd.M 5128_flipLR.JPG\u001b[m\n\t\u001b[31mdeleted:    inputs/mildew_dataset/cherry-leaves/validation/powdery_mildew/f7f22a1d-718d-4b6d-ac7a-e0121d97d55e___FREC_Pwd.M 4533.JPG\u001b[m\n\t\u001b[31mdeleted:    inputs/mildew_dataset/cherry-leaves/validation/powdery_mildew/f7f22a1d-718d-4b6d-ac7a-e0121d97d55e___FREC_Pwd.M 4533_flipLR.JPG\u001b[m\n\t\u001b[31mdeleted:    inputs/mildew_dataset/cherry-leaves/validation/powdery_mildew/f7f8411d-93f5-4fd7-bf9a-9759cf6acd8b___FREC_Pwd.M 4466.JPG\u001b[m\n\t\u001b[31mdeleted:    inputs/mildew_dataset/cherry-leaves/validation/powdery_mildew/f7f8411d-93f5-4fd7-bf9a-9759cf6acd8b___FREC_Pwd.M 4466_flipLR.JPG\u001b[m\n\t\u001b[31mdeleted:    inputs/mildew_dataset/cherry-leaves/validation/powdery_mildew/f9699ceb-b9c3-43f5-8968-d6afa32a0153___FREC_Pwd.M 5160.JPG\u001b[m\n\t\u001b[31mdeleted:    inputs/mildew_dataset/cherry-leaves/validation/powdery_mildew/fb9f7797-a300-4486-aef5-0203b072ddce___FREC_Pwd.M 4510_flipLR.JPG\u001b[m\n\t\u001b[31mdeleted:    inputs/mildew_dataset/cherry-leaves/validation/powdery_mildew/fc3407ee-984f-4091-b4a9-0402ade2ecb7___FREC_Pwd.M 0422_flipLR.JPG\u001b[m\n\t\u001b[31mdeleted:    inputs/mildew_dataset/cherry-leaves/validation/powdery_mildew/fc970b2a-101f-46d8-ba74-72fc03d0c85c___FREC_Pwd.M 4634_flipLR.JPG\u001b[m\n\t\u001b[31mdeleted:    inputs/mildew_dataset/cherry-leaves/validation/powdery_mildew/fd8d4072-e0b3-4936-95c2-e2d6dc6d22b0___FREC_Pwd.M 0250_flipLR.JPG\u001b[m\n\t\u001b[31mdeleted:    inputs/mildew_dataset/cherry-leaves/validation/powdery_mildew/fdf38a3e-2855-4a4c-8094-9cfd9a94d037___FREC_Pwd.M 0351.JPG\u001b[m\n\t\u001b[31mdeleted:    inputs/mildew_dataset/cherry-leaves/validation/powdery_mildew/ff2a06ae-9fc1-4436-bfcd-346a18dd5bfb___FREC_Pwd.M 4840.JPG\u001b[m\n\t\u001b[31mmodified:   jupyter_notebooks/data_collection.ipynb\u001b[m\n\nno changes added to commit (use \"git add\" and/or \"git commit -a\")\n"
        }
      ],
      "source": [
        "!git status"
      ]
    },
    {
      "attachments": {},
      "cell_type": "markdown",
      "metadata": {},
      "source": [
        "### Git add"
      ]
    },
    {
      "cell_type": "code",
      "execution_count": 25,
      "metadata": {},
      "outputs": [],
      "source": [
        "!git add ."
      ]
    },
    {
      "attachments": {},
      "cell_type": "markdown",
      "metadata": {},
      "source": [
        "### Git commit"
      ]
    },
    {
      "cell_type": "code",
      "execution_count": 27,
      "metadata": {
        "tags": []
      },
      "outputs": [
        {
          "output_type": "stream",
          "name": "stdout",
          "text": "[main 9abb323] Add data collection\n 1 file changed, 3 insertions(+), 3 deletions(-)\n"
        }
      ],
      "source": [
        "!git commit -am \"Add data collection\""
      ]
    },
    {
      "attachments": {},
      "cell_type": "markdown",
      "metadata": {},
      "source": [
        "### Git Push"
      ]
    },
    {
      "cell_type": "code",
      "execution_count": 28,
      "metadata": {
        "tags": []
      },
      "outputs": [
        {
          "output_type": "stream",
          "name": "stdout",
          "text": "Enumerating objects: 17, done.\nCounting objects: 100% (17/17), done.\nDelta compression using up to 4 threads\nCompressing objects: 100% (11/11), done.\nWriting objects: 100% (11/11), 2.02 KiB | 2.02 MiB/s, done.\nTotal 11 (delta 9), reused 0 (delta 0), pack-reused 0\nremote: Resolving deltas: 100% (9/9), completed with 6 local objects.\u001b[K\nTo https://github.com/HumaIlyas/mildew-detection-in-cherry-leaves\n   460a5db..9abb323  main -> main\n"
        }
      ],
      "source": [
        "! git push"
      ]
    }
  ],
  "metadata": {
    "accelerator": "GPU",
    "colab": {
      "name": "Data Practitioner Jupyter Notebook.ipynb",
      "provenance": [],
      "toc_visible": true
    },
    "interpreter": {
      "hash": "8b8334dab9339717f727a1deaf837b322d7a41c20d15cc86be99a8e69ceec8ce"
    },
    "kernelspec": {
      "display_name": "Python 3.8.12 64-bit ('3.8.12': pyenv)",
      "name": "python381264bit3812pyenv758399631ce64b5f97c723f4cd975cf4"
    },
    "language_info": {
      "codemirror_mode": {
        "name": "ipython",
        "version": 3
      },
      "file_extension": ".py",
      "mimetype": "text/x-python",
      "name": "python",
      "nbconvert_exporter": "python",
      "pygments_lexer": "ipython3",
      "version": "3.8.12-final"
    },
    "orig_nbformat": 2
  },
  "nbformat": 4,
  "nbformat_minor": 2
}