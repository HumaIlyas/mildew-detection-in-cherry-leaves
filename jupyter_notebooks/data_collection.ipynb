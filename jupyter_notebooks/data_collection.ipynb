{
  "cells": [
    {
      "attachments": {},
      "cell_type": "markdown",
      "metadata": {
        "id": "0aStgWSO0E0E"
      },
      "source": [
        "# **Data Collection - Fetch Dataset from Kaggle**"
      ]
    },
    {
      "attachments": {},
      "cell_type": "markdown",
      "metadata": {
        "id": "1eLEkw5O0ECa"
      },
      "source": [
        "## Objectives\n",
        "* Fetch data from Kaggle and save as raw data to prepare it for further processes.\n",
        "\n",
        "## Inputs\n",
        "* Kaggle JSON file - the authentication token \n",
        "\n",
        "## Outputs\n",
        "* Generate Dataset: inputs/mildew_dataset/cherry-leaves \n",
        "\n",
        "## Additional Comments\n",
        "* The client provided the data under an NDA (non-disclosure agreement), therefore the data should only be shared with professionals that are officially involved in the project.\n",
        "\n"
      ]
    },
    {
      "attachments": {},
      "cell_type": "markdown",
      "metadata": {},
      "source": [
        "## Import pagkages"
      ]
    },
    {
      "cell_type": "code",
      "execution_count": 1,
      "metadata": {
        "tags": []
      },
      "outputs": [
        {
          "output_type": "stream",
          "name": "stdout",
          "text": "Requirement already satisfied: numpy==1.19.2 in /home/codeany/.pyenv/versions/3.8.12/lib/python3.8/site-packages (from -r /workspaces/mildew-detection-in-cherry-leaves/requirements.txt (line 1)) (1.19.2)\nRequirement already satisfied: pandas==1.1.2 in /home/codeany/.pyenv/versions/3.8.12/lib/python3.8/site-packages (from -r /workspaces/mildew-detection-in-cherry-leaves/requirements.txt (line 2)) (1.1.2)\nRequirement already satisfied: matplotlib==3.3.1 in /home/codeany/.pyenv/versions/3.8.12/lib/python3.8/site-packages (from -r /workspaces/mildew-detection-in-cherry-leaves/requirements.txt (line 3)) (3.3.1)\nRequirement already satisfied: seaborn==0.11.0 in /home/codeany/.pyenv/versions/3.8.12/lib/python3.8/site-packages (from -r /workspaces/mildew-detection-in-cherry-leaves/requirements.txt (line 4)) (0.11.0)\nRequirement already satisfied: plotly==4.12.0 in /home/codeany/.pyenv/versions/3.8.12/lib/python3.8/site-packages (from -r /workspaces/mildew-detection-in-cherry-leaves/requirements.txt (line 5)) (4.12.0)\nRequirement already satisfied: streamlit==0.85.0 in /home/codeany/.pyenv/versions/3.8.12/lib/python3.8/site-packages (from -r /workspaces/mildew-detection-in-cherry-leaves/requirements.txt (line 7)) (0.85.0)\nRequirement already satisfied: scikit-learn==0.24.2 in /home/codeany/.pyenv/versions/3.8.12/lib/python3.8/site-packages (from -r /workspaces/mildew-detection-in-cherry-leaves/requirements.txt (line 9)) (0.24.2)\nRequirement already satisfied: tensorflow-cpu==2.6.0 in /home/codeany/.pyenv/versions/3.8.12/lib/python3.8/site-packages (from -r /workspaces/mildew-detection-in-cherry-leaves/requirements.txt (line 10)) (2.6.0)\nRequirement already satisfied: keras==2.6.0 in /home/codeany/.pyenv/versions/3.8.12/lib/python3.8/site-packages (from -r /workspaces/mildew-detection-in-cherry-leaves/requirements.txt (line 11)) (2.6.0)\nRequirement already satisfied: protobuf==3.20 in /home/codeany/.pyenv/versions/3.8.12/lib/python3.8/site-packages (from -r /workspaces/mildew-detection-in-cherry-leaves/requirements.txt (line 12)) (3.20.0)\nRequirement already satisfied: python-dateutil>=2.7.3 in /home/codeany/.pyenv/versions/3.8.12/lib/python3.8/site-packages (from pandas==1.1.2->-r /workspaces/mildew-detection-in-cherry-leaves/requirements.txt (line 2)) (2.8.2)\nRequirement already satisfied: pytz>=2017.2 in /home/codeany/.pyenv/versions/3.8.12/lib/python3.8/site-packages (from pandas==1.1.2->-r /workspaces/mildew-detection-in-cherry-leaves/requirements.txt (line 2)) (2023.3)\nRequirement already satisfied: certifi>=2020.06.20 in /home/codeany/.pyenv/versions/3.8.12/lib/python3.8/site-packages (from matplotlib==3.3.1->-r /workspaces/mildew-detection-in-cherry-leaves/requirements.txt (line 3)) (2023.5.7)\nRequirement already satisfied: cycler>=0.10 in /home/codeany/.pyenv/versions/3.8.12/lib/python3.8/site-packages (from matplotlib==3.3.1->-r /workspaces/mildew-detection-in-cherry-leaves/requirements.txt (line 3)) (0.11.0)\nRequirement already satisfied: kiwisolver>=1.0.1 in /home/codeany/.pyenv/versions/3.8.12/lib/python3.8/site-packages (from matplotlib==3.3.1->-r /workspaces/mildew-detection-in-cherry-leaves/requirements.txt (line 3)) (1.4.4)\nRequirement already satisfied: pillow>=6.2.0 in /home/codeany/.pyenv/versions/3.8.12/lib/python3.8/site-packages (from matplotlib==3.3.1->-r /workspaces/mildew-detection-in-cherry-leaves/requirements.txt (line 3)) (9.5.0)\nRequirement already satisfied: pyparsing!=2.0.4,!=2.1.2,!=2.1.6,>=2.0.3 in /home/codeany/.pyenv/versions/3.8.12/lib/python3.8/site-packages (from matplotlib==3.3.1->-r /workspaces/mildew-detection-in-cherry-leaves/requirements.txt (line 3)) (3.1.0)\nRequirement already satisfied: scipy>=1.0 in /home/codeany/.pyenv/versions/3.8.12/lib/python3.8/site-packages (from seaborn==0.11.0->-r /workspaces/mildew-detection-in-cherry-leaves/requirements.txt (line 4)) (1.9.3)\nRequirement already satisfied: retrying>=1.3.3 in /home/codeany/.pyenv/versions/3.8.12/lib/python3.8/site-packages (from plotly==4.12.0->-r /workspaces/mildew-detection-in-cherry-leaves/requirements.txt (line 5)) (1.3.4)\nRequirement already satisfied: six in /home/codeany/.pyenv/versions/3.8.12/lib/python3.8/site-packages (from plotly==4.12.0->-r /workspaces/mildew-detection-in-cherry-leaves/requirements.txt (line 5)) (1.15.0)\nRequirement already satisfied: altair>=3.2.0 in /home/codeany/.pyenv/versions/3.8.12/lib/python3.8/site-packages (from streamlit==0.85.0->-r /workspaces/mildew-detection-in-cherry-leaves/requirements.txt (line 7)) (4.2.2)\nRequirement already satisfied: astor in /home/codeany/.pyenv/versions/3.8.12/lib/python3.8/site-packages (from streamlit==0.85.0->-r /workspaces/mildew-detection-in-cherry-leaves/requirements.txt (line 7)) (0.8.1)\nRequirement already satisfied: attrs in /home/codeany/.pyenv/versions/3.8.12/lib/python3.8/site-packages (from streamlit==0.85.0->-r /workspaces/mildew-detection-in-cherry-leaves/requirements.txt (line 7)) (23.1.0)\nRequirement already satisfied: base58 in /home/codeany/.pyenv/versions/3.8.12/lib/python3.8/site-packages (from streamlit==0.85.0->-r /workspaces/mildew-detection-in-cherry-leaves/requirements.txt (line 7)) (2.1.1)\nRequirement already satisfied: blinker in /home/codeany/.pyenv/versions/3.8.12/lib/python3.8/site-packages (from streamlit==0.85.0->-r /workspaces/mildew-detection-in-cherry-leaves/requirements.txt (line 7)) (1.6.2)\nRequirement already satisfied: cachetools>=4.0 in /home/codeany/.pyenv/versions/3.8.12/lib/python3.8/site-packages (from streamlit==0.85.0->-r /workspaces/mildew-detection-in-cherry-leaves/requirements.txt (line 7)) (5.3.1)\nRequirement already satisfied: click<8.0,>=7.0 in /home/codeany/.pyenv/versions/3.8.12/lib/python3.8/site-packages (from streamlit==0.85.0->-r /workspaces/mildew-detection-in-cherry-leaves/requirements.txt (line 7)) (7.1.2)\nRequirement already satisfied: packaging in /home/codeany/.pyenv/versions/3.8.12/lib/python3.8/site-packages (from streamlit==0.85.0->-r /workspaces/mildew-detection-in-cherry-leaves/requirements.txt (line 7)) (23.1)\nRequirement already satisfied: pyarrow in /home/codeany/.pyenv/versions/3.8.12/lib/python3.8/site-packages (from streamlit==0.85.0->-r /workspaces/mildew-detection-in-cherry-leaves/requirements.txt (line 7)) (12.0.1)\nRequirement already satisfied: pydeck>=0.1.dev5 in /home/codeany/.pyenv/versions/3.8.12/lib/python3.8/site-packages (from streamlit==0.85.0->-r /workspaces/mildew-detection-in-cherry-leaves/requirements.txt (line 7)) (0.8.1b0)\nRequirement already satisfied: requests in /home/codeany/.pyenv/versions/3.8.12/lib/python3.8/site-packages (from streamlit==0.85.0->-r /workspaces/mildew-detection-in-cherry-leaves/requirements.txt (line 7)) (2.31.0)\nRequirement already satisfied: toml in /home/codeany/.pyenv/versions/3.8.12/lib/python3.8/site-packages (from streamlit==0.85.0->-r /workspaces/mildew-detection-in-cherry-leaves/requirements.txt (line 7)) (0.10.2)\nRequirement already satisfied: tornado>=5.0 in /home/codeany/.pyenv/versions/3.8.12/lib/python3.8/site-packages (from streamlit==0.85.0->-r /workspaces/mildew-detection-in-cherry-leaves/requirements.txt (line 7)) (6.3.2)\nRequirement already satisfied: tzlocal in /home/codeany/.pyenv/versions/3.8.12/lib/python3.8/site-packages (from streamlit==0.85.0->-r /workspaces/mildew-detection-in-cherry-leaves/requirements.txt (line 7)) (5.0.1)\nRequirement already satisfied: validators in /home/codeany/.pyenv/versions/3.8.12/lib/python3.8/site-packages (from streamlit==0.85.0->-r /workspaces/mildew-detection-in-cherry-leaves/requirements.txt (line 7)) (0.20.0)\nRequirement already satisfied: gitpython in /home/codeany/.pyenv/versions/3.8.12/lib/python3.8/site-packages (from streamlit==0.85.0->-r /workspaces/mildew-detection-in-cherry-leaves/requirements.txt (line 7)) (3.1.31)\nRequirement already satisfied: watchdog in /home/codeany/.pyenv/versions/3.8.12/lib/python3.8/site-packages (from streamlit==0.85.0->-r /workspaces/mildew-detection-in-cherry-leaves/requirements.txt (line 7)) (3.0.0)\nRequirement already satisfied: joblib>=0.11 in /home/codeany/.pyenv/versions/3.8.12/lib/python3.8/site-packages (from scikit-learn==0.24.2->-r /workspaces/mildew-detection-in-cherry-leaves/requirements.txt (line 9)) (1.2.0)\nRequirement already satisfied: threadpoolctl>=2.0.0 in /home/codeany/.pyenv/versions/3.8.12/lib/python3.8/site-packages (from scikit-learn==0.24.2->-r /workspaces/mildew-detection-in-cherry-leaves/requirements.txt (line 9)) (3.1.0)\nRequirement already satisfied: absl-py~=0.10 in /home/codeany/.pyenv/versions/3.8.12/lib/python3.8/site-packages (from tensorflow-cpu==2.6.0->-r /workspaces/mildew-detection-in-cherry-leaves/requirements.txt (line 10)) (0.15.0)\nRequirement already satisfied: astunparse~=1.6.3 in /home/codeany/.pyenv/versions/3.8.12/lib/python3.8/site-packages (from tensorflow-cpu==2.6.0->-r /workspaces/mildew-detection-in-cherry-leaves/requirements.txt (line 10)) (1.6.3)\nRequirement already satisfied: clang~=5.0 in /home/codeany/.pyenv/versions/3.8.12/lib/python3.8/site-packages (from tensorflow-cpu==2.6.0->-r /workspaces/mildew-detection-in-cherry-leaves/requirements.txt (line 10)) (5.0)\nRequirement already satisfied: flatbuffers~=1.12.0 in /home/codeany/.pyenv/versions/3.8.12/lib/python3.8/site-packages (from tensorflow-cpu==2.6.0->-r /workspaces/mildew-detection-in-cherry-leaves/requirements.txt (line 10)) (1.12)\nRequirement already satisfied: google-pasta~=0.2 in /home/codeany/.pyenv/versions/3.8.12/lib/python3.8/site-packages (from tensorflow-cpu==2.6.0->-r /workspaces/mildew-detection-in-cherry-leaves/requirements.txt (line 10)) (0.2.0)\nRequirement already satisfied: h5py~=3.1.0 in /home/codeany/.pyenv/versions/3.8.12/lib/python3.8/site-packages (from tensorflow-cpu==2.6.0->-r /workspaces/mildew-detection-in-cherry-leaves/requirements.txt (line 10)) (3.1.0)\nRequirement already satisfied: keras-preprocessing~=1.1.2 in /home/codeany/.pyenv/versions/3.8.12/lib/python3.8/site-packages (from tensorflow-cpu==2.6.0->-r /workspaces/mildew-detection-in-cherry-leaves/requirements.txt (line 10)) (1.1.2)\nRequirement already satisfied: opt-einsum~=3.3.0 in /home/codeany/.pyenv/versions/3.8.12/lib/python3.8/site-packages (from tensorflow-cpu==2.6.0->-r /workspaces/mildew-detection-in-cherry-leaves/requirements.txt (line 10)) (3.3.0)\nRequirement already satisfied: termcolor~=1.1.0 in /home/codeany/.pyenv/versions/3.8.12/lib/python3.8/site-packages (from tensorflow-cpu==2.6.0->-r /workspaces/mildew-detection-in-cherry-leaves/requirements.txt (line 10)) (1.1.0)\nRequirement already satisfied: typing-extensions~=3.7.4 in /home/codeany/.pyenv/versions/3.8.12/lib/python3.8/site-packages (from tensorflow-cpu==2.6.0->-r /workspaces/mildew-detection-in-cherry-leaves/requirements.txt (line 10)) (3.7.4.3)\nRequirement already satisfied: wheel~=0.35 in /home/codeany/.pyenv/versions/3.8.12/lib/python3.8/site-packages (from tensorflow-cpu==2.6.0->-r /workspaces/mildew-detection-in-cherry-leaves/requirements.txt (line 10)) (0.40.0)\nRequirement already satisfied: wrapt~=1.12.1 in /home/codeany/.pyenv/versions/3.8.12/lib/python3.8/site-packages (from tensorflow-cpu==2.6.0->-r /workspaces/mildew-detection-in-cherry-leaves/requirements.txt (line 10)) (1.12.1)\nRequirement already satisfied: gast==0.4.0 in /home/codeany/.pyenv/versions/3.8.12/lib/python3.8/site-packages (from tensorflow-cpu==2.6.0->-r /workspaces/mildew-detection-in-cherry-leaves/requirements.txt (line 10)) (0.4.0)\nRequirement already satisfied: tensorboard~=2.6 in /home/codeany/.pyenv/versions/3.8.12/lib/python3.8/site-packages (from tensorflow-cpu==2.6.0->-r /workspaces/mildew-detection-in-cherry-leaves/requirements.txt (line 10)) (2.13.0)\nRequirement already satisfied: tensorflow-estimator~=2.6 in /home/codeany/.pyenv/versions/3.8.12/lib/python3.8/site-packages (from tensorflow-cpu==2.6.0->-r /workspaces/mildew-detection-in-cherry-leaves/requirements.txt (line 10)) (2.12.0)\nRequirement already satisfied: grpcio<2.0,>=1.37.0 in /home/codeany/.pyenv/versions/3.8.12/lib/python3.8/site-packages (from tensorflow-cpu==2.6.0->-r /workspaces/mildew-detection-in-cherry-leaves/requirements.txt (line 10)) (1.56.0)\nRequirement already satisfied: entrypoints in /home/codeany/.pyenv/versions/3.8.12/lib/python3.8/site-packages (from altair>=3.2.0->streamlit==0.85.0->-r /workspaces/mildew-detection-in-cherry-leaves/requirements.txt (line 7)) (0.4)\nRequirement already satisfied: jinja2 in /home/codeany/.pyenv/versions/3.8.12/lib/python3.8/site-packages (from altair>=3.2.0->streamlit==0.85.0->-r /workspaces/mildew-detection-in-cherry-leaves/requirements.txt (line 7)) (3.1.2)\nRequirement already satisfied: jsonschema>=3.0 in /home/codeany/.pyenv/versions/3.8.12/lib/python3.8/site-packages (from altair>=3.2.0->streamlit==0.85.0->-r /workspaces/mildew-detection-in-cherry-leaves/requirements.txt (line 7)) (4.17.3)\nRequirement already satisfied: toolz in /home/codeany/.pyenv/versions/3.8.12/lib/python3.8/site-packages (from altair>=3.2.0->streamlit==0.85.0->-r /workspaces/mildew-detection-in-cherry-leaves/requirements.txt (line 7)) (0.12.0)\nRequirement already satisfied: google-auth<3,>=1.6.3 in /home/codeany/.pyenv/versions/3.8.12/lib/python3.8/site-packages (from tensorboard~=2.6->tensorflow-cpu==2.6.0->-r /workspaces/mildew-detection-in-cherry-leaves/requirements.txt (line 10)) (2.21.0)\nRequirement already satisfied: google-auth-oauthlib<1.1,>=0.5 in /home/codeany/.pyenv/versions/3.8.12/lib/python3.8/site-packages (from tensorboard~=2.6->tensorflow-cpu==2.6.0->-r /workspaces/mildew-detection-in-cherry-leaves/requirements.txt (line 10)) (1.0.0)\nRequirement already satisfied: markdown>=2.6.8 in /home/codeany/.pyenv/versions/3.8.12/lib/python3.8/site-packages (from tensorboard~=2.6->tensorflow-cpu==2.6.0->-r /workspaces/mildew-detection-in-cherry-leaves/requirements.txt (line 10)) (3.4.3)\nRequirement already satisfied: setuptools>=41.0.0 in /home/codeany/.pyenv/versions/3.8.12/lib/python3.8/site-packages (from tensorboard~=2.6->tensorflow-cpu==2.6.0->-r /workspaces/mildew-detection-in-cherry-leaves/requirements.txt (line 10)) (68.0.0)\nRequirement already satisfied: tensorboard-data-server<0.8.0,>=0.7.0 in /home/codeany/.pyenv/versions/3.8.12/lib/python3.8/site-packages (from tensorboard~=2.6->tensorflow-cpu==2.6.0->-r /workspaces/mildew-detection-in-cherry-leaves/requirements.txt (line 10)) (0.7.1)\nRequirement already satisfied: werkzeug>=1.0.1 in /home/codeany/.pyenv/versions/3.8.12/lib/python3.8/site-packages (from tensorboard~=2.6->tensorflow-cpu==2.6.0->-r /workspaces/mildew-detection-in-cherry-leaves/requirements.txt (line 10)) (2.3.6)\nRequirement already satisfied: charset-normalizer<4,>=2 in /home/codeany/.pyenv/versions/3.8.12/lib/python3.8/site-packages (from requests->streamlit==0.85.0->-r /workspaces/mildew-detection-in-cherry-leaves/requirements.txt (line 7)) (3.1.0)\nRequirement already satisfied: idna<4,>=2.5 in /home/codeany/.pyenv/versions/3.8.12/lib/python3.8/site-packages (from requests->streamlit==0.85.0->-r /workspaces/mildew-detection-in-cherry-leaves/requirements.txt (line 7)) (3.4)\nRequirement already satisfied: urllib3<3,>=1.21.1 in /home/codeany/.pyenv/versions/3.8.12/lib/python3.8/site-packages (from requests->streamlit==0.85.0->-r /workspaces/mildew-detection-in-cherry-leaves/requirements.txt (line 7)) (1.26.16)\nRequirement already satisfied: gitdb<5,>=4.0.1 in /home/codeany/.pyenv/versions/3.8.12/lib/python3.8/site-packages (from gitpython->streamlit==0.85.0->-r /workspaces/mildew-detection-in-cherry-leaves/requirements.txt (line 7)) (4.0.10)\nRequirement already satisfied: backports.zoneinfo in /home/codeany/.pyenv/versions/3.8.12/lib/python3.8/site-packages (from tzlocal->streamlit==0.85.0->-r /workspaces/mildew-detection-in-cherry-leaves/requirements.txt (line 7)) (0.2.1)\nRequirement already satisfied: decorator>=3.4.0 in /home/codeany/.pyenv/versions/3.8.12/lib/python3.8/site-packages (from validators->streamlit==0.85.0->-r /workspaces/mildew-detection-in-cherry-leaves/requirements.txt (line 7)) (5.1.1)\nRequirement already satisfied: smmap<6,>=3.0.1 in /home/codeany/.pyenv/versions/3.8.12/lib/python3.8/site-packages (from gitdb<5,>=4.0.1->gitpython->streamlit==0.85.0->-r /workspaces/mildew-detection-in-cherry-leaves/requirements.txt (line 7)) (5.0.0)\nRequirement already satisfied: pyasn1-modules>=0.2.1 in /home/codeany/.pyenv/versions/3.8.12/lib/python3.8/site-packages (from google-auth<3,>=1.6.3->tensorboard~=2.6->tensorflow-cpu==2.6.0->-r /workspaces/mildew-detection-in-cherry-leaves/requirements.txt (line 10)) (0.3.0)\nRequirement already satisfied: rsa<5,>=3.1.4 in /home/codeany/.pyenv/versions/3.8.12/lib/python3.8/site-packages (from google-auth<3,>=1.6.3->tensorboard~=2.6->tensorflow-cpu==2.6.0->-r /workspaces/mildew-detection-in-cherry-leaves/requirements.txt (line 10)) (4.9)\nRequirement already satisfied: requests-oauthlib>=0.7.0 in /home/codeany/.pyenv/versions/3.8.12/lib/python3.8/site-packages (from google-auth-oauthlib<1.1,>=0.5->tensorboard~=2.6->tensorflow-cpu==2.6.0->-r /workspaces/mildew-detection-in-cherry-leaves/requirements.txt (line 10)) (1.3.1)\nRequirement already satisfied: MarkupSafe>=2.0 in /home/codeany/.pyenv/versions/3.8.12/lib/python3.8/site-packages (from jinja2->altair>=3.2.0->streamlit==0.85.0->-r /workspaces/mildew-detection-in-cherry-leaves/requirements.txt (line 7)) (2.1.3)\nRequirement already satisfied: importlib-resources>=1.4.0 in /home/codeany/.pyenv/versions/3.8.12/lib/python3.8/site-packages (from jsonschema>=3.0->altair>=3.2.0->streamlit==0.85.0->-r /workspaces/mildew-detection-in-cherry-leaves/requirements.txt (line 7)) (5.12.0)\nRequirement already satisfied: pkgutil-resolve-name>=1.3.10 in /home/codeany/.pyenv/versions/3.8.12/lib/python3.8/site-packages (from jsonschema>=3.0->altair>=3.2.0->streamlit==0.85.0->-r /workspaces/mildew-detection-in-cherry-leaves/requirements.txt (line 7)) (1.3.10)\nRequirement already satisfied: pyrsistent!=0.17.0,!=0.17.1,!=0.17.2,>=0.14.0 in /home/codeany/.pyenv/versions/3.8.12/lib/python3.8/site-packages (from jsonschema>=3.0->altair>=3.2.0->streamlit==0.85.0->-r /workspaces/mildew-detection-in-cherry-leaves/requirements.txt (line 7)) (0.19.3)\nRequirement already satisfied: importlib-metadata>=4.4 in /home/codeany/.pyenv/versions/3.8.12/lib/python3.8/site-packages (from markdown>=2.6.8->tensorboard~=2.6->tensorflow-cpu==2.6.0->-r /workspaces/mildew-detection-in-cherry-leaves/requirements.txt (line 10)) (6.7.0)\nRequirement already satisfied: zipp>=0.5 in /home/codeany/.pyenv/versions/3.8.12/lib/python3.8/site-packages (from importlib-metadata>=4.4->markdown>=2.6.8->tensorboard~=2.6->tensorflow-cpu==2.6.0->-r /workspaces/mildew-detection-in-cherry-leaves/requirements.txt (line 10)) (3.15.0)\nRequirement already satisfied: pyasn1<0.6.0,>=0.4.6 in /home/codeany/.pyenv/versions/3.8.12/lib/python3.8/site-packages (from pyasn1-modules>=0.2.1->google-auth<3,>=1.6.3->tensorboard~=2.6->tensorflow-cpu==2.6.0->-r /workspaces/mildew-detection-in-cherry-leaves/requirements.txt (line 10)) (0.5.0)\nRequirement already satisfied: oauthlib>=3.0.0 in /home/codeany/.pyenv/versions/3.8.12/lib/python3.8/site-packages (from requests-oauthlib>=0.7.0->google-auth-oauthlib<1.1,>=0.5->tensorboard~=2.6->tensorflow-cpu==2.6.0->-r /workspaces/mildew-detection-in-cherry-leaves/requirements.txt (line 10)) (3.2.2)\n"
        }
      ],
      "source": [
        "! pip install -r /workspaces/mildew-detection-in-cherry-leaves/requirements.txt"
      ]
    },
    {
      "cell_type": "code",
      "execution_count": 2,
      "metadata": {
        "tags": []
      },
      "outputs": [],
      "source": [
        "import numpy\n",
        "import os"
      ]
    },
    {
      "attachments": {},
      "cell_type": "markdown",
      "metadata": {
        "id": "9uWZXH9LwoQg"
      },
      "source": [
        "## Change Working Directory\n",
        "\n",
        "* To change the working directory from its current folder to its parent folder\n",
        "* To access the current directory with os.getcwd()"
      ]
    },
    {
      "cell_type": "code",
      "execution_count": 3,
      "metadata": {
        "id": "wZfF_j-Bz3i4",
        "outputId": "66943449-1436-4c3d-85c7-b85f9f78349b"
      },
      "outputs": [
        {
          "output_type": "execute_result",
          "data": {
            "text/plain": "'/workspaces/mildew-detection-in-cherry-leaves/jupyter_notebooks'"
          },
          "metadata": {},
          "execution_count": 3
        }
      ],
      "source": [
        "import os\n",
        "current_dir = os.getcwd()\n",
        "current_dir"
      ]
    },
    {
      "attachments": {},
      "cell_type": "markdown",
      "metadata": {
        "id": "9MWW8E7lz3i7"
      },
      "source": [
        "**To make the parent of the current directory the new current directory**\n",
        "* os.path.dirname() gets the parent directory\n",
        "* os.chdir() defines the new current directory"
      ]
    },
    {
      "cell_type": "code",
      "execution_count": 4,
      "metadata": {
        "id": "TwHsQRWjz3i9",
        "outputId": "86849db3-cd2f-4cc5-ebb8-2d0caafa1a2c",
        "tags": []
      },
      "outputs": [
        {
          "output_type": "stream",
          "name": "stdout",
          "text": "You set a new current directory\n"
        }
      ],
      "source": [
        "os.chdir(os.path.dirname(current_dir))\n",
        "print(\"You set a new current directory\")"
      ]
    },
    {
      "attachments": {},
      "cell_type": "markdown",
      "metadata": {
        "id": "M_xPk_Ijz3i-"
      },
      "source": [
        "**To confirm the new current directory**"
      ]
    },
    {
      "cell_type": "code",
      "execution_count": 5,
      "metadata": {
        "id": "vz3S-_kjz3jA",
        "outputId": "00b79ae4-75d0-4a96-d193-ac9ef9847ea2"
      },
      "outputs": [
        {
          "output_type": "execute_result",
          "data": {
            "text/plain": "'/workspaces/mildew-detection-in-cherry-leaves'"
          },
          "metadata": {},
          "execution_count": 5
        }
      ],
      "source": [
        "current_dir = os.getcwd()\n",
        "current_dir"
      ]
    },
    {
      "attachments": {},
      "cell_type": "markdown",
      "metadata": {
        "id": "-mavJ8DibrcQ"
      },
      "source": [
        "# Install Kaggle"
      ]
    },
    {
      "cell_type": "code",
      "execution_count": 6,
      "metadata": {
        "tags": []
      },
      "outputs": [
        {
          "output_type": "stream",
          "name": "stdout",
          "text": "Requirement already satisfied: kaggle in /home/codeany/.pyenv/versions/3.8.12/lib/python3.8/site-packages (1.5.13)\nRequirement already satisfied: six>=1.10 in /home/codeany/.pyenv/versions/3.8.12/lib/python3.8/site-packages (from kaggle) (1.15.0)\nRequirement already satisfied: certifi in /home/codeany/.pyenv/versions/3.8.12/lib/python3.8/site-packages (from kaggle) (2023.5.7)\nRequirement already satisfied: python-dateutil in /home/codeany/.pyenv/versions/3.8.12/lib/python3.8/site-packages (from kaggle) (2.8.2)\nRequirement already satisfied: requests in /home/codeany/.pyenv/versions/3.8.12/lib/python3.8/site-packages (from kaggle) (2.31.0)\nRequirement already satisfied: tqdm in /home/codeany/.pyenv/versions/3.8.12/lib/python3.8/site-packages (from kaggle) (4.65.0)\nRequirement already satisfied: python-slugify in /home/codeany/.pyenv/versions/3.8.12/lib/python3.8/site-packages (from kaggle) (8.0.1)\nRequirement already satisfied: urllib3 in /home/codeany/.pyenv/versions/3.8.12/lib/python3.8/site-packages (from kaggle) (1.26.16)\nRequirement already satisfied: text-unidecode>=1.3 in /home/codeany/.pyenv/versions/3.8.12/lib/python3.8/site-packages (from python-slugify->kaggle) (1.3)\nRequirement already satisfied: charset-normalizer<4,>=2 in /home/codeany/.pyenv/versions/3.8.12/lib/python3.8/site-packages (from requests->kaggle) (3.1.0)\nRequirement already satisfied: idna<4,>=2.5 in /home/codeany/.pyenv/versions/3.8.12/lib/python3.8/site-packages (from requests->kaggle) (3.4)\nNote: you may need to restart the kernel to use updated packages.\n"
        }
      ],
      "source": [
        "# install kaggle package\n",
        "%pip install kaggle"
      ]
    },
    {
      "attachments": {},
      "cell_type": "markdown",
      "metadata": {
        "id": "uFQo3ycuO-v6"
      },
      "source": [
        "Run the cell below to change the kaggle configuration directory to current working directory and permission of kaggle authentication JSON"
      ]
    },
    {
      "cell_type": "code",
      "execution_count": 7,
      "metadata": {
        "tags": []
      },
      "outputs": [],
      "source": [
        "os.environ['KAGGLE_CONFIG_DIR'] = os.getcwd()\n",
        "! chmod 600 kaggle.json"
      ]
    },
    {
      "attachments": {},
      "cell_type": "markdown",
      "metadata": {},
      "source": [
        "* Get the dataset path from Kaggle url.  When you are viewing the dataset at Kaggle, check what is after https://www.kaggle.com/ (in some case kaggle.com/datasets). You should copy that at KaggleDatasetPath.\n",
        "\n",
        "* Set the destination folder\n",
        "* Set the Kaggle Dataset and Download it"
      ]
    },
    {
      "cell_type": "code",
      "execution_count": 8,
      "metadata": {
        "tags": []
      },
      "outputs": [
        {
          "output_type": "stream",
          "name": "stdout",
          "text": "Downloading cherry-leaves.zip to inputs/mildew_dataset\n 89%|█████████████████████████████████▊    | 49.0M/55.0M [00:00<00:00, 71.0MB/s]\n100%|██████████████████████████████████████| 55.0M/55.0M [00:00<00:00, 81.3MB/s]\n"
        }
      ],
      "source": [
        "# Set the destination folder to download Kaggle Dataset\n",
        "KaggleDatasetPath = \"codeinstitute/cherry-leaves\"\n",
        "DestinationFolder = \"inputs/mildew_dataset\"   \n",
        "! kaggle datasets download -d {KaggleDatasetPath} -p {DestinationFolder}"
      ]
    },
    {
      "attachments": {},
      "cell_type": "markdown",
      "metadata": {},
      "source": [
        "* Unzip the downloaded file, and delete the zip file."
      ]
    },
    {
      "cell_type": "code",
      "execution_count": 9,
      "metadata": {},
      "outputs": [],
      "source": [
        "import zipfile\n",
        "with zipfile.ZipFile(DestinationFolder + '/cherry-leaves.zip', 'r') as zip_ref:\n",
        "    zip_ref.extractall(DestinationFolder)\n",
        "\n",
        "os.remove(DestinationFolder + '/cherry-leaves.zip')"
      ]
    },
    {
      "attachments": {},
      "cell_type": "markdown",
      "metadata": {},
      "source": [
        "# Data Preparation"
      ]
    },
    {
      "attachments": {},
      "cell_type": "markdown",
      "metadata": {},
      "source": [
        "### Check and remove non-image files"
      ]
    },
    {
      "cell_type": "code",
      "execution_count": 10,
      "metadata": {},
      "outputs": [],
      "source": [
        "# Function to remove non-image files\n",
        "def remove_non_image_file(my_data_dir):\n",
        "    image_extension = ('.png', '.jpg', '.jpeg')\n",
        "    folders = os.listdir(my_data_dir) \n",
        "    for folder in folders:\n",
        "        files = os.listdir(my_data_dir + '/' + folder)\n",
        "        # print(files)\n",
        "        i = []\n",
        "        j = []\n",
        "        for given_file in files:\n",
        "            if not given_file.lower().endswith(image_extension):\n",
        "                file_location = my_data_dir + '/' + folder + '/' + given_file\n",
        "                os.remove(file_location) # remove non-image file\n",
        "                i.append(1)\n",
        "            else:\n",
        "                j.append(1)\n",
        "                pass\n",
        "        print(f\"Folder: {folder} - has image file\",len(j))\n",
        "        print(f\"Folder: {folder} - has non-image file\",len(i))"
      ]
    },
    {
      "cell_type": "code",
      "execution_count": 11,
      "metadata": {
        "tags": []
      },
      "outputs": [
        {
          "output_type": "stream",
          "name": "stdout",
          "text": "Folder: healthy - has image file 2104\nFolder: healthy - has non-image file 0\nFolder: powdery_mildew - has image file 2104\nFolder: powdery_mildew - has non-image file 0\n"
        }
      ],
      "source": [
        "# Remove non-image files\n",
        "remove_non_image_file(my_data_dir='inputs/mildew_dataset/cherry-leaves')"
      ]
    },
    {
      "attachments": {},
      "cell_type": "markdown",
      "metadata": {},
      "source": [
        "### Split train, validation, and test sets"
      ]
    },
    {
      "cell_type": "code",
      "execution_count": 12,
      "metadata": {},
      "outputs": [],
      "source": [
        "import os\n",
        "import shutil\n",
        "import random\n",
        "import joblib\n",
        "\n",
        "my_data_dir=\"inputs/mildew_dataset/cherry-leaves\"\n",
        "\n",
        "# Function to split train, validation, and test images\n",
        "def split_train_validation_test_images(my_data_dir, train_set_ratio, validation_set_ratio, test_set_ratio):\n",
        "  \n",
        "  if train_set_ratio + validation_set_ratio + test_set_ratio != 1.0:\n",
        "    print(\"train_set_ratio + validation_set_ratio + test_set_ratio should sum 1.0\")\n",
        "    return\n",
        "\n",
        "  # gets classes labels\n",
        "  labels = os.listdir(my_data_dir) # To get only the folder name\n",
        "  if 'test' in labels:\n",
        "    pass\n",
        "  else: \n",
        "    # create train, validation, and test folders with classess labels sub-folder\n",
        "    for folder in ['train','validation','test']:\n",
        "      for label in labels:\n",
        "        os.makedirs(name=my_data_dir+ '/' + folder + '/' + label)\n",
        "\n",
        "    for label in labels:\n",
        "\n",
        "      files = os.listdir(my_data_dir + '/' + label)\n",
        "      random.shuffle(files)\n",
        "\n",
        "      train_set_files_qty = int(len(files) * train_set_ratio)\n",
        "      validation_set_files_qty = int(len(files) * validation_set_ratio)\n",
        "\n",
        "      count = 1\n",
        "      for file_name in files:\n",
        "        if count <= train_set_files_qty:\n",
        "          # move given file to train set\n",
        "          shutil.move(my_data_dir + '/' + label + '/' + file_name,\n",
        "                      my_data_dir + '/train/' + label + '/' + file_name)\n",
        "          \n",
        "\n",
        "        elif count <= (train_set_files_qty + validation_set_files_qty ):\n",
        "          # move given file to validation set\n",
        "          shutil.move(my_data_dir + '/' + label + '/' + file_name,\n",
        "                      my_data_dir + '/validation/' + label + '/' + file_name)\n",
        "\n",
        "        else:\n",
        "          # move given file to test set\n",
        "          shutil.move(my_data_dir + '/' + label + '/' + file_name,\n",
        "                  my_data_dir + '/test/' +label + '/'+ file_name)\n",
        "          \n",
        "        count += 1\n",
        "\n",
        "      os.rmdir(my_data_dir + '/' + label)"
      ]
    },
    {
      "cell_type": "code",
      "execution_count": 13,
      "metadata": {},
      "outputs": [],
      "source": [
        "# Split train, validation, and test images\n",
        "split_train_validation_test_images(my_data_dir=f\"inputs/mildew_dataset/cherry-leaves\",\n",
        "                        train_set_ratio = 0.7,\n",
        "                        validation_set_ratio=0.1,\n",
        "                        test_set_ratio=0.2\n",
        "                        )"
      ]
    },
    {
      "source": [
        "## Conclusions and Next Steps\n",
        "## Conclusions\n",
        "* Dataset as a mildew_dataset has been successfuly added to the input folder \n",
        "* mildew_dataset has been successfully splitted into train, validation, and test test\n",
        "\n",
        "## Next Steps\n",
        "* Answer business requirement 1:\n",
        "    * The client is interested in conducting a study to visually differentiate a cherry leaf that is healthy from one that contains powdery mildew"
      ],
      "cell_type": "markdown",
      "metadata": {}
    },
    {
      "attachments": {},
      "cell_type": "markdown",
      "metadata": {
        "id": "ltNetd085qHf"
      },
      "source": [
        "# Push files to Repo\n",
        "## Push generated/new files from this Session to GitHub repository"
      ]
    },
    {
      "attachments": {},
      "cell_type": "markdown",
      "metadata": {},
      "source": [
        "### .gitignore"
      ]
    },
    {
      "cell_type": "code",
      "execution_count": 14,
      "metadata": {
        "tags": []
      },
      "outputs": [
        {
          "output_type": "stream",
          "name": "stdout",
          "text": "core.Microsoft*\ncore.mongo*\ncore.python*\nenv.py\n__pycache__/\n*.py[cod]\nnode_modules/\n.github/\ncloudinary_python.txt\nkaggle.json\ninputs/mildew_dataset/cherry-leaves/test\ninputs/mildew_dataset/cherry-leaves/train\ninputs/mildew_dataset/cherry-leaves/validation"
        }
      ],
      "source": [
        "!cat .gitignore"
      ]
    },
    {
      "attachments": {},
      "cell_type": "markdown",
      "metadata": {},
      "source": [
        "### Git status"
      ]
    },
    {
      "cell_type": "code",
      "execution_count": 15,
      "metadata": {
        "tags": [
          "outputPrepend"
        ]
      },
      "outputs": [
        {
          "output_type": "stream",
          "name": "stdout",
          "text": "herry-leaves/train/powdery_mildew/74936000-efc2-47d4-8e31-8c59fcd17400___FREC_Pwd.M 0271.JPG\u001b[m\n\t\u001b[31mdeleted:    inputs/mildew_dataset/cherry-leaves/train/powdery_mildew/75819ffc-fe0c-4586-b925-e84c5a7c7528___FREC_Pwd.M 4563_flipLR.JPG\u001b[m\n\t\u001b[31mdeleted:    inputs/mildew_dataset/cherry-leaves/train/powdery_mildew/75e036a9-2c97-4b9a-816c-54424c51127a___FREC_Pwd.M 5013.JPG\u001b[m\n\t\u001b[31mdeleted:    inputs/mildew_dataset/cherry-leaves/train/powdery_mildew/7722c82b-13bd-44b0-aabd-dd37e8e02a6b___FREC_Pwd.M 5062.JPG\u001b[m\n\t\u001b[31mdeleted:    inputs/mildew_dataset/cherry-leaves/train/powdery_mildew/7722c82b-13bd-44b0-aabd-dd37e8e02a6b___FREC_Pwd.M 5062_flipLR.JPG\u001b[m\n\t\u001b[31mdeleted:    inputs/mildew_dataset/cherry-leaves/train/powdery_mildew/7899bce2-cd7e-4f46-b636-a7b350d2c9cb___FREC_Pwd.M 4585_flipLR.JPG\u001b[m\n\t\u001b[31mdeleted:    inputs/mildew_dataset/cherry-leaves/train/powdery_mildew/7a567828-29c4-47e9-8503-66cf4d211f68___FREC_Pwd.M 0352.JPG\u001b[m\n\t\u001b[31mdeleted:    inputs/mildew_dataset/cherry-leaves/train/powdery_mildew/7a67d9b7-02ee-4296-823f-5872dd55894c___FREC_Pwd.M 4746_flipLR.JPG\u001b[m\n\t\u001b[31mdeleted:    inputs/mildew_dataset/cherry-leaves/train/powdery_mildew/7c0ec329-c07a-4b09-bff4-516818141170___FREC_Pwd.M 4985.JPG\u001b[m\n\t\u001b[31mdeleted:    inputs/mildew_dataset/cherry-leaves/train/powdery_mildew/7d064d83-ccf6-4d7e-947f-885dea2c9b6f___FREC_Pwd.M 0281_flipLR.JPG\u001b[m\n\t\u001b[31mdeleted:    inputs/mildew_dataset/cherry-leaves/train/powdery_mildew/7d12ee5a-03ea-4fb4-9d11-0ef46304e29a___FREC_Pwd.M 5052.JPG\u001b[m\n\t\u001b[31mdeleted:    inputs/mildew_dataset/cherry-leaves/train/powdery_mildew/7d12ee5a-03ea-4fb4-9d11-0ef46304e29a___FREC_Pwd.M 5052_flipLR.JPG\u001b[m\n\t\u001b[31mdeleted:    inputs/mildew_dataset/cherry-leaves/train/powdery_mildew/7e573bd3-4a2d-4da4-a455-1232321bbc87___FREC_Pwd.M 4524.JPG\u001b[m\n\t\u001b[31mdeleted:    inputs/mildew_dataset/cherry-leaves/train/powdery_mildew/7fdf71f5-9de9-4a09-b8e4-a20d15c9b9af___FREC_Pwd.M 0417_flipLR.JPG\u001b[m\n\t\u001b[31mdeleted:    inputs/mildew_dataset/cherry-leaves/train/powdery_mildew/80b27199-5f5a-48e0-8dd0-f75cf23e1519___FREC_Pwd.M 4927_flipLR.JPG\u001b[m\n\t\u001b[31mdeleted:    inputs/mildew_dataset/cherry-leaves/train/powdery_mildew/81b931e2-acf0-4516-8ab4-e1173411dc60___FREC_Pwd.M 4725_flipLR.JPG\u001b[m\n\t\u001b[31mdeleted:    inputs/mildew_dataset/cherry-leaves/train/powdery_mildew/82cad357-576b-4e8f-9d46-8db17d592d4d___FREC_Pwd.M 0411.JPG\u001b[m\n\t\u001b[31mdeleted:    inputs/mildew_dataset/cherry-leaves/train/powdery_mildew/82d1cf96-b56d-4476-a14e-759319b473b8___FREC_Pwd.M 0519_flipLR.JPG\u001b[m\n\t\u001b[31mdeleted:    inputs/mildew_dataset/cherry-leaves/train/powdery_mildew/849207ab-f567-4567-b70e-2d34f5376a48___FREC_Pwd.M 0442.JPG\u001b[m\n\t\u001b[31mdeleted:    inputs/mildew_dataset/cherry-leaves/train/powdery_mildew/849207ab-f567-4567-b70e-2d34f5376a48___FREC_Pwd.M 0442_flipLR.JPG\u001b[m\n\t\u001b[31mdeleted:    inputs/mildew_dataset/cherry-leaves/train/powdery_mildew/849459ae-9c96-47da-875b-f79860c8e51b___FREC_Pwd.M 0320_flipLR.JPG\u001b[m\n\t\u001b[31mdeleted:    inputs/mildew_dataset/cherry-leaves/train/powdery_mildew/854a1985-0856-41a9-9f9a-2e1a5822e07c___FREC_Pwd.M 5079.JPG\u001b[m\n\t\u001b[31mdeleted:    inputs/mildew_dataset/cherry-leaves/train/powdery_mildew/86991f2d-b1e4-449a-b515-53f0bed5028b___FREC_Pwd.M 4716.JPG\u001b[m\n\t\u001b[31mdeleted:    inputs/mildew_dataset/cherry-leaves/train/powdery_mildew/87ef0359-61bf-4b11-8ae1-7e46e6e90750___FREC_Pwd.M 0535_flipLR.JPG\u001b[m\n\t\u001b[31mdeleted:    inputs/mildew_dataset/cherry-leaves/train/powdery_mildew/890379a9-f446-4f14-af25-bbf4a3544473___FREC_Pwd.M 0391.JPG\u001b[m\n\t\u001b[31mdeleted:    inputs/mildew_dataset/cherry-leaves/train/powdery_mildew/8a07cd65-72a0-4b6f-a393-7e2d3e3274d0___FREC_Pwd.M 4737_flipLR.JPG\u001b[m\n\t\u001b[31mdeleted:    inputs/mildew_dataset/cherry-leaves/train/powdery_mildew/8af92c46-f8c4-4b63-a9db-8718f2ac1dd4___FREC_Pwd.M 0438_flipLR.JPG\u001b[m\n\t\u001b[31mdeleted:    inputs/mildew_dataset/cherry-leaves/train/powdery_mildew/8b8c2681-e75e-452f-babe-04499e8160c5___FREC_Pwd.M 4507.JPG\u001b[m\n\t\u001b[31mdeleted:    inputs/mildew_dataset/cherry-leaves/train/powdery_mildew/8c59b0dd-1ea9-4c7f-a008-de5cafcbb91d___FREC_Pwd.M 4570.JPG\u001b[m\n\t\u001b[31mdeleted:    inputs/mildew_dataset/cherry-leaves/train/powdery_mildew/8cee5b79-cc5f-4be4-8900-588ec384b4b3___FREC_Pwd.M 4771.JPG\u001b[m\n\t\u001b[31mdeleted:    inputs/mildew_dataset/cherry-leaves/train/powdery_mildew/8e48b58c-cc17-4fb1-97bb-6c0d056ab4dc___FREC_Pwd.M 5031_flipLR.JPG\u001b[m\n\t\u001b[31mdeleted:    inputs/mildew_dataset/cherry-leaves/train/powdery_mildew/8ea23363-e8ad-4e80-a02e-1eb9b80e9a76___FREC_Pwd.M 5155_flipLR.JPG\u001b[m\n\t\u001b[31mdeleted:    inputs/mildew_dataset/cherry-leaves/train/powdery_mildew/902ca277-0bba-4a6d-a685-c5b1aa8fa4ec___FREC_Pwd.M 0448_flipLR.JPG\u001b[m\n\t\u001b[31mdeleted:    inputs/mildew_dataset/cherry-leaves/train/powdery_mildew/908003f7-4b82-4be9-9d9d-e2e8debb230e___FREC_Pwd.M 0453.JPG\u001b[m\n\t\u001b[31mdeleted:    inputs/mildew_dataset/cherry-leaves/train/powdery_mildew/910283ff-e130-48c1-9a7d-a379a90e8bf4___FREC_Pwd.M 0381_flipLR.JPG\u001b[m\n\t\u001b[31mdeleted:    inputs/mildew_dataset/cherry-leaves/train/powdery_mildew/91f27d9d-080a-4590-b72f-a85053f02d22___FREC_Pwd.M 0336.JPG\u001b[m\n\t\u001b[31mdeleted:    inputs/mildew_dataset/cherry-leaves/train/powdery_mildew/91f27d9d-080a-4590-b72f-a85053f02d22___FREC_Pwd.M 0336_flipLR.JPG\u001b[m\n\t\u001b[31mdeleted:    inputs/mildew_dataset/cherry-leaves/train/powdery_mildew/930823eb-ada1-49cf-873b-49574680c1f5___FREC_Pwd.M 4601_flipLR.JPG\u001b[m\n\t\u001b[31mdeleted:    inputs/mildew_dataset/cherry-leaves/train/powdery_mildew/94523c3e-044e-4bec-9850-297de335cdf6___FREC_Pwd.M 5070.JPG\u001b[m\n\t\u001b[31mdeleted:    inputs/mildew_dataset/cherry-leaves/train/powdery_mildew/94523c3e-044e-4bec-9850-297de335cdf6___FREC_Pwd.M 5070_flipLR.JPG\u001b[m\n\t\u001b[31mdeleted:    inputs/mildew_dataset/cherry-leaves/train/powdery_mildew/9573e36f-a55b-4011-87bb-dadd511b8f7d___FREC_Pwd.M 4639_flipLR.JPG\u001b[m\n\t\u001b[31mdeleted:    inputs/mildew_dataset/cherry-leaves/train/powdery_mildew/95b8a1fa-d992-4cf4-a6e4-0a342b7ac4ee___FREC_Pwd.M 4501.JPG\u001b[m\n\t\u001b[31mdeleted:    inputs/mildew_dataset/cherry-leaves/train/powdery_mildew/9c08c34d-49d5-4319-ab41-9221d51c4de4___FREC_Pwd.M 4618.JPG\u001b[m\n\t\u001b[31mdeleted:    inputs/mildew_dataset/cherry-leaves/train/powdery_mildew/9c809051-23f7-4159-81aa-4d7f596535f0___FREC_Pwd.M 5019.JPG\u001b[m\n\t\u001b[31mdeleted:    inputs/mildew_dataset/cherry-leaves/train/powdery_mildew/9d41e7d1-9410-460f-b2e2-2141c0c4e42b___FREC_Pwd.M 0302.JPG\u001b[m\n\t\u001b[31mdeleted:    inputs/mildew_dataset/cherry-leaves/train/powdery_mildew/9d9c0c1a-fd2b-4563-b5c6-e393e4fd8b09___FREC_Pwd.M 4803.JPG\u001b[m\n\t\u001b[31mdeleted:    inputs/mildew_dataset/cherry-leaves/train/powdery_mildew/9e2c02c8-8f21-4ddc-98e3-a653a4660db5___FREC_Pwd.M 5076_flipLR.JPG\u001b[m\n\t\u001b[31mdeleted:    inputs/mildew_dataset/cherry-leaves/train/powdery_mildew/a00c665f-2c4b-42b1-9e36-a77a129c79da___FREC_Pwd.M 0301.JPG\u001b[m\n\t\u001b[31mdeleted:    inputs/mildew_dataset/cherry-leaves/train/powdery_mildew/a3e55d23-0e8e-4653-b037-0ee783a5ca84___FREC_Pwd.M 4905_flipLR.JPG\u001b[m\n\t\u001b[31mdeleted:    inputs/mildew_dataset/cherry-leaves/train/powdery_mildew/a55a9be1-cecc-4a09-a30a-fdf435945dd1___FREC_Pwd.M 4500_flipLR.JPG\u001b[m\n\t\u001b[31mdeleted:    inputs/mildew_dataset/cherry-leaves/train/powdery_mildew/a5fa9413-8503-4da7-8845-345402c4004f___FREC_Pwd.M 4861.JPG\u001b[m\n\t\u001b[31mdeleted:    inputs/mildew_dataset/cherry-leaves/train/powdery_mildew/a84e8ae1-cd86-43a2-b014-86ed8fbc0ad6___FREC_Pwd.M 5136.JPG\u001b[m\n\t\u001b[31mdeleted:    inputs/mildew_dataset/cherry-leaves/train/powdery_mildew/a8532f9d-c6c3-44e4-9278-c7350c4adb09___FREC_Pwd.M 0526_flipLR.JPG\u001b[m\n\t\u001b[31mdeleted:    inputs/mildew_dataset/cherry-leaves/train/powdery_mildew/a928b766-fc8f-4329-89ab-3c2d3d57a5bd___FREC_Pwd.M 4751_flipLR.JPG\u001b[m\n\t\u001b[31mdeleted:    inputs/mildew_dataset/cherry-leaves/train/powdery_mildew/a993dae5-7b74-4416-87eb-2eea9f3609c4___FREC_Pwd.M 4499.JPG\u001b[m\n\t\u001b[31mdeleted:    inputs/mildew_dataset/cherry-leaves/train/powdery_mildew/a9d9b490-8493-42b5-93db-0ddf26ea7641___FREC_Pwd.M 4735.JPG\u001b[m\n\t\u001b[31mdeleted:    inputs/mildew_dataset/cherry-leaves/train/powdery_mildew/a9d9b490-8493-42b5-93db-0ddf26ea7641___FREC_Pwd.M 4735_flipLR.JPG\u001b[m\n\t\u001b[31mdeleted:    inputs/mildew_dataset/cherry-leaves/train/powdery_mildew/aa04b9b8-28e8-4dcb-bbff-8d86ec6168a1___FREC_Pwd.M 4782.JPG\u001b[m\n\t\u001b[31mdeleted:    inputs/mildew_dataset/cherry-leaves/train/powdery_mildew/abf1a32b-a125-44f8-aadc-79b2d5d3b4a2___FREC_Pwd.M 5127_flipLR.JPG\u001b[m\n\t\u001b[31mdeleted:    inputs/mildew_dataset/cherry-leaves/train/powdery_mildew/ac3e6824-a60e-4c8f-a844-4e97abc983a7___FREC_Pwd.M 4801_flipLR.JPG\u001b[m\n\t\u001b[31mdeleted:    inputs/mildew_dataset/cherry-leaves/train/powdery_mildew/ad7637de-7c1f-4ec7-a3d6-14032337a6c3___FREC_Pwd.M 5163.JPG\u001b[m\n\t\u001b[31mdeleted:    inputs/mildew_dataset/cherry-leaves/train/powdery_mildew/af17d4b3-3193-4f16-9449-28cd5a204499___FREC_Pwd.M 5058.JPG\u001b[m\n\t\u001b[31mdeleted:    inputs/mildew_dataset/cherry-leaves/train/powdery_mildew/af36d4bf-c90e-4bbb-b800-575f1dfed7e5___FREC_Pwd.M 4677_flipLR.JPG\u001b[m\n\t\u001b[31mdeleted:    inputs/mildew_dataset/cherry-leaves/train/powdery_mildew/af3b3555-7227-48d6-be31-e6b1085229aa___FREC_Pwd.M 4599.JPG\u001b[m\n\t\u001b[31mdeleted:    inputs/mildew_dataset/cherry-leaves/train/powdery_mildew/b09e4052-bc5a-4f9a-a2f0-c27698a94b50___FREC_Pwd.M 0451.JPG\u001b[m\n\t\u001b[31mdeleted:    inputs/mildew_dataset/cherry-leaves/train/powdery_mildew/b1db081a-33e4-4a6a-96ee-07ab2369c0f1___FREC_Pwd.M 4932_flipLR.JPG\u001b[m\n\t\u001b[31mdeleted:    inputs/mildew_dataset/cherry-leaves/train/powdery_mildew/b23040ac-f265-4265-9c33-6bf29e52398b___FREC_Pwd.M 0549.JPG\u001b[m\n\t\u001b[31mdeleted:    inputs/mildew_dataset/cherry-leaves/train/powdery_mildew/b3aa0d92-9de0-4889-b95d-124b035c05a2___FREC_Pwd.M 4675.JPG\u001b[m\n\t\u001b[31mdeleted:    inputs/mildew_dataset/cherry-leaves/train/powdery_mildew/b3e33cf2-c3ab-4ad1-9194-6e394554a340___FREC_Pwd.M 4614_flipLR.JPG\u001b[m\n\t\u001b[31mdeleted:    inputs/mildew_dataset/cherry-leaves/train/powdery_mildew/b4d8a3ca-dd23-499c-bb76-d8b94ab59a47___FREC_Pwd.M 4767.JPG\u001b[m\n\t\u001b[31mdeleted:    inputs/mildew_dataset/cherry-leaves/train/powdery_mildew/b67c84bb-04cb-41f3-bb91-0f7f32fc5f1e___FREC_Pwd.M 5035_flipLR.JPG\u001b[m\n\t\u001b[31mdeleted:    inputs/mildew_dataset/cherry-leaves/train/powdery_mildew/ba199443-ad8d-48a9-8fd6-c9a487f51f32___FREC_Pwd.M 0277_flipLR.JPG\u001b[m\n\t\u001b[31mdeleted:    inputs/mildew_dataset/cherry-leaves/train/powdery_mildew/bae7b830-aac4-475a-94de-457115b1a8ee___FREC_Pwd.M 4895.JPG\u001b[m\n\t\u001b[31mdeleted:    inputs/mildew_dataset/cherry-leaves/train/powdery_mildew/baf48061-d4ee-45b3-8806-d26ad15bb8ad___FREC_Pwd.M 0328_flipLR.JPG\u001b[m\n\t\u001b[31mdeleted:    inputs/mildew_dataset/cherry-leaves/train/powdery_mildew/bb0f65f7-37b4-4c6a-a4be-18a91d2cae16___FREC_Pwd.M 5024.JPG\u001b[m\n\t\u001b[31mdeleted:    inputs/mildew_dataset/cherry-leaves/train/powdery_mildew/bf5d1d44-32b5-4e50-8bac-a2db6855ab61___FREC_Pwd.M 5129_flipLR.JPG\u001b[m\n\t\u001b[31mdeleted:    inputs/mildew_dataset/cherry-leaves/train/powdery_mildew/bfa2932f-7203-4a9c-99e7-bb0a4d887cd6___FREC_Pwd.M 4515.JPG\u001b[m\n\t\u001b[31mdeleted:    inputs/mildew_dataset/cherry-leaves/train/powdery_mildew/c097e7ca-2488-497c-94be-4646e950bc54___FREC_Pwd.M 4513_flipLR.JPG\u001b[m\n\t\u001b[31mdeleted:    inputs/mildew_dataset/cherry-leaves/train/powdery_mildew/c10fbf4c-baa3-4242-956a-a6262f6b1bf3___FREC_Pwd.M 5037.JPG\u001b[m\n\t\u001b[31mdeleted:    inputs/mildew_dataset/cherry-leaves/train/powdery_mildew/c11965f5-8920-4266-9f47-5dce992bd4c6___FREC_Pwd.M 4525_flipLR.JPG\u001b[m\n\t\u001b[31mdeleted:    inputs/mildew_dataset/cherry-leaves/train/powdery_mildew/c152243f-9bca-41c7-8729-32070a297d54___FREC_Pwd.M 0248_flipLR.JPG\u001b[m\n\t\u001b[31mdeleted:    inputs/mildew_dataset/cherry-leaves/train/powdery_mildew/c327e44c-a0df-4811-89da-af4a761aeefb___FREC_Pwd.M 0380.JPG\u001b[m\n\t\u001b[31mdeleted:    inputs/mildew_dataset/cherry-leaves/train/powdery_mildew/c3479a74-e0e1-40ae-ba1c-47d06fce3f0a___FREC_Pwd.M 4629_flipLR.JPG\u001b[m\n\t\u001b[31mdeleted:    inputs/mildew_dataset/cherry-leaves/train/powdery_mildew/c3e1ea3d-8fb8-4ebe-8b3c-20bdf02a8038___FREC_Pwd.M 5125_flipLR.JPG\u001b[m\n\t\u001b[31mdeleted:    inputs/mildew_dataset/cherry-leaves/train/powdery_mildew/c4318f33-d75f-421e-a2f8-68afdcc678b9___FREC_Pwd.M 0394_flipLR.JPG\u001b[m\n\t\u001b[31mdeleted:    inputs/mildew_dataset/cherry-leaves/train/powdery_mildew/c48bbceb-9d7d-4793-a520-d40142ea1705___FREC_Pwd.M 0429_flipLR.JPG\u001b[m\n\t\u001b[31mdeleted:    inputs/mildew_dataset/cherry-leaves/train/powdery_mildew/c7f47cac-6806-4522-8e64-b633250cedfc___FREC_Pwd.M 5164.JPG\u001b[m\n\t\u001b[31mdeleted:    inputs/mildew_dataset/cherry-leaves/train/powdery_mildew/c86a51cc-d1a2-4fb2-b6b5-2866331631e9___FREC_Pwd.M 5089.JPG\u001b[m\n\t\u001b[31mdeleted:    inputs/mildew_dataset/cherry-leaves/train/powdery_mildew/ca162857-f5db-4adf-88b3-5c4765036068___FREC_Pwd.M 4797.JPG\u001b[m\n\t\u001b[31mdeleted:    inputs/mildew_dataset/cherry-leaves/train/powdery_mildew/cd4b605b-2ca6-4a6c-8c32-9115ec106c1d___FREC_Pwd.M 5017.JPG\u001b[m\n\t\u001b[31mdeleted:    inputs/mildew_dataset/cherry-leaves/train/powdery_mildew/cda8f219-224d-4da2-a829-05384c1bb53a___FREC_Pwd.M 5012_flipLR.JPG\u001b[m\n\t\u001b[31mdeleted:    inputs/mildew_dataset/cherry-leaves/train/powdery_mildew/cf98e1fd-1f1b-4f21-b485-d37a7b594965___FREC_Pwd.M 0503.JPG\u001b[m\n\t\u001b[31mdeleted:    inputs/mildew_dataset/cherry-leaves/train/powdery_mildew/d03d9ea1-7be8-4501-bb94-271f2a593865___FREC_Pwd.M 5051.JPG\u001b[m\n\t\u001b[31mdeleted:    inputs/mildew_dataset/cherry-leaves/train/powdery_mildew/d1ba4536-2485-4096-a4a9-b29ee62d05d6___FREC_Pwd.M 0344_flipLR.JPG\u001b[m\n\t\u001b[31mdeleted:    inputs/mildew_dataset/cherry-leaves/train/powdery_mildew/d1ccd6ea-f7cd-45a5-801d-5aeed1c13cb6___FREC_Pwd.M 4974_flipLR.JPG\u001b[m\n\t\u001b[31mdeleted:    inputs/mildew_dataset/cherry-leaves/train/powdery_mildew/d46523ec-cfbe-42dd-a60e-79e2e58598bd___FREC_Pwd.M 4506_flipLR.JPG\u001b[m\n\t\u001b[31mdeleted:    inputs/mildew_dataset/cherry-leaves/train/powdery_mildew/d5a1ac22-21ee-48d8-b5a0-1fb3b788a4b5___FREC_Pwd.M 5159.JPG\u001b[m\n\t\u001b[31mdeleted:    inputs/mildew_dataset/cherry-leaves/train/powdery_mildew/d6ee77c1-4959-4d8f-9f4c-bd797de9bf5d___FREC_Pwd.M 5064_flipLR.JPG\u001b[m\n\t\u001b[31mdeleted:    inputs/mildew_dataset/cherry-leaves/train/powdery_mildew/d8972cd7-999e-44c5-ac22-5ef2d595cd83___FREC_Pwd.M 4658_flipLR.JPG\u001b[m\n\t\u001b[31mdeleted:    inputs/mildew_dataset/cherry-leaves/train/powdery_mildew/d92a47e9-a0b3-40d4-a515-b4dc7e27a3aa___FREC_Pwd.M 4587.JPG\u001b[m\n\t\u001b[31mdeleted:    inputs/mildew_dataset/cherry-leaves/train/powdery_mildew/da2dd4af-37c1-4951-8fd3-e869cd3007b9___FREC_Pwd.M 4976.JPG\u001b[m\n\t\u001b[31mdeleted:    inputs/mildew_dataset/cherry-leaves/train/powdery_mildew/dea9ce8a-30b3-47cd-bb96-29e648896c8f___FREC_Pwd.M 4947_flipLR.JPG\u001b[m\n\t\u001b[31mdeleted:    inputs/mildew_dataset/cherry-leaves/train/powdery_mildew/decee4a0-018b-47bf-abf6-75bdfb5bc67d___FREC_Pwd.M 4700.JPG\u001b[m\n\t\u001b[31mdeleted:    inputs/mildew_dataset/cherry-leaves/train/powdery_mildew/df3b03bf-41bf-444f-a0f4-2819282830b5___FREC_Pwd.M 4548.JPG\u001b[m\n\t\u001b[31mdeleted:    inputs/mildew_dataset/cherry-leaves/train/powdery_mildew/dffc80c0-ea6e-4122-8be4-c140a0dee06e___FREC_Pwd.M 4581.JPG\u001b[m\n\t\u001b[31mdeleted:    inputs/mildew_dataset/cherry-leaves/train/powdery_mildew/e2a982d2-166f-4e9c-a869-50f52dce5315___FREC_Pwd.M 4973.JPG\u001b[m\n\t\u001b[31mdeleted:    inputs/mildew_dataset/cherry-leaves/train/powdery_mildew/e351c2d8-2fad-49af-9994-7d4f95cbf1e2___FREC_Pwd.M 5033_flipLR.JPG\u001b[m\n\t\u001b[31mdeleted:    inputs/mildew_dataset/cherry-leaves/train/powdery_mildew/e3e0ee86-1cf9-449c-8cba-7ad0b0cd4488___FREC_Pwd.M 0460.JPG\u001b[m\n\t\u001b[31mdeleted:    inputs/mildew_dataset/cherry-leaves/train/powdery_mildew/e567184a-cee1-4eb4-be59-429da00b17d8___FREC_Pwd.M 4465_flipLR.JPG\u001b[m\n\t\u001b[31mdeleted:    inputs/mildew_dataset/cherry-leaves/train/powdery_mildew/e57a51c0-d0c0-46a1-a298-4c9cfd0337e2___FREC_Pwd.M 4778_flipLR.JPG\u001b[m\n\t\u001b[31mdeleted:    inputs/mildew_dataset/cherry-leaves/train/powdery_mildew/e6cff815-c0e5-4a03-b0b1-baada088b7e9___FREC_Pwd.M 4960.JPG\u001b[m\n\t\u001b[31mdeleted:    inputs/mildew_dataset/cherry-leaves/train/powdery_mildew/e794c6d4-20ea-4643-87dc-34f87db6cafd___FREC_Pwd.M 4967_flipLR.JPG\u001b[m\n\t\u001b[31mdeleted:    inputs/mildew_dataset/cherry-leaves/train/powdery_mildew/ea7682b0-f644-40a7-95b1-83cb41265907___FREC_Pwd.M 4872_flipLR.JPG\u001b[m\n\t\u001b[31mdeleted:    inputs/mildew_dataset/cherry-leaves/train/powdery_mildew/ecfc88e0-c886-4d98-9c8d-85607133e922___FREC_Pwd.M 5027.JPG\u001b[m\n\t\u001b[31mdeleted:    inputs/mildew_dataset/cherry-leaves/train/powdery_mildew/eda6b430-2afb-48fa-92c9-74b0f8fba167___FREC_Pwd.M 4508_flipLR.JPG\u001b[m\n\t\u001b[31mdeleted:    inputs/mildew_dataset/cherry-leaves/train/powdery_mildew/edbf37ef-ad85-444e-81ad-e35f45282342___FREC_Pwd.M 4545.JPG\u001b[m\n\t\u001b[31mdeleted:    inputs/mildew_dataset/cherry-leaves/train/powdery_mildew/ee6035b6-8ac1-49db-8ea5-079ccea4790d___FREC_Pwd.M 4590.JPG\u001b[m\n\t\u001b[31mdeleted:    inputs/mildew_dataset/cherry-leaves/train/powdery_mildew/ef4c52e5-d7d8-4996-b445-42478df2c353___FREC_Pwd.M 0584.JPG\u001b[m\n\t\u001b[31mdeleted:    inputs/mildew_dataset/cherry-leaves/train/powdery_mildew/f17ab455-9f71-4eb0-b9dc-f4c5604893e1___FREC_Pwd.M 4647_flipLR.JPG\u001b[m\n\t\u001b[31mdeleted:    inputs/mildew_dataset/cherry-leaves/train/powdery_mildew/f34e2369-095d-45a6-8407-0272da9aeaef___FREC_Pwd.M 4920.JPG\u001b[m\n\t\u001b[31mdeleted:    inputs/mildew_dataset/cherry-leaves/train/powdery_mildew/f38f68c9-d944-4308-89f3-d77eae66da95___FREC_Pwd.M 4692.JPG\u001b[m\n\t\u001b[31mdeleted:    inputs/mildew_dataset/cherry-leaves/train/powdery_mildew/f3ca4413-77d8-4e46-8c5b-399a1d34c8f9___FREC_Pwd.M 0482_flipLR.JPG\u001b[m\n\t\u001b[31mdeleted:    inputs/mildew_dataset/cherry-leaves/train/powdery_mildew/f4021e21-1d79-4eac-a128-3e67ce8d51b4___FREC_Pwd.M 4896.JPG\u001b[m\n\t\u001b[31mdeleted:    inputs/mildew_dataset/cherry-leaves/train/powdery_mildew/f42d7be6-3df3-4590-8941-de9634a81215___FREC_Pwd.M 4612.JPG\u001b[m\n\t\u001b[31mdeleted:    inputs/mildew_dataset/cherry-leaves/train/powdery_mildew/f42d7be6-3df3-4590-8941-de9634a81215___FREC_Pwd.M 4612_flipLR.JPG\u001b[m\n\t\u001b[31mdeleted:    inputs/mildew_dataset/cherry-leaves/train/powdery_mildew/f4945a45-108e-44d3-926c-969a538ec7e7___FREC_Pwd.M 4470.JPG\u001b[m\n\t\u001b[31mdeleted:    inputs/mildew_dataset/cherry-leaves/train/powdery_mildew/f4b0bedb-975d-484c-8e38-42c8ed478474___FREC_Pwd.M 4873_flipLR.JPG\u001b[m\n\t\u001b[31mdeleted:    inputs/mildew_dataset/cherry-leaves/train/powdery_mildew/f5984d40-8f9d-4947-999e-7e146441e9c9___FREC_Pwd.M 4703.JPG\u001b[m\n\t\u001b[31mdeleted:    inputs/mildew_dataset/cherry-leaves/train/powdery_mildew/f5e8d671-c487-4253-993f-42bd260e615c___FREC_Pwd.M 4958.JPG\u001b[m\n\t\u001b[31mdeleted:    inputs/mildew_dataset/cherry-leaves/train/powdery_mildew/f7d72dfe-0b0c-44a2-96b3-fd588eb10b12___FREC_Pwd.M 0500_flipLR.JPG\u001b[m\n\t\u001b[31mdeleted:    inputs/mildew_dataset/cherry-leaves/train/powdery_mildew/f8541ff1-4f29-4c2a-8ee6-8ac486706f6c___FREC_Pwd.M 4535_flipLR.JPG\u001b[m\n\t\u001b[31mdeleted:    inputs/mildew_dataset/cherry-leaves/train/powdery_mildew/f8dd4a75-9b51-4d3a-8774-817bff84b1a7___FREC_Pwd.M 0570_flipLR.JPG\u001b[m\n\t\u001b[31mdeleted:    inputs/mildew_dataset/cherry-leaves/train/powdery_mildew/fbc52151-4c04-430b-a188-a03b17d93d0d___FREC_Pwd.M 0266.JPG\u001b[m\n\t\u001b[31mdeleted:    inputs/mildew_dataset/cherry-leaves/train/powdery_mildew/fc5a6065-20bd-440d-92fd-03457bdb8614___FREC_Pwd.M 4589.JPG\u001b[m\n\t\u001b[31mdeleted:    inputs/mildew_dataset/cherry-leaves/train/powdery_mildew/fccd6a7d-673f-4cf5-a136-97cc303e00bb___FREC_Pwd.M 4653_flipLR.JPG\u001b[m\n\t\u001b[31mdeleted:    inputs/mildew_dataset/cherry-leaves/train/powdery_mildew/fd437fb9-f319-4f40-9142-b8800bccd21e___FREC_Pwd.M 5142_flipLR.JPG\u001b[m\n\t\u001b[31mdeleted:    inputs/mildew_dataset/cherry-leaves/train/powdery_mildew/fd7fbe5c-d234-4c16-b587-faed3407e2dd___FREC_Pwd.M 0474.JPG\u001b[m\n\t\u001b[31mdeleted:    inputs/mildew_dataset/cherry-leaves/train/powdery_mildew/ffdeb404-b84d-4389-9cc9-e1d3159374fe___FREC_Pwd.M 4625.JPG\u001b[m\n\t\u001b[31mdeleted:    inputs/mildew_dataset/cherry-leaves/validation/healthy/3e74368a-4e0c-4b68-babd-7d09ce166cee___JR_HL 9452.JPG\u001b[m\n\t\u001b[31mdeleted:    inputs/mildew_dataset/cherry-leaves/validation/powdery_mildew/4e37a789-6cb3-4721-ad87-1a60f0d14912___FREC_Pwd.M 4836.JPG\u001b[m\n\t\u001b[31mdeleted:    inputs/mildew_dataset/cherry-leaves/validation/powdery_mildew/7054a175-341f-47e7-b948-1db7dd713ff1___FREC_Pwd.M 4605.JPG\u001b[m\n\t\u001b[31mmodified:   jupyter_notebooks/data_aug_model.ipynb\u001b[m\n\t\u001b[31mmodified:   jupyter_notebooks/data_collection.ipynb\u001b[m\n\t\u001b[31mmodified:   jupyter_notebooks/data_visualization.ipynb\u001b[m\n\nno changes added to commit (use \"git add\" and/or \"git commit -a\")\n"
        }
      ],
      "source": [
        "!git status"
      ]
    },
    {
      "attachments": {},
      "cell_type": "markdown",
      "metadata": {},
      "source": [
        "### Git add"
      ]
    },
    {
      "cell_type": "code",
      "execution_count": 16,
      "metadata": {},
      "outputs": [],
      "source": [
        "!git add ."
      ]
    },
    {
      "attachments": {},
      "cell_type": "markdown",
      "metadata": {},
      "source": [
        "### Git commit"
      ]
    },
    {
      "cell_type": "code",
      "execution_count": null,
      "metadata": {
        "tags": [
          "outputPrepend"
        ]
      },
      "outputs": [],
      "source": [
        "!git commit -am \"Add data collection\""
      ]
    },
    {
      "attachments": {},
      "cell_type": "markdown",
      "metadata": {},
      "source": [
        "### Git Push"
      ]
    },
    {
      "cell_type": "code",
      "execution_count": null,
      "metadata": {
        "tags": []
      },
      "outputs": [],
      "source": [
        "! git push"
      ]
    }
  ],
  "metadata": {
    "accelerator": "GPU",
    "colab": {
      "name": "Data Practitioner Jupyter Notebook.ipynb",
      "provenance": [],
      "toc_visible": true
    },
    "interpreter": {
      "hash": "8b8334dab9339717f727a1deaf837b322d7a41c20d15cc86be99a8e69ceec8ce"
    },
    "kernelspec": {
      "display_name": "Python 3.8.12 64-bit ('3.8.12': pyenv)",
      "name": "python381264bit3812pyenva1b6cf8ce7a64c2aa0a54024ae981b51"
    },
    "language_info": {
      "codemirror_mode": {
        "name": "ipython",
        "version": 3
      },
      "file_extension": ".py",
      "mimetype": "text/x-python",
      "name": "python",
      "nbconvert_exporter": "python",
      "pygments_lexer": "ipython3",
      "version": "3.8.12-final"
    },
    "orig_nbformat": 2
  },
  "nbformat": 4,
  "nbformat_minor": 2
}