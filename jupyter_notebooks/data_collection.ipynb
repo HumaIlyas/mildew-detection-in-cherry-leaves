{
  "cells": [
    {
      "attachments": {},
      "cell_type": "markdown",
      "metadata": {
        "id": "0aStgWSO0E0E"
      },
      "source": [
        "# **Data Collection - Fetch Dataset from Kaggle**"
      ]
    },
    {
      "attachments": {},
      "cell_type": "markdown",
      "metadata": {
        "id": "1eLEkw5O0ECa"
      },
      "source": [
        "## Objectives\n",
        "* Fetch data from Kaggle and save as raw data to prepare it for further processes.\n",
        "\n",
        "## Inputs\n",
        "* Kaggle JSON file - the authentication token \n",
        "\n",
        "## Outputs\n",
        "* Generate Dataset: inputs/mildew_dataset/cherry-leaves \n",
        "\n",
        "## Additional Comments\n",
        "* The client provided the data under an NDA (non-disclosure agreement), therefore the data should only be shared with professionals that are officially involved in the project.\n",
        "\n"
      ]
    },
    {
      "attachments": {},
      "cell_type": "markdown",
      "metadata": {},
      "source": [
        "## Import pagkages"
      ]
    },
    {
      "cell_type": "code",
      "execution_count": 1,
      "metadata": {
        "tags": [
          "outputPrepend"
        ]
      },
      "outputs": [
        {
          "output_type": "stream",
          "name": "stdout",
          "text": "ent already satisfied: pyparsing!=2.0.4,!=2.1.2,!=2.1.6,>=2.0.3 in /home/codeany/.pyenv/versions/3.8.12/lib/python3.8/site-packages (from matplotlib==3.3.1->-r /workspaces/mildew-detection-in-cherry-leaves/requirements.txt (line 3)) (3.1.0)\nRequirement already satisfied: scipy>=1.0 in /home/codeany/.pyenv/versions/3.8.12/lib/python3.8/site-packages (from seaborn==0.11.0->-r /workspaces/mildew-detection-in-cherry-leaves/requirements.txt (line 4)) (1.9.3)\nRequirement already satisfied: retrying>=1.3.3 in /home/codeany/.pyenv/versions/3.8.12/lib/python3.8/site-packages (from plotly==4.12.0->-r /workspaces/mildew-detection-in-cherry-leaves/requirements.txt (line 5)) (1.3.4)\nRequirement already satisfied: six in /home/codeany/.pyenv/versions/3.8.12/lib/python3.8/site-packages (from plotly==4.12.0->-r /workspaces/mildew-detection-in-cherry-leaves/requirements.txt (line 5)) (1.15.0)\nRequirement already satisfied: altair>=3.2.0 in /home/codeany/.pyenv/versions/3.8.12/lib/python3.8/site-packages (from streamlit==0.85.0->-r /workspaces/mildew-detection-in-cherry-leaves/requirements.txt (line 7)) (4.2.2)\nRequirement already satisfied: astor in /home/codeany/.pyenv/versions/3.8.12/lib/python3.8/site-packages (from streamlit==0.85.0->-r /workspaces/mildew-detection-in-cherry-leaves/requirements.txt (line 7)) (0.8.1)\nRequirement already satisfied: attrs in /home/codeany/.pyenv/versions/3.8.12/lib/python3.8/site-packages (from streamlit==0.85.0->-r /workspaces/mildew-detection-in-cherry-leaves/requirements.txt (line 7)) (23.1.0)\nRequirement already satisfied: base58 in /home/codeany/.pyenv/versions/3.8.12/lib/python3.8/site-packages (from streamlit==0.85.0->-r /workspaces/mildew-detection-in-cherry-leaves/requirements.txt (line 7)) (2.1.1)\nRequirement already satisfied: blinker in /home/codeany/.pyenv/versions/3.8.12/lib/python3.8/site-packages (from streamlit==0.85.0->-r /workspaces/mildew-detection-in-cherry-leaves/requirements.txt (line 7)) (1.6.2)\nRequirement already satisfied: cachetools>=4.0 in /home/codeany/.pyenv/versions/3.8.12/lib/python3.8/site-packages (from streamlit==0.85.0->-r /workspaces/mildew-detection-in-cherry-leaves/requirements.txt (line 7)) (5.3.1)\nRequirement already satisfied: click<8.0,>=7.0 in /home/codeany/.pyenv/versions/3.8.12/lib/python3.8/site-packages (from streamlit==0.85.0->-r /workspaces/mildew-detection-in-cherry-leaves/requirements.txt (line 7)) (7.1.2)\nRequirement already satisfied: packaging in /home/codeany/.pyenv/versions/3.8.12/lib/python3.8/site-packages (from streamlit==0.85.0->-r /workspaces/mildew-detection-in-cherry-leaves/requirements.txt (line 7)) (23.1)\nRequirement already satisfied: pyarrow in /home/codeany/.pyenv/versions/3.8.12/lib/python3.8/site-packages (from streamlit==0.85.0->-r /workspaces/mildew-detection-in-cherry-leaves/requirements.txt (line 7)) (12.0.1)\nRequirement already satisfied: pydeck>=0.1.dev5 in /home/codeany/.pyenv/versions/3.8.12/lib/python3.8/site-packages (from streamlit==0.85.0->-r /workspaces/mildew-detection-in-cherry-leaves/requirements.txt (line 7)) (0.8.1b0)\nRequirement already satisfied: requests in /home/codeany/.pyenv/versions/3.8.12/lib/python3.8/site-packages (from streamlit==0.85.0->-r /workspaces/mildew-detection-in-cherry-leaves/requirements.txt (line 7)) (2.31.0)\nRequirement already satisfied: toml in /home/codeany/.pyenv/versions/3.8.12/lib/python3.8/site-packages (from streamlit==0.85.0->-r /workspaces/mildew-detection-in-cherry-leaves/requirements.txt (line 7)) (0.10.2)\nRequirement already satisfied: tornado>=5.0 in /home/codeany/.pyenv/versions/3.8.12/lib/python3.8/site-packages (from streamlit==0.85.0->-r /workspaces/mildew-detection-in-cherry-leaves/requirements.txt (line 7)) (6.3.2)\nRequirement already satisfied: tzlocal in /home/codeany/.pyenv/versions/3.8.12/lib/python3.8/site-packages (from streamlit==0.85.0->-r /workspaces/mildew-detection-in-cherry-leaves/requirements.txt (line 7)) (5.0.1)\nRequirement already satisfied: validators in /home/codeany/.pyenv/versions/3.8.12/lib/python3.8/site-packages (from streamlit==0.85.0->-r /workspaces/mildew-detection-in-cherry-leaves/requirements.txt (line 7)) (0.20.0)\nRequirement already satisfied: gitpython in /home/codeany/.pyenv/versions/3.8.12/lib/python3.8/site-packages (from streamlit==0.85.0->-r /workspaces/mildew-detection-in-cherry-leaves/requirements.txt (line 7)) (3.1.31)\nRequirement already satisfied: watchdog in /home/codeany/.pyenv/versions/3.8.12/lib/python3.8/site-packages (from streamlit==0.85.0->-r /workspaces/mildew-detection-in-cherry-leaves/requirements.txt (line 7)) (3.0.0)\nRequirement already satisfied: joblib>=0.11 in /home/codeany/.pyenv/versions/3.8.12/lib/python3.8/site-packages (from scikit-learn==0.24.2->-r /workspaces/mildew-detection-in-cherry-leaves/requirements.txt (line 9)) (1.2.0)\nRequirement already satisfied: threadpoolctl>=2.0.0 in /home/codeany/.pyenv/versions/3.8.12/lib/python3.8/site-packages (from scikit-learn==0.24.2->-r /workspaces/mildew-detection-in-cherry-leaves/requirements.txt (line 9)) (3.1.0)\nRequirement already satisfied: absl-py~=0.10 in /home/codeany/.pyenv/versions/3.8.12/lib/python3.8/site-packages (from tensorflow-cpu==2.6.0->-r /workspaces/mildew-detection-in-cherry-leaves/requirements.txt (line 10)) (0.15.0)\nRequirement already satisfied: astunparse~=1.6.3 in /home/codeany/.pyenv/versions/3.8.12/lib/python3.8/site-packages (from tensorflow-cpu==2.6.0->-r /workspaces/mildew-detection-in-cherry-leaves/requirements.txt (line 10)) (1.6.3)\nRequirement already satisfied: clang~=5.0 in /home/codeany/.pyenv/versions/3.8.12/lib/python3.8/site-packages (from tensorflow-cpu==2.6.0->-r /workspaces/mildew-detection-in-cherry-leaves/requirements.txt (line 10)) (5.0)\nRequirement already satisfied: flatbuffers~=1.12.0 in /home/codeany/.pyenv/versions/3.8.12/lib/python3.8/site-packages (from tensorflow-cpu==2.6.0->-r /workspaces/mildew-detection-in-cherry-leaves/requirements.txt (line 10)) (1.12)\nRequirement already satisfied: google-pasta~=0.2 in /home/codeany/.pyenv/versions/3.8.12/lib/python3.8/site-packages (from tensorflow-cpu==2.6.0->-r /workspaces/mildew-detection-in-cherry-leaves/requirements.txt (line 10)) (0.2.0)\nRequirement already satisfied: h5py~=3.1.0 in /home/codeany/.pyenv/versions/3.8.12/lib/python3.8/site-packages (from tensorflow-cpu==2.6.0->-r /workspaces/mildew-detection-in-cherry-leaves/requirements.txt (line 10)) (3.1.0)\nRequirement already satisfied: keras-preprocessing~=1.1.2 in /home/codeany/.pyenv/versions/3.8.12/lib/python3.8/site-packages (from tensorflow-cpu==2.6.0->-r /workspaces/mildew-detection-in-cherry-leaves/requirements.txt (line 10)) (1.1.2)\nRequirement already satisfied: opt-einsum~=3.3.0 in /home/codeany/.pyenv/versions/3.8.12/lib/python3.8/site-packages (from tensorflow-cpu==2.6.0->-r /workspaces/mildew-detection-in-cherry-leaves/requirements.txt (line 10)) (3.3.0)\nRequirement already satisfied: termcolor~=1.1.0 in /home/codeany/.pyenv/versions/3.8.12/lib/python3.8/site-packages (from tensorflow-cpu==2.6.0->-r /workspaces/mildew-detection-in-cherry-leaves/requirements.txt (line 10)) (1.1.0)\nRequirement already satisfied: typing-extensions~=3.7.4 in /home/codeany/.pyenv/versions/3.8.12/lib/python3.8/site-packages (from tensorflow-cpu==2.6.0->-r /workspaces/mildew-detection-in-cherry-leaves/requirements.txt (line 10)) (3.7.4.3)\nRequirement already satisfied: wheel~=0.35 in /home/codeany/.pyenv/versions/3.8.12/lib/python3.8/site-packages (from tensorflow-cpu==2.6.0->-r /workspaces/mildew-detection-in-cherry-leaves/requirements.txt (line 10)) (0.40.0)\nRequirement already satisfied: wrapt~=1.12.1 in /home/codeany/.pyenv/versions/3.8.12/lib/python3.8/site-packages (from tensorflow-cpu==2.6.0->-r /workspaces/mildew-detection-in-cherry-leaves/requirements.txt (line 10)) (1.12.1)\nRequirement already satisfied: gast==0.4.0 in /home/codeany/.pyenv/versions/3.8.12/lib/python3.8/site-packages (from tensorflow-cpu==2.6.0->-r /workspaces/mildew-detection-in-cherry-leaves/requirements.txt (line 10)) (0.4.0)\nRequirement already satisfied: tensorboard~=2.6 in /home/codeany/.pyenv/versions/3.8.12/lib/python3.8/site-packages (from tensorflow-cpu==2.6.0->-r /workspaces/mildew-detection-in-cherry-leaves/requirements.txt (line 10)) (2.13.0)\nRequirement already satisfied: tensorflow-estimator~=2.6 in /home/codeany/.pyenv/versions/3.8.12/lib/python3.8/site-packages (from tensorflow-cpu==2.6.0->-r /workspaces/mildew-detection-in-cherry-leaves/requirements.txt (line 10)) (2.13.0)\nRequirement already satisfied: grpcio<2.0,>=1.37.0 in /home/codeany/.pyenv/versions/3.8.12/lib/python3.8/site-packages (from tensorflow-cpu==2.6.0->-r /workspaces/mildew-detection-in-cherry-leaves/requirements.txt (line 10)) (1.56.0)\nRequirement already satisfied: ipython in /home/codeany/.pyenv/versions/3.8.12/lib/python3.8/site-packages (from keras-tuner==1.1.3->-r /workspaces/mildew-detection-in-cherry-leaves/requirements.txt (line 12)) (8.12.2)\nRequirement already satisfied: kt-legacy in /home/codeany/.pyenv/versions/3.8.12/lib/python3.8/site-packages (from keras-tuner==1.1.3->-r /workspaces/mildew-detection-in-cherry-leaves/requirements.txt (line 12)) (1.0.5)\nRequirement already satisfied: entrypoints in /home/codeany/.pyenv/versions/3.8.12/lib/python3.8/site-packages (from altair>=3.2.0->streamlit==0.85.0->-r /workspaces/mildew-detection-in-cherry-leaves/requirements.txt (line 7)) (0.4)\nRequirement already satisfied: jinja2 in /home/codeany/.pyenv/versions/3.8.12/lib/python3.8/site-packages (from altair>=3.2.0->streamlit==0.85.0->-r /workspaces/mildew-detection-in-cherry-leaves/requirements.txt (line 7)) (3.1.2)\nRequirement already satisfied: jsonschema>=3.0 in /home/codeany/.pyenv/versions/3.8.12/lib/python3.8/site-packages (from altair>=3.2.0->streamlit==0.85.0->-r /workspaces/mildew-detection-in-cherry-leaves/requirements.txt (line 7)) (4.17.3)\nRequirement already satisfied: toolz in /home/codeany/.pyenv/versions/3.8.12/lib/python3.8/site-packages (from altair>=3.2.0->streamlit==0.85.0->-r /workspaces/mildew-detection-in-cherry-leaves/requirements.txt (line 7)) (0.12.0)\nRequirement already satisfied: google-auth<3,>=1.6.3 in /home/codeany/.pyenv/versions/3.8.12/lib/python3.8/site-packages (from tensorboard~=2.6->tensorflow-cpu==2.6.0->-r /workspaces/mildew-detection-in-cherry-leaves/requirements.txt (line 10)) (2.21.0)\nRequirement already satisfied: google-auth-oauthlib<1.1,>=0.5 in /home/codeany/.pyenv/versions/3.8.12/lib/python3.8/site-packages (from tensorboard~=2.6->tensorflow-cpu==2.6.0->-r /workspaces/mildew-detection-in-cherry-leaves/requirements.txt (line 10)) (1.0.0)\nRequirement already satisfied: markdown>=2.6.8 in /home/codeany/.pyenv/versions/3.8.12/lib/python3.8/site-packages (from tensorboard~=2.6->tensorflow-cpu==2.6.0->-r /workspaces/mildew-detection-in-cherry-leaves/requirements.txt (line 10)) (3.4.3)\nRequirement already satisfied: setuptools>=41.0.0 in /home/codeany/.pyenv/versions/3.8.12/lib/python3.8/site-packages (from tensorboard~=2.6->tensorflow-cpu==2.6.0->-r /workspaces/mildew-detection-in-cherry-leaves/requirements.txt (line 10)) (68.0.0)\nRequirement already satisfied: tensorboard-data-server<0.8.0,>=0.7.0 in /home/codeany/.pyenv/versions/3.8.12/lib/python3.8/site-packages (from tensorboard~=2.6->tensorflow-cpu==2.6.0->-r /workspaces/mildew-detection-in-cherry-leaves/requirements.txt (line 10)) (0.7.1)\nRequirement already satisfied: werkzeug>=1.0.1 in /home/codeany/.pyenv/versions/3.8.12/lib/python3.8/site-packages (from tensorboard~=2.6->tensorflow-cpu==2.6.0->-r /workspaces/mildew-detection-in-cherry-leaves/requirements.txt (line 10)) (2.3.6)\nRequirement already satisfied: charset-normalizer<4,>=2 in /home/codeany/.pyenv/versions/3.8.12/lib/python3.8/site-packages (from requests->streamlit==0.85.0->-r /workspaces/mildew-detection-in-cherry-leaves/requirements.txt (line 7)) (3.1.0)\nRequirement already satisfied: idna<4,>=2.5 in /home/codeany/.pyenv/versions/3.8.12/lib/python3.8/site-packages (from requests->streamlit==0.85.0->-r /workspaces/mildew-detection-in-cherry-leaves/requirements.txt (line 7)) (3.4)\nRequirement already satisfied: urllib3<3,>=1.21.1 in /home/codeany/.pyenv/versions/3.8.12/lib/python3.8/site-packages (from requests->streamlit==0.85.0->-r /workspaces/mildew-detection-in-cherry-leaves/requirements.txt (line 7)) (1.26.16)\nRequirement already satisfied: gitdb<5,>=4.0.1 in /home/codeany/.pyenv/versions/3.8.12/lib/python3.8/site-packages (from gitpython->streamlit==0.85.0->-r /workspaces/mildew-detection-in-cherry-leaves/requirements.txt (line 7)) (4.0.10)\nRequirement already satisfied: backcall in /home/codeany/.pyenv/versions/3.8.12/lib/python3.8/site-packages (from ipython->keras-tuner==1.1.3->-r /workspaces/mildew-detection-in-cherry-leaves/requirements.txt (line 12)) (0.2.0)\nRequirement already satisfied: decorator in /home/codeany/.pyenv/versions/3.8.12/lib/python3.8/site-packages (from ipython->keras-tuner==1.1.3->-r /workspaces/mildew-detection-in-cherry-leaves/requirements.txt (line 12)) (5.1.1)\nRequirement already satisfied: jedi>=0.16 in /home/codeany/.pyenv/versions/3.8.12/lib/python3.8/site-packages (from ipython->keras-tuner==1.1.3->-r /workspaces/mildew-detection-in-cherry-leaves/requirements.txt (line 12)) (0.18.2)\nRequirement already satisfied: matplotlib-inline in /home/codeany/.pyenv/versions/3.8.12/lib/python3.8/site-packages (from ipython->keras-tuner==1.1.3->-r /workspaces/mildew-detection-in-cherry-leaves/requirements.txt (line 12)) (0.1.6)\nRequirement already satisfied: pickleshare in /home/codeany/.pyenv/versions/3.8.12/lib/python3.8/site-packages (from ipython->keras-tuner==1.1.3->-r /workspaces/mildew-detection-in-cherry-leaves/requirements.txt (line 12)) (0.7.5)\nRequirement already satisfied: prompt-toolkit!=3.0.37,<3.1.0,>=3.0.30 in /home/codeany/.pyenv/versions/3.8.12/lib/python3.8/site-packages (from ipython->keras-tuner==1.1.3->-r /workspaces/mildew-detection-in-cherry-leaves/requirements.txt (line 12)) (3.0.38)\nRequirement already satisfied: pygments>=2.4.0 in /home/codeany/.pyenv/versions/3.8.12/lib/python3.8/site-packages (from ipython->keras-tuner==1.1.3->-r /workspaces/mildew-detection-in-cherry-leaves/requirements.txt (line 12)) (2.15.1)\nRequirement already satisfied: stack-data in /home/codeany/.pyenv/versions/3.8.12/lib/python3.8/site-packages (from ipython->keras-tuner==1.1.3->-r /workspaces/mildew-detection-in-cherry-leaves/requirements.txt (line 12)) (0.6.2)\nRequirement already satisfied: traitlets>=5 in /home/codeany/.pyenv/versions/3.8.12/lib/python3.8/site-packages (from ipython->keras-tuner==1.1.3->-r /workspaces/mildew-detection-in-cherry-leaves/requirements.txt (line 12)) (5.9.0)\nRequirement already satisfied: pexpect>4.3 in /home/codeany/.pyenv/versions/3.8.12/lib/python3.8/site-packages (from ipython->keras-tuner==1.1.3->-r /workspaces/mildew-detection-in-cherry-leaves/requirements.txt (line 12)) (4.8.0)\nRequirement already satisfied: backports.zoneinfo in /home/codeany/.pyenv/versions/3.8.12/lib/python3.8/site-packages (from tzlocal->streamlit==0.85.0->-r /workspaces/mildew-detection-in-cherry-leaves/requirements.txt (line 7)) (0.2.1)\nRequirement already satisfied: smmap<6,>=3.0.1 in /home/codeany/.pyenv/versions/3.8.12/lib/python3.8/site-packages (from gitdb<5,>=4.0.1->gitpython->streamlit==0.85.0->-r /workspaces/mildew-detection-in-cherry-leaves/requirements.txt (line 7)) (5.0.0)\nRequirement already satisfied: pyasn1-modules>=0.2.1 in /home/codeany/.pyenv/versions/3.8.12/lib/python3.8/site-packages (from google-auth<3,>=1.6.3->tensorboard~=2.6->tensorflow-cpu==2.6.0->-r /workspaces/mildew-detection-in-cherry-leaves/requirements.txt (line 10)) (0.3.0)\nRequirement already satisfied: rsa<5,>=3.1.4 in /home/codeany/.pyenv/versions/3.8.12/lib/python3.8/site-packages (from google-auth<3,>=1.6.3->tensorboard~=2.6->tensorflow-cpu==2.6.0->-r /workspaces/mildew-detection-in-cherry-leaves/requirements.txt (line 10)) (4.9)\nRequirement already satisfied: requests-oauthlib>=0.7.0 in /home/codeany/.pyenv/versions/3.8.12/lib/python3.8/site-packages (from google-auth-oauthlib<1.1,>=0.5->tensorboard~=2.6->tensorflow-cpu==2.6.0->-r /workspaces/mildew-detection-in-cherry-leaves/requirements.txt (line 10)) (1.3.1)\nRequirement already satisfied: parso<0.9.0,>=0.8.0 in /home/codeany/.pyenv/versions/3.8.12/lib/python3.8/site-packages (from jedi>=0.16->ipython->keras-tuner==1.1.3->-r /workspaces/mildew-detection-in-cherry-leaves/requirements.txt (line 12)) (0.8.3)\nRequirement already satisfied: MarkupSafe>=2.0 in /home/codeany/.pyenv/versions/3.8.12/lib/python3.8/site-packages (from jinja2->altair>=3.2.0->streamlit==0.85.0->-r /workspaces/mildew-detection-in-cherry-leaves/requirements.txt (line 7)) (2.1.3)\nRequirement already satisfied: importlib-resources>=1.4.0 in /home/codeany/.pyenv/versions/3.8.12/lib/python3.8/site-packages (from jsonschema>=3.0->altair>=3.2.0->streamlit==0.85.0->-r /workspaces/mildew-detection-in-cherry-leaves/requirements.txt (line 7)) (5.12.0)\nRequirement already satisfied: pkgutil-resolve-name>=1.3.10 in /home/codeany/.pyenv/versions/3.8.12/lib/python3.8/site-packages (from jsonschema>=3.0->altair>=3.2.0->streamlit==0.85.0->-r /workspaces/mildew-detection-in-cherry-leaves/requirements.txt (line 7)) (1.3.10)\nRequirement already satisfied: pyrsistent!=0.17.0,!=0.17.1,!=0.17.2,>=0.14.0 in /home/codeany/.pyenv/versions/3.8.12/lib/python3.8/site-packages (from jsonschema>=3.0->altair>=3.2.0->streamlit==0.85.0->-r /workspaces/mildew-detection-in-cherry-leaves/requirements.txt (line 7)) (0.19.3)\nRequirement already satisfied: importlib-metadata>=4.4 in /home/codeany/.pyenv/versions/3.8.12/lib/python3.8/site-packages (from markdown>=2.6.8->tensorboard~=2.6->tensorflow-cpu==2.6.0->-r /workspaces/mildew-detection-in-cherry-leaves/requirements.txt (line 10)) (6.7.0)\nRequirement already satisfied: ptyprocess>=0.5 in /home/codeany/.pyenv/versions/3.8.12/lib/python3.8/site-packages (from pexpect>4.3->ipython->keras-tuner==1.1.3->-r /workspaces/mildew-detection-in-cherry-leaves/requirements.txt (line 12)) (0.7.0)\nRequirement already satisfied: wcwidth in /home/codeany/.pyenv/versions/3.8.12/lib/python3.8/site-packages (from prompt-toolkit!=3.0.37,<3.1.0,>=3.0.30->ipython->keras-tuner==1.1.3->-r /workspaces/mildew-detection-in-cherry-leaves/requirements.txt (line 12)) (0.2.6)\nRequirement already satisfied: executing>=1.2.0 in /home/codeany/.pyenv/versions/3.8.12/lib/python3.8/site-packages (from stack-data->ipython->keras-tuner==1.1.3->-r /workspaces/mildew-detection-in-cherry-leaves/requirements.txt (line 12)) (1.2.0)\nRequirement already satisfied: asttokens>=2.1.0 in /home/codeany/.pyenv/versions/3.8.12/lib/python3.8/site-packages (from stack-data->ipython->keras-tuner==1.1.3->-r /workspaces/mildew-detection-in-cherry-leaves/requirements.txt (line 12)) (2.2.1)\nRequirement already satisfied: pure-eval in /home/codeany/.pyenv/versions/3.8.12/lib/python3.8/site-packages (from stack-data->ipython->keras-tuner==1.1.3->-r /workspaces/mildew-detection-in-cherry-leaves/requirements.txt (line 12)) (0.2.2)\nRequirement already satisfied: zipp>=0.5 in /home/codeany/.pyenv/versions/3.8.12/lib/python3.8/site-packages (from importlib-metadata>=4.4->markdown>=2.6.8->tensorboard~=2.6->tensorflow-cpu==2.6.0->-r /workspaces/mildew-detection-in-cherry-leaves/requirements.txt (line 10)) (3.15.0)\nRequirement already satisfied: pyasn1<0.6.0,>=0.4.6 in /home/codeany/.pyenv/versions/3.8.12/lib/python3.8/site-packages (from pyasn1-modules>=0.2.1->google-auth<3,>=1.6.3->tensorboard~=2.6->tensorflow-cpu==2.6.0->-r /workspaces/mildew-detection-in-cherry-leaves/requirements.txt (line 10)) (0.5.0)\nRequirement already satisfied: oauthlib>=3.0.0 in /home/codeany/.pyenv/versions/3.8.12/lib/python3.8/site-packages (from requests-oauthlib>=0.7.0->google-auth-oauthlib<1.1,>=0.5->tensorboard~=2.6->tensorflow-cpu==2.6.0->-r /workspaces/mildew-detection-in-cherry-leaves/requirements.txt (line 10)) (3.2.2)\n"
        }
      ],
      "source": [
        "! pip install -r /workspaces/mildew-detection-in-cherry-leaves/requirements.txt"
      ]
    },
    {
      "cell_type": "code",
      "execution_count": 2,
      "metadata": {
        "tags": []
      },
      "outputs": [],
      "source": [
        "import numpy\n",
        "import os"
      ]
    },
    {
      "attachments": {},
      "cell_type": "markdown",
      "metadata": {
        "id": "9uWZXH9LwoQg"
      },
      "source": [
        "## Change Working Directory\n",
        "\n",
        "* To change the working directory from its current folder to its parent folder\n",
        "* To access the current directory with os.getcwd()"
      ]
    },
    {
      "cell_type": "code",
      "execution_count": 3,
      "metadata": {
        "id": "wZfF_j-Bz3i4",
        "outputId": "66943449-1436-4c3d-85c7-b85f9f78349b"
      },
      "outputs": [
        {
          "output_type": "execute_result",
          "data": {
            "text/plain": "'/workspaces/mildew-detection-in-cherry-leaves/jupyter_notebooks'"
          },
          "metadata": {},
          "execution_count": 3
        }
      ],
      "source": [
        "import os\n",
        "current_dir = os.getcwd()\n",
        "current_dir"
      ]
    },
    {
      "attachments": {},
      "cell_type": "markdown",
      "metadata": {
        "id": "9MWW8E7lz3i7"
      },
      "source": [
        "**To make the parent of the current directory the new current directory**\n",
        "* os.path.dirname() gets the parent directory\n",
        "* os.chdir() defines the new current directory"
      ]
    },
    {
      "cell_type": "code",
      "execution_count": 4,
      "metadata": {
        "id": "TwHsQRWjz3i9",
        "outputId": "86849db3-cd2f-4cc5-ebb8-2d0caafa1a2c",
        "tags": []
      },
      "outputs": [
        {
          "output_type": "stream",
          "name": "stdout",
          "text": "You set a new current directory\n"
        }
      ],
      "source": [
        "os.chdir(os.path.dirname(current_dir))\n",
        "print(\"You set a new current directory\")"
      ]
    },
    {
      "attachments": {},
      "cell_type": "markdown",
      "metadata": {
        "id": "M_xPk_Ijz3i-"
      },
      "source": [
        "**To confirm the new current directory**"
      ]
    },
    {
      "cell_type": "code",
      "execution_count": 5,
      "metadata": {
        "id": "vz3S-_kjz3jA",
        "outputId": "00b79ae4-75d0-4a96-d193-ac9ef9847ea2"
      },
      "outputs": [
        {
          "output_type": "execute_result",
          "data": {
            "text/plain": "'/workspaces/mildew-detection-in-cherry-leaves'"
          },
          "metadata": {},
          "execution_count": 5
        }
      ],
      "source": [
        "current_dir = os.getcwd()\n",
        "current_dir"
      ]
    },
    {
      "attachments": {},
      "cell_type": "markdown",
      "metadata": {
        "id": "-mavJ8DibrcQ"
      },
      "source": [
        "# Install Kaggle"
      ]
    },
    {
      "cell_type": "code",
      "execution_count": 6,
      "metadata": {
        "tags": []
      },
      "outputs": [
        {
          "output_type": "stream",
          "name": "stdout",
          "text": "Requirement already satisfied: kaggle in /home/codeany/.pyenv/versions/3.8.12/lib/python3.8/site-packages (1.5.13)\nRequirement already satisfied: six>=1.10 in /home/codeany/.pyenv/versions/3.8.12/lib/python3.8/site-packages (from kaggle) (1.15.0)\nRequirement already satisfied: certifi in /home/codeany/.pyenv/versions/3.8.12/lib/python3.8/site-packages (from kaggle) (2023.5.7)\nRequirement already satisfied: python-dateutil in /home/codeany/.pyenv/versions/3.8.12/lib/python3.8/site-packages (from kaggle) (2.8.2)\nRequirement already satisfied: requests in /home/codeany/.pyenv/versions/3.8.12/lib/python3.8/site-packages (from kaggle) (2.31.0)\nRequirement already satisfied: tqdm in /home/codeany/.pyenv/versions/3.8.12/lib/python3.8/site-packages (from kaggle) (4.65.0)\nRequirement already satisfied: python-slugify in /home/codeany/.pyenv/versions/3.8.12/lib/python3.8/site-packages (from kaggle) (8.0.1)\nRequirement already satisfied: urllib3 in /home/codeany/.pyenv/versions/3.8.12/lib/python3.8/site-packages (from kaggle) (1.26.16)\nRequirement already satisfied: text-unidecode>=1.3 in /home/codeany/.pyenv/versions/3.8.12/lib/python3.8/site-packages (from python-slugify->kaggle) (1.3)\nRequirement already satisfied: charset-normalizer<4,>=2 in /home/codeany/.pyenv/versions/3.8.12/lib/python3.8/site-packages (from requests->kaggle) (3.1.0)\nRequirement already satisfied: idna<4,>=2.5 in /home/codeany/.pyenv/versions/3.8.12/lib/python3.8/site-packages (from requests->kaggle) (3.4)\nNote: you may need to restart the kernel to use updated packages.\n"
        }
      ],
      "source": [
        "# install kaggle package\n",
        "%pip install kaggle"
      ]
    },
    {
      "attachments": {},
      "cell_type": "markdown",
      "metadata": {
        "id": "uFQo3ycuO-v6"
      },
      "source": [
        "Run the cell below to change the kaggle configuration directory to current working directory and permission of kaggle authentication JSON"
      ]
    },
    {
      "cell_type": "code",
      "execution_count": 7,
      "metadata": {
        "tags": []
      },
      "outputs": [],
      "source": [
        "os.environ['KAGGLE_CONFIG_DIR'] = os.getcwd()\n",
        "! chmod 600 kaggle.json"
      ]
    },
    {
      "attachments": {},
      "cell_type": "markdown",
      "metadata": {},
      "source": [
        "* Get the dataset path from Kaggle url.  When you are viewing the dataset at Kaggle, check what is after https://www.kaggle.com/ (in some case kaggle.com/datasets). You should copy that at KaggleDatasetPath.\n",
        "\n",
        "* Set the destination folder\n",
        "* Set the Kaggle Dataset and Download it"
      ]
    },
    {
      "cell_type": "code",
      "execution_count": 8,
      "metadata": {
        "tags": []
      },
      "outputs": [
        {
          "output_type": "stream",
          "name": "stdout",
          "text": "Downloading cherry-leaves.zip to inputs/mildew_dataset\n 75%|████████████████████████████▎         | 41.0M/55.0M [00:00<00:00, 52.8MB/s]\n100%|██████████████████████████████████████| 55.0M/55.0M [00:00<00:00, 66.2MB/s]\n"
        }
      ],
      "source": [
        "# Set the destination folder to download Kaggle Dataset\n",
        "KaggleDatasetPath = \"codeinstitute/cherry-leaves\"\n",
        "DestinationFolder = \"inputs/mildew_dataset\"   \n",
        "! kaggle datasets download -d {KaggleDatasetPath} -p {DestinationFolder}"
      ]
    },
    {
      "attachments": {},
      "cell_type": "markdown",
      "metadata": {},
      "source": [
        "* Unzip the downloaded file, and delete the zip file."
      ]
    },
    {
      "cell_type": "code",
      "execution_count": 9,
      "metadata": {},
      "outputs": [],
      "source": [
        "import zipfile\n",
        "with zipfile.ZipFile(DestinationFolder + '/cherry-leaves.zip', 'r') as zip_ref:\n",
        "    zip_ref.extractall(DestinationFolder)\n",
        "\n",
        "os.remove(DestinationFolder + '/cherry-leaves.zip')"
      ]
    },
    {
      "attachments": {},
      "cell_type": "markdown",
      "metadata": {},
      "source": [
        "# Data Preparation"
      ]
    },
    {
      "attachments": {},
      "cell_type": "markdown",
      "metadata": {},
      "source": [
        "### Check and remove non-image files"
      ]
    },
    {
      "cell_type": "code",
      "execution_count": 10,
      "metadata": {},
      "outputs": [],
      "source": [
        "# Function to remove non-image files\n",
        "def remove_non_image_file(my_data_dir):\n",
        "    image_extension = ('.png', '.jpg', '.jpeg')\n",
        "    folders = os.listdir(my_data_dir) \n",
        "    for folder in folders:\n",
        "        files = os.listdir(my_data_dir + '/' + folder)\n",
        "        # print(files)\n",
        "        i = []\n",
        "        j = []\n",
        "        for given_file in files:\n",
        "            if not given_file.lower().endswith(image_extension):\n",
        "                file_location = my_data_dir + '/' + folder + '/' + given_file\n",
        "                os.remove(file_location) # remove non-image file\n",
        "                i.append(1)\n",
        "            else:\n",
        "                j.append(1)\n",
        "                pass\n",
        "        print(f\"Folder: {folder} - has image file\",len(j))\n",
        "        print(f\"Folder: {folder} - has non-image file\",len(i))"
      ]
    },
    {
      "cell_type": "code",
      "execution_count": 11,
      "metadata": {
        "tags": []
      },
      "outputs": [
        {
          "output_type": "stream",
          "name": "stdout",
          "text": "Folder: powdery_mildew - has image file 2104\nFolder: powdery_mildew - has non-image file 0\nFolder: healthy - has image file 2104\nFolder: healthy - has non-image file 0\n"
        }
      ],
      "source": [
        "# Remove non-image files\n",
        "remove_non_image_file(my_data_dir='inputs/mildew_dataset/cherry-leaves')"
      ]
    },
    {
      "attachments": {},
      "cell_type": "markdown",
      "metadata": {},
      "source": [
        "### Split train, validation, and test sets"
      ]
    },
    {
      "cell_type": "code",
      "execution_count": 12,
      "metadata": {},
      "outputs": [],
      "source": [
        "import os\n",
        "import shutil\n",
        "import random\n",
        "import joblib\n",
        "\n",
        "my_data_dir=\"inputs/mildew_dataset/cherry-leaves\"\n",
        "\n",
        "# Function to split train, validation, and test images\n",
        "def split_train_validation_test_images(my_data_dir, train_set_ratio, validation_set_ratio, test_set_ratio):\n",
        "  \n",
        "  if train_set_ratio + validation_set_ratio + test_set_ratio != 1.0:\n",
        "    print(\"train_set_ratio + validation_set_ratio + test_set_ratio should sum 1.0\")\n",
        "    return\n",
        "\n",
        "  # gets classes labels\n",
        "  labels = os.listdir(my_data_dir) # To get only the folder name\n",
        "  if 'test' in labels:\n",
        "    pass\n",
        "  else: \n",
        "    # create train, validation, and test folders with classess labels sub-folder\n",
        "    for folder in ['train','validation','test']:\n",
        "      for label in labels:\n",
        "        os.makedirs(name=my_data_dir+ '/' + folder + '/' + label)\n",
        "\n",
        "    for label in labels:\n",
        "\n",
        "      files = os.listdir(my_data_dir + '/' + label)\n",
        "      random.shuffle(files)\n",
        "\n",
        "      train_set_files_qty = int(len(files) * train_set_ratio)\n",
        "      validation_set_files_qty = int(len(files) * validation_set_ratio)\n",
        "\n",
        "      count = 1\n",
        "      for file_name in files:\n",
        "        if count <= train_set_files_qty:\n",
        "          # move given file to train set\n",
        "          shutil.move(my_data_dir + '/' + label + '/' + file_name,\n",
        "                      my_data_dir + '/train/' + label + '/' + file_name)\n",
        "          \n",
        "\n",
        "        elif count <= (train_set_files_qty + validation_set_files_qty ):\n",
        "          # move given file to validation set\n",
        "          shutil.move(my_data_dir + '/' + label + '/' + file_name,\n",
        "                      my_data_dir + '/validation/' + label + '/' + file_name)\n",
        "\n",
        "        else:\n",
        "          # move given file to test set\n",
        "          shutil.move(my_data_dir + '/' + label + '/' + file_name,\n",
        "                  my_data_dir + '/test/' +label + '/'+ file_name)\n",
        "          \n",
        "        count += 1\n",
        "\n",
        "      os.rmdir(my_data_dir + '/' + label)"
      ]
    },
    {
      "cell_type": "code",
      "execution_count": 13,
      "metadata": {},
      "outputs": [],
      "source": [
        "# Split train, validation, and test images\n",
        "split_train_validation_test_images(my_data_dir=f\"inputs/mildew_dataset/cherry-leaves\",\n",
        "                        train_set_ratio = 0.7,\n",
        "                        validation_set_ratio=0.1,\n",
        "                        test_set_ratio=0.2\n",
        "                        )"
      ]
    },
    {
      "source": [
        "## Conclusions and Next Steps\n",
        "## Conclusions\n",
        "* Dataset as a mildew_dataset has been successfuly added to the input folder \n",
        "* mildew_dataset has been successfully splitted into train, validation, and test test\n",
        "\n",
        "## Next Steps\n",
        "* Answer business requirement 1:\n",
        "    * The client is interested in conducting a study to visually differentiate a cherry leaf that is healthy from one that contains powdery mildew"
      ],
      "cell_type": "markdown",
      "metadata": {}
    },
    {
      "attachments": {},
      "cell_type": "markdown",
      "metadata": {
        "id": "ltNetd085qHf"
      },
      "source": [
        "# Push files to Repo\n",
        "## Push generated/new files from this Session to GitHub repository"
      ]
    },
    {
      "attachments": {},
      "cell_type": "markdown",
      "metadata": {},
      "source": [
        "### .gitignore"
      ]
    },
    {
      "cell_type": "code",
      "execution_count": 14,
      "metadata": {
        "tags": []
      },
      "outputs": [
        {
          "output_type": "stream",
          "name": "stdout",
          "text": "core.Microsoft*\ncore.mongo*\ncore.python*\nenv.py\n__pycache__/\n*.py[cod]\nnode_modules/\n.github/\ncloudinary_python.txt\nkaggle.json\ninputs/mildew_dataset/cherry-leaves/train\ninputs/mildew_dataset/cherry-leaves/validation\ninputs/mildew_dataset/cherry-leaves/test"
        }
      ],
      "source": [
        "!cat .gitignore"
      ]
    },
    {
      "attachments": {},
      "cell_type": "markdown",
      "metadata": {},
      "source": [
        "### Git status"
      ]
    },
    {
      "cell_type": "code",
      "execution_count": 15,
      "metadata": {
        "tags": [
          "outputPrepend"
        ]
      },
      "outputs": [
        {
          "output_type": "stream",
          "name": "stdout",
          "text": "in/healthy/93c3cace-b855-4282-917b-8dcd30e8c1d7___JR_HL 9702_flipTB.JPG\u001b[m\n\t\u001b[31mdeleted:    inputs/mildew_dataset/cherry-leaves/train/healthy/94070a24-1b16-4696-b051-b01d4ca0b59a___JR_HL 4022_flipTB.JPG\u001b[m\n\t\u001b[31mdeleted:    inputs/mildew_dataset/cherry-leaves/train/healthy/97df0152-e34f-4b34-bb2e-b2d9aadb19ee___JR_HL 4209.JPG\u001b[m\n\t\u001b[31mdeleted:    inputs/mildew_dataset/cherry-leaves/train/healthy/991f9446-4cb6-41a8-b6ef-c2ee9e500c7b___JR_HL 9735_180deg.JPG\u001b[m\n\t\u001b[31mdeleted:    inputs/mildew_dataset/cherry-leaves/train/healthy/9b15b47c-53e0-4873-b51c-d2b6e316d56c___JR_HL 4180_flipTB.JPG\u001b[m\n\t\u001b[31mdeleted:    inputs/mildew_dataset/cherry-leaves/train/healthy/9d9363f1-b9cc-4c44-8225-aa6734763c3c___JR_HL 9579_flipTB.JPG\u001b[m\n\t\u001b[31mdeleted:    inputs/mildew_dataset/cherry-leaves/train/healthy/9f57292a-576b-4ae8-a71a-cdaf42bcd6b7___JR_HL 9861_180deg.JPG\u001b[m\n\t\u001b[31mdeleted:    inputs/mildew_dataset/cherry-leaves/train/healthy/9fcc3c88-5083-43a8-a65e-3ac55558ca1d___JR_HL 9633_180deg.JPG\u001b[m\n\t\u001b[31mdeleted:    inputs/mildew_dataset/cherry-leaves/train/healthy/a195fb52-151e-4fe3-9557-52ae62b5ace4___JR_HL 9859_180deg.JPG\u001b[m\n\t\u001b[31mdeleted:    inputs/mildew_dataset/cherry-leaves/train/healthy/a2196e0d-52fc-4194-8127-98076bd3a6fc___JR_HL 4241.JPG\u001b[m\n\t\u001b[31mdeleted:    inputs/mildew_dataset/cherry-leaves/train/healthy/a4781448-2096-4390-bf06-cf2ee074dc2b___JR_HL 4213_flipTB.JPG\u001b[m\n\t\u001b[31mdeleted:    inputs/mildew_dataset/cherry-leaves/train/healthy/a5aafeac-4d2f-4bd2-835e-79506ec7e458___JR_HL 4228.JPG\u001b[m\n\t\u001b[31mdeleted:    inputs/mildew_dataset/cherry-leaves/train/healthy/a5acd354-cbb4-42fb-ac89-4c2ee84955d6___JR_HL 9486_flipTB.JPG\u001b[m\n\t\u001b[31mdeleted:    inputs/mildew_dataset/cherry-leaves/train/healthy/a684ee42-fe12-4ccb-ae9c-a55d4322a817___JR_HL 9876.JPG\u001b[m\n\t\u001b[31mdeleted:    inputs/mildew_dataset/cherry-leaves/train/healthy/a86c3594-fe38-4647-9642-0695ce9ec40e___JR_HL 9688.JPG\u001b[m\n\t\u001b[31mdeleted:    inputs/mildew_dataset/cherry-leaves/train/healthy/a86c3594-fe38-4647-9642-0695ce9ec40e___JR_HL 9688_180deg.JPG\u001b[m\n\t\u001b[31mdeleted:    inputs/mildew_dataset/cherry-leaves/train/healthy/ac392c19-68f4-41aa-9923-2be5483a0b4c___JR_HL 9802_flipTB.JPG\u001b[m\n\t\u001b[31mdeleted:    inputs/mildew_dataset/cherry-leaves/train/healthy/af395454-9418-4504-ad49-a678f9d63302___JR_HL 4161_180deg.JPG\u001b[m\n\t\u001b[31mdeleted:    inputs/mildew_dataset/cherry-leaves/train/healthy/af85c82e-b339-437d-a443-f13ee6194cb5___JR_HL 4321_flipTB.JPG\u001b[m\n\t\u001b[31mdeleted:    inputs/mildew_dataset/cherry-leaves/train/healthy/b4f21001-a18e-46ca-9185-3172ef2a0de2___JR_HL 3934_flipTB.JPG\u001b[m\n\t\u001b[31mdeleted:    inputs/mildew_dataset/cherry-leaves/train/healthy/b7b1918d-d608-4aa0-9990-f0ff9a90b414___JR_HL 4144_180deg.JPG\u001b[m\n\t\u001b[31mdeleted:    inputs/mildew_dataset/cherry-leaves/train/healthy/b8b81fac-673a-4f90-849e-b1fa9cd255df___JR_HL 4060.JPG\u001b[m\n\t\u001b[31mdeleted:    inputs/mildew_dataset/cherry-leaves/train/healthy/bbf73155-4f12-41a1-b087-38b078e646a1___JR_HL 9592.JPG\u001b[m\n\t\u001b[31mdeleted:    inputs/mildew_dataset/cherry-leaves/train/healthy/bbf73155-4f12-41a1-b087-38b078e646a1___JR_HL 9592_180deg.JPG\u001b[m\n\t\u001b[31mdeleted:    inputs/mildew_dataset/cherry-leaves/train/healthy/c019b1dd-288e-4914-9abb-348e33cec899___JR_HL 4157_flipTB.JPG\u001b[m\n\t\u001b[31mdeleted:    inputs/mildew_dataset/cherry-leaves/train/healthy/c1011062-7bbf-45b2-bca2-1de3e5c5cd9a___JR_HL 4258.JPG\u001b[m\n\t\u001b[31mdeleted:    inputs/mildew_dataset/cherry-leaves/train/healthy/c36d1d7a-7e76-4be2-a637-e544f8210db8___JR_HL 9680_flipTB.JPG\u001b[m\n\t\u001b[31mdeleted:    inputs/mildew_dataset/cherry-leaves/train/healthy/c58da3fc-4c6b-4de9-98a2-500e26cee46d___JR_HL 9544_180deg.JPG\u001b[m\n\t\u001b[31mdeleted:    inputs/mildew_dataset/cherry-leaves/train/healthy/c6645e0d-17a5-4d1b-936c-84c61e847b50___JR_HL 9446_180deg.JPG\u001b[m\n\t\u001b[31mdeleted:    inputs/mildew_dataset/cherry-leaves/train/healthy/c6645e0d-17a5-4d1b-936c-84c61e847b50___JR_HL 9446_flipTB.JPG\u001b[m\n\t\u001b[31mdeleted:    inputs/mildew_dataset/cherry-leaves/train/healthy/c7003e27-49fe-4b61-a6d2-a72c7595f297___JR_HL 9893.JPG\u001b[m\n\t\u001b[31mdeleted:    inputs/mildew_dataset/cherry-leaves/train/healthy/c89bc3c2-97d5-4e38-a090-3ba121a17adf___JR_HL 4179.JPG\u001b[m\n\t\u001b[31mdeleted:    inputs/mildew_dataset/cherry-leaves/train/healthy/cbb4bd24-9572-4235-a9c1-e6b73118b7d5___JR_HL 4120_flipTB.JPG\u001b[m\n\t\u001b[31mdeleted:    inputs/mildew_dataset/cherry-leaves/train/healthy/cf4b0e6e-7847-496b-ae4b-eb8466631c05___JR_HL 9624_flipTB.JPG\u001b[m\n\t\u001b[31mdeleted:    inputs/mildew_dataset/cherry-leaves/train/healthy/cf8f368a-e5bf-4382-bcab-d84f4530a558___JR_HL 3927_flipTB.JPG\u001b[m\n\t\u001b[31mdeleted:    inputs/mildew_dataset/cherry-leaves/train/healthy/d03d7e87-1375-490a-bb4a-b7dd2480f123___JR_HL 9476_flipTB.JPG\u001b[m\n\t\u001b[31mdeleted:    inputs/mildew_dataset/cherry-leaves/train/healthy/d1113e15-85d4-48a1-8323-f65c688ecf8c___JR_HL 9654.JPG\u001b[m\n\t\u001b[31mdeleted:    inputs/mildew_dataset/cherry-leaves/train/healthy/d699b1fd-0743-4406-b7b2-72ced5b5090c___JR_HL 9730_180deg.JPG\u001b[m\n\t\u001b[31mdeleted:    inputs/mildew_dataset/cherry-leaves/train/healthy/d949b740-17da-4264-90a2-561c41ca9d65___JR_HL 9712_180deg.JPG\u001b[m\n\t\u001b[31mdeleted:    inputs/mildew_dataset/cherry-leaves/train/healthy/dc8ada8f-338c-4428-8878-b3d91f038374___JR_HL 9545_180deg.JPG\u001b[m\n\t\u001b[31mdeleted:    inputs/mildew_dataset/cherry-leaves/train/healthy/de0655ff-6232-485c-9986-c636c679685e___JR_HL 4196_flipTB.JPG\u001b[m\n\t\u001b[31mdeleted:    inputs/mildew_dataset/cherry-leaves/train/healthy/de556ebb-05fb-448c-b83d-7b159bb3c5ae___JR_HL 9740.JPG\u001b[m\n\t\u001b[31mdeleted:    inputs/mildew_dataset/cherry-leaves/train/healthy/defa124c-873c-4a35-92d1-28a2dc137957___JR_HL 9532_180deg.JPG\u001b[m\n\t\u001b[31mdeleted:    inputs/mildew_dataset/cherry-leaves/train/healthy/df2935bd-3e9b-4da1-8bba-5a449503f773___JR_HL 9508_180deg.JPG\u001b[m\n\t\u001b[31mdeleted:    inputs/mildew_dataset/cherry-leaves/train/healthy/df95bcf4-3948-4770-bd4f-0d05a23264ed___JR_HL 4253_180deg.JPG\u001b[m\n\t\u001b[31mdeleted:    inputs/mildew_dataset/cherry-leaves/train/healthy/e4f9ab10-b650-42bb-abcb-e5577ffcc1fe___JR_HL 9629.JPG\u001b[m\n\t\u001b[31mdeleted:    inputs/mildew_dataset/cherry-leaves/train/healthy/e6b37a71-e89d-40e7-8675-21246271756a___JR_HL 9450.JPG\u001b[m\n\t\u001b[31mdeleted:    inputs/mildew_dataset/cherry-leaves/train/healthy/e784cda7-7006-44e5-9578-43b6b26fa4b6___JR_HL 4043.JPG\u001b[m\n\t\u001b[31mdeleted:    inputs/mildew_dataset/cherry-leaves/train/healthy/eaf3b9b2-6372-4333-b1ff-297485cd3656___JR_HL 9565_180deg.JPG\u001b[m\n\t\u001b[31mdeleted:    inputs/mildew_dataset/cherry-leaves/train/powdery_mildew/00e0a4ab-ecbd-4560-a71c-b19d86bb087c___FREC_Pwd.M 4917_flipLR.JPG\u001b[m\n\t\u001b[31mdeleted:    inputs/mildew_dataset/cherry-leaves/train/powdery_mildew/041d97fc-da3d-4420-8f6f-2be0e7070f28___FREC_Pwd.M 0392_flipLR.JPG\u001b[m\n\t\u001b[31mdeleted:    inputs/mildew_dataset/cherry-leaves/train/powdery_mildew/042ef107-ff5c-4b88-8597-70fc7e82f178___FREC_Pwd.M 4624.JPG\u001b[m\n\t\u001b[31mdeleted:    inputs/mildew_dataset/cherry-leaves/train/powdery_mildew/063a1f13-313b-4ed5-bf9f-cc8b6ceff957___FREC_Pwd.M 4758_flipLR.JPG\u001b[m\n\t\u001b[31mdeleted:    inputs/mildew_dataset/cherry-leaves/train/powdery_mildew/0711a85e-1e8f-47a3-a9ce-841af3f77544___FREC_Pwd.M 0497_flipLR.JPG\u001b[m\n\t\u001b[31mdeleted:    inputs/mildew_dataset/cherry-leaves/train/powdery_mildew/081459be-800b-428c-a45e-3431c10fab63___FREC_Pwd.M 5140_flipLR.JPG\u001b[m\n\t\u001b[31mdeleted:    inputs/mildew_dataset/cherry-leaves/train/powdery_mildew/167d6c02-d49c-4571-b9b8-6d77be09dfb4___FREC_Pwd.M 0256.JPG\u001b[m\n\t\u001b[31mdeleted:    inputs/mildew_dataset/cherry-leaves/train/powdery_mildew/176d6faf-285c-4bf0-a643-cdfa9b4c741d___FREC_Pwd.M 0348_flipLR.JPG\u001b[m\n\t\u001b[31mdeleted:    inputs/mildew_dataset/cherry-leaves/train/powdery_mildew/1a64abff-82d4-45dc-b984-f1a5e6a5229e___FREC_Pwd.M 4952.JPG\u001b[m\n\t\u001b[31mdeleted:    inputs/mildew_dataset/cherry-leaves/train/powdery_mildew/1f58631e-fd2c-4a0f-8cea-bc8a9feee0eb___FREC_Pwd.M 0285_flipLR.JPG\u001b[m\n\t\u001b[31mdeleted:    inputs/mildew_dataset/cherry-leaves/train/powdery_mildew/20a0fb52-b873-433d-9969-78c1a8d9d232___FREC_Pwd.M 4594.JPG\u001b[m\n\t\u001b[31mdeleted:    inputs/mildew_dataset/cherry-leaves/train/powdery_mildew/23572444-7b88-4f2d-8178-d825b8d3f939___FREC_Pwd.M 0591.JPG\u001b[m\n\t\u001b[31mdeleted:    inputs/mildew_dataset/cherry-leaves/train/powdery_mildew/26cdf0b5-906d-4341-a07b-d8d9ec21cda7___FREC_Pwd.M 5151_flipLR.JPG\u001b[m\n\t\u001b[31mdeleted:    inputs/mildew_dataset/cherry-leaves/train/powdery_mildew/28dbfc6e-d023-40e6-aa85-8164fd960707___FREC_Pwd.M 4719_flipLR.JPG\u001b[m\n\t\u001b[31mdeleted:    inputs/mildew_dataset/cherry-leaves/train/powdery_mildew/30f5084a-f9c5-4ba0-839f-c000a0ad0608___FREC_Pwd.M 5131_flipLR.JPG\u001b[m\n\t\u001b[31mdeleted:    inputs/mildew_dataset/cherry-leaves/train/powdery_mildew/327470f8-b708-4976-b2fa-873da3ef6b39___FREC_Pwd.M 0319.JPG\u001b[m\n\t\u001b[31mdeleted:    inputs/mildew_dataset/cherry-leaves/train/powdery_mildew/3531b280-cdf5-4983-b83e-21259674d575___FREC_Pwd.M 4907_flipLR.JPG\u001b[m\n\t\u001b[31mdeleted:    inputs/mildew_dataset/cherry-leaves/train/powdery_mildew/3632065f-bc6e-486c-9f86-c0d37edbb762___FREC_Pwd.M 4487_flipLR.JPG\u001b[m\n\t\u001b[31mdeleted:    inputs/mildew_dataset/cherry-leaves/train/powdery_mildew/3928d15a-b841-4524-a5be-b34546c358f2___FREC_Pwd.M 0324_flipLR.JPG\u001b[m\n\t\u001b[31mdeleted:    inputs/mildew_dataset/cherry-leaves/train/powdery_mildew/3983b22e-b3b0-464f-b623-bf9131cb513a___FREC_Pwd.M 4741.JPG\u001b[m\n\t\u001b[31mdeleted:    inputs/mildew_dataset/cherry-leaves/train/powdery_mildew/3e259f31-d7a8-4999-b0e6-12c74e98687a___FREC_Pwd.M 4791.JPG\u001b[m\n\t\u001b[31mdeleted:    inputs/mildew_dataset/cherry-leaves/train/powdery_mildew/42435498-17af-4a69-acbd-c552cbdc2761___FREC_Pwd.M 4604.JPG\u001b[m\n\t\u001b[31mdeleted:    inputs/mildew_dataset/cherry-leaves/train/powdery_mildew/43ed2a9b-8f85-4a79-b830-bbbeba856e79___FREC_Pwd.M 4498.JPG\u001b[m\n\t\u001b[31mdeleted:    inputs/mildew_dataset/cherry-leaves/train/powdery_mildew/443f2ed2-dacc-4f1b-8cfe-bfc2e4c3155d___FREC_Pwd.M 5157_flipLR.JPG\u001b[m\n\t\u001b[31mdeleted:    inputs/mildew_dataset/cherry-leaves/train/powdery_mildew/48a8b952-2746-4a2d-95f0-18f6efcaa834___FREC_Pwd.M 4794_flipLR.JPG\u001b[m\n\t\u001b[31mdeleted:    inputs/mildew_dataset/cherry-leaves/train/powdery_mildew/4a681bd1-f177-4079-a67c-890eaa1fb016___FREC_Pwd.M 5097_flipLR.JPG\u001b[m\n\t\u001b[31mdeleted:    inputs/mildew_dataset/cherry-leaves/train/powdery_mildew/50acb035-381b-46f2-83df-853cb40a9d25___FREC_Pwd.M 4869_flipLR.JPG\u001b[m\n\t\u001b[31mdeleted:    inputs/mildew_dataset/cherry-leaves/train/powdery_mildew/570b41af-d7c0-4ef0-a403-0824a2f4d408___FREC_Pwd.M 5018.JPG\u001b[m\n\t\u001b[31mdeleted:    inputs/mildew_dataset/cherry-leaves/train/powdery_mildew/58d680f4-c586-47d0-98a6-0e89ad4f8ff2___FREC_Pwd.M 0401_flipLR.JPG\u001b[m\n\t\u001b[31mdeleted:    inputs/mildew_dataset/cherry-leaves/train/powdery_mildew/596a3002-0685-4b75-a782-1ed69092f23c___FREC_Pwd.M 4654.JPG\u001b[m\n\t\u001b[31mdeleted:    inputs/mildew_dataset/cherry-leaves/train/powdery_mildew/5aa2ca92-de44-41cc-97c1-3a622d885337___FREC_Pwd.M 4490.JPG\u001b[m\n\t\u001b[31mdeleted:    inputs/mildew_dataset/cherry-leaves/train/powdery_mildew/5c889ff2-b516-4333-ba98-d6f31b95efa8___FREC_Pwd.M 4620_flipLR.JPG\u001b[m\n\t\u001b[31mdeleted:    inputs/mildew_dataset/cherry-leaves/train/powdery_mildew/6549d4d7-4649-4059-8f94-e106f268119c___FREC_Pwd.M 0458_flipLR.JPG\u001b[m\n\t\u001b[31mdeleted:    inputs/mildew_dataset/cherry-leaves/train/powdery_mildew/6a076e30-41cb-409c-9209-97e6ed8aa6fb___FREC_Pwd.M 0410.JPG\u001b[m\n\t\u001b[31mdeleted:    inputs/mildew_dataset/cherry-leaves/train/powdery_mildew/6afaaa95-dada-4f34-a0ed-db10134b5a7e___FREC_Pwd.M 5065.JPG\u001b[m\n\t\u001b[31mdeleted:    inputs/mildew_dataset/cherry-leaves/train/powdery_mildew/6c4ba807-3b6f-4041-bc17-c268b52bc05f___FREC_Pwd.M 4623_flipLR.JPG\u001b[m\n\t\u001b[31mdeleted:    inputs/mildew_dataset/cherry-leaves/train/powdery_mildew/6d700706-12f6-40a3-b293-699aabce7ba0___FREC_Pwd.M 0288.JPG\u001b[m\n\t\u001b[31mdeleted:    inputs/mildew_dataset/cherry-leaves/train/powdery_mildew/73dc8186-cfe1-4021-8697-ed4e3cf16568___FREC_Pwd.M 0282_flipLR.JPG\u001b[m\n\t\u001b[31mdeleted:    inputs/mildew_dataset/cherry-leaves/train/powdery_mildew/75e036a9-2c97-4b9a-816c-54424c51127a___FREC_Pwd.M 5013_flipLR.JPG\u001b[m\n\t\u001b[31mdeleted:    inputs/mildew_dataset/cherry-leaves/train/powdery_mildew/7665ae36-28ec-4350-9798-89b4a32e32a8___FREC_Pwd.M 5124_flipLR.JPG\u001b[m\n\t\u001b[31mdeleted:    inputs/mildew_dataset/cherry-leaves/train/powdery_mildew/77e3b2c2-5e50-467f-b081-91a84f9d6436___FREC_Pwd.M 0258_flipLR.JPG\u001b[m\n\t\u001b[31mdeleted:    inputs/mildew_dataset/cherry-leaves/train/powdery_mildew/7c8e53d5-bb27-4fda-b7a0-1d1713d2bb3a___FREC_Pwd.M 4764.JPG\u001b[m\n\t\u001b[31mdeleted:    inputs/mildew_dataset/cherry-leaves/train/powdery_mildew/82cad357-576b-4e8f-9d46-8db17d592d4d___FREC_Pwd.M 0411_flipLR.JPG\u001b[m\n\t\u001b[31mdeleted:    inputs/mildew_dataset/cherry-leaves/train/powdery_mildew/879dacc2-8446-40dc-818e-a6a025c95673___FREC_Pwd.M 4617.JPG\u001b[m\n\t\u001b[31mdeleted:    inputs/mildew_dataset/cherry-leaves/train/powdery_mildew/886e024a-ae28-4692-96dd-f8c7a5c38c19___FREC_Pwd.M 4759_flipLR.JPG\u001b[m\n\t\u001b[31mdeleted:    inputs/mildew_dataset/cherry-leaves/train/powdery_mildew/898cc60e-bae8-41c9-9695-cfafff82bce6___FREC_Pwd.M 5091_flipLR.JPG\u001b[m\n\t\u001b[31mdeleted:    inputs/mildew_dataset/cherry-leaves/train/powdery_mildew/8a07cd65-72a0-4b6f-a393-7e2d3e3274d0___FREC_Pwd.M 4737.JPG\u001b[m\n\t\u001b[31mdeleted:    inputs/mildew_dataset/cherry-leaves/train/powdery_mildew/8ad6e23a-7ad5-47a7-a2e3-55655ef64ccd___FREC_Pwd.M 4461_flipLR.JPG\u001b[m\n\t\u001b[31mdeleted:    inputs/mildew_dataset/cherry-leaves/train/powdery_mildew/935d5fc7-11d0-4739-98a0-2aa0224ee62d___FREC_Pwd.M 4955_flipLR.JPG\u001b[m\n\t\u001b[31mdeleted:    inputs/mildew_dataset/cherry-leaves/train/powdery_mildew/945f0cfe-c6da-4164-92f6-900acad26611___FREC_Pwd.M 4486_flipLR.JPG\u001b[m\n\t\u001b[31mdeleted:    inputs/mildew_dataset/cherry-leaves/train/powdery_mildew/9874295e-fe0f-4408-88b0-0402a272041a___FREC_Pwd.M 0292_flipLR.JPG\u001b[m\n\t\u001b[31mdeleted:    inputs/mildew_dataset/cherry-leaves/train/powdery_mildew/994248c0-09b3-45d7-abee-d7bc761672aa___FREC_Pwd.M 0508.JPG\u001b[m\n\t\u001b[31mdeleted:    inputs/mildew_dataset/cherry-leaves/train/powdery_mildew/9af3c619-59ed-4037-8106-26af5fadc388___FREC_Pwd.M 5011.JPG\u001b[m\n\t\u001b[31mdeleted:    inputs/mildew_dataset/cherry-leaves/train/powdery_mildew/9be8e2c0-0b9d-4fdf-9c58-08fc384349e7___FREC_Pwd.M 0507.JPG\u001b[m\n\t\u001b[31mdeleted:    inputs/mildew_dataset/cherry-leaves/train/powdery_mildew/9e549db4-f6b2-4f65-a2d9-bcddb6f14f0d___FREC_Pwd.M 4718.JPG\u001b[m\n\t\u001b[31mdeleted:    inputs/mildew_dataset/cherry-leaves/train/powdery_mildew/a0797810-e1df-4171-80f6-25f02fea33d1___FREC_Pwd.M 4796_flipLR.JPG\u001b[m\n\t\u001b[31mdeleted:    inputs/mildew_dataset/cherry-leaves/train/powdery_mildew/a1e9c49a-5188-4441-8918-60c4719dc313___FREC_Pwd.M 0558.JPG\u001b[m\n\t\u001b[31mdeleted:    inputs/mildew_dataset/cherry-leaves/train/powdery_mildew/a21fb672-e50e-40eb-9141-17a084f6e5ef___FREC_Pwd.M 4475.JPG\u001b[m\n\t\u001b[31mdeleted:    inputs/mildew_dataset/cherry-leaves/train/powdery_mildew/a2bf26c3-9f0b-4b47-be11-ab058cc9a133___FREC_Pwd.M 5165_flipLR.JPG\u001b[m\n\t\u001b[31mdeleted:    inputs/mildew_dataset/cherry-leaves/train/powdery_mildew/a6015a83-8f5e-4e1b-bede-d326e49efc1f___FREC_Pwd.M 4780_flipLR.JPG\u001b[m\n\t\u001b[31mdeleted:    inputs/mildew_dataset/cherry-leaves/train/powdery_mildew/a6d1f85a-bb21-40d2-822e-aa603d8b2a65___FREC_Pwd.M 4541_flipLR.JPG\u001b[m\n\t\u001b[31mdeleted:    inputs/mildew_dataset/cherry-leaves/train/powdery_mildew/a80d12ff-1263-4196-87eb-1634495fc7a7___FREC_Pwd.M 0382.JPG\u001b[m\n\t\u001b[31mdeleted:    inputs/mildew_dataset/cherry-leaves/train/powdery_mildew/a92ff182-8a3f-486f-81dd-8c866b28e0a6___FREC_Pwd.M 4902.JPG\u001b[m\n\t\u001b[31mdeleted:    inputs/mildew_dataset/cherry-leaves/train/powdery_mildew/ada55066-abf9-4e86-99b6-6f06adbc85f2___FREC_Pwd.M 4518.JPG\u001b[m\n\t\u001b[31mdeleted:    inputs/mildew_dataset/cherry-leaves/train/powdery_mildew/b3aa0d92-9de0-4889-b95d-124b035c05a2___FREC_Pwd.M 4675_flipLR.JPG\u001b[m\n\t\u001b[31mdeleted:    inputs/mildew_dataset/cherry-leaves/train/powdery_mildew/be3fa929-9035-41bf-adfb-e55f97fab802___FREC_Pwd.M 4684_flipLR.JPG\u001b[m\n\t\u001b[31mdeleted:    inputs/mildew_dataset/cherry-leaves/train/powdery_mildew/be4d3a56-be53-4b0d-8b0b-9ff088a4ad92___FREC_Pwd.M 4854.JPG\u001b[m\n\t\u001b[31mdeleted:    inputs/mildew_dataset/cherry-leaves/train/powdery_mildew/c820f802-f07d-4a7e-b9fd-183dacec6f0f___FREC_Pwd.M 0505.JPG\u001b[m\n\t\u001b[31mdeleted:    inputs/mildew_dataset/cherry-leaves/train/powdery_mildew/cb5807a3-cdda-4f87-b17a-be25c42ef72b___FREC_Pwd.M 0587_flipLR.JPG\u001b[m\n\t\u001b[31mdeleted:    inputs/mildew_dataset/cherry-leaves/train/powdery_mildew/cbdddf3a-11c7-4d26-b2f9-a4e47a509c9a___FREC_Pwd.M 4984_flipLR.JPG\u001b[m\n\t\u001b[31mdeleted:    inputs/mildew_dataset/cherry-leaves/train/powdery_mildew/cd107c83-8873-495c-9203-3b7179647522___FREC_Pwd.M 4747_flipLR.JPG\u001b[m\n\t\u001b[31mdeleted:    inputs/mildew_dataset/cherry-leaves/train/powdery_mildew/d53e4b45-41d9-4cea-9f79-80e99bac6a95___FREC_Pwd.M 4948.JPG\u001b[m\n\t\u001b[31mdeleted:    inputs/mildew_dataset/cherry-leaves/train/powdery_mildew/d6c35437-9ee4-469c-b9a0-91bae0d73eae___FREC_Pwd.M 4554_flipLR.JPG\u001b[m\n\t\u001b[31mdeleted:    inputs/mildew_dataset/cherry-leaves/train/powdery_mildew/d9df7ba0-fe57-45f3-871a-9d1c87117d2e___FREC_Pwd.M 4648_flipLR.JPG\u001b[m\n\t\u001b[31mdeleted:    inputs/mildew_dataset/cherry-leaves/train/powdery_mildew/dd6a34da-d476-471e-ad72-f7ac94236416___FREC_Pwd.M 0365_flipLR.JPG\u001b[m\n\t\u001b[31mdeleted:    inputs/mildew_dataset/cherry-leaves/train/powdery_mildew/dd9b1943-fdfa-468a-a09c-c80fbdde7c5d___FREC_Pwd.M 0247_flipLR.JPG\u001b[m\n\t\u001b[31mdeleted:    inputs/mildew_dataset/cherry-leaves/train/powdery_mildew/df8ae90b-7bb7-4e17-bc88-20c58ea9e82b___FREC_Pwd.M 4696_flipLR.JPG\u001b[m\n\t\u001b[31mdeleted:    inputs/mildew_dataset/cherry-leaves/train/powdery_mildew/e0418659-4eae-4751-9e5f-6316d2bfaf46___FREC_Pwd.M 0409.JPG\u001b[m\n\t\u001b[31mdeleted:    inputs/mildew_dataset/cherry-leaves/train/powdery_mildew/e1c64177-d299-42a7-9d72-7ec29a326460___FREC_Pwd.M 4834.JPG\u001b[m\n\t\u001b[31mdeleted:    inputs/mildew_dataset/cherry-leaves/train/powdery_mildew/e2d9d3c3-0472-4509-ae44-1ac52e4ed23a___FREC_Pwd.M 4888.JPG\u001b[m\n\t\u001b[31mdeleted:    inputs/mildew_dataset/cherry-leaves/train/powdery_mildew/e6848849-e8d5-4703-8595-c4eef77bf5ea___FREC_Pwd.M 0446.JPG\u001b[m\n\t\u001b[31mdeleted:    inputs/mildew_dataset/cherry-leaves/train/powdery_mildew/e7fe2094-95a1-40fe-ba1d-687ab0756edb___FREC_Pwd.M 0541_flipLR.JPG\u001b[m\n\t\u001b[31mdeleted:    inputs/mildew_dataset/cherry-leaves/train/powdery_mildew/e815da85-2217-4f25-8c16-e64ad69b6404___FREC_Pwd.M 0431_flipLR.JPG\u001b[m\n\t\u001b[31mdeleted:    inputs/mildew_dataset/cherry-leaves/train/powdery_mildew/e8abf13a-ddfe-4dd8-b397-9ac7484279cf___FREC_Pwd.M 0557.JPG\u001b[m\n\t\u001b[31mdeleted:    inputs/mildew_dataset/cherry-leaves/train/powdery_mildew/e93cfbbd-e8ca-46a9-b709-00d28fce4c51___FREC_Pwd.M 0468.JPG\u001b[m\n\t\u001b[31mdeleted:    inputs/mildew_dataset/cherry-leaves/train/powdery_mildew/e97b9522-a04c-4b63-9062-8b857022509d___FREC_Pwd.M 0544.JPG\u001b[m\n\t\u001b[31mdeleted:    inputs/mildew_dataset/cherry-leaves/train/powdery_mildew/ecfa631d-ef69-40b9-baba-f7ac469987d2___FREC_Pwd.M 0379.JPG\u001b[m\n\t\u001b[31mdeleted:    inputs/mildew_dataset/cherry-leaves/train/powdery_mildew/ed259920-d6b8-4023-bc7b-b37c371a7b85___FREC_Pwd.M 4789_flipLR.JPG\u001b[m\n\t\u001b[31mdeleted:    inputs/mildew_dataset/cherry-leaves/train/powdery_mildew/ef0039cb-e261-4019-86a1-db6287829885___FREC_Pwd.M 0276.JPG\u001b[m\n\t\u001b[31mdeleted:    inputs/mildew_dataset/cherry-leaves/train/powdery_mildew/ef6ede1b-32db-433e-afc6-c39cb318f58e___FREC_Pwd.M 0506_flipLR.JPG\u001b[m\n\t\u001b[31mdeleted:    inputs/mildew_dataset/cherry-leaves/train/powdery_mildew/f2195961-ff27-4628-a344-72aae1d750b4___FREC_Pwd.M 4476_flipLR.JPG\u001b[m\n\t\u001b[31mdeleted:    inputs/mildew_dataset/cherry-leaves/train/powdery_mildew/f60d6eac-3014-44cf-b11b-c4c99ef4b0ba___FREC_Pwd.M 4715.JPG\u001b[m\n\t\u001b[31mdeleted:    inputs/mildew_dataset/cherry-leaves/train/powdery_mildew/f9699ceb-b9c3-43f5-8968-d6afa32a0153___FREC_Pwd.M 5160_flipLR.JPG\u001b[m\n\t\u001b[31mdeleted:    inputs/mildew_dataset/cherry-leaves/train/powdery_mildew/fc5a6065-20bd-440d-92fd-03457bdb8614___FREC_Pwd.M 4589_flipLR.JPG\u001b[m\n\t\u001b[31mdeleted:    inputs/mildew_dataset/cherry-leaves/train/powdery_mildew/fdf38a3e-2855-4a4c-8094-9cfd9a94d037___FREC_Pwd.M 0351_flipLR.JPG\u001b[m\n\t\u001b[31mdeleted:    jupyter_notebooks/data_aug_model.ipynb\u001b[m\n\t\u001b[31mmodified:   jupyter_notebooks/data_collection.ipynb\u001b[m\n\nUntracked files:\n  (use \"git add <file>...\" to include in what will be committed)\n\t\u001b[31mdata_aug_model.ipynb\u001b[m\n\nno changes added to commit (use \"git add\" and/or \"git commit -a\")\n"
        }
      ],
      "source": [
        "!git status"
      ]
    },
    {
      "attachments": {},
      "cell_type": "markdown",
      "metadata": {},
      "source": [
        "### Git add"
      ]
    },
    {
      "cell_type": "code",
      "execution_count": 16,
      "metadata": {},
      "outputs": [],
      "source": [
        "!git add ."
      ]
    },
    {
      "attachments": {},
      "cell_type": "markdown",
      "metadata": {},
      "source": [
        "### Git commit"
      ]
    },
    {
      "cell_type": "code",
      "execution_count": 17,
      "metadata": {
        "tags": [
          "outputPrepend"
        ]
      },
      "outputs": [
        {
          "output_type": "stream",
          "name": "stdout",
          "text": "te mode 100644 inputs/mildew_dataset/cherry-leaves/train/healthy/92cd65f0-9866-4985-b706-733e8c53ed83___JR_HL 4007_180deg.JPG\n delete mode 100644 inputs/mildew_dataset/cherry-leaves/train/healthy/9345e6d2-0aeb-4e09-a8ba-d5c64bda1fa5___JR_HL 4034_180deg.JPG\n delete mode 100644 inputs/mildew_dataset/cherry-leaves/train/healthy/9362fc4a-ac87-489d-8572-f15335af1387___JR_HL 9875_flipTB.JPG\n delete mode 100644 inputs/mildew_dataset/cherry-leaves/train/healthy/93c3cace-b855-4282-917b-8dcd30e8c1d7___JR_HL 9702_flipTB.JPG\n delete mode 100644 inputs/mildew_dataset/cherry-leaves/train/healthy/94070a24-1b16-4696-b051-b01d4ca0b59a___JR_HL 4022_flipTB.JPG\n delete mode 100644 inputs/mildew_dataset/cherry-leaves/train/healthy/97df0152-e34f-4b34-bb2e-b2d9aadb19ee___JR_HL 4209.JPG\n delete mode 100644 inputs/mildew_dataset/cherry-leaves/train/healthy/991f9446-4cb6-41a8-b6ef-c2ee9e500c7b___JR_HL 9735_180deg.JPG\n delete mode 100644 inputs/mildew_dataset/cherry-leaves/train/healthy/9b15b47c-53e0-4873-b51c-d2b6e316d56c___JR_HL 4180_flipTB.JPG\n delete mode 100644 inputs/mildew_dataset/cherry-leaves/train/healthy/9d9363f1-b9cc-4c44-8225-aa6734763c3c___JR_HL 9579_flipTB.JPG\n delete mode 100644 inputs/mildew_dataset/cherry-leaves/train/healthy/9f57292a-576b-4ae8-a71a-cdaf42bcd6b7___JR_HL 9861_180deg.JPG\n delete mode 100644 inputs/mildew_dataset/cherry-leaves/train/healthy/9fcc3c88-5083-43a8-a65e-3ac55558ca1d___JR_HL 9633_180deg.JPG\n delete mode 100644 inputs/mildew_dataset/cherry-leaves/train/healthy/a195fb52-151e-4fe3-9557-52ae62b5ace4___JR_HL 9859_180deg.JPG\n delete mode 100644 inputs/mildew_dataset/cherry-leaves/train/healthy/a2196e0d-52fc-4194-8127-98076bd3a6fc___JR_HL 4241.JPG\n delete mode 100644 inputs/mildew_dataset/cherry-leaves/train/healthy/a4781448-2096-4390-bf06-cf2ee074dc2b___JR_HL 4213_flipTB.JPG\n delete mode 100644 inputs/mildew_dataset/cherry-leaves/train/healthy/a5aafeac-4d2f-4bd2-835e-79506ec7e458___JR_HL 4228.JPG\n delete mode 100644 inputs/mildew_dataset/cherry-leaves/train/healthy/a5acd354-cbb4-42fb-ac89-4c2ee84955d6___JR_HL 9486_flipTB.JPG\n delete mode 100644 inputs/mildew_dataset/cherry-leaves/train/healthy/a684ee42-fe12-4ccb-ae9c-a55d4322a817___JR_HL 9876.JPG\n delete mode 100644 inputs/mildew_dataset/cherry-leaves/train/healthy/a86c3594-fe38-4647-9642-0695ce9ec40e___JR_HL 9688.JPG\n delete mode 100644 inputs/mildew_dataset/cherry-leaves/train/healthy/a86c3594-fe38-4647-9642-0695ce9ec40e___JR_HL 9688_180deg.JPG\n delete mode 100644 inputs/mildew_dataset/cherry-leaves/train/healthy/ac392c19-68f4-41aa-9923-2be5483a0b4c___JR_HL 9802_flipTB.JPG\n delete mode 100644 inputs/mildew_dataset/cherry-leaves/train/healthy/af395454-9418-4504-ad49-a678f9d63302___JR_HL 4161_180deg.JPG\n delete mode 100644 inputs/mildew_dataset/cherry-leaves/train/healthy/af85c82e-b339-437d-a443-f13ee6194cb5___JR_HL 4321_flipTB.JPG\n delete mode 100644 inputs/mildew_dataset/cherry-leaves/train/healthy/b4f21001-a18e-46ca-9185-3172ef2a0de2___JR_HL 3934_flipTB.JPG\n delete mode 100644 inputs/mildew_dataset/cherry-leaves/train/healthy/b7b1918d-d608-4aa0-9990-f0ff9a90b414___JR_HL 4144_180deg.JPG\n delete mode 100644 inputs/mildew_dataset/cherry-leaves/train/healthy/b8b81fac-673a-4f90-849e-b1fa9cd255df___JR_HL 4060.JPG\n delete mode 100644 inputs/mildew_dataset/cherry-leaves/train/healthy/bbf73155-4f12-41a1-b087-38b078e646a1___JR_HL 9592.JPG\n delete mode 100644 inputs/mildew_dataset/cherry-leaves/train/healthy/bbf73155-4f12-41a1-b087-38b078e646a1___JR_HL 9592_180deg.JPG\n delete mode 100644 inputs/mildew_dataset/cherry-leaves/train/healthy/c019b1dd-288e-4914-9abb-348e33cec899___JR_HL 4157_flipTB.JPG\n delete mode 100644 inputs/mildew_dataset/cherry-leaves/train/healthy/c1011062-7bbf-45b2-bca2-1de3e5c5cd9a___JR_HL 4258.JPG\n delete mode 100644 inputs/mildew_dataset/cherry-leaves/train/healthy/c36d1d7a-7e76-4be2-a637-e544f8210db8___JR_HL 9680_flipTB.JPG\n delete mode 100644 inputs/mildew_dataset/cherry-leaves/train/healthy/c58da3fc-4c6b-4de9-98a2-500e26cee46d___JR_HL 9544_180deg.JPG\n delete mode 100644 inputs/mildew_dataset/cherry-leaves/train/healthy/c6645e0d-17a5-4d1b-936c-84c61e847b50___JR_HL 9446_180deg.JPG\n delete mode 100644 inputs/mildew_dataset/cherry-leaves/train/healthy/c6645e0d-17a5-4d1b-936c-84c61e847b50___JR_HL 9446_flipTB.JPG\n delete mode 100644 inputs/mildew_dataset/cherry-leaves/train/healthy/c7003e27-49fe-4b61-a6d2-a72c7595f297___JR_HL 9893.JPG\n delete mode 100644 inputs/mildew_dataset/cherry-leaves/train/healthy/c89bc3c2-97d5-4e38-a090-3ba121a17adf___JR_HL 4179.JPG\n delete mode 100644 inputs/mildew_dataset/cherry-leaves/train/healthy/cbb4bd24-9572-4235-a9c1-e6b73118b7d5___JR_HL 4120_flipTB.JPG\n delete mode 100644 inputs/mildew_dataset/cherry-leaves/train/healthy/cf4b0e6e-7847-496b-ae4b-eb8466631c05___JR_HL 9624_flipTB.JPG\n delete mode 100644 inputs/mildew_dataset/cherry-leaves/train/healthy/cf8f368a-e5bf-4382-bcab-d84f4530a558___JR_HL 3927_flipTB.JPG\n delete mode 100644 inputs/mildew_dataset/cherry-leaves/train/healthy/d03d7e87-1375-490a-bb4a-b7dd2480f123___JR_HL 9476_flipTB.JPG\n delete mode 100644 inputs/mildew_dataset/cherry-leaves/train/healthy/d1113e15-85d4-48a1-8323-f65c688ecf8c___JR_HL 9654.JPG\n delete mode 100644 inputs/mildew_dataset/cherry-leaves/train/healthy/d699b1fd-0743-4406-b7b2-72ced5b5090c___JR_HL 9730_180deg.JPG\n delete mode 100644 inputs/mildew_dataset/cherry-leaves/train/healthy/d949b740-17da-4264-90a2-561c41ca9d65___JR_HL 9712_180deg.JPG\n delete mode 100644 inputs/mildew_dataset/cherry-leaves/train/healthy/dc8ada8f-338c-4428-8878-b3d91f038374___JR_HL 9545_180deg.JPG\n delete mode 100644 inputs/mildew_dataset/cherry-leaves/train/healthy/de0655ff-6232-485c-9986-c636c679685e___JR_HL 4196_flipTB.JPG\n delete mode 100644 inputs/mildew_dataset/cherry-leaves/train/healthy/de556ebb-05fb-448c-b83d-7b159bb3c5ae___JR_HL 9740.JPG\n delete mode 100644 inputs/mildew_dataset/cherry-leaves/train/healthy/defa124c-873c-4a35-92d1-28a2dc137957___JR_HL 9532_180deg.JPG\n delete mode 100644 inputs/mildew_dataset/cherry-leaves/train/healthy/df2935bd-3e9b-4da1-8bba-5a449503f773___JR_HL 9508_180deg.JPG\n delete mode 100644 inputs/mildew_dataset/cherry-leaves/train/healthy/df95bcf4-3948-4770-bd4f-0d05a23264ed___JR_HL 4253_180deg.JPG\n delete mode 100644 inputs/mildew_dataset/cherry-leaves/train/healthy/e4f9ab10-b650-42bb-abcb-e5577ffcc1fe___JR_HL 9629.JPG\n delete mode 100644 inputs/mildew_dataset/cherry-leaves/train/healthy/e6b37a71-e89d-40e7-8675-21246271756a___JR_HL 9450.JPG\n delete mode 100644 inputs/mildew_dataset/cherry-leaves/train/healthy/e784cda7-7006-44e5-9578-43b6b26fa4b6___JR_HL 4043.JPG\n delete mode 100644 inputs/mildew_dataset/cherry-leaves/train/healthy/eaf3b9b2-6372-4333-b1ff-297485cd3656___JR_HL 9565_180deg.JPG\n delete mode 100644 inputs/mildew_dataset/cherry-leaves/train/powdery_mildew/00e0a4ab-ecbd-4560-a71c-b19d86bb087c___FREC_Pwd.M 4917_flipLR.JPG\n delete mode 100644 inputs/mildew_dataset/cherry-leaves/train/powdery_mildew/041d97fc-da3d-4420-8f6f-2be0e7070f28___FREC_Pwd.M 0392_flipLR.JPG\n delete mode 100644 inputs/mildew_dataset/cherry-leaves/train/powdery_mildew/042ef107-ff5c-4b88-8597-70fc7e82f178___FREC_Pwd.M 4624.JPG\n delete mode 100644 inputs/mildew_dataset/cherry-leaves/train/powdery_mildew/063a1f13-313b-4ed5-bf9f-cc8b6ceff957___FREC_Pwd.M 4758_flipLR.JPG\n delete mode 100644 inputs/mildew_dataset/cherry-leaves/train/powdery_mildew/0711a85e-1e8f-47a3-a9ce-841af3f77544___FREC_Pwd.M 0497_flipLR.JPG\n delete mode 100644 inputs/mildew_dataset/cherry-leaves/train/powdery_mildew/081459be-800b-428c-a45e-3431c10fab63___FREC_Pwd.M 5140_flipLR.JPG\n delete mode 100644 inputs/mildew_dataset/cherry-leaves/train/powdery_mildew/167d6c02-d49c-4571-b9b8-6d77be09dfb4___FREC_Pwd.M 0256.JPG\n delete mode 100644 inputs/mildew_dataset/cherry-leaves/train/powdery_mildew/176d6faf-285c-4bf0-a643-cdfa9b4c741d___FREC_Pwd.M 0348_flipLR.JPG\n delete mode 100644 inputs/mildew_dataset/cherry-leaves/train/powdery_mildew/1a64abff-82d4-45dc-b984-f1a5e6a5229e___FREC_Pwd.M 4952.JPG\n delete mode 100644 inputs/mildew_dataset/cherry-leaves/train/powdery_mildew/1f58631e-fd2c-4a0f-8cea-bc8a9feee0eb___FREC_Pwd.M 0285_flipLR.JPG\n delete mode 100644 inputs/mildew_dataset/cherry-leaves/train/powdery_mildew/20a0fb52-b873-433d-9969-78c1a8d9d232___FREC_Pwd.M 4594.JPG\n delete mode 100644 inputs/mildew_dataset/cherry-leaves/train/powdery_mildew/23572444-7b88-4f2d-8178-d825b8d3f939___FREC_Pwd.M 0591.JPG\n delete mode 100644 inputs/mildew_dataset/cherry-leaves/train/powdery_mildew/26cdf0b5-906d-4341-a07b-d8d9ec21cda7___FREC_Pwd.M 5151_flipLR.JPG\n delete mode 100644 inputs/mildew_dataset/cherry-leaves/train/powdery_mildew/28dbfc6e-d023-40e6-aa85-8164fd960707___FREC_Pwd.M 4719_flipLR.JPG\n delete mode 100644 inputs/mildew_dataset/cherry-leaves/train/powdery_mildew/30f5084a-f9c5-4ba0-839f-c000a0ad0608___FREC_Pwd.M 5131_flipLR.JPG\n delete mode 100644 inputs/mildew_dataset/cherry-leaves/train/powdery_mildew/327470f8-b708-4976-b2fa-873da3ef6b39___FREC_Pwd.M 0319.JPG\n delete mode 100644 inputs/mildew_dataset/cherry-leaves/train/powdery_mildew/3531b280-cdf5-4983-b83e-21259674d575___FREC_Pwd.M 4907_flipLR.JPG\n delete mode 100644 inputs/mildew_dataset/cherry-leaves/train/powdery_mildew/3632065f-bc6e-486c-9f86-c0d37edbb762___FREC_Pwd.M 4487_flipLR.JPG\n delete mode 100644 inputs/mildew_dataset/cherry-leaves/train/powdery_mildew/3928d15a-b841-4524-a5be-b34546c358f2___FREC_Pwd.M 0324_flipLR.JPG\n delete mode 100644 inputs/mildew_dataset/cherry-leaves/train/powdery_mildew/3983b22e-b3b0-464f-b623-bf9131cb513a___FREC_Pwd.M 4741.JPG\n delete mode 100644 inputs/mildew_dataset/cherry-leaves/train/powdery_mildew/3e259f31-d7a8-4999-b0e6-12c74e98687a___FREC_Pwd.M 4791.JPG\n delete mode 100644 inputs/mildew_dataset/cherry-leaves/train/powdery_mildew/42435498-17af-4a69-acbd-c552cbdc2761___FREC_Pwd.M 4604.JPG\n delete mode 100644 inputs/mildew_dataset/cherry-leaves/train/powdery_mildew/43ed2a9b-8f85-4a79-b830-bbbeba856e79___FREC_Pwd.M 4498.JPG\n delete mode 100644 inputs/mildew_dataset/cherry-leaves/train/powdery_mildew/443f2ed2-dacc-4f1b-8cfe-bfc2e4c3155d___FREC_Pwd.M 5157_flipLR.JPG\n delete mode 100644 inputs/mildew_dataset/cherry-leaves/train/powdery_mildew/48a8b952-2746-4a2d-95f0-18f6efcaa834___FREC_Pwd.M 4794_flipLR.JPG\n delete mode 100644 inputs/mildew_dataset/cherry-leaves/train/powdery_mildew/4a681bd1-f177-4079-a67c-890eaa1fb016___FREC_Pwd.M 5097_flipLR.JPG\n delete mode 100644 inputs/mildew_dataset/cherry-leaves/train/powdery_mildew/50acb035-381b-46f2-83df-853cb40a9d25___FREC_Pwd.M 4869_flipLR.JPG\n delete mode 100644 inputs/mildew_dataset/cherry-leaves/train/powdery_mildew/570b41af-d7c0-4ef0-a403-0824a2f4d408___FREC_Pwd.M 5018.JPG\n delete mode 100644 inputs/mildew_dataset/cherry-leaves/train/powdery_mildew/58d680f4-c586-47d0-98a6-0e89ad4f8ff2___FREC_Pwd.M 0401_flipLR.JPG\n delete mode 100644 inputs/mildew_dataset/cherry-leaves/train/powdery_mildew/596a3002-0685-4b75-a782-1ed69092f23c___FREC_Pwd.M 4654.JPG\n delete mode 100644 inputs/mildew_dataset/cherry-leaves/train/powdery_mildew/5aa2ca92-de44-41cc-97c1-3a622d885337___FREC_Pwd.M 4490.JPG\n delete mode 100644 inputs/mildew_dataset/cherry-leaves/train/powdery_mildew/5c889ff2-b516-4333-ba98-d6f31b95efa8___FREC_Pwd.M 4620_flipLR.JPG\n delete mode 100644 inputs/mildew_dataset/cherry-leaves/train/powdery_mildew/6549d4d7-4649-4059-8f94-e106f268119c___FREC_Pwd.M 0458_flipLR.JPG\n delete mode 100644 inputs/mildew_dataset/cherry-leaves/train/powdery_mildew/6a076e30-41cb-409c-9209-97e6ed8aa6fb___FREC_Pwd.M 0410.JPG\n delete mode 100644 inputs/mildew_dataset/cherry-leaves/train/powdery_mildew/6afaaa95-dada-4f34-a0ed-db10134b5a7e___FREC_Pwd.M 5065.JPG\n delete mode 100644 inputs/mildew_dataset/cherry-leaves/train/powdery_mildew/6c4ba807-3b6f-4041-bc17-c268b52bc05f___FREC_Pwd.M 4623_flipLR.JPG\n delete mode 100644 inputs/mildew_dataset/cherry-leaves/train/powdery_mildew/6d700706-12f6-40a3-b293-699aabce7ba0___FREC_Pwd.M 0288.JPG\n delete mode 100644 inputs/mildew_dataset/cherry-leaves/train/powdery_mildew/73dc8186-cfe1-4021-8697-ed4e3cf16568___FREC_Pwd.M 0282_flipLR.JPG\n delete mode 100644 inputs/mildew_dataset/cherry-leaves/train/powdery_mildew/75e036a9-2c97-4b9a-816c-54424c51127a___FREC_Pwd.M 5013_flipLR.JPG\n delete mode 100644 inputs/mildew_dataset/cherry-leaves/train/powdery_mildew/7665ae36-28ec-4350-9798-89b4a32e32a8___FREC_Pwd.M 5124_flipLR.JPG\n delete mode 100644 inputs/mildew_dataset/cherry-leaves/train/powdery_mildew/77e3b2c2-5e50-467f-b081-91a84f9d6436___FREC_Pwd.M 0258_flipLR.JPG\n delete mode 100644 inputs/mildew_dataset/cherry-leaves/train/powdery_mildew/7c8e53d5-bb27-4fda-b7a0-1d1713d2bb3a___FREC_Pwd.M 4764.JPG\n delete mode 100644 inputs/mildew_dataset/cherry-leaves/train/powdery_mildew/82cad357-576b-4e8f-9d46-8db17d592d4d___FREC_Pwd.M 0411_flipLR.JPG\n delete mode 100644 inputs/mildew_dataset/cherry-leaves/train/powdery_mildew/879dacc2-8446-40dc-818e-a6a025c95673___FREC_Pwd.M 4617.JPG\n delete mode 100644 inputs/mildew_dataset/cherry-leaves/train/powdery_mildew/886e024a-ae28-4692-96dd-f8c7a5c38c19___FREC_Pwd.M 4759_flipLR.JPG\n delete mode 100644 inputs/mildew_dataset/cherry-leaves/train/powdery_mildew/898cc60e-bae8-41c9-9695-cfafff82bce6___FREC_Pwd.M 5091_flipLR.JPG\n delete mode 100644 inputs/mildew_dataset/cherry-leaves/train/powdery_mildew/8a07cd65-72a0-4b6f-a393-7e2d3e3274d0___FREC_Pwd.M 4737.JPG\n delete mode 100644 inputs/mildew_dataset/cherry-leaves/train/powdery_mildew/8ad6e23a-7ad5-47a7-a2e3-55655ef64ccd___FREC_Pwd.M 4461_flipLR.JPG\n delete mode 100644 inputs/mildew_dataset/cherry-leaves/train/powdery_mildew/935d5fc7-11d0-4739-98a0-2aa0224ee62d___FREC_Pwd.M 4955_flipLR.JPG\n delete mode 100644 inputs/mildew_dataset/cherry-leaves/train/powdery_mildew/945f0cfe-c6da-4164-92f6-900acad26611___FREC_Pwd.M 4486_flipLR.JPG\n delete mode 100644 inputs/mildew_dataset/cherry-leaves/train/powdery_mildew/9874295e-fe0f-4408-88b0-0402a272041a___FREC_Pwd.M 0292_flipLR.JPG\n delete mode 100644 inputs/mildew_dataset/cherry-leaves/train/powdery_mildew/994248c0-09b3-45d7-abee-d7bc761672aa___FREC_Pwd.M 0508.JPG\n delete mode 100644 inputs/mildew_dataset/cherry-leaves/train/powdery_mildew/9af3c619-59ed-4037-8106-26af5fadc388___FREC_Pwd.M 5011.JPG\n delete mode 100644 inputs/mildew_dataset/cherry-leaves/train/powdery_mildew/9be8e2c0-0b9d-4fdf-9c58-08fc384349e7___FREC_Pwd.M 0507.JPG\n delete mode 100644 inputs/mildew_dataset/cherry-leaves/train/powdery_mildew/9e549db4-f6b2-4f65-a2d9-bcddb6f14f0d___FREC_Pwd.M 4718.JPG\n delete mode 100644 inputs/mildew_dataset/cherry-leaves/train/powdery_mildew/a0797810-e1df-4171-80f6-25f02fea33d1___FREC_Pwd.M 4796_flipLR.JPG\n delete mode 100644 inputs/mildew_dataset/cherry-leaves/train/powdery_mildew/a1e9c49a-5188-4441-8918-60c4719dc313___FREC_Pwd.M 0558.JPG\n delete mode 100644 inputs/mildew_dataset/cherry-leaves/train/powdery_mildew/a21fb672-e50e-40eb-9141-17a084f6e5ef___FREC_Pwd.M 4475.JPG\n delete mode 100644 inputs/mildew_dataset/cherry-leaves/train/powdery_mildew/a2bf26c3-9f0b-4b47-be11-ab058cc9a133___FREC_Pwd.M 5165_flipLR.JPG\n delete mode 100644 inputs/mildew_dataset/cherry-leaves/train/powdery_mildew/a6015a83-8f5e-4e1b-bede-d326e49efc1f___FREC_Pwd.M 4780_flipLR.JPG\n delete mode 100644 inputs/mildew_dataset/cherry-leaves/train/powdery_mildew/a6d1f85a-bb21-40d2-822e-aa603d8b2a65___FREC_Pwd.M 4541_flipLR.JPG\n delete mode 100644 inputs/mildew_dataset/cherry-leaves/train/powdery_mildew/a80d12ff-1263-4196-87eb-1634495fc7a7___FREC_Pwd.M 0382.JPG\n delete mode 100644 inputs/mildew_dataset/cherry-leaves/train/powdery_mildew/a92ff182-8a3f-486f-81dd-8c866b28e0a6___FREC_Pwd.M 4902.JPG\n delete mode 100644 inputs/mildew_dataset/cherry-leaves/train/powdery_mildew/ada55066-abf9-4e86-99b6-6f06adbc85f2___FREC_Pwd.M 4518.JPG\n delete mode 100644 inputs/mildew_dataset/cherry-leaves/train/powdery_mildew/b3aa0d92-9de0-4889-b95d-124b035c05a2___FREC_Pwd.M 4675_flipLR.JPG\n delete mode 100644 inputs/mildew_dataset/cherry-leaves/train/powdery_mildew/be3fa929-9035-41bf-adfb-e55f97fab802___FREC_Pwd.M 4684_flipLR.JPG\n delete mode 100644 inputs/mildew_dataset/cherry-leaves/train/powdery_mildew/be4d3a56-be53-4b0d-8b0b-9ff088a4ad92___FREC_Pwd.M 4854.JPG\n delete mode 100644 inputs/mildew_dataset/cherry-leaves/train/powdery_mildew/c820f802-f07d-4a7e-b9fd-183dacec6f0f___FREC_Pwd.M 0505.JPG\n delete mode 100644 inputs/mildew_dataset/cherry-leaves/train/powdery_mildew/cb5807a3-cdda-4f87-b17a-be25c42ef72b___FREC_Pwd.M 0587_flipLR.JPG\n delete mode 100644 inputs/mildew_dataset/cherry-leaves/train/powdery_mildew/cbdddf3a-11c7-4d26-b2f9-a4e47a509c9a___FREC_Pwd.M 4984_flipLR.JPG\n delete mode 100644 inputs/mildew_dataset/cherry-leaves/train/powdery_mildew/cd107c83-8873-495c-9203-3b7179647522___FREC_Pwd.M 4747_flipLR.JPG\n delete mode 100644 inputs/mildew_dataset/cherry-leaves/train/powdery_mildew/d53e4b45-41d9-4cea-9f79-80e99bac6a95___FREC_Pwd.M 4948.JPG\n delete mode 100644 inputs/mildew_dataset/cherry-leaves/train/powdery_mildew/d6c35437-9ee4-469c-b9a0-91bae0d73eae___FREC_Pwd.M 4554_flipLR.JPG\n delete mode 100644 inputs/mildew_dataset/cherry-leaves/train/powdery_mildew/d9df7ba0-fe57-45f3-871a-9d1c87117d2e___FREC_Pwd.M 4648_flipLR.JPG\n delete mode 100644 inputs/mildew_dataset/cherry-leaves/train/powdery_mildew/dd6a34da-d476-471e-ad72-f7ac94236416___FREC_Pwd.M 0365_flipLR.JPG\n delete mode 100644 inputs/mildew_dataset/cherry-leaves/train/powdery_mildew/dd9b1943-fdfa-468a-a09c-c80fbdde7c5d___FREC_Pwd.M 0247_flipLR.JPG\n delete mode 100644 inputs/mildew_dataset/cherry-leaves/train/powdery_mildew/df8ae90b-7bb7-4e17-bc88-20c58ea9e82b___FREC_Pwd.M 4696_flipLR.JPG\n delete mode 100644 inputs/mildew_dataset/cherry-leaves/train/powdery_mildew/e0418659-4eae-4751-9e5f-6316d2bfaf46___FREC_Pwd.M 0409.JPG\n delete mode 100644 inputs/mildew_dataset/cherry-leaves/train/powdery_mildew/e1c64177-d299-42a7-9d72-7ec29a326460___FREC_Pwd.M 4834.JPG\n delete mode 100644 inputs/mildew_dataset/cherry-leaves/train/powdery_mildew/e2d9d3c3-0472-4509-ae44-1ac52e4ed23a___FREC_Pwd.M 4888.JPG\n delete mode 100644 inputs/mildew_dataset/cherry-leaves/train/powdery_mildew/e6848849-e8d5-4703-8595-c4eef77bf5ea___FREC_Pwd.M 0446.JPG\n delete mode 100644 inputs/mildew_dataset/cherry-leaves/train/powdery_mildew/e7fe2094-95a1-40fe-ba1d-687ab0756edb___FREC_Pwd.M 0541_flipLR.JPG\n delete mode 100644 inputs/mildew_dataset/cherry-leaves/train/powdery_mildew/e815da85-2217-4f25-8c16-e64ad69b6404___FREC_Pwd.M 0431_flipLR.JPG\n delete mode 100644 inputs/mildew_dataset/cherry-leaves/train/powdery_mildew/e8abf13a-ddfe-4dd8-b397-9ac7484279cf___FREC_Pwd.M 0557.JPG\n delete mode 100644 inputs/mildew_dataset/cherry-leaves/train/powdery_mildew/e93cfbbd-e8ca-46a9-b709-00d28fce4c51___FREC_Pwd.M 0468.JPG\n delete mode 100644 inputs/mildew_dataset/cherry-leaves/train/powdery_mildew/e97b9522-a04c-4b63-9062-8b857022509d___FREC_Pwd.M 0544.JPG\n delete mode 100644 inputs/mildew_dataset/cherry-leaves/train/powdery_mildew/ecfa631d-ef69-40b9-baba-f7ac469987d2___FREC_Pwd.M 0379.JPG\n delete mode 100644 inputs/mildew_dataset/cherry-leaves/train/powdery_mildew/ed259920-d6b8-4023-bc7b-b37c371a7b85___FREC_Pwd.M 4789_flipLR.JPG\n delete mode 100644 inputs/mildew_dataset/cherry-leaves/train/powdery_mildew/ef0039cb-e261-4019-86a1-db6287829885___FREC_Pwd.M 0276.JPG\n delete mode 100644 inputs/mildew_dataset/cherry-leaves/train/powdery_mildew/ef6ede1b-32db-433e-afc6-c39cb318f58e___FREC_Pwd.M 0506_flipLR.JPG\n delete mode 100644 inputs/mildew_dataset/cherry-leaves/train/powdery_mildew/f2195961-ff27-4628-a344-72aae1d750b4___FREC_Pwd.M 4476_flipLR.JPG\n delete mode 100644 inputs/mildew_dataset/cherry-leaves/train/powdery_mildew/f60d6eac-3014-44cf-b11b-c4c99ef4b0ba___FREC_Pwd.M 4715.JPG\n delete mode 100644 inputs/mildew_dataset/cherry-leaves/train/powdery_mildew/f9699ceb-b9c3-43f5-8968-d6afa32a0153___FREC_Pwd.M 5160_flipLR.JPG\n delete mode 100644 inputs/mildew_dataset/cherry-leaves/train/powdery_mildew/fc5a6065-20bd-440d-92fd-03457bdb8614___FREC_Pwd.M 4589_flipLR.JPG\n delete mode 100644 inputs/mildew_dataset/cherry-leaves/train/powdery_mildew/fdf38a3e-2855-4a4c-8094-9cfd9a94d037___FREC_Pwd.M 0351_flipLR.JPG\n"
        }
      ],
      "source": [
        "!git commit -am \"Add data collection\""
      ]
    },
    {
      "attachments": {},
      "cell_type": "markdown",
      "metadata": {},
      "source": [
        "### Git Push"
      ]
    },
    {
      "cell_type": "code",
      "execution_count": 18,
      "metadata": {
        "tags": []
      },
      "outputs": [
        {
          "output_type": "stream",
          "name": "stdout",
          "text": "Enumerating objects: 22, done.\nCounting objects: 100% (22/22), done.\nDelta compression using up to 4 threads\nCompressing objects: 100% (9/9)Compressing objects: 100% (9/9), done.\nWriting objects: 100% (12/12), 3.65 MiB | 6.51 MiB/s, done.\nTotal 12 (delta 5), reused 0 (delta 0), pack-reused 0\nremote: Resolving deltas: 100% (5/5), completed with 5 local objects.\u001b[K\nTo https://github.com/HumaIlyas/mildew-detection-in-cherry-leaves\n   3116d69..643d75d  main -> main\n"
        }
      ],
      "source": [
        "! git push"
      ]
    }
  ],
  "metadata": {
    "accelerator": "GPU",
    "colab": {
      "name": "Data Practitioner Jupyter Notebook.ipynb",
      "provenance": [],
      "toc_visible": true
    },
    "interpreter": {
      "hash": "8b8334dab9339717f727a1deaf837b322d7a41c20d15cc86be99a8e69ceec8ce"
    },
    "kernelspec": {
      "display_name": "Python 3.8.12 64-bit ('3.8.12': pyenv)",
      "name": "python381264bit3812pyenv4d4aa23360284f0f9d33856f19c6b82c"
    },
    "language_info": {
      "codemirror_mode": {
        "name": "ipython",
        "version": 3
      },
      "file_extension": ".py",
      "mimetype": "text/x-python",
      "name": "python",
      "nbconvert_exporter": "python",
      "pygments_lexer": "ipython3",
      "version": "3.8.12-final"
    },
    "orig_nbformat": 2
  },
  "nbformat": 4,
  "nbformat_minor": 2
}