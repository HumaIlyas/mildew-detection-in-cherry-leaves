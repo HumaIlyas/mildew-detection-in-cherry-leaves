{
  "cells": [
    {
      "attachments": {},
      "cell_type": "markdown",
      "metadata": {
        "id": "0aStgWSO0E0E"
      },
      "source": [
        "# **Data Collection - Fetch Dataset from Kaggle**"
      ]
    },
    {
      "attachments": {},
      "cell_type": "markdown",
      "metadata": {
        "id": "1eLEkw5O0ECa"
      },
      "source": [
        "## Objectives\n",
        "* Fetch data from Kaggle and save as raw data to prepare it for further processes.\n",
        "\n",
        "## Inputs\n",
        "* Kaggle JSON file - the authentication token \n",
        "\n",
        "## Outputs\n",
        "* Generate Dataset: inputs/mildew_dataset/cherry-leaves \n",
        "\n",
        "## Additional Comments\n",
        "* The client provided the data under an NDA (non-disclosure agreement), therefore the data should only be shared with professionals that are officially involved in the project.\n",
        "\n"
      ]
    },
    {
      "attachments": {},
      "cell_type": "markdown",
      "metadata": {},
      "source": [
        "## Import pagkages"
      ]
    },
    {
      "cell_type": "code",
      "execution_count": 1,
      "metadata": {
        "tags": [
          "outputPrepend"
        ]
      },
      "outputs": [
        {
          "output_type": "stream",
          "name": "stdout",
          "text": "/workspaces/mildew-detection-in-cherry-leaves/requirements.txt (line 1)) (1.19.2)\nRequirement already satisfied: pandas==1.1.2 in /home/codeany/.pyenv/versions/3.8.12/lib/python3.8/site-packages (from -r /workspaces/mildew-detection-in-cherry-leaves/requirements.txt (line 2)) (1.1.2)\nRequirement already satisfied: matplotlib==3.3.1 in /home/codeany/.pyenv/versions/3.8.12/lib/python3.8/site-packages (from -r /workspaces/mildew-detection-in-cherry-leaves/requirements.txt (line 3)) (3.3.1)\nRequirement already satisfied: seaborn==0.11.0 in /home/codeany/.pyenv/versions/3.8.12/lib/python3.8/site-packages (from -r /workspaces/mildew-detection-in-cherry-leaves/requirements.txt (line 4)) (0.11.0)\nRequirement already satisfied: plotly==4.12.0 in /home/codeany/.pyenv/versions/3.8.12/lib/python3.8/site-packages (from -r /workspaces/mildew-detection-in-cherry-leaves/requirements.txt (line 5)) (4.12.0)\nRequirement already satisfied: streamlit==0.85.0 in /home/codeany/.pyenv/versions/3.8.12/lib/python3.8/site-packages (from -r /workspaces/mildew-detection-in-cherry-leaves/requirements.txt (line 7)) (0.85.0)\nRequirement already satisfied: scikit-learn==0.24.2 in /home/codeany/.pyenv/versions/3.8.12/lib/python3.8/site-packages (from -r /workspaces/mildew-detection-in-cherry-leaves/requirements.txt (line 9)) (0.24.2)\nRequirement already satisfied: tensorflow-cpu==2.6.0 in /home/codeany/.pyenv/versions/3.8.12/lib/python3.8/site-packages (from -r /workspaces/mildew-detection-in-cherry-leaves/requirements.txt (line 10)) (2.6.0)\nRequirement already satisfied: keras==2.6.0 in /home/codeany/.pyenv/versions/3.8.12/lib/python3.8/site-packages (from -r /workspaces/mildew-detection-in-cherry-leaves/requirements.txt (line 11)) (2.6.0)\nRequirement already satisfied: protobuf==3.20 in /home/codeany/.pyenv/versions/3.8.12/lib/python3.8/site-packages (from -r /workspaces/mildew-detection-in-cherry-leaves/requirements.txt (line 12)) (3.20.0)\nRequirement already satisfied: python-dateutil>=2.7.3 in /home/codeany/.pyenv/versions/3.8.12/lib/python3.8/site-packages (from pandas==1.1.2->-r /workspaces/mildew-detection-in-cherry-leaves/requirements.txt (line 2)) (2.8.2)\nRequirement already satisfied: pytz>=2017.2 in /home/codeany/.pyenv/versions/3.8.12/lib/python3.8/site-packages (from pandas==1.1.2->-r /workspaces/mildew-detection-in-cherry-leaves/requirements.txt (line 2)) (2022.6)\nRequirement already satisfied: certifi>=2020.06.20 in /home/codeany/.pyenv/versions/3.8.12/lib/python3.8/site-packages (from matplotlib==3.3.1->-r /workspaces/mildew-detection-in-cherry-leaves/requirements.txt (line 3)) (2023.5.7)\nRequirement already satisfied: cycler>=0.10 in /home/codeany/.pyenv/versions/3.8.12/lib/python3.8/site-packages (from matplotlib==3.3.1->-r /workspaces/mildew-detection-in-cherry-leaves/requirements.txt (line 3)) (0.11.0)\nRequirement already satisfied: kiwisolver>=1.0.1 in /home/codeany/.pyenv/versions/3.8.12/lib/python3.8/site-packages (from matplotlib==3.3.1->-r /workspaces/mildew-detection-in-cherry-leaves/requirements.txt (line 3)) (1.4.4)\nRequirement already satisfied: pillow>=6.2.0 in /home/codeany/.pyenv/versions/3.8.12/lib/python3.8/site-packages (from matplotlib==3.3.1->-r /workspaces/mildew-detection-in-cherry-leaves/requirements.txt (line 3)) (9.3.0)\nRequirement already satisfied: pyparsing!=2.0.4,!=2.1.2,!=2.1.6,>=2.0.3 in /home/codeany/.pyenv/versions/3.8.12/lib/python3.8/site-packages (from matplotlib==3.3.1->-r /workspaces/mildew-detection-in-cherry-leaves/requirements.txt (line 3)) (3.1.0)\nRequirement already satisfied: scipy>=1.0 in /home/codeany/.pyenv/versions/3.8.12/lib/python3.8/site-packages (from seaborn==0.11.0->-r /workspaces/mildew-detection-in-cherry-leaves/requirements.txt (line 4)) (1.9.3)\nRequirement already satisfied: retrying>=1.3.3 in /home/codeany/.pyenv/versions/3.8.12/lib/python3.8/site-packages (from plotly==4.12.0->-r /workspaces/mildew-detection-in-cherry-leaves/requirements.txt (line 5)) (1.3.4)\nRequirement already satisfied: six in /home/codeany/.pyenv/versions/3.8.12/lib/python3.8/site-packages (from plotly==4.12.0->-r /workspaces/mildew-detection-in-cherry-leaves/requirements.txt (line 5)) (1.15.0)\nRequirement already satisfied: altair>=3.2.0 in /home/codeany/.pyenv/versions/3.8.12/lib/python3.8/site-packages (from streamlit==0.85.0->-r /workspaces/mildew-detection-in-cherry-leaves/requirements.txt (line 7)) (4.2.0)\nRequirement already satisfied: astor in /home/codeany/.pyenv/versions/3.8.12/lib/python3.8/site-packages (from streamlit==0.85.0->-r /workspaces/mildew-detection-in-cherry-leaves/requirements.txt (line 7)) (0.8.1)\nRequirement already satisfied: attrs in /home/codeany/.pyenv/versions/3.8.12/lib/python3.8/site-packages (from streamlit==0.85.0->-r /workspaces/mildew-detection-in-cherry-leaves/requirements.txt (line 7)) (23.1.0)\nRequirement already satisfied: base58 in /home/codeany/.pyenv/versions/3.8.12/lib/python3.8/site-packages (from streamlit==0.85.0->-r /workspaces/mildew-detection-in-cherry-leaves/requirements.txt (line 7)) (2.1.1)\nRequirement already satisfied: blinker in /home/codeany/.pyenv/versions/3.8.12/lib/python3.8/site-packages (from streamlit==0.85.0->-r /workspaces/mildew-detection-in-cherry-leaves/requirements.txt (line 7)) (1.5)\nRequirement already satisfied: cachetools>=4.0 in /home/codeany/.pyenv/versions/3.8.12/lib/python3.8/site-packages (from streamlit==0.85.0->-r /workspaces/mildew-detection-in-cherry-leaves/requirements.txt (line 7)) (5.2.0)\nRequirement already satisfied: click<8.0,>=7.0 in /home/codeany/.pyenv/versions/3.8.12/lib/python3.8/site-packages (from streamlit==0.85.0->-r /workspaces/mildew-detection-in-cherry-leaves/requirements.txt (line 7)) (7.1.2)\nRequirement already satisfied: packaging in /home/codeany/.pyenv/versions/3.8.12/lib/python3.8/site-packages (from streamlit==0.85.0->-r /workspaces/mildew-detection-in-cherry-leaves/requirements.txt (line 7)) (23.1)\nRequirement already satisfied: pyarrow in /home/codeany/.pyenv/versions/3.8.12/lib/python3.8/site-packages (from streamlit==0.85.0->-r /workspaces/mildew-detection-in-cherry-leaves/requirements.txt (line 7)) (10.0.1)\nRequirement already satisfied: pydeck>=0.1.dev5 in /home/codeany/.pyenv/versions/3.8.12/lib/python3.8/site-packages (from streamlit==0.85.0->-r /workspaces/mildew-detection-in-cherry-leaves/requirements.txt (line 7)) (0.8.0)\nRequirement already satisfied: requests in /home/codeany/.pyenv/versions/3.8.12/lib/python3.8/site-packages (from streamlit==0.85.0->-r /workspaces/mildew-detection-in-cherry-leaves/requirements.txt (line 7)) (2.31.0)\nRequirement already satisfied: toml in /home/codeany/.pyenv/versions/3.8.12/lib/python3.8/site-packages (from streamlit==0.85.0->-r /workspaces/mildew-detection-in-cherry-leaves/requirements.txt (line 7)) (0.10.2)\nRequirement already satisfied: tornado>=5.0 in /home/codeany/.pyenv/versions/3.8.12/lib/python3.8/site-packages (from streamlit==0.85.0->-r /workspaces/mildew-detection-in-cherry-leaves/requirements.txt (line 7)) (6.3.2)\nRequirement already satisfied: tzlocal in /home/codeany/.pyenv/versions/3.8.12/lib/python3.8/site-packages (from streamlit==0.85.0->-r /workspaces/mildew-detection-in-cherry-leaves/requirements.txt (line 7)) (4.2)\nRequirement already satisfied: validators in /home/codeany/.pyenv/versions/3.8.12/lib/python3.8/site-packages (from streamlit==0.85.0->-r /workspaces/mildew-detection-in-cherry-leaves/requirements.txt (line 7)) (0.20.0)\nRequirement already satisfied: gitpython in /home/codeany/.pyenv/versions/3.8.12/lib/python3.8/site-packages (from streamlit==0.85.0->-r /workspaces/mildew-detection-in-cherry-leaves/requirements.txt (line 7)) (3.1.31)\nRequirement already satisfied: watchdog in /home/codeany/.pyenv/versions/3.8.12/lib/python3.8/site-packages (from streamlit==0.85.0->-r /workspaces/mildew-detection-in-cherry-leaves/requirements.txt (line 7)) (2.1.9)\nRequirement already satisfied: joblib>=0.11 in /home/codeany/.pyenv/versions/3.8.12/lib/python3.8/site-packages (from scikit-learn==0.24.2->-r /workspaces/mildew-detection-in-cherry-leaves/requirements.txt (line 9)) (1.2.0)\nRequirement already satisfied: threadpoolctl>=2.0.0 in /home/codeany/.pyenv/versions/3.8.12/lib/python3.8/site-packages (from scikit-learn==0.24.2->-r /workspaces/mildew-detection-in-cherry-leaves/requirements.txt (line 9)) (3.1.0)\nRequirement already satisfied: absl-py~=0.10 in /home/codeany/.pyenv/versions/3.8.12/lib/python3.8/site-packages (from tensorflow-cpu==2.6.0->-r /workspaces/mildew-detection-in-cherry-leaves/requirements.txt (line 10)) (0.15.0)\nRequirement already satisfied: astunparse~=1.6.3 in /home/codeany/.pyenv/versions/3.8.12/lib/python3.8/site-packages (from tensorflow-cpu==2.6.0->-r /workspaces/mildew-detection-in-cherry-leaves/requirements.txt (line 10)) (1.6.3)\nRequirement already satisfied: clang~=5.0 in /home/codeany/.pyenv/versions/3.8.12/lib/python3.8/site-packages (from tensorflow-cpu==2.6.0->-r /workspaces/mildew-detection-in-cherry-leaves/requirements.txt (line 10)) (5.0)\nRequirement already satisfied: flatbuffers~=1.12.0 in /home/codeany/.pyenv/versions/3.8.12/lib/python3.8/site-packages (from tensorflow-cpu==2.6.0->-r /workspaces/mildew-detection-in-cherry-leaves/requirements.txt (line 10)) (1.12)\nRequirement already satisfied: google-pasta~=0.2 in /home/codeany/.pyenv/versions/3.8.12/lib/python3.8/site-packages (from tensorflow-cpu==2.6.0->-r /workspaces/mildew-detection-in-cherry-leaves/requirements.txt (line 10)) (0.2.0)\nRequirement already satisfied: h5py~=3.1.0 in /home/codeany/.pyenv/versions/3.8.12/lib/python3.8/site-packages (from tensorflow-cpu==2.6.0->-r /workspaces/mildew-detection-in-cherry-leaves/requirements.txt (line 10)) (3.1.0)\nRequirement already satisfied: keras-preprocessing~=1.1.2 in /home/codeany/.pyenv/versions/3.8.12/lib/python3.8/site-packages (from tensorflow-cpu==2.6.0->-r /workspaces/mildew-detection-in-cherry-leaves/requirements.txt (line 10)) (1.1.2)\nRequirement already satisfied: opt-einsum~=3.3.0 in /home/codeany/.pyenv/versions/3.8.12/lib/python3.8/site-packages (from tensorflow-cpu==2.6.0->-r /workspaces/mildew-detection-in-cherry-leaves/requirements.txt (line 10)) (3.3.0)\nRequirement already satisfied: termcolor~=1.1.0 in /home/codeany/.pyenv/versions/3.8.12/lib/python3.8/site-packages (from tensorflow-cpu==2.6.0->-r /workspaces/mildew-detection-in-cherry-leaves/requirements.txt (line 10)) (1.1.0)\nRequirement already satisfied: typing-extensions~=3.7.4 in /home/codeany/.pyenv/versions/3.8.12/lib/python3.8/site-packages (from tensorflow-cpu==2.6.0->-r /workspaces/mildew-detection-in-cherry-leaves/requirements.txt (line 10)) (3.7.4.3)\nRequirement already satisfied: wheel~=0.35 in /home/codeany/.pyenv/versions/3.8.12/lib/python3.8/site-packages (from tensorflow-cpu==2.6.0->-r /workspaces/mildew-detection-in-cherry-leaves/requirements.txt (line 10)) (0.40.0)\nRequirement already satisfied: wrapt~=1.12.1 in /home/codeany/.pyenv/versions/3.8.12/lib/python3.8/site-packages (from tensorflow-cpu==2.6.0->-r /workspaces/mildew-detection-in-cherry-leaves/requirements.txt (line 10)) (1.12.1)\nRequirement already satisfied: gast==0.4.0 in /home/codeany/.pyenv/versions/3.8.12/lib/python3.8/site-packages (from tensorflow-cpu==2.6.0->-r /workspaces/mildew-detection-in-cherry-leaves/requirements.txt (line 10)) (0.4.0)\nRequirement already satisfied: tensorboard~=2.6 in /home/codeany/.pyenv/versions/3.8.12/lib/python3.8/site-packages (from tensorflow-cpu==2.6.0->-r /workspaces/mildew-detection-in-cherry-leaves/requirements.txt (line 10)) (2.11.0)\nRequirement already satisfied: tensorflow-estimator~=2.6 in /home/codeany/.pyenv/versions/3.8.12/lib/python3.8/site-packages (from tensorflow-cpu==2.6.0->-r /workspaces/mildew-detection-in-cherry-leaves/requirements.txt (line 10)) (2.11.0)\nRequirement already satisfied: grpcio<2.0,>=1.37.0 in /home/codeany/.pyenv/versions/3.8.12/lib/python3.8/site-packages (from tensorflow-cpu==2.6.0->-r /workspaces/mildew-detection-in-cherry-leaves/requirements.txt (line 10)) (1.51.1)\nRequirement already satisfied: entrypoints in /home/codeany/.pyenv/versions/3.8.12/lib/python3.8/site-packages (from altair>=3.2.0->streamlit==0.85.0->-r /workspaces/mildew-detection-in-cherry-leaves/requirements.txt (line 7)) (0.4)\nRequirement already satisfied: jinja2 in /home/codeany/.pyenv/versions/3.8.12/lib/python3.8/site-packages (from altair>=3.2.0->streamlit==0.85.0->-r /workspaces/mildew-detection-in-cherry-leaves/requirements.txt (line 7)) (3.1.2)\nRequirement already satisfied: jsonschema>=3.0 in /home/codeany/.pyenv/versions/3.8.12/lib/python3.8/site-packages (from altair>=3.2.0->streamlit==0.85.0->-r /workspaces/mildew-detection-in-cherry-leaves/requirements.txt (line 7)) (4.17.3)\nRequirement already satisfied: toolz in /home/codeany/.pyenv/versions/3.8.12/lib/python3.8/site-packages (from altair>=3.2.0->streamlit==0.85.0->-r /workspaces/mildew-detection-in-cherry-leaves/requirements.txt (line 7)) (0.12.0)\nRequirement already satisfied: google-auth<3,>=1.6.3 in /home/codeany/.pyenv/versions/3.8.12/lib/python3.8/site-packages (from tensorboard~=2.6->tensorflow-cpu==2.6.0->-r /workspaces/mildew-detection-in-cherry-leaves/requirements.txt (line 10)) (2.14.1)\nRequirement already satisfied: google-auth-oauthlib<0.5,>=0.4.1 in /home/codeany/.pyenv/versions/3.8.12/lib/python3.8/site-packages (from tensorboard~=2.6->tensorflow-cpu==2.6.0->-r /workspaces/mildew-detection-in-cherry-leaves/requirements.txt (line 10)) (0.4.6)\nRequirement already satisfied: markdown>=2.6.8 in /home/codeany/.pyenv/versions/3.8.12/lib/python3.8/site-packages (from tensorboard~=2.6->tensorflow-cpu==2.6.0->-r /workspaces/mildew-detection-in-cherry-leaves/requirements.txt (line 10)) (3.4.1)\nRequirement already satisfied: setuptools>=41.0.0 in /home/codeany/.pyenv/versions/3.8.12/lib/python3.8/site-packages (from tensorboard~=2.6->tensorflow-cpu==2.6.0->-r /workspaces/mildew-detection-in-cherry-leaves/requirements.txt (line 10)) (68.0.0)\nRequirement already satisfied: tensorboard-data-server<0.7.0,>=0.6.0 in /home/codeany/.pyenv/versions/3.8.12/lib/python3.8/site-packages (from tensorboard~=2.6->tensorflow-cpu==2.6.0->-r /workspaces/mildew-detection-in-cherry-leaves/requirements.txt (line 10)) (0.6.1)\nRequirement already satisfied: tensorboard-plugin-wit>=1.6.0 in /home/codeany/.pyenv/versions/3.8.12/lib/python3.8/site-packages (from tensorboard~=2.6->tensorflow-cpu==2.6.0->-r /workspaces/mildew-detection-in-cherry-leaves/requirements.txt (line 10)) (1.8.1)\nRequirement already satisfied: werkzeug>=1.0.1 in /home/codeany/.pyenv/versions/3.8.12/lib/python3.8/site-packages (from tensorboard~=2.6->tensorflow-cpu==2.6.0->-r /workspaces/mildew-detection-in-cherry-leaves/requirements.txt (line 10)) (2.2.2)\nRequirement already satisfied: charset-normalizer<4,>=2 in /home/codeany/.pyenv/versions/3.8.12/lib/python3.8/site-packages (from requests->streamlit==0.85.0->-r /workspaces/mildew-detection-in-cherry-leaves/requirements.txt (line 7)) (3.1.0)\nRequirement already satisfied: idna<4,>=2.5 in /home/codeany/.pyenv/versions/3.8.12/lib/python3.8/site-packages (from requests->streamlit==0.85.0->-r /workspaces/mildew-detection-in-cherry-leaves/requirements.txt (line 7)) (3.4)\nRequirement already satisfied: urllib3<3,>=1.21.1 in /home/codeany/.pyenv/versions/3.8.12/lib/python3.8/site-packages (from requests->streamlit==0.85.0->-r /workspaces/mildew-detection-in-cherry-leaves/requirements.txt (line 7)) (2.0.3)\nRequirement already satisfied: gitdb<5,>=4.0.1 in /home/codeany/.pyenv/versions/3.8.12/lib/python3.8/site-packages (from gitpython->streamlit==0.85.0->-r /workspaces/mildew-detection-in-cherry-leaves/requirements.txt (line 7)) (4.0.10)\nRequirement already satisfied: pytz-deprecation-shim in /home/codeany/.pyenv/versions/3.8.12/lib/python3.8/site-packages (from tzlocal->streamlit==0.85.0->-r /workspaces/mildew-detection-in-cherry-leaves/requirements.txt (line 7)) (0.1.0.post0)\nRequirement already satisfied: backports.zoneinfo in /home/codeany/.pyenv/versions/3.8.12/lib/python3.8/site-packages (from tzlocal->streamlit==0.85.0->-r /workspaces/mildew-detection-in-cherry-leaves/requirements.txt (line 7)) (0.2.1)\nRequirement already satisfied: decorator>=3.4.0 in /home/codeany/.pyenv/versions/3.8.12/lib/python3.8/site-packages (from validators->streamlit==0.85.0->-r /workspaces/mildew-detection-in-cherry-leaves/requirements.txt (line 7)) (5.1.1)\nRequirement already satisfied: smmap<6,>=3.0.1 in /home/codeany/.pyenv/versions/3.8.12/lib/python3.8/site-packages (from gitdb<5,>=4.0.1->gitpython->streamlit==0.85.0->-r /workspaces/mildew-detection-in-cherry-leaves/requirements.txt (line 7)) (5.0.0)\nRequirement already satisfied: pyasn1-modules>=0.2.1 in /home/codeany/.pyenv/versions/3.8.12/lib/python3.8/site-packages (from google-auth<3,>=1.6.3->tensorboard~=2.6->tensorflow-cpu==2.6.0->-r /workspaces/mildew-detection-in-cherry-leaves/requirements.txt (line 10)) (0.2.8)\nRequirement already satisfied: rsa<5,>=3.1.4 in /home/codeany/.pyenv/versions/3.8.12/lib/python3.8/site-packages (from google-auth<3,>=1.6.3->tensorboard~=2.6->tensorflow-cpu==2.6.0->-r /workspaces/mildew-detection-in-cherry-leaves/requirements.txt (line 10)) (4.9)\nRequirement already satisfied: requests-oauthlib>=0.7.0 in /home/codeany/.pyenv/versions/3.8.12/lib/python3.8/site-packages (from google-auth-oauthlib<0.5,>=0.4.1->tensorboard~=2.6->tensorflow-cpu==2.6.0->-r /workspaces/mildew-detection-in-cherry-leaves/requirements.txt (line 10)) (1.3.1)\nRequirement already satisfied: MarkupSafe>=2.0 in /home/codeany/.pyenv/versions/3.8.12/lib/python3.8/site-packages (from jinja2->altair>=3.2.0->streamlit==0.85.0->-r /workspaces/mildew-detection-in-cherry-leaves/requirements.txt (line 7)) (2.1.3)\nRequirement already satisfied: importlib-resources>=1.4.0 in /home/codeany/.pyenv/versions/3.8.12/lib/python3.8/site-packages (from jsonschema>=3.0->altair>=3.2.0->streamlit==0.85.0->-r /workspaces/mildew-detection-in-cherry-leaves/requirements.txt (line 7)) (5.12.0)\nRequirement already satisfied: pkgutil-resolve-name>=1.3.10 in /home/codeany/.pyenv/versions/3.8.12/lib/python3.8/site-packages (from jsonschema>=3.0->altair>=3.2.0->streamlit==0.85.0->-r /workspaces/mildew-detection-in-cherry-leaves/requirements.txt (line 7)) (1.3.10)\nRequirement already satisfied: pyrsistent!=0.17.0,!=0.17.1,!=0.17.2,>=0.14.0 in /home/codeany/.pyenv/versions/3.8.12/lib/python3.8/site-packages (from jsonschema>=3.0->altair>=3.2.0->streamlit==0.85.0->-r /workspaces/mildew-detection-in-cherry-leaves/requirements.txt (line 7)) (0.19.3)\nRequirement already satisfied: importlib-metadata>=4.4 in /home/codeany/.pyenv/versions/3.8.12/lib/python3.8/site-packages (from markdown>=2.6.8->tensorboard~=2.6->tensorflow-cpu==2.6.0->-r /workspaces/mildew-detection-in-cherry-leaves/requirements.txt (line 10)) (6.7.0)\nRequirement already satisfied: tzdata in /home/codeany/.pyenv/versions/3.8.12/lib/python3.8/site-packages (from pytz-deprecation-shim->tzlocal->streamlit==0.85.0->-r /workspaces/mildew-detection-in-cherry-leaves/requirements.txt (line 7)) (2022.7)\nRequirement already satisfied: zipp>=0.5 in /home/codeany/.pyenv/versions/3.8.12/lib/python3.8/site-packages (from importlib-metadata>=4.4->markdown>=2.6.8->tensorboard~=2.6->tensorflow-cpu==2.6.0->-r /workspaces/mildew-detection-in-cherry-leaves/requirements.txt (line 10)) (3.15.0)\nRequirement already satisfied: pyasn1<0.5.0,>=0.4.6 in /home/codeany/.pyenv/versions/3.8.12/lib/python3.8/site-packages (from pyasn1-modules>=0.2.1->google-auth<3,>=1.6.3->tensorboard~=2.6->tensorflow-cpu==2.6.0->-r /workspaces/mildew-detection-in-cherry-leaves/requirements.txt (line 10)) (0.4.8)\nRequirement already satisfied: oauthlib>=3.0.0 in /home/codeany/.pyenv/versions/3.8.12/lib/python3.8/site-packages (from requests-oauthlib>=0.7.0->google-auth-oauthlib<0.5,>=0.4.1->tensorboard~=2.6->tensorflow-cpu==2.6.0->-r /workspaces/mildew-detection-in-cherry-leaves/requirements.txt (line 10)) (3.2.2)\n"
        }
      ],
      "source": [
        "! pip install -r /workspaces/mildew-detection-in-cherry-leaves/requirements.txt"
      ]
    },
    {
      "cell_type": "code",
      "execution_count": 2,
      "metadata": {
        "tags": []
      },
      "outputs": [],
      "source": [
        "import numpy\n",
        "import os"
      ]
    },
    {
      "attachments": {},
      "cell_type": "markdown",
      "metadata": {
        "id": "9uWZXH9LwoQg"
      },
      "source": [
        "## Change Working Directory\n",
        "\n",
        "* To change the working directory from its current folder to its parent folder\n",
        "* To access the current directory with os.getcwd()"
      ]
    },
    {
      "cell_type": "code",
      "execution_count": 3,
      "metadata": {
        "id": "wZfF_j-Bz3i4",
        "outputId": "66943449-1436-4c3d-85c7-b85f9f78349b"
      },
      "outputs": [
        {
          "output_type": "execute_result",
          "data": {
            "text/plain": "'/workspaces/mildew-detection-in-cherry-leaves/jupyter_notebooks'"
          },
          "metadata": {},
          "execution_count": 3
        }
      ],
      "source": [
        "import os\n",
        "current_dir = os.getcwd()\n",
        "current_dir"
      ]
    },
    {
      "attachments": {},
      "cell_type": "markdown",
      "metadata": {
        "id": "9MWW8E7lz3i7"
      },
      "source": [
        "**To make the parent of the current directory the new current directory**\n",
        "* os.path.dirname() gets the parent directory\n",
        "* os.chdir() defines the new current directory"
      ]
    },
    {
      "cell_type": "code",
      "execution_count": 4,
      "metadata": {
        "id": "TwHsQRWjz3i9",
        "outputId": "86849db3-cd2f-4cc5-ebb8-2d0caafa1a2c",
        "tags": []
      },
      "outputs": [
        {
          "output_type": "stream",
          "name": "stdout",
          "text": "You set a new current directory\n"
        }
      ],
      "source": [
        "os.chdir(os.path.dirname(current_dir))\n",
        "print(\"You set a new current directory\")"
      ]
    },
    {
      "attachments": {},
      "cell_type": "markdown",
      "metadata": {
        "id": "M_xPk_Ijz3i-"
      },
      "source": [
        "**To confirm the new current directory**"
      ]
    },
    {
      "cell_type": "code",
      "execution_count": 5,
      "metadata": {
        "id": "vz3S-_kjz3jA",
        "outputId": "00b79ae4-75d0-4a96-d193-ac9ef9847ea2"
      },
      "outputs": [
        {
          "output_type": "execute_result",
          "data": {
            "text/plain": "'/workspaces/mildew-detection-in-cherry-leaves'"
          },
          "metadata": {},
          "execution_count": 5
        }
      ],
      "source": [
        "current_dir = os.getcwd()\n",
        "current_dir"
      ]
    },
    {
      "attachments": {},
      "cell_type": "markdown",
      "metadata": {
        "id": "-mavJ8DibrcQ"
      },
      "source": [
        "# Install Kaggle"
      ]
    },
    {
      "cell_type": "code",
      "execution_count": 15,
      "metadata": {
        "tags": []
      },
      "outputs": [
        {
          "output_type": "stream",
          "name": "stdout",
          "text": "Requirement already satisfied: kaggle in /home/codeany/.pyenv/versions/3.8.12/lib/python3.8/site-packages (1.5.12)\nRequirement already satisfied: six>=1.10 in /home/codeany/.pyenv/versions/3.8.12/lib/python3.8/site-packages (from kaggle) (1.15.0)\nRequirement already satisfied: certifi in /home/codeany/.pyenv/versions/3.8.12/lib/python3.8/site-packages (from kaggle) (2023.5.7)\nRequirement already satisfied: python-dateutil in /home/codeany/.pyenv/versions/3.8.12/lib/python3.8/site-packages (from kaggle) (2.8.2)\nRequirement already satisfied: requests in /home/codeany/.pyenv/versions/3.8.12/lib/python3.8/site-packages (from kaggle) (2.31.0)\nRequirement already satisfied: tqdm in /home/codeany/.pyenv/versions/3.8.12/lib/python3.8/site-packages (from kaggle) (4.64.1)\nRequirement already satisfied: python-slugify in /home/codeany/.pyenv/versions/3.8.12/lib/python3.8/site-packages (from kaggle) (7.0.0)\nRequirement already satisfied: urllib3 in /home/codeany/.pyenv/versions/3.8.12/lib/python3.8/site-packages (from kaggle) (2.0.3)\nRequirement already satisfied: text-unidecode>=1.3 in /home/codeany/.pyenv/versions/3.8.12/lib/python3.8/site-packages (from python-slugify->kaggle) (1.3)\nRequirement already satisfied: charset-normalizer<4,>=2 in /home/codeany/.pyenv/versions/3.8.12/lib/python3.8/site-packages (from requests->kaggle) (3.1.0)\nRequirement already satisfied: idna<4,>=2.5 in /home/codeany/.pyenv/versions/3.8.12/lib/python3.8/site-packages (from requests->kaggle) (3.4)\nNote: you may need to restart the kernel to use updated packages.\n"
        }
      ],
      "source": [
        "# install kaggle package\n",
        "%pip install kaggle"
      ]
    },
    {
      "attachments": {},
      "cell_type": "markdown",
      "metadata": {
        "id": "uFQo3ycuO-v6"
      },
      "source": [
        "Run the cell below to change the kaggle configuration directory to current working directory and permission of kaggle authentication JSON"
      ]
    },
    {
      "cell_type": "code",
      "execution_count": 16,
      "metadata": {
        "tags": []
      },
      "outputs": [],
      "source": [
        "os.environ['KAGGLE_CONFIG_DIR'] = os.getcwd()\n",
        "! chmod 600 kaggle.json"
      ]
    },
    {
      "attachments": {},
      "cell_type": "markdown",
      "metadata": {},
      "source": [
        "* Get the dataset path from Kaggle url.  When you are viewing the dataset at Kaggle, check what is after https://www.kaggle.com/ (in some case kaggle.com/datasets). You should copy that at KaggleDatasetPath.\n",
        "\n",
        "* Set the destination folder\n",
        "* Set the Kaggle Dataset and Download it"
      ]
    },
    {
      "cell_type": "code",
      "execution_count": 17,
      "metadata": {
        "tags": []
      },
      "outputs": [
        {
          "output_type": "stream",
          "name": "stdout",
          "text": "Downloading cherry-leaves.zip to inputs/mildew_dataset\n 89%|██████████████████████████████████▋    | 49.0M/55.0M [00:00<00:00, 125MB/s]\n100%|███████████████████████████████████████| 55.0M/55.0M [00:00<00:00, 122MB/s]\n"
        }
      ],
      "source": [
        "# Set the destination folder to download Kaggle Dataset\n",
        "KaggleDatasetPath = \"codeinstitute/cherry-leaves\"\n",
        "DestinationFolder = \"inputs/mildew_dataset\"   \n",
        "! kaggle datasets download -d {KaggleDatasetPath} -p {DestinationFolder}"
      ]
    },
    {
      "attachments": {},
      "cell_type": "markdown",
      "metadata": {},
      "source": [
        "* Unzip the downloaded file, and delete the zip file."
      ]
    },
    {
      "cell_type": "code",
      "execution_count": 18,
      "metadata": {},
      "outputs": [],
      "source": [
        "import zipfile\n",
        "with zipfile.ZipFile(DestinationFolder + '/cherry-leaves.zip', 'r') as zip_ref:\n",
        "    zip_ref.extractall(DestinationFolder)\n",
        "\n",
        "os.remove(DestinationFolder + '/cherry-leaves.zip')"
      ]
    },
    {
      "attachments": {},
      "cell_type": "markdown",
      "metadata": {},
      "source": [
        "# Data Preparation"
      ]
    },
    {
      "attachments": {},
      "cell_type": "markdown",
      "metadata": {},
      "source": [
        "### Check and remove non-image files"
      ]
    },
    {
      "cell_type": "code",
      "execution_count": 19,
      "metadata": {},
      "outputs": [],
      "source": [
        "# Function to remove non-image files\n",
        "def remove_non_image_file(my_data_dir):\n",
        "    image_extension = ('.png', '.jpg', '.jpeg')\n",
        "    folders = os.listdir(my_data_dir) \n",
        "    for folder in folders:\n",
        "        files = os.listdir(my_data_dir + '/' + folder)\n",
        "        # print(files)\n",
        "        i = []\n",
        "        j = []\n",
        "        for given_file in files:\n",
        "            if not given_file.lower().endswith(image_extension):\n",
        "                file_location = my_data_dir + '/' + folder + '/' + given_file\n",
        "                os.remove(file_location) # remove non-image file\n",
        "                i.append(1)\n",
        "            else:\n",
        "                j.append(1)\n",
        "                pass\n",
        "        print(f\"Folder: {folder} - has image file\",len(j))\n",
        "        print(f\"Folder: {folder} - has non-image file\",len(i))"
      ]
    },
    {
      "cell_type": "code",
      "execution_count": 20,
      "metadata": {
        "tags": []
      },
      "outputs": [
        {
          "output_type": "stream",
          "name": "stdout",
          "text": "Folder: healthy - has image file 2104\nFolder: healthy - has non-image file 0\nFolder: powdery_mildew - has image file 2104\nFolder: powdery_mildew - has non-image file 0\n"
        }
      ],
      "source": [
        "# Remove non-image files\n",
        "remove_non_image_file(my_data_dir='inputs/mildew_dataset/cherry-leaves')"
      ]
    },
    {
      "attachments": {},
      "cell_type": "markdown",
      "metadata": {},
      "source": [
        "### Split train, validation, and test sets"
      ]
    },
    {
      "cell_type": "code",
      "execution_count": 21,
      "metadata": {},
      "outputs": [],
      "source": [
        "import os\n",
        "import shutil\n",
        "import random\n",
        "import joblib\n",
        "\n",
        "my_data_dir=\"inputs/mildew_dataset/cherry-leaves\"\n",
        "\n",
        "# Function to split train, validation, and test images\n",
        "def split_train_validation_test_images(my_data_dir, train_set_ratio, validation_set_ratio, test_set_ratio):\n",
        "  \n",
        "  if train_set_ratio + validation_set_ratio + test_set_ratio != 1.0:\n",
        "    print(\"train_set_ratio + validation_set_ratio + test_set_ratio should sum 1.0\")\n",
        "    return\n",
        "\n",
        "  # gets classes labels\n",
        "  labels = os.listdir(my_data_dir) # To get only the folder name\n",
        "  if 'test' in labels:\n",
        "    pass\n",
        "  else: \n",
        "    # create train, validation, and test folders with classess labels sub-folder\n",
        "    for folder in ['train','validation','test']:\n",
        "      for label in labels:\n",
        "        os.makedirs(name=my_data_dir+ '/' + folder + '/' + label)\n",
        "\n",
        "    for label in labels:\n",
        "\n",
        "      files = os.listdir(my_data_dir + '/' + label)\n",
        "      random.shuffle(files)\n",
        "\n",
        "      train_set_files_qty = int(len(files) * train_set_ratio)\n",
        "      validation_set_files_qty = int(len(files) * validation_set_ratio)\n",
        "\n",
        "      count = 1\n",
        "      for file_name in files:\n",
        "        if count <= train_set_files_qty:\n",
        "          # move given file to train set\n",
        "          shutil.move(my_data_dir + '/' + label + '/' + file_name,\n",
        "                      my_data_dir + '/train/' + label + '/' + file_name)\n",
        "          \n",
        "\n",
        "        elif count <= (train_set_files_qty + validation_set_files_qty ):\n",
        "          # move given file to validation set\n",
        "          shutil.move(my_data_dir + '/' + label + '/' + file_name,\n",
        "                      my_data_dir + '/validation/' + label + '/' + file_name)\n",
        "\n",
        "        else:\n",
        "          # move given file to test set\n",
        "          shutil.move(my_data_dir + '/' + label + '/' + file_name,\n",
        "                  my_data_dir + '/test/' +label + '/'+ file_name)\n",
        "          \n",
        "        count += 1\n",
        "\n",
        "      os.rmdir(my_data_dir + '/' + label)"
      ]
    },
    {
      "cell_type": "code",
      "execution_count": 22,
      "metadata": {},
      "outputs": [],
      "source": [
        "# Split train, validation, and test images\n",
        "split_train_validation_test_images(my_data_dir=f\"inputs/mildew_dataset/cherry-leaves\",\n",
        "                        train_set_ratio = 0.7,\n",
        "                        validation_set_ratio=0.1,\n",
        "                        test_set_ratio=0.2\n",
        "                        )"
      ]
    },
    {
      "source": [
        "## Conclusions and Next Steps\n",
        "## Conclusions\n",
        "* Dataset as a mildew_dataset has been successfuly added to the input folder \n",
        "* mildew_dataset has been successfully splitted into train, validation, and test test\n",
        "\n",
        "## Next Steps\n",
        "* Answer business requirement 1:\n",
        "    * The client is interested in conducting a study to visually differentiate a cherry leaf that is healthy from one that contains powdery mildew"
      ],
      "cell_type": "markdown",
      "metadata": {}
    },
    {
      "attachments": {},
      "cell_type": "markdown",
      "metadata": {
        "id": "ltNetd085qHf"
      },
      "source": [
        "# Push files to Repo\n",
        "## Push generated/new files from this Session to GitHub repository"
      ]
    },
    {
      "attachments": {},
      "cell_type": "markdown",
      "metadata": {},
      "source": [
        "### .gitignore"
      ]
    },
    {
      "cell_type": "code",
      "execution_count": 23,
      "metadata": {
        "tags": []
      },
      "outputs": [
        {
          "output_type": "stream",
          "name": "stdout",
          "text": "core.Microsoft*\ncore.mongo*\ncore.python*\nenv.py\n__pycache__/\n*.py[cod]\nnode_modules/\n.github/\ncloudinary_python.txt\nkaggle.json\ninputs/mildew_dataset/cherry-leaves/test\ninputs/mildew_dataset/cherry-leaves/train\ninputs/mildew_dataset/cherry-leaves/validation"
        }
      ],
      "source": [
        "!cat .gitignore"
      ]
    },
    {
      "attachments": {},
      "cell_type": "markdown",
      "metadata": {},
      "source": [
        "### Git status"
      ]
    },
    {
      "cell_type": "code",
      "execution_count": 24,
      "metadata": {
        "tags": [
          "outputPrepend"
        ]
      },
      "outputs": [
        {
          "output_type": "stream",
          "name": "stdout",
          "text": "de-818b-7b79b6ce2f0e___FREC_Pwd.M 4915.JPG\u001b[m\n\t\u001b[31mdeleted:    inputs/mildew_dataset/cherry-leaves/train/powdery_mildew/a76ebe42-b9c1-4848-8b89-b62ef6e1a91c___FREC_Pwd.M 5115_flipLR.JPG\u001b[m\n\t\u001b[31mdeleted:    inputs/mildew_dataset/cherry-leaves/train/powdery_mildew/a7b75c15-4118-4d7f-94d5-e859ace0cbf4___FREC_Pwd.M 5050.JPG\u001b[m\n\t\u001b[31mdeleted:    inputs/mildew_dataset/cherry-leaves/train/powdery_mildew/a9235bc4-a3f3-4b9e-8e28-d7b2e18bca51___FREC_Pwd.M 0462_flipLR.JPG\u001b[m\n\t\u001b[31mdeleted:    inputs/mildew_dataset/cherry-leaves/train/powdery_mildew/aa04b9b8-28e8-4dcb-bbff-8d86ec6168a1___FREC_Pwd.M 4782_flipLR.JPG\u001b[m\n\t\u001b[31mdeleted:    inputs/mildew_dataset/cherry-leaves/train/powdery_mildew/ab269e53-f834-4f28-a175-c24de184f407___FREC_Pwd.M 0511.JPG\u001b[m\n\t\u001b[31mdeleted:    inputs/mildew_dataset/cherry-leaves/train/powdery_mildew/ab82d02b-61e0-42d9-9366-17917cacfff0___FREC_Pwd.M 4776.JPG\u001b[m\n\t\u001b[31mdeleted:    inputs/mildew_dataset/cherry-leaves/train/powdery_mildew/ac3e6824-a60e-4c8f-a844-4e97abc983a7___FREC_Pwd.M 4801.JPG\u001b[m\n\t\u001b[31mdeleted:    inputs/mildew_dataset/cherry-leaves/train/powdery_mildew/ae11d51c-80f9-45bf-9cff-5bc6843b6404___FREC_Pwd.M 4560_flipLR.JPG\u001b[m\n\t\u001b[31mdeleted:    inputs/mildew_dataset/cherry-leaves/train/powdery_mildew/ae1f1589-016e-4619-99ac-00f214199bfc___FREC_Pwd.M 5150.JPG\u001b[m\n\t\u001b[31mdeleted:    inputs/mildew_dataset/cherry-leaves/train/powdery_mildew/aec1be7d-914f-4de8-a6ee-64e97dc28071___FREC_Pwd.M 4891.JPG\u001b[m\n\t\u001b[31mdeleted:    inputs/mildew_dataset/cherry-leaves/train/powdery_mildew/b0084869-42c1-4124-853d-d73f99ee8d38___FREC_Pwd.M 4807_flipLR.JPG\u001b[m\n\t\u001b[31mdeleted:    inputs/mildew_dataset/cherry-leaves/train/powdery_mildew/b0698c28-34b6-4232-aa9c-55fb466df8dd___FREC_Pwd.M 4512.JPG\u001b[m\n\t\u001b[31mdeleted:    inputs/mildew_dataset/cherry-leaves/train/powdery_mildew/b22853ce-86ca-4a0c-9a16-ce82e0817513___FREC_Pwd.M 4942_flipLR.JPG\u001b[m\n\t\u001b[31mdeleted:    inputs/mildew_dataset/cherry-leaves/train/powdery_mildew/b3da442a-b270-4488-b9a0-c55707d5d0e2___FREC_Pwd.M 4608.JPG\u001b[m\n\t\u001b[31mdeleted:    inputs/mildew_dataset/cherry-leaves/train/powdery_mildew/b42d85e1-0707-4692-93a1-74b0465ef2ef___FREC_Pwd.M 4468.JPG\u001b[m\n\t\u001b[31mdeleted:    inputs/mildew_dataset/cherry-leaves/train/powdery_mildew/b6039e39-f0d4-48dc-894a-987e0338c5ae___FREC_Pwd.M 4815.JPG\u001b[m\n\t\u001b[31mdeleted:    inputs/mildew_dataset/cherry-leaves/train/powdery_mildew/b6039e39-f0d4-48dc-894a-987e0338c5ae___FREC_Pwd.M 4815_flipLR.JPG\u001b[m\n\t\u001b[31mdeleted:    inputs/mildew_dataset/cherry-leaves/train/powdery_mildew/b8ff7b14-e3b8-4bdc-821e-39fa9736de9c___FREC_Pwd.M 0261.JPG\u001b[m\n\t\u001b[31mdeleted:    inputs/mildew_dataset/cherry-leaves/train/powdery_mildew/b8ff7b14-e3b8-4bdc-821e-39fa9736de9c___FREC_Pwd.M 0261_flipLR.JPG\u001b[m\n\t\u001b[31mdeleted:    inputs/mildew_dataset/cherry-leaves/train/powdery_mildew/bb0f65f7-37b4-4c6a-a4be-18a91d2cae16___FREC_Pwd.M 5024_flipLR.JPG\u001b[m\n\t\u001b[31mdeleted:    inputs/mildew_dataset/cherry-leaves/train/powdery_mildew/bb998de5-3d79-46c7-ad23-2dffc9a8037d___FREC_Pwd.M 4826.JPG\u001b[m\n\t\u001b[31mdeleted:    inputs/mildew_dataset/cherry-leaves/train/powdery_mildew/bbd6dbcd-65f2-4982-a4f8-ef6a1c33a05f___FREC_Pwd.M 0449_flipLR.JPG\u001b[m\n\t\u001b[31mdeleted:    inputs/mildew_dataset/cherry-leaves/train/powdery_mildew/bc20f3c6-4a2f-4cbc-94c4-f4a5f52b9f21___FREC_Pwd.M 0566_flipLR.JPG\u001b[m\n\t\u001b[31mdeleted:    inputs/mildew_dataset/cherry-leaves/train/powdery_mildew/bc3b4287-ce7a-4ca1-bfa8-4812832fa00f___FREC_Pwd.M 0412_flipLR.JPG\u001b[m\n\t\u001b[31mdeleted:    inputs/mildew_dataset/cherry-leaves/train/powdery_mildew/be4d3a56-be53-4b0d-8b0b-9ff088a4ad92___FREC_Pwd.M 4854_flipLR.JPG\u001b[m\n\t\u001b[31mdeleted:    inputs/mildew_dataset/cherry-leaves/train/powdery_mildew/be5c9aa3-60ea-4bc7-b9a0-12febd96aa97___FREC_Pwd.M 4845.JPG\u001b[m\n\t\u001b[31mdeleted:    inputs/mildew_dataset/cherry-leaves/train/powdery_mildew/be5c9aa3-60ea-4bc7-b9a0-12febd96aa97___FREC_Pwd.M 4845_flipLR.JPG\u001b[m\n\t\u001b[31mdeleted:    inputs/mildew_dataset/cherry-leaves/train/powdery_mildew/bf2142d8-3f04-4a04-96b4-d94aea138081___FREC_Pwd.M 4504_flipLR.JPG\u001b[m\n\t\u001b[31mdeleted:    inputs/mildew_dataset/cherry-leaves/train/powdery_mildew/bfc76298-a208-4a0a-88b0-580218720055___FREC_Pwd.M 4904.JPG\u001b[m\n\t\u001b[31mdeleted:    inputs/mildew_dataset/cherry-leaves/train/powdery_mildew/c10fbf4c-baa3-4242-956a-a6262f6b1bf3___FREC_Pwd.M 5037_flipLR.JPG\u001b[m\n\t\u001b[31mdeleted:    inputs/mildew_dataset/cherry-leaves/train/powdery_mildew/c11965f5-8920-4266-9f47-5dce992bd4c6___FREC_Pwd.M 4525.JPG\u001b[m\n\t\u001b[31mdeleted:    inputs/mildew_dataset/cherry-leaves/train/powdery_mildew/c2e9925a-9896-47a0-a969-3ce336a3ae05___FREC_Pwd.M 4874.JPG\u001b[m\n\t\u001b[31mdeleted:    inputs/mildew_dataset/cherry-leaves/train/powdery_mildew/c312eaa4-27e2-4d22-85e3-fb7d103dc43e___FREC_Pwd.M 4644.JPG\u001b[m\n\t\u001b[31mdeleted:    inputs/mildew_dataset/cherry-leaves/train/powdery_mildew/c48bbceb-9d7d-4793-a520-d40142ea1705___FREC_Pwd.M 0429.JPG\u001b[m\n\t\u001b[31mdeleted:    inputs/mildew_dataset/cherry-leaves/train/powdery_mildew/c820f802-f07d-4a7e-b9fd-183dacec6f0f___FREC_Pwd.M 0505_flipLR.JPG\u001b[m\n\t\u001b[31mdeleted:    inputs/mildew_dataset/cherry-leaves/train/powdery_mildew/c82e8bfd-a4d6-448f-9c6c-1da54df1e12f___FREC_Pwd.M 4547_flipLR.JPG\u001b[m\n\t\u001b[31mdeleted:    inputs/mildew_dataset/cherry-leaves/train/powdery_mildew/c871d4ee-1726-4873-9e5c-ffe67de425fb___FREC_Pwd.M 4705.JPG\u001b[m\n\t\u001b[31mdeleted:    inputs/mildew_dataset/cherry-leaves/train/powdery_mildew/c98fe18a-cac1-4956-8fa5-a5bac2c5c268___FREC_Pwd.M 4793_flipLR.JPG\u001b[m\n\t\u001b[31mdeleted:    inputs/mildew_dataset/cherry-leaves/train/powdery_mildew/ca96a7a3-f34e-4796-86b7-b2826b760002___FREC_Pwd.M 0338_flipLR.JPG\u001b[m\n\t\u001b[31mdeleted:    inputs/mildew_dataset/cherry-leaves/train/powdery_mildew/cb5807a3-cdda-4f87-b17a-be25c42ef72b___FREC_Pwd.M 0587.JPG\u001b[m\n\t\u001b[31mdeleted:    inputs/mildew_dataset/cherry-leaves/train/powdery_mildew/cc770f77-f915-4832-a688-fd5adac8fae0___FREC_Pwd.M 0475.JPG\u001b[m\n\t\u001b[31mdeleted:    inputs/mildew_dataset/cherry-leaves/train/powdery_mildew/cc770f77-f915-4832-a688-fd5adac8fae0___FREC_Pwd.M 0475_flipLR.JPG\u001b[m\n\t\u001b[31mdeleted:    inputs/mildew_dataset/cherry-leaves/train/powdery_mildew/cd6f8dee-5c38-4e3c-946d-2d79a517d76e___FREC_Pwd.M 0284_flipLR.JPG\u001b[m\n\t\u001b[31mdeleted:    inputs/mildew_dataset/cherry-leaves/train/powdery_mildew/ce1b7e6d-70f7-4d65-8cfc-f78f174a1ffe___FREC_Pwd.M 0366_flipLR.JPG\u001b[m\n\t\u001b[31mdeleted:    inputs/mildew_dataset/cherry-leaves/train/powdery_mildew/ce5efd4e-f2cb-47ac-9544-69291614286d___FREC_Pwd.M 5073_flipLR.JPG\u001b[m\n\t\u001b[31mdeleted:    inputs/mildew_dataset/cherry-leaves/train/powdery_mildew/cf125685-f590-41e7-9b04-836d2222b263___FREC_Pwd.M 4656_flipLR.JPG\u001b[m\n\t\u001b[31mdeleted:    inputs/mildew_dataset/cherry-leaves/train/powdery_mildew/d03d9ea1-7be8-4501-bb94-271f2a593865___FREC_Pwd.M 5051_flipLR.JPG\u001b[m\n\t\u001b[31mdeleted:    inputs/mildew_dataset/cherry-leaves/train/powdery_mildew/d0f63be7-d2c4-4041-819f-9167015d1fed___FREC_Pwd.M 0486.JPG\u001b[m\n\t\u001b[31mdeleted:    inputs/mildew_dataset/cherry-leaves/train/powdery_mildew/d13c2c1a-618f-4dcc-9708-545005602e36___FREC_Pwd.M 4641_flipLR.JPG\u001b[m\n\t\u001b[31mdeleted:    inputs/mildew_dataset/cherry-leaves/train/powdery_mildew/d1ccd6ea-f7cd-45a5-801d-5aeed1c13cb6___FREC_Pwd.M 4974.JPG\u001b[m\n\t\u001b[31mdeleted:    inputs/mildew_dataset/cherry-leaves/train/powdery_mildew/d4421e15-939b-43ea-b201-d78f4da95e15___FREC_Pwd.M 0294.JPG\u001b[m\n\t\u001b[31mdeleted:    inputs/mildew_dataset/cherry-leaves/train/powdery_mildew/d52d3a42-951f-4534-b306-1a8a5d876981___FREC_Pwd.M 4679_flipLR.JPG\u001b[m\n\t\u001b[31mdeleted:    inputs/mildew_dataset/cherry-leaves/train/powdery_mildew/d54fcec0-b210-4ab6-8b53-2e33ec81ea36___FREC_Pwd.M 5093.JPG\u001b[m\n\t\u001b[31mdeleted:    inputs/mildew_dataset/cherry-leaves/train/powdery_mildew/d5510570-6f71-4af0-9fda-07eee0e55442___FREC_Pwd.M 0333_flipLR.JPG\u001b[m\n\t\u001b[31mdeleted:    inputs/mildew_dataset/cherry-leaves/train/powdery_mildew/d70696ef-e9b2-418a-b729-51b4abad93d1___FREC_Pwd.M 0274_flipLR.JPG\u001b[m\n\t\u001b[31mdeleted:    inputs/mildew_dataset/cherry-leaves/train/powdery_mildew/d85426b4-10d1-4f12-bc5d-da69add7a73b___FREC_Pwd.M 4532_flipLR.JPG\u001b[m\n\t\u001b[31mdeleted:    inputs/mildew_dataset/cherry-leaves/train/powdery_mildew/d891bc6f-2597-40fd-b55a-aee7fe1e4e6e___FREC_Pwd.M 4523.JPG\u001b[m\n\t\u001b[31mdeleted:    inputs/mildew_dataset/cherry-leaves/train/powdery_mildew/d9df7ba0-fe57-45f3-871a-9d1c87117d2e___FREC_Pwd.M 4648.JPG\u001b[m\n\t\u001b[31mdeleted:    inputs/mildew_dataset/cherry-leaves/train/powdery_mildew/db73697a-1432-44af-85a7-f0f770d09616___FREC_Pwd.M 4922.JPG\u001b[m\n\t\u001b[31mdeleted:    inputs/mildew_dataset/cherry-leaves/train/powdery_mildew/dbd81452-171b-4aa4-a911-e7908687f06c___FREC_Pwd.M 5049.JPG\u001b[m\n\t\u001b[31mdeleted:    inputs/mildew_dataset/cherry-leaves/train/powdery_mildew/dc24ce8f-8723-4da2-b23f-b34ad79cc377___FREC_Pwd.M 4702.JPG\u001b[m\n\t\u001b[31mdeleted:    inputs/mildew_dataset/cherry-leaves/train/powdery_mildew/de8ef18c-2d11-47e0-8fa1-85f5f0177277___FREC_Pwd.M 0473_flipLR.JPG\u001b[m\n\t\u001b[31mdeleted:    inputs/mildew_dataset/cherry-leaves/train/powdery_mildew/decee4a0-018b-47bf-abf6-75bdfb5bc67d___FREC_Pwd.M 4700_flipLR.JPG\u001b[m\n\t\u001b[31mdeleted:    inputs/mildew_dataset/cherry-leaves/train/powdery_mildew/e1c9896e-a3a6-401a-b3fd-325b8052365b___FREC_Pwd.M 0376.JPG\u001b[m\n\t\u001b[31mdeleted:    inputs/mildew_dataset/cherry-leaves/train/powdery_mildew/e2858a3b-47c2-4989-b4f3-eea39e9195c3___FREC_Pwd.M 4633.JPG\u001b[m\n\t\u001b[31mdeleted:    inputs/mildew_dataset/cherry-leaves/train/powdery_mildew/e30aaf4a-d8dd-44ca-8b7c-0082d2c59dc2___FREC_Pwd.M 0484.JPG\u001b[m\n\t\u001b[31mdeleted:    inputs/mildew_dataset/cherry-leaves/train/powdery_mildew/e3b59f01-3677-4616-af6c-d026b9e0e6cf___FREC_Pwd.M 0398_flipLR.JPG\u001b[m\n\t\u001b[31mdeleted:    inputs/mildew_dataset/cherry-leaves/train/powdery_mildew/e3d5a32d-3567-44f4-8ea2-79b413214a6d___FREC_Pwd.M 5144_flipLR.JPG\u001b[m\n\t\u001b[31mdeleted:    inputs/mildew_dataset/cherry-leaves/train/powdery_mildew/e3e0ee86-1cf9-449c-8cba-7ad0b0cd4488___FREC_Pwd.M 0460_flipLR.JPG\u001b[m\n\t\u001b[31mdeleted:    inputs/mildew_dataset/cherry-leaves/train/powdery_mildew/e567184a-cee1-4eb4-be59-429da00b17d8___FREC_Pwd.M 4465.JPG\u001b[m\n\t\u001b[31mdeleted:    inputs/mildew_dataset/cherry-leaves/train/powdery_mildew/e5914945-129f-4862-836e-0866309dc6b1___FREC_Pwd.M 4989.JPG\u001b[m\n\t\u001b[31mdeleted:    inputs/mildew_dataset/cherry-leaves/train/powdery_mildew/e5ca68e7-17cb-4aee-bf65-7abba2629a29___FREC_Pwd.M 0325.JPG\u001b[m\n\t\u001b[31mdeleted:    inputs/mildew_dataset/cherry-leaves/train/powdery_mildew/e62db0eb-95cf-4470-87b8-25e046323c79___FREC_Pwd.M 4766.JPG\u001b[m\n\t\u001b[31mdeleted:    inputs/mildew_dataset/cherry-leaves/train/powdery_mildew/e6ed3334-ab39-40cd-ae6e-cb1b9a5e999d___FREC_Pwd.M 0586_flipLR.JPG\u001b[m\n\t\u001b[31mdeleted:    inputs/mildew_dataset/cherry-leaves/train/powdery_mildew/e815da85-2217-4f25-8c16-e64ad69b6404___FREC_Pwd.M 0431.JPG\u001b[m\n\t\u001b[31mdeleted:    inputs/mildew_dataset/cherry-leaves/train/powdery_mildew/e8d9d6fa-568e-4834-a246-d34e1478c77c___FREC_Pwd.M 4884_flipLR.JPG\u001b[m\n\t\u001b[31mdeleted:    inputs/mildew_dataset/cherry-leaves/train/powdery_mildew/ec7d2584-a9f6-46b5-b9ff-0e87688d0020___FREC_Pwd.M 5119.JPG\u001b[m\n\t\u001b[31mdeleted:    inputs/mildew_dataset/cherry-leaves/train/powdery_mildew/ece86642-3e2f-4ba7-8181-ff79e317b7b1___FREC_Pwd.M 4663.JPG\u001b[m\n\t\u001b[31mdeleted:    inputs/mildew_dataset/cherry-leaves/train/powdery_mildew/edfe5673-2ddd-4908-ba5f-692bf590952c___FREC_Pwd.M 4693.JPG\u001b[m\n\t\u001b[31mdeleted:    inputs/mildew_dataset/cherry-leaves/train/powdery_mildew/ef4c52e5-d7d8-4996-b445-42478df2c353___FREC_Pwd.M 0584_flipLR.JPG\u001b[m\n\t\u001b[31mdeleted:    inputs/mildew_dataset/cherry-leaves/train/powdery_mildew/f0318151-9783-43f4-a1f1-d8ec05e565df___FREC_Pwd.M 0315.JPG\u001b[m\n\t\u001b[31mdeleted:    inputs/mildew_dataset/cherry-leaves/train/powdery_mildew/f0318151-9783-43f4-a1f1-d8ec05e565df___FREC_Pwd.M 0315_flipLR.JPG\u001b[m\n\t\u001b[31mdeleted:    inputs/mildew_dataset/cherry-leaves/train/powdery_mildew/f0af55b8-2e06-4881-ba70-1b1918473a95___FREC_Pwd.M 4731.JPG\u001b[m\n\t\u001b[31mdeleted:    inputs/mildew_dataset/cherry-leaves/train/powdery_mildew/f0f78be1-0aed-45ef-8c86-acfbe286d1dd___FREC_Pwd.M 4911.JPG\u001b[m\n\t\u001b[31mdeleted:    inputs/mildew_dataset/cherry-leaves/train/powdery_mildew/f310a75d-83cb-49db-9df0-b88971930485___FREC_Pwd.M 5130_flipLR.JPG\u001b[m\n\t\u001b[31mdeleted:    inputs/mildew_dataset/cherry-leaves/train/powdery_mildew/f34e2369-095d-45a6-8407-0272da9aeaef___FREC_Pwd.M 4920_flipLR.JPG\u001b[m\n\t\u001b[31mdeleted:    inputs/mildew_dataset/cherry-leaves/train/powdery_mildew/f4a25922-202e-4024-8eb9-636311603cba___FREC_Pwd.M 0441.JPG\u001b[m\n\t\u001b[31mdeleted:    inputs/mildew_dataset/cherry-leaves/train/powdery_mildew/f4a3ab38-22b7-4d82-a6a7-b58fccdb13b6___FREC_Pwd.M 0522.JPG\u001b[m\n\t\u001b[31mdeleted:    inputs/mildew_dataset/cherry-leaves/train/powdery_mildew/f50f0410-32ed-4012-85ed-9a1124cf6014___FREC_Pwd.M 4688.JPG\u001b[m\n\t\u001b[31mdeleted:    inputs/mildew_dataset/cherry-leaves/train/powdery_mildew/f5ad64c9-d9ee-40be-9bbf-452adc290ea4___FREC_Pwd.M 4558.JPG\u001b[m\n\t\u001b[31mdeleted:    inputs/mildew_dataset/cherry-leaves/train/powdery_mildew/f5ad64c9-d9ee-40be-9bbf-452adc290ea4___FREC_Pwd.M 4558_flipLR.JPG\u001b[m\n\t\u001b[31mdeleted:    inputs/mildew_dataset/cherry-leaves/train/powdery_mildew/f5e5ebb5-07c1-4774-bcca-fd8c575a7bd0___FREC_Pwd.M 0385.JPG\u001b[m\n\t\u001b[31mdeleted:    inputs/mildew_dataset/cherry-leaves/train/powdery_mildew/f5ed7117-153e-4e4a-a466-297bdbd1bf37___FREC_Pwd.M 4787.JPG\u001b[m\n\t\u001b[31mdeleted:    inputs/mildew_dataset/cherry-leaves/train/powdery_mildew/f67d7a09-517c-460f-9c75-aa891586a58b___FREC_Pwd.M 4909.JPG\u001b[m\n\t\u001b[31mdeleted:    inputs/mildew_dataset/cherry-leaves/train/powdery_mildew/f6d3fe59-d384-444b-a906-b7aa8e008c31___FREC_Pwd.M 4852_flipLR.JPG\u001b[m\n\t\u001b[31mdeleted:    inputs/mildew_dataset/cherry-leaves/train/powdery_mildew/f78507be-2f2a-456e-bf8b-4fb02409a4d8___FREC_Pwd.M 5071.JPG\u001b[m\n\t\u001b[31mdeleted:    inputs/mildew_dataset/cherry-leaves/train/powdery_mildew/f78507be-2f2a-456e-bf8b-4fb02409a4d8___FREC_Pwd.M 5071_flipLR.JPG\u001b[m\n\t\u001b[31mdeleted:    inputs/mildew_dataset/cherry-leaves/train/powdery_mildew/f8dd4a75-9b51-4d3a-8774-817bff84b1a7___FREC_Pwd.M 0570.JPG\u001b[m\n\t\u001b[31mdeleted:    inputs/mildew_dataset/cherry-leaves/train/powdery_mildew/f951d0e5-1303-41c7-a4fb-d691a64cca90___FREC_Pwd.M 4722.JPG\u001b[m\n\t\u001b[31mdeleted:    inputs/mildew_dataset/cherry-leaves/train/powdery_mildew/fc82d54d-ebc6-47d7-8036-2c308524e259___FREC_Pwd.M 4566_flipLR.JPG\u001b[m\n\t\u001b[31mdeleted:    inputs/mildew_dataset/cherry-leaves/train/powdery_mildew/fdfada36-240c-4274-afd3-fc159f236d36___FREC_Pwd.M 4831_flipLR.JPG\u001b[m\n\t\u001b[31mdeleted:    inputs/mildew_dataset/cherry-leaves/train/powdery_mildew/fff3ae4b-4bce-4b7a-b53c-98c482d9d8fd___FREC_Pwd.M 0414_flipLR.JPG\u001b[m\n\t\u001b[31mdeleted:    inputs/mildew_dataset/cherry-leaves/train/powdery_mildew/fffc6a5c-66f3-4d73-afd2-84862fb83c4f___FREC_Pwd.M 5085.JPG\u001b[m\n\t\u001b[31mdeleted:    inputs/mildew_dataset/cherry-leaves/validation/healthy/0982e1cc-78e8-4bb0-8969-c534e5b0b14b___JR_HL 4097_180deg.JPG\u001b[m\n\t\u001b[31mdeleted:    inputs/mildew_dataset/cherry-leaves/validation/healthy/1344cdd8-d33e-48a3-bf96-6a388e6b4fb6___JR_HL 9858_180deg.JPG\u001b[m\n\t\u001b[31mdeleted:    inputs/mildew_dataset/cherry-leaves/validation/healthy/1362d69c-5a63-4c71-97e9-1df4140ffa42___JR_HL 9662_flipTB.JPG\u001b[m\n\t\u001b[31mdeleted:    inputs/mildew_dataset/cherry-leaves/validation/healthy/146525c6-e0e4-4296-b0cc-f08f41bd10b8___JR_HL 9864_flipTB.JPG\u001b[m\n\t\u001b[31mdeleted:    inputs/mildew_dataset/cherry-leaves/validation/healthy/28afb0d3-8bc6-4d22-9679-f128eeedf52b___JR_HL 4214_flipTB.JPG\u001b[m\n\t\u001b[31mdeleted:    inputs/mildew_dataset/cherry-leaves/validation/healthy/2d5d3b0e-0b4b-45fa-adcb-b33509b65e74___JR_HL 3972.JPG\u001b[m\n\t\u001b[31mdeleted:    inputs/mildew_dataset/cherry-leaves/validation/healthy/326920ea-c28f-4444-a893-e3b00ecc5915___JR_HL 4198.JPG\u001b[m\n\t\u001b[31mdeleted:    inputs/mildew_dataset/cherry-leaves/validation/healthy/38623e82-f2ee-424c-98b4-aabefd6cc8fe___JR_HL 4010.JPG\u001b[m\n\t\u001b[31mdeleted:    inputs/mildew_dataset/cherry-leaves/validation/healthy/49cab9b4-2390-4636-9253-89f1c574f34b___JR_HL 9608_180deg.JPG\u001b[m\n\t\u001b[31mdeleted:    inputs/mildew_dataset/cherry-leaves/validation/healthy/5145073c-b7b7-4127-b856-860a402ddd30___JR_HL 4191_flipTB.JPG\u001b[m\n\t\u001b[31mdeleted:    inputs/mildew_dataset/cherry-leaves/validation/healthy/6e6b6a39-e952-428f-9b86-06b4c4b587a1___JR_HL 3921_flipTB.JPG\u001b[m\n\t\u001b[31mdeleted:    inputs/mildew_dataset/cherry-leaves/validation/healthy/76fcf126-ce7a-4848-b2ba-d248ff170906___JR_HL 9879 copy.JPG\u001b[m\n\t\u001b[31mdeleted:    inputs/mildew_dataset/cherry-leaves/validation/healthy/9157434b-8dce-4726-9187-1911302312b9___JR_HL 4053.JPG\u001b[m\n\t\u001b[31mdeleted:    inputs/mildew_dataset/cherry-leaves/validation/healthy/9f57292a-576b-4ae8-a71a-cdaf42bcd6b7___JR_HL 9861_flipTB.JPG\u001b[m\n\t\u001b[31mdeleted:    inputs/mildew_dataset/cherry-leaves/validation/healthy/a2b5cb26-c367-40cf-a881-add3734097c1___JR_HL 4045_flipTB.JPG\u001b[m\n\t\u001b[31mdeleted:    inputs/mildew_dataset/cherry-leaves/validation/healthy/aaee6da4-9549-447b-906d-2e42199da7c5___JR_HL 9833_flipTB.JPG\u001b[m\n\t\u001b[31mdeleted:    inputs/mildew_dataset/cherry-leaves/validation/healthy/ab6b65e2-f258-49cc-a0f4-7164023d43a6___JR_HL 4254_180deg.JPG\u001b[m\n\t\u001b[31mdeleted:    inputs/mildew_dataset/cherry-leaves/validation/healthy/c3101d4e-19b3-4959-92a4-b1b8c88d0bec___JR_HL 3994_180deg.JPG\u001b[m\n\t\u001b[31mdeleted:    inputs/mildew_dataset/cherry-leaves/validation/healthy/c4a9900b-1227-4e73-b9b1-9e9ed037d6b3___JR_HL 4094_flipTB.JPG\u001b[m\n\t\u001b[31mdeleted:    inputs/mildew_dataset/cherry-leaves/validation/healthy/cbb4bd24-9572-4235-a9c1-e6b73118b7d5___JR_HL 4120_180deg.JPG\u001b[m\n\t\u001b[31mdeleted:    inputs/mildew_dataset/cherry-leaves/validation/healthy/cf616072-4062-498e-b524-a1705681351f___JR_HL 9868.JPG\u001b[m\n\t\u001b[31mdeleted:    inputs/mildew_dataset/cherry-leaves/validation/healthy/dbe15479-6802-4e83-850a-fff7900e0e3d___JR_HL 9854_flipTB.JPG\u001b[m\n\t\u001b[31mdeleted:    inputs/mildew_dataset/cherry-leaves/validation/healthy/dce94357-3e18-475f-b637-94c6a54b7f61___JR_HL 9777_180deg.JPG\u001b[m\n\t\u001b[31mdeleted:    inputs/mildew_dataset/cherry-leaves/validation/healthy/e22e74d7-7cc6-4e83-a494-cf022c809544___JR_HL 9887.JPG\u001b[m\n\t\u001b[31mdeleted:    inputs/mildew_dataset/cherry-leaves/validation/powdery_mildew/165aba95-4e37-4a37-90dd-493b2a5ca418___FREC_Pwd.M 4846.JPG\u001b[m\n\t\u001b[31mdeleted:    inputs/mildew_dataset/cherry-leaves/validation/powdery_mildew/26dc2692-b056-4e8b-99c5-05ebd249718a___FREC_Pwd.M 4578_flipLR.JPG\u001b[m\n\t\u001b[31mdeleted:    inputs/mildew_dataset/cherry-leaves/validation/powdery_mildew/6144ff3e-3899-4577-b9a8-cb342a106afb___FREC_Pwd.M 4980.JPG\u001b[m\n\t\u001b[31mdeleted:    inputs/mildew_dataset/cherry-leaves/validation/powdery_mildew/6eb582da-cba3-44e1-832b-d8ef8526851a___FREC_Pwd.M 4774_flipLR.JPG\u001b[m\n\t\u001b[31mdeleted:    inputs/mildew_dataset/cherry-leaves/validation/powdery_mildew/9573e36f-a55b-4011-87bb-dadd511b8f7d___FREC_Pwd.M 4639.JPG\u001b[m\n\t\u001b[31mdeleted:    inputs/mildew_dataset/cherry-leaves/validation/powdery_mildew/beea0c7e-0e13-4852-ac62-4f393c51c9e0___FREC_Pwd.M 4941.JPG\u001b[m\n\t\u001b[31mdeleted:    inputs/mildew_dataset/cherry-leaves/validation/powdery_mildew/dc24ce8f-8723-4da2-b23f-b34ad79cc377___FREC_Pwd.M 4702_flipLR.JPG\u001b[m\n\t\u001b[31mdeleted:    inputs/mildew_dataset/cherry-leaves/validation/powdery_mildew/dc8c4626-e9fb-4dc8-80f4-6af50321dec6___FREC_Pwd.M 4708.JPG\u001b[m\n\t\u001b[31mdeleted:    inputs/mildew_dataset/cherry-leaves/validation/powdery_mildew/e1f07b98-ae8d-4f63-837e-5bca2b1c3cf5___FREC_Pwd.M 4745_flipLR.JPG\u001b[m\n\t\u001b[31mdeleted:    inputs/mildew_dataset/cherry-leaves/validation/powdery_mildew/e308c527-a0a9-4c33-b469-ac05a2059b7b___FREC_Pwd.M 0552_flipLR.JPG\u001b[m\n\t\u001b[31mdeleted:    inputs/mildew_dataset/cherry-leaves/validation/powdery_mildew/e30aaf4a-d8dd-44ca-8b7c-0082d2c59dc2___FREC_Pwd.M 0484_flipLR.JPG\u001b[m\n\t\u001b[31mdeleted:    inputs/mildew_dataset/cherry-leaves/validation/powdery_mildew/e85d24e4-9a7b-42cb-95fe-d76ca9d86180___FREC_Pwd.M 4930.JPG\u001b[m\n\t\u001b[31mdeleted:    inputs/mildew_dataset/cherry-leaves/validation/powdery_mildew/e9c1d612-c3f2-4637-8edd-5b619607c33b___FREC_Pwd.M 4712.JPG\u001b[m\n\t\u001b[31mdeleted:    inputs/mildew_dataset/cherry-leaves/validation/powdery_mildew/ea5bee00-19ac-4b88-a52c-751bb287c087___FREC_Pwd.M 0580_flipLR.JPG\u001b[m\n\t\u001b[31mmodified:   jupyter_notebooks/data_aug_model.ipynb\u001b[m\n\t\u001b[31mmodified:   jupyter_notebooks/data_collection.ipynb\u001b[m\n\t\u001b[31mmodified:   requirements.txt\u001b[m\n\nno changes added to commit (use \"git add\" and/or \"git commit -a\")\n"
        }
      ],
      "source": [
        "!git status"
      ]
    },
    {
      "attachments": {},
      "cell_type": "markdown",
      "metadata": {},
      "source": [
        "### Git add"
      ]
    },
    {
      "cell_type": "code",
      "execution_count": 25,
      "metadata": {},
      "outputs": [],
      "source": [
        "!git add ."
      ]
    },
    {
      "attachments": {},
      "cell_type": "markdown",
      "metadata": {},
      "source": [
        "### Git commit"
      ]
    },
    {
      "cell_type": "code",
      "execution_count": 26,
      "metadata": {
        "tags": [
          "outputPrepend"
        ]
      },
      "outputs": [
        {
          "output_type": "stream",
          "name": "stdout",
          "text": "mildew_dataset/cherry-leaves/train/powdery_mildew/a3e55d23-0e8e-4653-b037-0ee783a5ca84___FREC_Pwd.M 4905.JPG\n delete mode 100644 inputs/mildew_dataset/cherry-leaves/train/powdery_mildew/a6421f2e-fa46-45a6-9f1b-64b60cde096a___FREC_Pwd.M 4743.JPG\n delete mode 100644 inputs/mildew_dataset/cherry-leaves/train/powdery_mildew/a726864c-cd52-4dde-818b-7b79b6ce2f0e___FREC_Pwd.M 4915.JPG\n delete mode 100644 inputs/mildew_dataset/cherry-leaves/train/powdery_mildew/a76ebe42-b9c1-4848-8b89-b62ef6e1a91c___FREC_Pwd.M 5115_flipLR.JPG\n delete mode 100644 inputs/mildew_dataset/cherry-leaves/train/powdery_mildew/a7b75c15-4118-4d7f-94d5-e859ace0cbf4___FREC_Pwd.M 5050.JPG\n delete mode 100644 inputs/mildew_dataset/cherry-leaves/train/powdery_mildew/a9235bc4-a3f3-4b9e-8e28-d7b2e18bca51___FREC_Pwd.M 0462_flipLR.JPG\n delete mode 100644 inputs/mildew_dataset/cherry-leaves/train/powdery_mildew/aa04b9b8-28e8-4dcb-bbff-8d86ec6168a1___FREC_Pwd.M 4782_flipLR.JPG\n delete mode 100644 inputs/mildew_dataset/cherry-leaves/train/powdery_mildew/ab269e53-f834-4f28-a175-c24de184f407___FREC_Pwd.M 0511.JPG\n delete mode 100644 inputs/mildew_dataset/cherry-leaves/train/powdery_mildew/ab82d02b-61e0-42d9-9366-17917cacfff0___FREC_Pwd.M 4776.JPG\n delete mode 100644 inputs/mildew_dataset/cherry-leaves/train/powdery_mildew/ac3e6824-a60e-4c8f-a844-4e97abc983a7___FREC_Pwd.M 4801.JPG\n delete mode 100644 inputs/mildew_dataset/cherry-leaves/train/powdery_mildew/ae11d51c-80f9-45bf-9cff-5bc6843b6404___FREC_Pwd.M 4560_flipLR.JPG\n delete mode 100644 inputs/mildew_dataset/cherry-leaves/train/powdery_mildew/ae1f1589-016e-4619-99ac-00f214199bfc___FREC_Pwd.M 5150.JPG\n delete mode 100644 inputs/mildew_dataset/cherry-leaves/train/powdery_mildew/aec1be7d-914f-4de8-a6ee-64e97dc28071___FREC_Pwd.M 4891.JPG\n delete mode 100644 inputs/mildew_dataset/cherry-leaves/train/powdery_mildew/b0084869-42c1-4124-853d-d73f99ee8d38___FREC_Pwd.M 4807_flipLR.JPG\n delete mode 100644 inputs/mildew_dataset/cherry-leaves/train/powdery_mildew/b0698c28-34b6-4232-aa9c-55fb466df8dd___FREC_Pwd.M 4512.JPG\n delete mode 100644 inputs/mildew_dataset/cherry-leaves/train/powdery_mildew/b22853ce-86ca-4a0c-9a16-ce82e0817513___FREC_Pwd.M 4942_flipLR.JPG\n delete mode 100644 inputs/mildew_dataset/cherry-leaves/train/powdery_mildew/b3da442a-b270-4488-b9a0-c55707d5d0e2___FREC_Pwd.M 4608.JPG\n delete mode 100644 inputs/mildew_dataset/cherry-leaves/train/powdery_mildew/b42d85e1-0707-4692-93a1-74b0465ef2ef___FREC_Pwd.M 4468.JPG\n delete mode 100644 inputs/mildew_dataset/cherry-leaves/train/powdery_mildew/b6039e39-f0d4-48dc-894a-987e0338c5ae___FREC_Pwd.M 4815.JPG\n delete mode 100644 inputs/mildew_dataset/cherry-leaves/train/powdery_mildew/b6039e39-f0d4-48dc-894a-987e0338c5ae___FREC_Pwd.M 4815_flipLR.JPG\n delete mode 100644 inputs/mildew_dataset/cherry-leaves/train/powdery_mildew/b8ff7b14-e3b8-4bdc-821e-39fa9736de9c___FREC_Pwd.M 0261.JPG\n delete mode 100644 inputs/mildew_dataset/cherry-leaves/train/powdery_mildew/b8ff7b14-e3b8-4bdc-821e-39fa9736de9c___FREC_Pwd.M 0261_flipLR.JPG\n delete mode 100644 inputs/mildew_dataset/cherry-leaves/train/powdery_mildew/bb0f65f7-37b4-4c6a-a4be-18a91d2cae16___FREC_Pwd.M 5024_flipLR.JPG\n delete mode 100644 inputs/mildew_dataset/cherry-leaves/train/powdery_mildew/bb998de5-3d79-46c7-ad23-2dffc9a8037d___FREC_Pwd.M 4826.JPG\n delete mode 100644 inputs/mildew_dataset/cherry-leaves/train/powdery_mildew/bbd6dbcd-65f2-4982-a4f8-ef6a1c33a05f___FREC_Pwd.M 0449_flipLR.JPG\n delete mode 100644 inputs/mildew_dataset/cherry-leaves/train/powdery_mildew/bc20f3c6-4a2f-4cbc-94c4-f4a5f52b9f21___FREC_Pwd.M 0566_flipLR.JPG\n delete mode 100644 inputs/mildew_dataset/cherry-leaves/train/powdery_mildew/bc3b4287-ce7a-4ca1-bfa8-4812832fa00f___FREC_Pwd.M 0412_flipLR.JPG\n delete mode 100644 inputs/mildew_dataset/cherry-leaves/train/powdery_mildew/be4d3a56-be53-4b0d-8b0b-9ff088a4ad92___FREC_Pwd.M 4854_flipLR.JPG\n delete mode 100644 inputs/mildew_dataset/cherry-leaves/train/powdery_mildew/be5c9aa3-60ea-4bc7-b9a0-12febd96aa97___FREC_Pwd.M 4845.JPG\n delete mode 100644 inputs/mildew_dataset/cherry-leaves/train/powdery_mildew/be5c9aa3-60ea-4bc7-b9a0-12febd96aa97___FREC_Pwd.M 4845_flipLR.JPG\n delete mode 100644 inputs/mildew_dataset/cherry-leaves/train/powdery_mildew/bf2142d8-3f04-4a04-96b4-d94aea138081___FREC_Pwd.M 4504_flipLR.JPG\n delete mode 100644 inputs/mildew_dataset/cherry-leaves/train/powdery_mildew/bfc76298-a208-4a0a-88b0-580218720055___FREC_Pwd.M 4904.JPG\n delete mode 100644 inputs/mildew_dataset/cherry-leaves/train/powdery_mildew/c10fbf4c-baa3-4242-956a-a6262f6b1bf3___FREC_Pwd.M 5037_flipLR.JPG\n delete mode 100644 inputs/mildew_dataset/cherry-leaves/train/powdery_mildew/c11965f5-8920-4266-9f47-5dce992bd4c6___FREC_Pwd.M 4525.JPG\n delete mode 100644 inputs/mildew_dataset/cherry-leaves/train/powdery_mildew/c2e9925a-9896-47a0-a969-3ce336a3ae05___FREC_Pwd.M 4874.JPG\n delete mode 100644 inputs/mildew_dataset/cherry-leaves/train/powdery_mildew/c312eaa4-27e2-4d22-85e3-fb7d103dc43e___FREC_Pwd.M 4644.JPG\n delete mode 100644 inputs/mildew_dataset/cherry-leaves/train/powdery_mildew/c48bbceb-9d7d-4793-a520-d40142ea1705___FREC_Pwd.M 0429.JPG\n delete mode 100644 inputs/mildew_dataset/cherry-leaves/train/powdery_mildew/c820f802-f07d-4a7e-b9fd-183dacec6f0f___FREC_Pwd.M 0505_flipLR.JPG\n delete mode 100644 inputs/mildew_dataset/cherry-leaves/train/powdery_mildew/c82e8bfd-a4d6-448f-9c6c-1da54df1e12f___FREC_Pwd.M 4547_flipLR.JPG\n delete mode 100644 inputs/mildew_dataset/cherry-leaves/train/powdery_mildew/c871d4ee-1726-4873-9e5c-ffe67de425fb___FREC_Pwd.M 4705.JPG\n delete mode 100644 inputs/mildew_dataset/cherry-leaves/train/powdery_mildew/c98fe18a-cac1-4956-8fa5-a5bac2c5c268___FREC_Pwd.M 4793_flipLR.JPG\n delete mode 100644 inputs/mildew_dataset/cherry-leaves/train/powdery_mildew/ca96a7a3-f34e-4796-86b7-b2826b760002___FREC_Pwd.M 0338_flipLR.JPG\n delete mode 100644 inputs/mildew_dataset/cherry-leaves/train/powdery_mildew/cb5807a3-cdda-4f87-b17a-be25c42ef72b___FREC_Pwd.M 0587.JPG\n delete mode 100644 inputs/mildew_dataset/cherry-leaves/train/powdery_mildew/cc770f77-f915-4832-a688-fd5adac8fae0___FREC_Pwd.M 0475.JPG\n delete mode 100644 inputs/mildew_dataset/cherry-leaves/train/powdery_mildew/cc770f77-f915-4832-a688-fd5adac8fae0___FREC_Pwd.M 0475_flipLR.JPG\n delete mode 100644 inputs/mildew_dataset/cherry-leaves/train/powdery_mildew/cd6f8dee-5c38-4e3c-946d-2d79a517d76e___FREC_Pwd.M 0284_flipLR.JPG\n delete mode 100644 inputs/mildew_dataset/cherry-leaves/train/powdery_mildew/ce1b7e6d-70f7-4d65-8cfc-f78f174a1ffe___FREC_Pwd.M 0366_flipLR.JPG\n delete mode 100644 inputs/mildew_dataset/cherry-leaves/train/powdery_mildew/ce5efd4e-f2cb-47ac-9544-69291614286d___FREC_Pwd.M 5073_flipLR.JPG\n delete mode 100644 inputs/mildew_dataset/cherry-leaves/train/powdery_mildew/cf125685-f590-41e7-9b04-836d2222b263___FREC_Pwd.M 4656_flipLR.JPG\n delete mode 100644 inputs/mildew_dataset/cherry-leaves/train/powdery_mildew/d03d9ea1-7be8-4501-bb94-271f2a593865___FREC_Pwd.M 5051_flipLR.JPG\n delete mode 100644 inputs/mildew_dataset/cherry-leaves/train/powdery_mildew/d0f63be7-d2c4-4041-819f-9167015d1fed___FREC_Pwd.M 0486.JPG\n delete mode 100644 inputs/mildew_dataset/cherry-leaves/train/powdery_mildew/d13c2c1a-618f-4dcc-9708-545005602e36___FREC_Pwd.M 4641_flipLR.JPG\n delete mode 100644 inputs/mildew_dataset/cherry-leaves/train/powdery_mildew/d1ccd6ea-f7cd-45a5-801d-5aeed1c13cb6___FREC_Pwd.M 4974.JPG\n delete mode 100644 inputs/mildew_dataset/cherry-leaves/train/powdery_mildew/d4421e15-939b-43ea-b201-d78f4da95e15___FREC_Pwd.M 0294.JPG\n delete mode 100644 inputs/mildew_dataset/cherry-leaves/train/powdery_mildew/d52d3a42-951f-4534-b306-1a8a5d876981___FREC_Pwd.M 4679_flipLR.JPG\n delete mode 100644 inputs/mildew_dataset/cherry-leaves/train/powdery_mildew/d54fcec0-b210-4ab6-8b53-2e33ec81ea36___FREC_Pwd.M 5093.JPG\n delete mode 100644 inputs/mildew_dataset/cherry-leaves/train/powdery_mildew/d5510570-6f71-4af0-9fda-07eee0e55442___FREC_Pwd.M 0333_flipLR.JPG\n delete mode 100644 inputs/mildew_dataset/cherry-leaves/train/powdery_mildew/d70696ef-e9b2-418a-b729-51b4abad93d1___FREC_Pwd.M 0274_flipLR.JPG\n delete mode 100644 inputs/mildew_dataset/cherry-leaves/train/powdery_mildew/d85426b4-10d1-4f12-bc5d-da69add7a73b___FREC_Pwd.M 4532_flipLR.JPG\n delete mode 100644 inputs/mildew_dataset/cherry-leaves/train/powdery_mildew/d891bc6f-2597-40fd-b55a-aee7fe1e4e6e___FREC_Pwd.M 4523.JPG\n delete mode 100644 inputs/mildew_dataset/cherry-leaves/train/powdery_mildew/d9df7ba0-fe57-45f3-871a-9d1c87117d2e___FREC_Pwd.M 4648.JPG\n delete mode 100644 inputs/mildew_dataset/cherry-leaves/train/powdery_mildew/db73697a-1432-44af-85a7-f0f770d09616___FREC_Pwd.M 4922.JPG\n delete mode 100644 inputs/mildew_dataset/cherry-leaves/train/powdery_mildew/dbd81452-171b-4aa4-a911-e7908687f06c___FREC_Pwd.M 5049.JPG\n delete mode 100644 inputs/mildew_dataset/cherry-leaves/train/powdery_mildew/dc24ce8f-8723-4da2-b23f-b34ad79cc377___FREC_Pwd.M 4702.JPG\n delete mode 100644 inputs/mildew_dataset/cherry-leaves/train/powdery_mildew/de8ef18c-2d11-47e0-8fa1-85f5f0177277___FREC_Pwd.M 0473_flipLR.JPG\n delete mode 100644 inputs/mildew_dataset/cherry-leaves/train/powdery_mildew/decee4a0-018b-47bf-abf6-75bdfb5bc67d___FREC_Pwd.M 4700_flipLR.JPG\n delete mode 100644 inputs/mildew_dataset/cherry-leaves/train/powdery_mildew/e1c9896e-a3a6-401a-b3fd-325b8052365b___FREC_Pwd.M 0376.JPG\n delete mode 100644 inputs/mildew_dataset/cherry-leaves/train/powdery_mildew/e2858a3b-47c2-4989-b4f3-eea39e9195c3___FREC_Pwd.M 4633.JPG\n delete mode 100644 inputs/mildew_dataset/cherry-leaves/train/powdery_mildew/e30aaf4a-d8dd-44ca-8b7c-0082d2c59dc2___FREC_Pwd.M 0484.JPG\n delete mode 100644 inputs/mildew_dataset/cherry-leaves/train/powdery_mildew/e3b59f01-3677-4616-af6c-d026b9e0e6cf___FREC_Pwd.M 0398_flipLR.JPG\n delete mode 100644 inputs/mildew_dataset/cherry-leaves/train/powdery_mildew/e3d5a32d-3567-44f4-8ea2-79b413214a6d___FREC_Pwd.M 5144_flipLR.JPG\n delete mode 100644 inputs/mildew_dataset/cherry-leaves/train/powdery_mildew/e3e0ee86-1cf9-449c-8cba-7ad0b0cd4488___FREC_Pwd.M 0460_flipLR.JPG\n delete mode 100644 inputs/mildew_dataset/cherry-leaves/train/powdery_mildew/e567184a-cee1-4eb4-be59-429da00b17d8___FREC_Pwd.M 4465.JPG\n delete mode 100644 inputs/mildew_dataset/cherry-leaves/train/powdery_mildew/e5914945-129f-4862-836e-0866309dc6b1___FREC_Pwd.M 4989.JPG\n delete mode 100644 inputs/mildew_dataset/cherry-leaves/train/powdery_mildew/e5ca68e7-17cb-4aee-bf65-7abba2629a29___FREC_Pwd.M 0325.JPG\n delete mode 100644 inputs/mildew_dataset/cherry-leaves/train/powdery_mildew/e62db0eb-95cf-4470-87b8-25e046323c79___FREC_Pwd.M 4766.JPG\n delete mode 100644 inputs/mildew_dataset/cherry-leaves/train/powdery_mildew/e6ed3334-ab39-40cd-ae6e-cb1b9a5e999d___FREC_Pwd.M 0586_flipLR.JPG\n delete mode 100644 inputs/mildew_dataset/cherry-leaves/train/powdery_mildew/e815da85-2217-4f25-8c16-e64ad69b6404___FREC_Pwd.M 0431.JPG\n delete mode 100644 inputs/mildew_dataset/cherry-leaves/train/powdery_mildew/e8d9d6fa-568e-4834-a246-d34e1478c77c___FREC_Pwd.M 4884_flipLR.JPG\n delete mode 100644 inputs/mildew_dataset/cherry-leaves/train/powdery_mildew/ec7d2584-a9f6-46b5-b9ff-0e87688d0020___FREC_Pwd.M 5119.JPG\n delete mode 100644 inputs/mildew_dataset/cherry-leaves/train/powdery_mildew/ece86642-3e2f-4ba7-8181-ff79e317b7b1___FREC_Pwd.M 4663.JPG\n delete mode 100644 inputs/mildew_dataset/cherry-leaves/train/powdery_mildew/edfe5673-2ddd-4908-ba5f-692bf590952c___FREC_Pwd.M 4693.JPG\n delete mode 100644 inputs/mildew_dataset/cherry-leaves/train/powdery_mildew/ef4c52e5-d7d8-4996-b445-42478df2c353___FREC_Pwd.M 0584_flipLR.JPG\n delete mode 100644 inputs/mildew_dataset/cherry-leaves/train/powdery_mildew/f0318151-9783-43f4-a1f1-d8ec05e565df___FREC_Pwd.M 0315.JPG\n delete mode 100644 inputs/mildew_dataset/cherry-leaves/train/powdery_mildew/f0318151-9783-43f4-a1f1-d8ec05e565df___FREC_Pwd.M 0315_flipLR.JPG\n delete mode 100644 inputs/mildew_dataset/cherry-leaves/train/powdery_mildew/f0af55b8-2e06-4881-ba70-1b1918473a95___FREC_Pwd.M 4731.JPG\n delete mode 100644 inputs/mildew_dataset/cherry-leaves/train/powdery_mildew/f0f78be1-0aed-45ef-8c86-acfbe286d1dd___FREC_Pwd.M 4911.JPG\n delete mode 100644 inputs/mildew_dataset/cherry-leaves/train/powdery_mildew/f310a75d-83cb-49db-9df0-b88971930485___FREC_Pwd.M 5130_flipLR.JPG\n delete mode 100644 inputs/mildew_dataset/cherry-leaves/train/powdery_mildew/f34e2369-095d-45a6-8407-0272da9aeaef___FREC_Pwd.M 4920_flipLR.JPG\n delete mode 100644 inputs/mildew_dataset/cherry-leaves/train/powdery_mildew/f4a25922-202e-4024-8eb9-636311603cba___FREC_Pwd.M 0441.JPG\n delete mode 100644 inputs/mildew_dataset/cherry-leaves/train/powdery_mildew/f4a3ab38-22b7-4d82-a6a7-b58fccdb13b6___FREC_Pwd.M 0522.JPG\n delete mode 100644 inputs/mildew_dataset/cherry-leaves/train/powdery_mildew/f50f0410-32ed-4012-85ed-9a1124cf6014___FREC_Pwd.M 4688.JPG\n delete mode 100644 inputs/mildew_dataset/cherry-leaves/train/powdery_mildew/f5ad64c9-d9ee-40be-9bbf-452adc290ea4___FREC_Pwd.M 4558.JPG\n delete mode 100644 inputs/mildew_dataset/cherry-leaves/train/powdery_mildew/f5ad64c9-d9ee-40be-9bbf-452adc290ea4___FREC_Pwd.M 4558_flipLR.JPG\n delete mode 100644 inputs/mildew_dataset/cherry-leaves/train/powdery_mildew/f5e5ebb5-07c1-4774-bcca-fd8c575a7bd0___FREC_Pwd.M 0385.JPG\n delete mode 100644 inputs/mildew_dataset/cherry-leaves/train/powdery_mildew/f5ed7117-153e-4e4a-a466-297bdbd1bf37___FREC_Pwd.M 4787.JPG\n delete mode 100644 inputs/mildew_dataset/cherry-leaves/train/powdery_mildew/f67d7a09-517c-460f-9c75-aa891586a58b___FREC_Pwd.M 4909.JPG\n delete mode 100644 inputs/mildew_dataset/cherry-leaves/train/powdery_mildew/f6d3fe59-d384-444b-a906-b7aa8e008c31___FREC_Pwd.M 4852_flipLR.JPG\n delete mode 100644 inputs/mildew_dataset/cherry-leaves/train/powdery_mildew/f78507be-2f2a-456e-bf8b-4fb02409a4d8___FREC_Pwd.M 5071.JPG\n delete mode 100644 inputs/mildew_dataset/cherry-leaves/train/powdery_mildew/f78507be-2f2a-456e-bf8b-4fb02409a4d8___FREC_Pwd.M 5071_flipLR.JPG\n delete mode 100644 inputs/mildew_dataset/cherry-leaves/train/powdery_mildew/f8dd4a75-9b51-4d3a-8774-817bff84b1a7___FREC_Pwd.M 0570.JPG\n delete mode 100644 inputs/mildew_dataset/cherry-leaves/train/powdery_mildew/f951d0e5-1303-41c7-a4fb-d691a64cca90___FREC_Pwd.M 4722.JPG\n delete mode 100644 inputs/mildew_dataset/cherry-leaves/train/powdery_mildew/fc82d54d-ebc6-47d7-8036-2c308524e259___FREC_Pwd.M 4566_flipLR.JPG\n delete mode 100644 inputs/mildew_dataset/cherry-leaves/train/powdery_mildew/fdfada36-240c-4274-afd3-fc159f236d36___FREC_Pwd.M 4831_flipLR.JPG\n delete mode 100644 inputs/mildew_dataset/cherry-leaves/train/powdery_mildew/fff3ae4b-4bce-4b7a-b53c-98c482d9d8fd___FREC_Pwd.M 0414_flipLR.JPG\n delete mode 100644 inputs/mildew_dataset/cherry-leaves/train/powdery_mildew/fffc6a5c-66f3-4d73-afd2-84862fb83c4f___FREC_Pwd.M 5085.JPG\n delete mode 100644 inputs/mildew_dataset/cherry-leaves/validation/healthy/0982e1cc-78e8-4bb0-8969-c534e5b0b14b___JR_HL 4097_180deg.JPG\n delete mode 100644 inputs/mildew_dataset/cherry-leaves/validation/healthy/1344cdd8-d33e-48a3-bf96-6a388e6b4fb6___JR_HL 9858_180deg.JPG\n delete mode 100644 inputs/mildew_dataset/cherry-leaves/validation/healthy/1362d69c-5a63-4c71-97e9-1df4140ffa42___JR_HL 9662_flipTB.JPG\n delete mode 100644 inputs/mildew_dataset/cherry-leaves/validation/healthy/146525c6-e0e4-4296-b0cc-f08f41bd10b8___JR_HL 9864_flipTB.JPG\n delete mode 100644 inputs/mildew_dataset/cherry-leaves/validation/healthy/28afb0d3-8bc6-4d22-9679-f128eeedf52b___JR_HL 4214_flipTB.JPG\n delete mode 100644 inputs/mildew_dataset/cherry-leaves/validation/healthy/2d5d3b0e-0b4b-45fa-adcb-b33509b65e74___JR_HL 3972.JPG\n delete mode 100644 inputs/mildew_dataset/cherry-leaves/validation/healthy/326920ea-c28f-4444-a893-e3b00ecc5915___JR_HL 4198.JPG\n delete mode 100644 inputs/mildew_dataset/cherry-leaves/validation/healthy/38623e82-f2ee-424c-98b4-aabefd6cc8fe___JR_HL 4010.JPG\n delete mode 100644 inputs/mildew_dataset/cherry-leaves/validation/healthy/49cab9b4-2390-4636-9253-89f1c574f34b___JR_HL 9608_180deg.JPG\n delete mode 100644 inputs/mildew_dataset/cherry-leaves/validation/healthy/5145073c-b7b7-4127-b856-860a402ddd30___JR_HL 4191_flipTB.JPG\n delete mode 100644 inputs/mildew_dataset/cherry-leaves/validation/healthy/6e6b6a39-e952-428f-9b86-06b4c4b587a1___JR_HL 3921_flipTB.JPG\n delete mode 100644 inputs/mildew_dataset/cherry-leaves/validation/healthy/76fcf126-ce7a-4848-b2ba-d248ff170906___JR_HL 9879 copy.JPG\n delete mode 100644 inputs/mildew_dataset/cherry-leaves/validation/healthy/9157434b-8dce-4726-9187-1911302312b9___JR_HL 4053.JPG\n delete mode 100644 inputs/mildew_dataset/cherry-leaves/validation/healthy/9f57292a-576b-4ae8-a71a-cdaf42bcd6b7___JR_HL 9861_flipTB.JPG\n delete mode 100644 inputs/mildew_dataset/cherry-leaves/validation/healthy/a2b5cb26-c367-40cf-a881-add3734097c1___JR_HL 4045_flipTB.JPG\n delete mode 100644 inputs/mildew_dataset/cherry-leaves/validation/healthy/aaee6da4-9549-447b-906d-2e42199da7c5___JR_HL 9833_flipTB.JPG\n delete mode 100644 inputs/mildew_dataset/cherry-leaves/validation/healthy/ab6b65e2-f258-49cc-a0f4-7164023d43a6___JR_HL 4254_180deg.JPG\n delete mode 100644 inputs/mildew_dataset/cherry-leaves/validation/healthy/c3101d4e-19b3-4959-92a4-b1b8c88d0bec___JR_HL 3994_180deg.JPG\n delete mode 100644 inputs/mildew_dataset/cherry-leaves/validation/healthy/c4a9900b-1227-4e73-b9b1-9e9ed037d6b3___JR_HL 4094_flipTB.JPG\n delete mode 100644 inputs/mildew_dataset/cherry-leaves/validation/healthy/cbb4bd24-9572-4235-a9c1-e6b73118b7d5___JR_HL 4120_180deg.JPG\n delete mode 100644 inputs/mildew_dataset/cherry-leaves/validation/healthy/cf616072-4062-498e-b524-a1705681351f___JR_HL 9868.JPG\n delete mode 100644 inputs/mildew_dataset/cherry-leaves/validation/healthy/dbe15479-6802-4e83-850a-fff7900e0e3d___JR_HL 9854_flipTB.JPG\n delete mode 100644 inputs/mildew_dataset/cherry-leaves/validation/healthy/dce94357-3e18-475f-b637-94c6a54b7f61___JR_HL 9777_180deg.JPG\n delete mode 100644 inputs/mildew_dataset/cherry-leaves/validation/healthy/e22e74d7-7cc6-4e83-a494-cf022c809544___JR_HL 9887.JPG\n delete mode 100644 inputs/mildew_dataset/cherry-leaves/validation/powdery_mildew/165aba95-4e37-4a37-90dd-493b2a5ca418___FREC_Pwd.M 4846.JPG\n delete mode 100644 inputs/mildew_dataset/cherry-leaves/validation/powdery_mildew/26dc2692-b056-4e8b-99c5-05ebd249718a___FREC_Pwd.M 4578_flipLR.JPG\n delete mode 100644 inputs/mildew_dataset/cherry-leaves/validation/powdery_mildew/6144ff3e-3899-4577-b9a8-cb342a106afb___FREC_Pwd.M 4980.JPG\n delete mode 100644 inputs/mildew_dataset/cherry-leaves/validation/powdery_mildew/6eb582da-cba3-44e1-832b-d8ef8526851a___FREC_Pwd.M 4774_flipLR.JPG\n delete mode 100644 inputs/mildew_dataset/cherry-leaves/validation/powdery_mildew/9573e36f-a55b-4011-87bb-dadd511b8f7d___FREC_Pwd.M 4639.JPG\n delete mode 100644 inputs/mildew_dataset/cherry-leaves/validation/powdery_mildew/beea0c7e-0e13-4852-ac62-4f393c51c9e0___FREC_Pwd.M 4941.JPG\n delete mode 100644 inputs/mildew_dataset/cherry-leaves/validation/powdery_mildew/dc24ce8f-8723-4da2-b23f-b34ad79cc377___FREC_Pwd.M 4702_flipLR.JPG\n delete mode 100644 inputs/mildew_dataset/cherry-leaves/validation/powdery_mildew/dc8c4626-e9fb-4dc8-80f4-6af50321dec6___FREC_Pwd.M 4708.JPG\n delete mode 100644 inputs/mildew_dataset/cherry-leaves/validation/powdery_mildew/e1f07b98-ae8d-4f63-837e-5bca2b1c3cf5___FREC_Pwd.M 4745_flipLR.JPG\n delete mode 100644 inputs/mildew_dataset/cherry-leaves/validation/powdery_mildew/e308c527-a0a9-4c33-b469-ac05a2059b7b___FREC_Pwd.M 0552_flipLR.JPG\n delete mode 100644 inputs/mildew_dataset/cherry-leaves/validation/powdery_mildew/e30aaf4a-d8dd-44ca-8b7c-0082d2c59dc2___FREC_Pwd.M 0484_flipLR.JPG\n delete mode 100644 inputs/mildew_dataset/cherry-leaves/validation/powdery_mildew/e85d24e4-9a7b-42cb-95fe-d76ca9d86180___FREC_Pwd.M 4930.JPG\n delete mode 100644 inputs/mildew_dataset/cherry-leaves/validation/powdery_mildew/e9c1d612-c3f2-4637-8edd-5b619607c33b___FREC_Pwd.M 4712.JPG\n delete mode 100644 inputs/mildew_dataset/cherry-leaves/validation/powdery_mildew/ea5bee00-19ac-4b88-a52c-751bb287c087___FREC_Pwd.M 0580_flipLR.JPG\n rewrite requirements.txt (87%)\n"
        }
      ],
      "source": [
        "!git commit -am \"Add data collection\""
      ]
    },
    {
      "attachments": {},
      "cell_type": "markdown",
      "metadata": {},
      "source": [
        "### Git Push"
      ]
    },
    {
      "cell_type": "code",
      "execution_count": 28,
      "metadata": {
        "tags": []
      },
      "outputs": [
        {
          "output_type": "stream",
          "name": "stdout",
          "text": "Everything up-to-date\n"
        }
      ],
      "source": [
        "! git push"
      ]
    }
  ],
  "metadata": {
    "accelerator": "GPU",
    "colab": {
      "name": "Data Practitioner Jupyter Notebook.ipynb",
      "provenance": [],
      "toc_visible": true
    },
    "interpreter": {
      "hash": "8b8334dab9339717f727a1deaf837b322d7a41c20d15cc86be99a8e69ceec8ce"
    },
    "kernelspec": {
      "display_name": "Python 3.8.12 64-bit ('3.8.12': pyenv)",
      "name": "python381264bit3812pyenv758399631ce64b5f97c723f4cd975cf4"
    },
    "language_info": {
      "codemirror_mode": {
        "name": "ipython",
        "version": 3
      },
      "file_extension": ".py",
      "mimetype": "text/x-python",
      "name": "python",
      "nbconvert_exporter": "python",
      "pygments_lexer": "ipython3",
      "version": "3.8.12-final"
    },
    "orig_nbformat": 2
  },
  "nbformat": 4,
  "nbformat_minor": 2
}